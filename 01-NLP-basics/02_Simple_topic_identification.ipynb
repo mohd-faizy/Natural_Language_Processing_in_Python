{
  "cells": [
    {
      "cell_type": "markdown",
      "metadata": {
        "id": "TS3VUyUC6aij"
      },
      "source": [
        "---\n",
        "<h1 align='center'><strong>2️⃣Simple topic identification</strong></h1>\n",
        "\n",
        "---\n"
      ]
    },
    {
      "cell_type": "code",
      "metadata": {
        "colab": {
          "base_uri": "https://localhost:8080/"
        },
        "id": "PoSpaoNj6WeF",
        "outputId": "ceb6071c-6f6e-4793-f03a-300ee5f623e4"
      },
      "source": [
        "!git clone https://github.com/mohd-faizy/Natural_Language_Processing_in_Python.git"
      ],
      "execution_count": 1,
      "outputs": [
        {
          "output_type": "stream",
          "name": "stdout",
          "text": [
            "Cloning into 'Natural_Language_Processing_in_Python'...\n",
            "remote: Enumerating objects: 152, done.\u001b[K\n",
            "remote: Counting objects: 100% (36/36), done.\u001b[K\n",
            "remote: Compressing objects: 100% (28/28), done.\u001b[K\n",
            "remote: Total 152 (delta 16), reused 27 (delta 8), pack-reused 116\u001b[K\n",
            "Receiving objects: 100% (152/152), 32.91 MiB | 21.54 MiB/s, done.\n",
            "Resolving deltas: 100% (49/49), done.\n"
          ]
        }
      ]
    },
    {
      "cell_type": "code",
      "metadata": {
        "id": "Aw05dwIb9A9U"
      },
      "source": [
        "import pandas as pd\n",
        "import numpy as np\n",
        "import matplotlib.pyplot as plt\n",
        "import seaborn as sns\n",
        "import os\n",
        "\n",
        "# plt.style.use('fivethirtyeight')\n",
        "# plt.style.use('ggplot')\n",
        "# sns.set_theme()\n",
        "\n",
        "%matplotlib inline"
      ],
      "execution_count": 2,
      "outputs": []
    },
    {
      "cell_type": "code",
      "execution_count": 3,
      "metadata": {
        "id": "LZeI_v3_aDvw"
      },
      "outputs": [],
      "source": [
        "from pprint import pprint"
      ]
    },
    {
      "cell_type": "code",
      "source": [
        "import nltk\n",
        "\n",
        "# Download a specific NLTK dataset, e.g., the 'punkt' tokenizer models.\n",
        "nltk.download('punkt', quiet=True)\n",
        "\n",
        "# Download the NLTK stopwords dataset, which contains common stopwords for various languages.\n",
        "nltk.download('stopwords', quiet=True)\n",
        "\n",
        "# Download the WordNet lexical database, which is used for various NLP tasks like synonym and antonym lookup.\n",
        "nltk.download('wordnet', quiet=True)\n",
        "\n",
        "# Download the NLTK averaged perceptron tagger, which is used for part-of-speech tagging.\n",
        "# nltk.download('averaged_perceptron_tagger', quiet=True)\n",
        "\n",
        "# Download the NLTK names dataset, which contains a list of common first names and last names.\n",
        "# nltk.download('names', quit=True)\n",
        "\n",
        "# Download the NLTK movie_reviews dataset, which contains movie reviews categorized as positive and negative.\n",
        "# nltk.download('movie_reviews', quit=True)\n",
        "\n",
        "# Download the NLTK reuters dataset, which is a collection of news documents categorized into topics.\n",
        "# nltk.download('reuters', quit=True)\n",
        "\n",
        "# Download the NLTK brown corpus, which is a collection of text from various genres of written American English.\n",
        "# nltk.download('brown', quit=True)\n",
        "\n",
        "# Download the 'maxent_ne_chunker' dataset, which is used for Named Entity Recognition.\n",
        "# nltk.download('maxent_ne_chunker', quiet=True)\n",
        "\n",
        "# Download the 'words' dataset, which contains a list of common English words.\n",
        "# nltk.download('words', quiet=True)"
      ],
      "metadata": {
        "id": "Wgf8tcBR4ic9",
        "colab": {
          "base_uri": "https://localhost:8080/"
        },
        "outputId": "17d78a92-fcc3-468c-e95e-c443b99bd9bf"
      },
      "execution_count": 4,
      "outputs": [
        {
          "output_type": "execute_result",
          "data": {
            "text/plain": [
              "True"
            ]
          },
          "metadata": {},
          "execution_count": 4
        }
      ]
    },
    {
      "cell_type": "code",
      "metadata": {
        "colab": {
          "base_uri": "https://localhost:8080/"
        },
        "id": "q_QJ6k0e9bI2",
        "outputId": "72947a41-f4a1-4c5e-f499-35e99da47a5e"
      },
      "source": [
        "os.chdir('/content/Natural_Language_Processing_in_Python/01-NLP-basics/_datasets')\n",
        "cwd = os.getcwd()\n",
        "print('Curent working directory is ', cwd)"
      ],
      "execution_count": 5,
      "outputs": [
        {
          "output_type": "stream",
          "name": "stdout",
          "text": [
            "Curent working directory is  /content/Natural_Language_Processing_in_Python/01-NLP-basics/_datasets\n"
          ]
        }
      ]
    },
    {
      "cell_type": "code",
      "metadata": {
        "colab": {
          "base_uri": "https://localhost:8080/"
        },
        "id": "9H7VtZ_99qrY",
        "outputId": "ce9ab0c1-eaae-4d88-db63-612a8a0638bf"
      },
      "source": [
        "ls"
      ],
      "execution_count": 6,
      "outputs": [
        {
          "output_type": "stream",
          "name": "stdout",
          "text": [
            " articles.csv            grail.txt            \u001b[0m\u001b[01;34mwikipedia_articles\u001b[0m/\n",
            " english_stopwords.txt   \u001b[01;34mnews_articles\u001b[0m/      'Wikipedia articles.zip'\n",
            " fake_or_real_news.csv  'News articles.zip'\n"
          ]
        }
      ]
    },
    {
      "cell_type": "markdown",
      "metadata": {
        "id": "s6ooPZFKaDvq"
      },
      "source": [
        "This notebook will demonstrate how to use the `bag-of-words` and `Tf-idf` text representation models from the `NLTK` library, as well as the new `Gensim` library.\n"
      ]
    },
    {
      "cell_type": "markdown",
      "metadata": {
        "id": "TOIEmp5vaDvy"
      },
      "source": [
        "## **Word counts with `bag-of-words`**\n",
        "\n",
        "![bow](https://cdn.analyticsvidhya.com/wp-content/uploads/2023/08/image.png)\n",
        "\n",
        "**Bag of words (BoW)** is a way of **representing text as a collection of words**, **disregarding the order or structure of the words** in the text. It is a simple and flexible approach to text representation, and it has been used in a wide range of natural language processing (NLP) tasks, such as``document classification`, `sentiment analysis`, and `machine translation`.\n",
        "\n",
        "To create a bag of words representation for a text, we first need to create a vocabulary of all the unique words in the text. Then, we count the number of times each word appears in the text. This gives us a vector of word counts, which is the bag of words representation for the text.\n",
        "\n",
        "For example, consider the following text:\n",
        "\n",
        ">**I love to eat pizza. Pizza is my favorite food.**\n",
        "\n",
        "The vocabulary for this text is the set of unique words: `{\"I\", \"love\", \"to\", \"eat\", \"pizza\", \"is\", \"my\", \"favorite\", \"food\"}`. The bag of words representation for this text is the vector `[1, 1, 1, 1, 2, 1, 1, 1, 1]`.\n",
        "\n",
        "This vector tells us that the word pizza appears twice in the text, and all the other words appear once.\n",
        "\n",
        "- **Bag-of-words**\n",
        "    - Basic method for finding topics in a text.\n",
        "    - Need to first create tokens using tokenization and then count up all the tokens.\n",
        "    - The more frequent a word, the more important it might be.\n",
        "    - Can be a great way to determine the significant words in a text."
      ]
    },
    {
      "cell_type": "markdown",
      "metadata": {
        "id": "GPFq8YMSaDvz"
      },
      "source": [
        "### Bag-of-words picker\n",
        "It's time for a quick check on your understanding of bag-of-words."
      ]
    },
    {
      "cell_type": "code",
      "source": [
        "from nltk.tokenize import word_tokenize\n",
        "from collections import Counter # The Counter class is a subclass of dict\n",
        "                                # it designed to count the occurrences of elements in a collection.\n",
        "\n",
        "# Input text\n",
        "text = \"The cat is in the box. The cat box.\"\n",
        "\n",
        "# Tokenize the text\n",
        "tokens = word_tokenize(text)\n",
        "print(\"Tokens:\", tokens)\n",
        "\n",
        "# Count the word frequencies\n",
        "word_freq = Counter(tokens)\n",
        "print(\"Word Frequencies:\", word_freq)\n",
        "\n",
        "# Get the most common words with their counts\n",
        "most_common_words = word_freq.most_common(3)\n",
        "print(\"Most Common Words:\", most_common_words)"
      ],
      "metadata": {
        "colab": {
          "base_uri": "https://localhost:8080/"
        },
        "id": "cgvLPiNEha1x",
        "outputId": "d6d8a52d-4d07-40d9-9685-90e7b95a132c"
      },
      "execution_count": 7,
      "outputs": [
        {
          "output_type": "stream",
          "name": "stdout",
          "text": [
            "Tokens: ['The', 'cat', 'is', 'in', 'the', 'box', '.', 'The', 'cat', 'box', '.']\n",
            "Word Frequencies: Counter({'The': 2, 'cat': 2, 'box': 2, '.': 2, 'is': 1, 'in': 1, 'the': 1})\n",
            "Most Common Words: [('The', 2), ('cat', 2), ('box', 2)]\n"
          ]
        }
      ]
    },
    {
      "cell_type": "markdown",
      "metadata": {
        "id": "eF9tSiHcaDv2"
      },
      "source": [
        "### Building a Counter with bag-of-words\n",
        "In this exercise, you'll build your first (in this course) bag-of-words counter using a Wikipedia article, which has been pre-loaded as `article`. Try doing the bag-of-words without looking at the full article text, and guessing what the topic is! If you'd like to peek at the title at the end, we've included it as `article_title`. Note that this article text has had very little preprocessing from the raw Wikipedia database entry."
      ]
    },
    {
      "cell_type": "code",
      "execution_count": 8,
      "metadata": {
        "id": "2NdEMlE_aDv3",
        "colab": {
          "base_uri": "https://localhost:8080/"
        },
        "outputId": "4928d14a-45a4-4c15-e216-b021fa403ace"
      },
      "outputs": [
        {
          "output_type": "stream",
          "name": "stdout",
          "text": [
            "[(',', 85542),\n",
            " (\"''\", 1278),\n",
            " ('computer', 402),\n",
            " ('software', 375),\n",
            " ('``', 345),\n",
            " ('cite', 210),\n",
            " ('ref', 191),\n",
            " (',computer', 187),\n",
            " (\"'s\", 170),\n",
            " ('system', 153)]\n"
          ]
        }
      ],
      "source": [
        "import re\n",
        "from nltk.tokenize import word_tokenize\n",
        "from collections import Counter\n",
        "\n",
        "path = '/content/Natural_Language_Processing_in_Python/01-NLP-basics/_datasets/articles.csv'\n",
        "\n",
        "with open(path, 'r') as file:\n",
        "    article = file.read()\n",
        "    article_title = word_tokenize(article)[2]\n",
        "\n",
        "# Tokenize the aricle: tokens\n",
        "tokens = word_tokenize(article)\n",
        "\n",
        "# Convert the tokens into lowercase: lower_tokens\n",
        "lower_tokens = [t.lower() for t in tokens]\n",
        "\n",
        "# Create a Counter with the lowercase tokens: bow_simple\n",
        "bow_simple = Counter(lower_tokens)\n",
        "\n",
        "# Print the 10 most common tokens\n",
        "pprint(bow_simple.most_common(10))"
      ]
    },
    {
      "cell_type": "markdown",
      "metadata": {
        "id": "TPccEjXKaDv4"
      },
      "source": [
        "## **Simple text preprocessing**\n",
        "\n",
        "Why we Preprocess?\n",
        "\n",
        "- Helps make for better input data\n",
        "    - When performing machine learning or other statistical methods\n",
        "- Examples\n",
        "    - `Tokenization` to create a bag of words.\n",
        "    - Applying `Lowercasing` can lead to the better results.\n",
        "- `Lemmatization` / `Stemming`\n",
        "    - where we Shorten words to their root stems.\n",
        "- Removing `stopwords`, `punctuation`, or `unwanted tokens` which don't carry much meaning."
      ]
    },
    {
      "cell_type": "markdown",
      "metadata": {
        "id": "PAHjbWxCaDv4"
      },
      "source": [
        "### Text Preprocessing Steps\n",
        "\n",
        "1. Remove **HTML Tags**\n",
        "2. **Lowercasing**\n",
        "3. **Tokenization**\n",
        "4. Remove **Special Character**s and **Punctuation**\n",
        "5. **Remove Numbers**\n",
        "6. Remove **URLs** and **Email Addresses**\n",
        "7. Handle Contractions\n",
        "8. Spell Checking and Correction\n",
        "9. Remove Duplicate Words\n",
        "10. Remove Short Words\n",
        "11. Remove **Stop Words**\n",
        "12. **Part-of-Speech** (POS) Tagging\n",
        "13. **Named Entity Recognition** (NER)\n",
        "14. **Stemming** (optional)\n",
        "15. **Lemmatization**\n",
        "16. Normalize Whitespace\n",
        "17. Text Length Filtering (optional)\n",
        "18. Custom Cleaning (optional)\n",
        "19. Token Filtering (optional)\n",
        "20. Vectorization\n",
        "21. **Bag-of-Words **(BoW) or TF-IDF\n",
        "22. **Word Embeddings**\n",
        "\n"
      ]
    },
    {
      "cell_type": "markdown",
      "metadata": {
        "id": "4R6ZnIJOaDv5"
      },
      "source": [
        "> **Note:** Before lemmatizing token through NLTK, you must install `wordnet` package"
      ]
    },
    {
      "cell_type": "code",
      "source": [
        "# Import the necessary libraries\n",
        "import nltk\n",
        "from nltk.corpus import stopwords  # Import the NLTK stopwords corpus\n",
        "from nltk.tokenize import word_tokenize  # Import the NLTK word_tokenize function\n",
        "from collections import Counter  # Import the Counter class from the collections module\n",
        "\n",
        "# Download a specific NLTK dataset, e.g., the 'punkt' tokenizer models.\n",
        "nltk.download('punkt', quiet=True)\n",
        "\n",
        "# Download the NLTK stopwords dataset, which contains common stopwords for various languages.\n",
        "nltk.download('stopwords', quiet=True)\n",
        "\n",
        "# Define the input text\n",
        "text = \"\"\"The cat is in the box.\n",
        "          The cat likes the box.\n",
        "          The box is over the cat.\"\"\"\n",
        "\n",
        "# Tokenize the text into words, convert them to lowercase, and filter out non-alphabetic tokens\n",
        "tokens = [words for words in word_tokenize(text.lower()) if words.isalpha()]\n",
        "\n",
        "# Remove stopwords from the list of tokens\n",
        "no_stops = [token for token in tokens if token not in stopwords.words('english')]\n",
        "\n",
        "# Count the frequency of each word in the filtered list of tokens\n",
        "word_counts = Counter(no_stops)\n",
        "\n",
        "# Find the two most common words in the text\n",
        "most_common_words = word_counts.most_common(2)\n",
        "\n",
        "# Print the result, which includes the most common words and their frequencies\n",
        "print(most_common_words)"
      ],
      "metadata": {
        "colab": {
          "base_uri": "https://localhost:8080/"
        },
        "id": "Bv_kiPFajAGt",
        "outputId": "b0085ef1-bba4-494f-e139-4456fb5d96e2"
      },
      "execution_count": 9,
      "outputs": [
        {
          "output_type": "stream",
          "name": "stdout",
          "text": [
            "[('cat', 3), ('box', 3)]\n"
          ]
        }
      ]
    },
    {
      "cell_type": "code",
      "execution_count": 10,
      "metadata": {
        "id": "G6OGXuSGaDv5",
        "outputId": "7b7ffaba-ee02-4e8d-911a-ab16cb90376b",
        "colab": {
          "base_uri": "https://localhost:8080/",
          "height": 297
        }
      },
      "outputs": [
        {
          "output_type": "display_data",
          "data": {
            "text/plain": [
              "'i\\nme\\nmy\\nmy'"
            ],
            "application/vnd.google.colaboratory.intrinsic+json": {
              "type": "string"
            }
          },
          "metadata": {}
        },
        {
          "output_type": "display_data",
          "data": {
            "text/plain": [
              "'\\n'"
            ],
            "application/vnd.google.colaboratory.intrinsic+json": {
              "type": "string"
            }
          },
          "metadata": {}
        },
        {
          "output_type": "stream",
          "name": "stdout",
          "text": [
            "['uses', 'use', 'use', 'use', 'multiple', 'computer', 'file', 'debugging', 'dmy', 'dmy'] \n",
            "\n",
            "['uses', 'multiple', 'computer', 'file', 'debugging', 'dmy', 'dmy', 'reverse', 'mdy', 'tv'] \n",
            "\n",
            "[('computer', 478),\n",
            " ('software', 375),\n",
            " ('system', 228),\n",
            " ('program', 225),\n",
            " ('cite', 210),\n",
            " ('language', 197),\n",
            " ('ref', 191),\n",
            " ('code', 153),\n",
            " ('programming', 139),\n",
            " ('bug', 128)]\n"
          ]
        }
      ],
      "source": [
        "import nltk\n",
        "from nltk.tokenize import word_tokenize\n",
        "from nltk.corpus import stopwords\n",
        "from collections import Counter\n",
        "from nltk.stem import WordNetLemmatizer\n",
        "\n",
        "# Download a specific NLTK dataset, e.g., the 'punkt' tokenizer models.\n",
        "nltk.download('punkt', quiet=True)\n",
        "# Download the NLTK stopwords dataset, which contains common stopwords for various languages.\n",
        "nltk.download('stopwords', quiet=True)\n",
        "# Download the WordNet lexical database, which is used for various NLP tasks like synonym and antonym lookup.\n",
        "nltk.download('wordnet', quiet=True)\n",
        "\n",
        "\n",
        "path = '/content/Natural_Language_Processing_in_Python/01-NLP-basics/_datasets/english_stopwords.txt'\n",
        "\n",
        "with open(path, 'r') as file:\n",
        "    english_stops = file.read()\n",
        "\n",
        "display(english_stops[:10], \"\\n\")\n",
        "\n",
        "# Retain alphabetic words: alpha_only\n",
        "alpha_only = [t for t in lower_tokens if t.isalpha()]\n",
        "print(alpha_only[:10], \"\\n\")\n",
        "\n",
        "# Remove all stop words: no_stops\n",
        "no_stops = [t for t in alpha_only if t not in english_stops]\n",
        "print(no_stops[:10], \"\\n\")\n",
        "\n",
        "# Instantiate the WordNetLemmatizer\n",
        "wordnet_lemmatizer = WordNetLemmatizer()\n",
        "\n",
        "# Lemmatize all tokens into a new list: lemmatized\n",
        "lemmatized = [wordnet_lemmatizer.lemmatize(t) for t in no_stops]\n",
        "\n",
        "# Create the bag-of-words: bow\n",
        "bow = Counter(lemmatized)\n",
        "\n",
        "# Print the 10 most common tokens\n",
        "pprint(bow.most_common(10))"
      ]
    },
    {
      "cell_type": "markdown",
      "metadata": {
        "id": "fIPVSejaaDv6"
      },
      "source": [
        "## **Introduction to `GenSim`**\n",
        "\n",
        "- `Gensim` stands for **Generate Similar**.\n",
        "    - **Gensim** is a **Python library** for NLP.\n",
        "    - It is used to represent `documents` and `words` as `vectors`.\n",
        "    - You can use Gensim to do a variety of NLP tasks, such as:\n",
        "        - `Topic modeling`: Gensim can help you identify the main topics ina collection of documents. This can be useful for tasks such asorganizing documents or generating summaries.\n",
        "        - `Machine translation`: Gensim can be used to translate text fromone language to another.\n",
        "        - `Sentiment analysis`: Gensim can be used to determine thesentiment of a piece of text, such as whether it is positive,negative, or neutral.\n",
        "        \n",
        "    - Features provide by `Gensim`\n",
        "        - Provides pre-trained word vector models such as:\n",
        "            - `FastText`\n",
        "            - `Word2Vec`\n",
        "        - Number of Algorithms for **Topic modeling**:\n",
        "            - *Latent Semantic Analysis* (`LSA`)\n",
        "            - *Latent Dirichlet Allocation* (`LDA`)\n",
        "        - `TF-IDF`\n",
        "\n",
        "\n",
        "\n",
        "\n",
        "\n"
      ]
    },
    {
      "cell_type": "code",
      "source": [
        "import gensim\n",
        "from gensim.corpora.dictionary import Dictionary\n",
        "from nltk.tokenize import word_tokenize\n",
        "from nltk.corpus import stopwords\n",
        "\n",
        "# Sample corpus\n",
        "corpus = [\n",
        "    'The movie was about a spaceship and aliens.',\n",
        "    'I really liked the movie!',\n",
        "    'Awesome action scenes, but boring characters.',\n",
        "    'The movie was awful! I hate alien films.',\n",
        "    'Space is cool! I liked the movie.',\n",
        "    'More space films, please!.'\n",
        "]\n",
        "\n",
        "# Define and remove stopwords\n",
        "stop_words = set(stopwords.words('english'))\n",
        "\n",
        "# Tokenize and preprocess, convert to lowercase\n",
        "processed_corpus = []\n",
        "for sentence in corpus:\n",
        "    words = word_tokenize(sentence.lower())  # Tokenize and convert to lowercase in one step\n",
        "    words = [word for word in words if word not in stop_words]  # Remove stopwords\n",
        "    processed_corpus.append(words)\n",
        "\n",
        "# Create a dictionary of words with unique IDs\n",
        "dictionary = Dictionary(processed_corpus)\n",
        "\n",
        "# Print the token-to-ID mapping of words in the dictionary\n",
        "print(dictionary.token2id)\n",
        "\n",
        "# Create a corpus of document representations as bags of words\n",
        "corpus = [dictionary.doc2bow(doc) for doc in processed_corpus]\n",
        "\n",
        "# Print the resulting corpus\n",
        "print(corpus)"
      ],
      "metadata": {
        "colab": {
          "base_uri": "https://localhost:8080/"
        },
        "id": "_ZjnvbGVO3oa",
        "outputId": "fc15dcc0-eced-466e-c04c-4cb667bbbc5e"
      },
      "execution_count": 11,
      "outputs": [
        {
          "output_type": "stream",
          "name": "stdout",
          "text": [
            "{'.': 0, 'aliens': 1, 'movie': 2, 'spaceship': 3, '!': 4, 'liked': 5, 'really': 6, ',': 7, 'action': 8, 'awesome': 9, 'boring': 10, 'characters': 11, 'scenes': 12, 'alien': 13, 'awful': 14, 'films': 15, 'hate': 16, 'cool': 17, 'space': 18, 'please': 19}\n",
            "[[(0, 1), (1, 1), (2, 1), (3, 1)], [(2, 1), (4, 1), (5, 1), (6, 1)], [(0, 1), (7, 1), (8, 1), (9, 1), (10, 1), (11, 1), (12, 1)], [(0, 1), (2, 1), (4, 1), (13, 1), (14, 1), (15, 1), (16, 1)], [(0, 1), (2, 1), (4, 1), (5, 1), (17, 1), (18, 1)], [(0, 1), (4, 1), (7, 1), (15, 1), (18, 1), (19, 1)]]\n"
          ]
        }
      ]
    },
    {
      "cell_type": "markdown",
      "source": [
        "### **What are word vectors?**\n",
        "\n",
        "![wrodvec](https://miro.medium.com/v2/resize:fit:2000/1*SYiW1MUZul1NvL1kc1RxwQ.png)\n",
        "\n",
        "- **What are word vectors and how do they help with NLP?**\n",
        "    - `Multi-dimensional Numerical` representation of a word.\n",
        "    - It is a list of `numbers` that capture the meaning of a word in a way that can be **understood by a computer**.\n",
        "    - Word vectors are created using a variety of methods, but the most common method is to use a `deep learnings` `neural network`.\n",
        "    - They give us insight into relationships between words in a corpus.\n",
        "    - These representations capture **`semantic`** and **`syntactic`** relationships between words based on their usage patterns in a given text corpus.\n",
        "\n",
        "Here's how they work and their importance in NLP:\n",
        "\n",
        "- **Word Vector Creation:**\n",
        "\n",
        "    - To create word vectors, algorithms like `Word2Vec`, `GloVe`, `FastText`, or `BERT` are used.\n",
        "    - These algorithms analyze large amounts of text data to learn word embeddings.\n",
        "    - Words with similar meanings or contexts will be represented as vectors that are close together in this vector space, while words with different meanings will be farther apart.\n",
        "\n",
        "- **Semantic and Syntactic Relationships:**\n",
        "\n",
        "    - Word vectors capture both `semantic` (meaning-related) and `syntactic `(grammar-related) relationships between words.\n",
        "    - **For example**, in the word vector space, \"`king`\" might be close to \"`queen`\" because they share a similar `Semantic`.\n",
        "    - Word vectors can also encode `Syntactic` relationships, e.g., verb forms like \"`run`,\" \"`ran`,\" and \"`running`\" positioned close to each other due to verb tense.\n",
        "\n",
        "- **NLP Applications:**\n",
        "\n",
        "    - Word vectors are used as features in various NLP tasks: `sentiment analysis`, `text classification`, `machine translation`, `named entity recognition(NER)`.\n",
        "    - Representing words numerically makes these tasks more manageable for machine learning models.\n",
        "    - Particularly useful for understanding context in language.\n",
        "\n",
        "- **Dimensionality Reduction:**\n",
        "\n",
        "    - Word vectors typically have a fixed dimensionality, e.g., `100`, `300` dimensions, specified during creation.\n",
        "    - This dimensionality reduction enables the compact and computationally efficient representation of words.\n",
        "\n",
        "- **Transfer Learning:**\n",
        "\n",
        "    - `Pre-trained` word embeddings can be fine-tuned for specific NLP tasks.\n",
        "    - Models trained on large text corpora can leverage pre-trained embeddings like Word2Vec or GloVe for transfer learning.\n",
        "\n",
        "- **Improved Performance:**\n",
        "\n",
        "    - Using word vectors often **`enhances NLP model performance`** compared to traditional **`bag-of-words`** representations.\n",
        "    - They capture more nuanced semantic and syntactic information.\n",
        "\n",
        "\n",
        "\n",
        "\n",
        "\n",
        "\n"
      ],
      "metadata": {
        "id": "Mp2Vp_ZKOvh7"
      }
    },
    {
      "cell_type": "markdown",
      "metadata": {
        "id": "ZWYrwRDBaDv6"
      },
      "source": [
        "### **Creating and querying a corpus with `GenSim`**\n",
        "\n",
        "**Getting Started:**\n",
        "\n",
        "- import messy articles data from **Wikipedia**.\n",
        "- Preprocessed them by:\n",
        "    -  `lowercasing` all words\n",
        "    - `tokenizing` them,\n",
        "    -  and removing `stopwords` and `punctuation`.\n",
        "    - then stored in a list of document tokens called `articles`.\n",
        "    - and then generate the `gensim` **dictionary** and **corpus**.\n",
        "\n"
      ]
    },
    {
      "cell_type": "markdown",
      "metadata": {
        "id": "N7mrKeOcaDv7"
      },
      "source": [
        "### **Gensim bag-of-words**\n",
        "\n",
        "Now, we'll use your new **gensim** `corpus` and `dictionary` to see the most common terms per document and across all documents. we your dictionary to look up the terms.\n",
        "\n"
      ]
    },
    {
      "cell_type": "markdown",
      "source": [
        "**Glob Module:**\n",
        "\n",
        ">it is used for searching files and directories on your computer using wildcard patterns. It's a convenient way to find and work with files that match specific criteria, such as files with certain extensions or names.\n",
        "\n",
        "```python\n",
        "# Find all .txt files in the current directory\n",
        "txt_files = glob.glob(\"*.txt\")\n",
        "\n",
        "# Find all Python script files in a subdirectory named 'scripts'\n",
        "python_scripts = glob.glob(\"scripts/*.py\")\n",
        "```\n",
        "\n",
        "Here's a simple example that prints all the `.txt` files in the directory.\n",
        "\n",
        "```python\n",
        "import glob\n",
        "\n",
        "txt_files = glob.glob(\"*.txt\")\n",
        "\n",
        "for file in txt_files:\n",
        "    print(file)\n",
        "```"
      ],
      "metadata": {
        "id": "UiRYlC7hAW6I"
      }
    },
    {
      "cell_type": "code",
      "source": [
        "import glob\n",
        "from nltk.corpus import stopwords\n",
        "from nltk.tokenize import word_tokenize\n",
        "from gensim.corpora.dictionary import Dictionary\n",
        "\n",
        "# Define the path to the directory containing the text files\n",
        "path = \"/content/Natural_Language_Processing_in_Python/01-NLP-basics/_datasets/wikipedia_articles/*.txt\"\n",
        "\n",
        "# Get a list of file paths in the directory\n",
        "path_list = glob.glob(path)\n",
        "\n",
        "# Initialize NLTK stopwords\n",
        "stopwords_en = set(stopwords.words(\"english\"))\n",
        "\n",
        "# Function to tokenize text, convert to lowercase, and filter out non-alphabetic words and stopwords\n",
        "def preprocess_text(text):\n",
        "    tokens = word_tokenize(text)\n",
        "    lower_tokens = [t.lower() for t in tokens]\n",
        "    cleaned_tokens = [t for t in lower_tokens if t.isalpha() and t not in stopwords_en]\n",
        "    return cleaned_tokens\n",
        "\n",
        "articles = []\n",
        "for article_path in path_list:\n",
        "    with open(article_path, 'r') as file:\n",
        "        article_text = file.read()\n",
        "\n",
        "\n",
        "    preprocessed_article = preprocess_text(article_text)\n",
        "    articles.append(preprocessed_article)\n",
        "\n",
        "print(\"Total number of wiki articles: \", len(articles))\n",
        "\n",
        "# Create a Dictionary from the articles\n",
        "dictionary = Dictionary(articles)\n",
        "print(dictionary)\n",
        "\n",
        "# Obtain the id for \"aborting\" using dictionary's token2id and get() methods\n",
        "word_id = dictionary.token2id.get(\"aborting\")\n",
        "print(f\"word_id : {word_id} , word : {dictionary.get(word_id)}\")\n",
        "\n",
        "\n",
        "# Use a list comprehension to create a gensim MmCorpus from dictionary\n",
        "corpus = [dictionary.doc2bow(article) for article in articles]\n",
        "\n",
        "# Print the first 10 word ids with their frequency counts from the fifth document\n",
        "word_freq_pairs = corpus[4][:10]\n",
        "print(word_freq_pairs)\n",
        "\n",
        "# Create a list of (word, frequency) pairs\n",
        "word_freq_list = [(dictionary.get(word_id), frequency) for word_id, frequency in word_freq_pairs]\n",
        "print(word_freq_list)"
      ],
      "metadata": {
        "colab": {
          "base_uri": "https://localhost:8080/"
        },
        "id": "UEYKYZDgsFKd",
        "outputId": "a07f49f9-4dac-4d48-ff1e-23ffb5d5e6b0"
      },
      "execution_count": 12,
      "outputs": [
        {
          "output_type": "stream",
          "name": "stdout",
          "text": [
            "Total number of wiki articles:  12\n",
            "Dictionary<6211 unique tokens: ['aberdeen', 'able', 'aboard', 'absence', 'academic']...>\n",
            "word_id : 1382 , word : aborting\n",
            "[(1, 1), (7, 5), (16, 1), (18, 2), (19, 2), (20, 1), (22, 1), (32, 1), (33, 1), (35, 1)]\n",
            "[('able', 1), ('access', 5), ('active', 1), ('activity', 2), ('actual', 2), ('actually', 1), ('admiral', 1), ('aid', 1), ('aids', 1), ('air', 1)]\n"
          ]
        }
      ]
    },
    {
      "cell_type": "markdown",
      "source": [
        ">The comment \"`Use a list comprehension to create a gensim MmCorpus from dictionary`\" means that the code is using a list comprehension to transform the preprocessed text data (in the form of a list of documents) into a format that Gensim, a natural language processing library, can work with. Specifically, it's converting the text data into a Gensim's \"`MmCorpus`\" format, which is a memory-mapped corpus representation suitable for various NLP tasks like topic modeling.\n",
        "\n",
        "> `doc2bow` is a method used to convert a document into the bag-of-words."
      ],
      "metadata": {
        "id": "DGIjHhbb1uKD"
      }
    },
    {
      "cell_type": "markdown",
      "source": [
        "### `defaultidict`"
      ],
      "metadata": {
        "id": "7F6qwe8xWx-q"
      }
    },
    {
      "cell_type": "markdown",
      "source": [
        "**Difference between `Counter` and `defaultdict`**\n",
        "\n",
        "\n",
        "- `Counter` is used for straightforward counting of all elements in an iterable, and it automatically sets missing elements to `0`.\n",
        "\n",
        "- `defaultdict` is used when you need to customize default values for specific keys in a dictionary-like object and handle missing keys without errors.\n",
        " - Having a default value (`0`) for a letter that's not in the word is like having a safety net. It helps you avoid a mistake called a `KeyError`.\n",
        " - It's useful because it means you don't have to check if a letter is in the word before you count it.\n",
        " - You can just count it, and if it's not there, you'll get `0` instead of an error.\n"
      ],
      "metadata": {
        "id": "MpSJJ3L13H9X"
      }
    },
    {
      "cell_type": "code",
      "source": [
        "from collections import Counter\n",
        "\n",
        "# Example: Counting word frequencies in a text document\n",
        "text = \"This is a simple example of counting word frequencies in NLP. This example is simple.\"\n",
        "word_freq = Counter(text.split())\n",
        "\n",
        "print(word_freq)"
      ],
      "metadata": {
        "colab": {
          "base_uri": "https://localhost:8080/"
        },
        "id": "0fqYZ2hyZDrM",
        "outputId": "330e1772-4c8a-433a-c7d0-d22c954070ae"
      },
      "execution_count": 13,
      "outputs": [
        {
          "output_type": "stream",
          "name": "stdout",
          "text": [
            "Counter({'This': 2, 'is': 2, 'example': 2, 'a': 1, 'simple': 1, 'of': 1, 'counting': 1, 'word': 1, 'frequencies': 1, 'in': 1, 'NLP.': 1, 'simple.': 1})\n"
          ]
        }
      ]
    },
    {
      "cell_type": "code",
      "source": [
        "from collections import defaultdict\n",
        "\n",
        "# Example: Counting word frequencies in a text document\n",
        "text = \"This is a simple example of counting word frequencies in NLP. This example is simple.\"\n",
        "\n",
        "word_freq = defaultdict(int)  # Default value is 0 for int\n",
        "\n",
        "words = text.split()\n",
        "\n",
        "for word in words:\n",
        "    word_freq[word] += 1\n",
        "\n",
        "print(word_freq)"
      ],
      "metadata": {
        "colab": {
          "base_uri": "https://localhost:8080/"
        },
        "id": "cby8g4kwZG-L",
        "outputId": "ffd1715b-06d7-4e10-a167-97763a56d4ff"
      },
      "execution_count": 14,
      "outputs": [
        {
          "output_type": "stream",
          "name": "stdout",
          "text": [
            "defaultdict(<class 'int'>, {'This': 2, 'is': 2, 'a': 1, 'simple': 1, 'example': 2, 'of': 1, 'counting': 1, 'word': 1, 'frequencies': 1, 'in': 1, 'NLP.': 1, 'simple.': 1})\n"
          ]
        }
      ]
    },
    {
      "cell_type": "markdown",
      "source": [
        " It's designed to create dictionaries with default values for keys that don't exist. You specify the default value when creating the defaultdict, and this value is returned if you try to access a non-existent key."
      ],
      "metadata": {
        "id": "mYaKKnU8ZXgQ"
      }
    },
    {
      "cell_type": "code",
      "source": [
        "# Initialize a string variable\n",
        "word = \"Programming\"\n",
        "\n",
        "# Initialize an empty dictionary 'd' to store character frequencies\n",
        "d = {}\n",
        "\n",
        "# Iterate through each character in the 'word' string\n",
        "for c in word:          # Check if the character 'c' is not in the dictionary 'd'\n",
        "    if c not in d:\n",
        "        d[c] = 1        # If 'c' is not in 'd', add it to the dictionary with a value of 1\n",
        "    else:\n",
        "        d[c] += 1       # If 'c' is already in 'd', increment its value by 1 to count its frequency\n",
        "\n",
        "# Print the final dictionary 'd' containing character frequencies\n",
        "print(d)"
      ],
      "metadata": {
        "colab": {
          "base_uri": "https://localhost:8080/"
        },
        "id": "MRTuCqyzdAVx",
        "outputId": "30c1962f-a0de-4810-d5ba-df69e8b1af6f"
      },
      "execution_count": 15,
      "outputs": [
        {
          "output_type": "stream",
          "name": "stdout",
          "text": [
            "{'P': 1, 'r': 2, 'o': 1, 'g': 2, 'a': 1, 'm': 2, 'i': 1, 'n': 1}\n"
          ]
        }
      ]
    },
    {
      "cell_type": "markdown",
      "source": [
        "- We can eliminate the need for checking the `if-else` condition when adding `keys` to our dictionary if we have prior knowledge of the default value for any newly introduced `key`. This is precisely where the `defaultdict` comes into play.\n",
        "\n",
        "- With a `defaultdict`, we can predefine a default value type for keys that do not exist in the dictionary. This means that whenever we access a `non-existent` key, the `defaultdict` automatically provides it with the specified **default value**, sparing us from the manual condition checking and value initialization typically seen in regular dictionaries.\n",
        "\n",
        "\n",
        "**why and when to use `defaultdict`?**\n",
        ">it allows us to set a default value type for keys that are not yet present. By doing so, we eliminate the need to explicitly check for the existence of keys and manually initialize their values, making our code more efficient and easier to understand."
      ],
      "metadata": {
        "id": "LbU-xe1jh8p-"
      }
    },
    {
      "cell_type": "code",
      "source": [
        "from collections import defaultdict\n",
        "\n",
        "d = defaultdict(int) # any new key introduced in our dict\n",
        "                     # will have the defalut value equal to 0 in case of interger\n",
        "\n",
        "for c in word:\n",
        "    d[c] += 1\n",
        "\n",
        "print(d)\n",
        "print(d['z']) # key that not present will have the defaullt vlaue eqaul to zero"
      ],
      "metadata": {
        "colab": {
          "base_uri": "https://localhost:8080/"
        },
        "id": "DqqhxqufvR-p",
        "outputId": "d66dc02a-92a6-462f-cc25-8a3046075218"
      },
      "execution_count": 16,
      "outputs": [
        {
          "output_type": "stream",
          "name": "stdout",
          "text": [
            "defaultdict(<class 'int'>, {'P': 1, 'r': 2, 'o': 1, 'g': 2, 'a': 1, 'm': 2, 'i': 1, 'n': 1})\n",
            "0\n"
          ]
        }
      ]
    },
    {
      "cell_type": "markdown",
      "metadata": {
        "id": "42allkiCaDv7"
      },
      "source": [
        "## **`Tf-idf` with gensim**\n",
        "- TF-IDF\n",
        "    - Term Frequency - Inverse Document Frequency\n",
        "    - Allows you to determine the most important words in each document\n",
        "    - Each corpus may have shared words beyond just stop words\n",
        "    - These words should be down-weighted in importance\n",
        "    - Ensures most common words don't show up as key words\n",
        "    - Keeps document specific frequent words wieghted high\n",
        "- Formula\n",
        "\n",
        "$$ w_{i, j} = \\text{tf}_{i, j} * \\log (\\frac{N}{\\text{df}_i}) $$\n",
        "- $ w_{i, j}=$ tf-idf for token $i$ in document $j$\n",
        "- $ \\text{tf}_{i, j} =$ number of occurences of token $i$ in document $j$\n",
        "- $ \\text{df}_{i} =$ number of documents that contain token $i$\n",
        "- $ N =$ total number of documents"
      ]
    },
    {
      "cell_type": "markdown",
      "metadata": {
        "id": "hfuV2PnFaDv7"
      },
      "source": [
        "### **What is tf-idf?**\n",
        "\n",
        "Calculate the `tf-idf` weight for the word `\"computer\"`, which appears **`5` times** in a document containing `100` words. Given a corpus containing `200` documents, with `20` documents mentioning the word `\"computer\"`, `tf-idf` can be calculated by multiplying **Term Frequency** with **Inverse Document Frequency**.\n",
        "\n",
        "- **Term frequency** = Percentage share of the word compared to all tokens in the document.\n",
        "- **Inverse document frequency** = `logarithm` of the total number of documents in a corpora divided by the number of documents containing the term.\n",
        "\n",
        "$$\n",
        "\\text{TF} = \\frac{5}{100} = 0.05\n",
        "$$\n",
        "\n",
        "$$\n",
        "\\text{IDF} = \\log\\left(\\frac{200}{20}\\right) = \\log(10) = 1\n",
        "$$\n",
        "\n",
        "$$\n",
        "\\text{TF-IDF} = \\text{TF} \\cdot \\text{IDF} = 0.05 \\cdot 1 = 0.05\n",
        "$$\n"
      ]
    },
    {
      "cell_type": "markdown",
      "source": [
        "### **TF-idf using Gensim**"
      ],
      "metadata": {
        "id": "ko5HmRwgB36O"
      }
    },
    {
      "cell_type": "code",
      "source": [
        "import re\n",
        "import nltk\n",
        "import pandas as pd\n",
        "from nltk.corpus import stopwords\n",
        "from nltk.stem import WordNetLemmatizer\n",
        "from gensim.models.tfidfmodel import TfidfModel\n",
        "from gensim.corpora import Dictionary\n",
        "from pprint import pprint\n",
        "\n",
        "text = \"\"\"\n",
        "       Natural Language Processing (NLP) is a field of artificial intelligence that focuses\n",
        "       on the interaction between computers and humans through natural language. The ultimate\n",
        "       goal of NLP is to enable computers to understand, interpret, and generate human language\n",
        "       in a way that is both meaningful and useful. NLP techniques are used in a wide range of\n",
        "       applications, including machine translation, speech recognition, sentiment analysis,\n",
        "       chatbots, and information retrieval. It involves various tasks such as tokenization,\n",
        "       part-of-speech tagging, named entity recognition, and syntactic parsing. NLTK is a popular\n",
        "       Python library for NLP, providing tools and resources for tasks like text processing, text\n",
        "       classification, and language modeling. It offers a wide range of functions and datasets\n",
        "       to help you get started with NLP projects. In this sample text, we'll demonstrate some\n",
        "       basic NLP tasks using NLTK, such as tokenization and part-of-speech tagging.\n",
        "       Let's get started!\n",
        "      \"\"\"\n",
        "\n",
        "# Tokenize the text\n",
        "sentences = nltk.sent_tokenize(text)\n",
        "\n",
        "# Tokenize and preprocess the sentences\n",
        "corpus = []\n",
        "wordnet = WordNetLemmatizer()\n",
        "\n",
        "for i in range(len(sentences)):\n",
        "    cleaned_sentence = re.sub('[^a-zA-Z]', ' ', sentences[i])\n",
        "    cleaned_sentence = cleaned_sentence.lower()\n",
        "    cleaned_sentence = cleaned_sentence.split()\n",
        "    cleaned_sentence = [wordnet.lemmatize(word) for word in cleaned_sentence if not word in set(stopwords.words('english'))]\n",
        "    corpus.append(cleaned_sentence)\n",
        "\n",
        "# Create a Gensim Dictionary\n",
        "dictionary = Dictionary(corpus)\n",
        "\n",
        "# Store the BoW representation in a variable\n",
        "bow_corpus = [dictionary.doc2bow(sentence) for sentence in corpus]\n",
        "\n",
        "# Create a Gensim TF-IDF model\n",
        "tfidf = TfidfModel(bow_corpus)\n",
        "\n",
        "# Transform the corpus to TF-IDF representation using the stored BoW\n",
        "tfidf_corpus = tfidf[bow_corpus]\n",
        "\n",
        "# Extract feature names (words) from the dictionary\n",
        "feature_names = [dictionary[id] for id in range(len(dictionary))]\n",
        "\n",
        "# Create a DataFrame to display the TF-IDF matrix\n",
        "tfidf_matrix = []\n",
        "\n",
        "for doc in tfidf_corpus:\n",
        "    tfidf_values = {dictionary[id]: freq for id, freq in doc}\n",
        "    row = [tfidf_values.get(word, 0.0) for word in feature_names]\n",
        "    tfidf_matrix.append(row)\n",
        "\n",
        "# Displaying the TF-IDF matrix using a DataFrame\n",
        "tfidf_df = pd.DataFrame(tfidf_matrix, columns=feature_names)\n",
        "display(tfidf_df)"
      ],
      "metadata": {
        "colab": {
          "base_uri": "https://localhost:8080/",
          "height": 350
        },
        "id": "_t-rYfZo7Mu4",
        "outputId": "386722d9-c3c0-4142-fcaf-42ac62f9db96"
      },
      "execution_count": 17,
      "outputs": [
        {
          "output_type": "display_data",
          "data": {
            "text/plain": [
              "   artificial  computer     field     focus     human  intelligence  \\\n",
              "0    0.298243  0.198829  0.298243  0.298243  0.198829      0.298243   \n",
              "1    0.000000  0.209456  0.000000  0.000000  0.209456      0.000000   \n",
              "2    0.000000  0.000000  0.000000  0.000000  0.000000      0.000000   \n",
              "3    0.000000  0.000000  0.000000  0.000000  0.000000      0.000000   \n",
              "4    0.000000  0.000000  0.000000  0.000000  0.000000      0.000000   \n",
              "5    0.000000  0.000000  0.000000  0.000000  0.000000      0.000000   \n",
              "6    0.000000  0.000000  0.000000  0.000000  0.000000      0.000000   \n",
              "7    0.000000  0.000000  0.000000  0.000000  0.000000      0.000000   \n",
              "\n",
              "   interaction  language   natural       nlp  ...       get      help  \\\n",
              "0     0.298243  0.281350  0.596486  0.041261  ...  0.000000  0.000000   \n",
              "1     0.000000  0.148194  0.000000  0.043466  ...  0.000000  0.000000   \n",
              "2     0.000000  0.000000  0.000000  0.039013  ...  0.000000  0.000000   \n",
              "3     0.000000  0.000000  0.000000  0.000000  ...  0.000000  0.000000   \n",
              "4     0.000000  0.135426  0.000000  0.039721  ...  0.000000  0.000000   \n",
              "5     0.000000  0.000000  0.000000  0.053065  ...  0.255713  0.383569   \n",
              "6     0.000000  0.000000  0.000000  0.053502  ...  0.000000  0.000000   \n",
              "7     0.000000  0.000000  0.000000  0.000000  ...  0.485071  0.000000   \n",
              "\n",
              "      offer   project   started     basic  demonstrate    sample     using  \\\n",
              "0  0.000000  0.000000  0.000000  0.000000     0.000000  0.000000  0.000000   \n",
              "1  0.000000  0.000000  0.000000  0.000000     0.000000  0.000000  0.000000   \n",
              "2  0.000000  0.000000  0.000000  0.000000     0.000000  0.000000  0.000000   \n",
              "3  0.000000  0.000000  0.000000  0.000000     0.000000  0.000000  0.000000   \n",
              "4  0.000000  0.000000  0.000000  0.000000     0.000000  0.000000  0.000000   \n",
              "5  0.383569  0.383569  0.255713  0.000000     0.000000  0.000000  0.000000   \n",
              "6  0.000000  0.000000  0.000000  0.386729     0.386729  0.386729  0.386729   \n",
              "7  0.000000  0.000000  0.485071  0.000000     0.000000  0.000000  0.000000   \n",
              "\n",
              "        let  \n",
              "0  0.000000  \n",
              "1  0.000000  \n",
              "2  0.000000  \n",
              "3  0.000000  \n",
              "4  0.000000  \n",
              "5  0.000000  \n",
              "6  0.000000  \n",
              "7  0.727607  \n",
              "\n",
              "[8 rows x 68 columns]"
            ],
            "text/html": [
              "\n",
              "  <div id=\"df-2acb6284-7e39-44e1-a7dd-e350569c1fbc\" class=\"colab-df-container\">\n",
              "    <div>\n",
              "<style scoped>\n",
              "    .dataframe tbody tr th:only-of-type {\n",
              "        vertical-align: middle;\n",
              "    }\n",
              "\n",
              "    .dataframe tbody tr th {\n",
              "        vertical-align: top;\n",
              "    }\n",
              "\n",
              "    .dataframe thead th {\n",
              "        text-align: right;\n",
              "    }\n",
              "</style>\n",
              "<table border=\"1\" class=\"dataframe\">\n",
              "  <thead>\n",
              "    <tr style=\"text-align: right;\">\n",
              "      <th></th>\n",
              "      <th>artificial</th>\n",
              "      <th>computer</th>\n",
              "      <th>field</th>\n",
              "      <th>focus</th>\n",
              "      <th>human</th>\n",
              "      <th>intelligence</th>\n",
              "      <th>interaction</th>\n",
              "      <th>language</th>\n",
              "      <th>natural</th>\n",
              "      <th>nlp</th>\n",
              "      <th>...</th>\n",
              "      <th>get</th>\n",
              "      <th>help</th>\n",
              "      <th>offer</th>\n",
              "      <th>project</th>\n",
              "      <th>started</th>\n",
              "      <th>basic</th>\n",
              "      <th>demonstrate</th>\n",
              "      <th>sample</th>\n",
              "      <th>using</th>\n",
              "      <th>let</th>\n",
              "    </tr>\n",
              "  </thead>\n",
              "  <tbody>\n",
              "    <tr>\n",
              "      <th>0</th>\n",
              "      <td>0.298243</td>\n",
              "      <td>0.198829</td>\n",
              "      <td>0.298243</td>\n",
              "      <td>0.298243</td>\n",
              "      <td>0.198829</td>\n",
              "      <td>0.298243</td>\n",
              "      <td>0.298243</td>\n",
              "      <td>0.281350</td>\n",
              "      <td>0.596486</td>\n",
              "      <td>0.041261</td>\n",
              "      <td>...</td>\n",
              "      <td>0.000000</td>\n",
              "      <td>0.000000</td>\n",
              "      <td>0.000000</td>\n",
              "      <td>0.000000</td>\n",
              "      <td>0.000000</td>\n",
              "      <td>0.000000</td>\n",
              "      <td>0.000000</td>\n",
              "      <td>0.000000</td>\n",
              "      <td>0.000000</td>\n",
              "      <td>0.000000</td>\n",
              "    </tr>\n",
              "    <tr>\n",
              "      <th>1</th>\n",
              "      <td>0.000000</td>\n",
              "      <td>0.209456</td>\n",
              "      <td>0.000000</td>\n",
              "      <td>0.000000</td>\n",
              "      <td>0.209456</td>\n",
              "      <td>0.000000</td>\n",
              "      <td>0.000000</td>\n",
              "      <td>0.148194</td>\n",
              "      <td>0.000000</td>\n",
              "      <td>0.043466</td>\n",
              "      <td>...</td>\n",
              "      <td>0.000000</td>\n",
              "      <td>0.000000</td>\n",
              "      <td>0.000000</td>\n",
              "      <td>0.000000</td>\n",
              "      <td>0.000000</td>\n",
              "      <td>0.000000</td>\n",
              "      <td>0.000000</td>\n",
              "      <td>0.000000</td>\n",
              "      <td>0.000000</td>\n",
              "      <td>0.000000</td>\n",
              "    </tr>\n",
              "    <tr>\n",
              "      <th>2</th>\n",
              "      <td>0.000000</td>\n",
              "      <td>0.000000</td>\n",
              "      <td>0.000000</td>\n",
              "      <td>0.000000</td>\n",
              "      <td>0.000000</td>\n",
              "      <td>0.000000</td>\n",
              "      <td>0.000000</td>\n",
              "      <td>0.000000</td>\n",
              "      <td>0.000000</td>\n",
              "      <td>0.039013</td>\n",
              "      <td>...</td>\n",
              "      <td>0.000000</td>\n",
              "      <td>0.000000</td>\n",
              "      <td>0.000000</td>\n",
              "      <td>0.000000</td>\n",
              "      <td>0.000000</td>\n",
              "      <td>0.000000</td>\n",
              "      <td>0.000000</td>\n",
              "      <td>0.000000</td>\n",
              "      <td>0.000000</td>\n",
              "      <td>0.000000</td>\n",
              "    </tr>\n",
              "    <tr>\n",
              "      <th>3</th>\n",
              "      <td>0.000000</td>\n",
              "      <td>0.000000</td>\n",
              "      <td>0.000000</td>\n",
              "      <td>0.000000</td>\n",
              "      <td>0.000000</td>\n",
              "      <td>0.000000</td>\n",
              "      <td>0.000000</td>\n",
              "      <td>0.000000</td>\n",
              "      <td>0.000000</td>\n",
              "      <td>0.000000</td>\n",
              "      <td>...</td>\n",
              "      <td>0.000000</td>\n",
              "      <td>0.000000</td>\n",
              "      <td>0.000000</td>\n",
              "      <td>0.000000</td>\n",
              "      <td>0.000000</td>\n",
              "      <td>0.000000</td>\n",
              "      <td>0.000000</td>\n",
              "      <td>0.000000</td>\n",
              "      <td>0.000000</td>\n",
              "      <td>0.000000</td>\n",
              "    </tr>\n",
              "    <tr>\n",
              "      <th>4</th>\n",
              "      <td>0.000000</td>\n",
              "      <td>0.000000</td>\n",
              "      <td>0.000000</td>\n",
              "      <td>0.000000</td>\n",
              "      <td>0.000000</td>\n",
              "      <td>0.000000</td>\n",
              "      <td>0.000000</td>\n",
              "      <td>0.135426</td>\n",
              "      <td>0.000000</td>\n",
              "      <td>0.039721</td>\n",
              "      <td>...</td>\n",
              "      <td>0.000000</td>\n",
              "      <td>0.000000</td>\n",
              "      <td>0.000000</td>\n",
              "      <td>0.000000</td>\n",
              "      <td>0.000000</td>\n",
              "      <td>0.000000</td>\n",
              "      <td>0.000000</td>\n",
              "      <td>0.000000</td>\n",
              "      <td>0.000000</td>\n",
              "      <td>0.000000</td>\n",
              "    </tr>\n",
              "    <tr>\n",
              "      <th>5</th>\n",
              "      <td>0.000000</td>\n",
              "      <td>0.000000</td>\n",
              "      <td>0.000000</td>\n",
              "      <td>0.000000</td>\n",
              "      <td>0.000000</td>\n",
              "      <td>0.000000</td>\n",
              "      <td>0.000000</td>\n",
              "      <td>0.000000</td>\n",
              "      <td>0.000000</td>\n",
              "      <td>0.053065</td>\n",
              "      <td>...</td>\n",
              "      <td>0.255713</td>\n",
              "      <td>0.383569</td>\n",
              "      <td>0.383569</td>\n",
              "      <td>0.383569</td>\n",
              "      <td>0.255713</td>\n",
              "      <td>0.000000</td>\n",
              "      <td>0.000000</td>\n",
              "      <td>0.000000</td>\n",
              "      <td>0.000000</td>\n",
              "      <td>0.000000</td>\n",
              "    </tr>\n",
              "    <tr>\n",
              "      <th>6</th>\n",
              "      <td>0.000000</td>\n",
              "      <td>0.000000</td>\n",
              "      <td>0.000000</td>\n",
              "      <td>0.000000</td>\n",
              "      <td>0.000000</td>\n",
              "      <td>0.000000</td>\n",
              "      <td>0.000000</td>\n",
              "      <td>0.000000</td>\n",
              "      <td>0.000000</td>\n",
              "      <td>0.053502</td>\n",
              "      <td>...</td>\n",
              "      <td>0.000000</td>\n",
              "      <td>0.000000</td>\n",
              "      <td>0.000000</td>\n",
              "      <td>0.000000</td>\n",
              "      <td>0.000000</td>\n",
              "      <td>0.386729</td>\n",
              "      <td>0.386729</td>\n",
              "      <td>0.386729</td>\n",
              "      <td>0.386729</td>\n",
              "      <td>0.000000</td>\n",
              "    </tr>\n",
              "    <tr>\n",
              "      <th>7</th>\n",
              "      <td>0.000000</td>\n",
              "      <td>0.000000</td>\n",
              "      <td>0.000000</td>\n",
              "      <td>0.000000</td>\n",
              "      <td>0.000000</td>\n",
              "      <td>0.000000</td>\n",
              "      <td>0.000000</td>\n",
              "      <td>0.000000</td>\n",
              "      <td>0.000000</td>\n",
              "      <td>0.000000</td>\n",
              "      <td>...</td>\n",
              "      <td>0.485071</td>\n",
              "      <td>0.000000</td>\n",
              "      <td>0.000000</td>\n",
              "      <td>0.000000</td>\n",
              "      <td>0.485071</td>\n",
              "      <td>0.000000</td>\n",
              "      <td>0.000000</td>\n",
              "      <td>0.000000</td>\n",
              "      <td>0.000000</td>\n",
              "      <td>0.727607</td>\n",
              "    </tr>\n",
              "  </tbody>\n",
              "</table>\n",
              "<p>8 rows × 68 columns</p>\n",
              "</div>\n",
              "    <div class=\"colab-df-buttons\">\n",
              "\n",
              "  <div class=\"colab-df-container\">\n",
              "    <button class=\"colab-df-convert\" onclick=\"convertToInteractive('df-2acb6284-7e39-44e1-a7dd-e350569c1fbc')\"\n",
              "            title=\"Convert this dataframe to an interactive table.\"\n",
              "            style=\"display:none;\">\n",
              "\n",
              "  <svg xmlns=\"http://www.w3.org/2000/svg\" height=\"24px\" viewBox=\"0 -960 960 960\">\n",
              "    <path d=\"M120-120v-720h720v720H120Zm60-500h600v-160H180v160Zm220 220h160v-160H400v160Zm0 220h160v-160H400v160ZM180-400h160v-160H180v160Zm440 0h160v-160H620v160ZM180-180h160v-160H180v160Zm440 0h160v-160H620v160Z\"/>\n",
              "  </svg>\n",
              "    </button>\n",
              "\n",
              "  <style>\n",
              "    .colab-df-container {\n",
              "      display:flex;\n",
              "      gap: 12px;\n",
              "    }\n",
              "\n",
              "    .colab-df-convert {\n",
              "      background-color: #E8F0FE;\n",
              "      border: none;\n",
              "      border-radius: 50%;\n",
              "      cursor: pointer;\n",
              "      display: none;\n",
              "      fill: #1967D2;\n",
              "      height: 32px;\n",
              "      padding: 0 0 0 0;\n",
              "      width: 32px;\n",
              "    }\n",
              "\n",
              "    .colab-df-convert:hover {\n",
              "      background-color: #E2EBFA;\n",
              "      box-shadow: 0px 1px 2px rgba(60, 64, 67, 0.3), 0px 1px 3px 1px rgba(60, 64, 67, 0.15);\n",
              "      fill: #174EA6;\n",
              "    }\n",
              "\n",
              "    .colab-df-buttons div {\n",
              "      margin-bottom: 4px;\n",
              "    }\n",
              "\n",
              "    [theme=dark] .colab-df-convert {\n",
              "      background-color: #3B4455;\n",
              "      fill: #D2E3FC;\n",
              "    }\n",
              "\n",
              "    [theme=dark] .colab-df-convert:hover {\n",
              "      background-color: #434B5C;\n",
              "      box-shadow: 0px 1px 3px 1px rgba(0, 0, 0, 0.15);\n",
              "      filter: drop-shadow(0px 1px 2px rgba(0, 0, 0, 0.3));\n",
              "      fill: #FFFFFF;\n",
              "    }\n",
              "  </style>\n",
              "\n",
              "    <script>\n",
              "      const buttonEl =\n",
              "        document.querySelector('#df-2acb6284-7e39-44e1-a7dd-e350569c1fbc button.colab-df-convert');\n",
              "      buttonEl.style.display =\n",
              "        google.colab.kernel.accessAllowed ? 'block' : 'none';\n",
              "\n",
              "      async function convertToInteractive(key) {\n",
              "        const element = document.querySelector('#df-2acb6284-7e39-44e1-a7dd-e350569c1fbc');\n",
              "        const dataTable =\n",
              "          await google.colab.kernel.invokeFunction('convertToInteractive',\n",
              "                                                    [key], {});\n",
              "        if (!dataTable) return;\n",
              "\n",
              "        const docLinkHtml = 'Like what you see? Visit the ' +\n",
              "          '<a target=\"_blank\" href=https://colab.research.google.com/notebooks/data_table.ipynb>data table notebook</a>'\n",
              "          + ' to learn more about interactive tables.';\n",
              "        element.innerHTML = '';\n",
              "        dataTable['output_type'] = 'display_data';\n",
              "        await google.colab.output.renderOutput(dataTable, element);\n",
              "        const docLink = document.createElement('div');\n",
              "        docLink.innerHTML = docLinkHtml;\n",
              "        element.appendChild(docLink);\n",
              "      }\n",
              "    </script>\n",
              "  </div>\n",
              "\n",
              "\n",
              "<div id=\"df-bbe44f70-5088-42c5-8607-deedcd6d916b\">\n",
              "  <button class=\"colab-df-quickchart\" onclick=\"quickchart('df-bbe44f70-5088-42c5-8607-deedcd6d916b')\"\n",
              "            title=\"Suggest charts.\"\n",
              "            style=\"display:none;\">\n",
              "\n",
              "<svg xmlns=\"http://www.w3.org/2000/svg\" height=\"24px\"viewBox=\"0 0 24 24\"\n",
              "     width=\"24px\">\n",
              "    <g>\n",
              "        <path d=\"M19 3H5c-1.1 0-2 .9-2 2v14c0 1.1.9 2 2 2h14c1.1 0 2-.9 2-2V5c0-1.1-.9-2-2-2zM9 17H7v-7h2v7zm4 0h-2V7h2v10zm4 0h-2v-4h2v4z\"/>\n",
              "    </g>\n",
              "</svg>\n",
              "  </button>\n",
              "\n",
              "<style>\n",
              "  .colab-df-quickchart {\n",
              "      --bg-color: #E8F0FE;\n",
              "      --fill-color: #1967D2;\n",
              "      --hover-bg-color: #E2EBFA;\n",
              "      --hover-fill-color: #174EA6;\n",
              "      --disabled-fill-color: #AAA;\n",
              "      --disabled-bg-color: #DDD;\n",
              "  }\n",
              "\n",
              "  [theme=dark] .colab-df-quickchart {\n",
              "      --bg-color: #3B4455;\n",
              "      --fill-color: #D2E3FC;\n",
              "      --hover-bg-color: #434B5C;\n",
              "      --hover-fill-color: #FFFFFF;\n",
              "      --disabled-bg-color: #3B4455;\n",
              "      --disabled-fill-color: #666;\n",
              "  }\n",
              "\n",
              "  .colab-df-quickchart {\n",
              "    background-color: var(--bg-color);\n",
              "    border: none;\n",
              "    border-radius: 50%;\n",
              "    cursor: pointer;\n",
              "    display: none;\n",
              "    fill: var(--fill-color);\n",
              "    height: 32px;\n",
              "    padding: 0;\n",
              "    width: 32px;\n",
              "  }\n",
              "\n",
              "  .colab-df-quickchart:hover {\n",
              "    background-color: var(--hover-bg-color);\n",
              "    box-shadow: 0 1px 2px rgba(60, 64, 67, 0.3), 0 1px 3px 1px rgba(60, 64, 67, 0.15);\n",
              "    fill: var(--button-hover-fill-color);\n",
              "  }\n",
              "\n",
              "  .colab-df-quickchart-complete:disabled,\n",
              "  .colab-df-quickchart-complete:disabled:hover {\n",
              "    background-color: var(--disabled-bg-color);\n",
              "    fill: var(--disabled-fill-color);\n",
              "    box-shadow: none;\n",
              "  }\n",
              "\n",
              "  .colab-df-spinner {\n",
              "    border: 2px solid var(--fill-color);\n",
              "    border-color: transparent;\n",
              "    border-bottom-color: var(--fill-color);\n",
              "    animation:\n",
              "      spin 1s steps(1) infinite;\n",
              "  }\n",
              "\n",
              "  @keyframes spin {\n",
              "    0% {\n",
              "      border-color: transparent;\n",
              "      border-bottom-color: var(--fill-color);\n",
              "      border-left-color: var(--fill-color);\n",
              "    }\n",
              "    20% {\n",
              "      border-color: transparent;\n",
              "      border-left-color: var(--fill-color);\n",
              "      border-top-color: var(--fill-color);\n",
              "    }\n",
              "    30% {\n",
              "      border-color: transparent;\n",
              "      border-left-color: var(--fill-color);\n",
              "      border-top-color: var(--fill-color);\n",
              "      border-right-color: var(--fill-color);\n",
              "    }\n",
              "    40% {\n",
              "      border-color: transparent;\n",
              "      border-right-color: var(--fill-color);\n",
              "      border-top-color: var(--fill-color);\n",
              "    }\n",
              "    60% {\n",
              "      border-color: transparent;\n",
              "      border-right-color: var(--fill-color);\n",
              "    }\n",
              "    80% {\n",
              "      border-color: transparent;\n",
              "      border-right-color: var(--fill-color);\n",
              "      border-bottom-color: var(--fill-color);\n",
              "    }\n",
              "    90% {\n",
              "      border-color: transparent;\n",
              "      border-bottom-color: var(--fill-color);\n",
              "    }\n",
              "  }\n",
              "</style>\n",
              "\n",
              "  <script>\n",
              "    async function quickchart(key) {\n",
              "      const quickchartButtonEl =\n",
              "        document.querySelector('#' + key + ' button');\n",
              "      quickchartButtonEl.disabled = true;  // To prevent multiple clicks.\n",
              "      quickchartButtonEl.classList.add('colab-df-spinner');\n",
              "      try {\n",
              "        const charts = await google.colab.kernel.invokeFunction(\n",
              "            'suggestCharts', [key], {});\n",
              "      } catch (error) {\n",
              "        console.error('Error during call to suggestCharts:', error);\n",
              "      }\n",
              "      quickchartButtonEl.classList.remove('colab-df-spinner');\n",
              "      quickchartButtonEl.classList.add('colab-df-quickchart-complete');\n",
              "    }\n",
              "    (() => {\n",
              "      let quickchartButtonEl =\n",
              "        document.querySelector('#df-bbe44f70-5088-42c5-8607-deedcd6d916b button');\n",
              "      quickchartButtonEl.style.display =\n",
              "        google.colab.kernel.accessAllowed ? 'block' : 'none';\n",
              "    })();\n",
              "  </script>\n",
              "</div>\n",
              "    </div>\n",
              "  </div>\n"
            ]
          },
          "metadata": {}
        }
      ]
    },
    {
      "cell_type": "code",
      "source": [
        "import pandas as pd\n",
        "import matplotlib.pyplot as plt\n",
        "import seaborn as sns\n",
        "\n",
        "# Your TF-IDF matrix stored in tfidf_df\n",
        "# Make sure tfidf_df is already defined as in your code\n",
        "\n",
        "# Transpose the TF-IDF matrix for the desired format\n",
        "tfidf_df = tfidf_df.transpose()\n",
        "\n",
        "# Plotting the heatmap\n",
        "plt.figure(figsize=(20, 12))\n",
        "sns.heatmap(tfidf_df, cmap='coolwarm', annot=True, fmt=\".2f\", cbar=False, linewidths=0.5)\n",
        "plt.title('TF-IDF Heatmap')\n",
        "plt.xlabel('Documents')\n",
        "plt.ylabel('Terms (Words)')\n",
        "plt.xticks(rotation=45)\n",
        "plt.show()"
      ],
      "metadata": {
        "colab": {
          "base_uri": "https://localhost:8080/",
          "height": 909
        },
        "id": "R2yrvz0z7mvH",
        "outputId": "8b36fed6-2951-4193-f193-02a19447c04b"
      },
      "execution_count": 18,
      "outputs": [
        {
          "output_type": "display_data",
          "data": {
            "text/plain": [
              "<Figure size 2000x1200 with 1 Axes>"
            ],
            "image/png": "[encoded data removed]"
          },
          "metadata": {}
        }
      ]
    },
    {
      "cell_type": "markdown",
      "source": [
        "### **`TfidfModel` from `Gensim` vs `TfidfVectorizer` from `sklearn`**\n",
        "\n",
        "\n",
        "**Input Data:**\n",
        "\n",
        "- **Gensim's** `TfidfModel`: Takes a bag-of-words corpus as input.\n",
        "- **sklearn's** `TfidfVectorizer`: Takes raw documents as input.\n",
        "\n",
        "**Normalization:**\n",
        "\n",
        "- Both use raw counts as term frequency (TF) and apply `L2` normalization.\n",
        "- sklearn's TfidfVectorizer allows custom normalization ('`L1`', '`L2`', or 'none').\n",
        "\n",
        "**Workflow:**\n",
        "\n",
        "- **Gensim's** `TfidfModel`: Requires creating a dictionary, converting to bag-of-words, and applying the model.\n",
        "- **sklearn's** `TfidfVectorizer`: Combines these steps in a single model (CountVectorizer + TfidfTransformer).\n",
        "\n",
        "**Output:**\n",
        "\n",
        "- **Gensim's** `TfidfModel`:: Outputs a gensim-format corpus (list of lists with word indices and TF-IDF values).\n",
        "- **sklearn's** `TfidfVectorizer`: Outputs a sparse matrix with TF-IDF values for words in documents.\n",
        "\n",
        "**Summary:**\n",
        "\n",
        "- Both libraries compute TF-IDF, differing in workflows, input, and output formats.\n",
        "- Choose based on specific needs and preferences.\n",
        "\n"
      ],
      "metadata": {
        "id": "ZHnm2PGP_7gK"
      }
    },
    {
      "cell_type": "markdown",
      "source": [
        "### **TF-idf using Sklearn**"
      ],
      "metadata": {
        "id": "3D0k3XGRB_Nt"
      }
    },
    {
      "cell_type": "code",
      "execution_count": 19,
      "metadata": {
        "id": "f5brY4cLLRQL",
        "colab": {
          "base_uri": "https://localhost:8080/"
        },
        "outputId": "af2e93fa-13cf-4ca0-b53f-c53a42b3dc5c"
      },
      "outputs": [
        {
          "output_type": "stream",
          "name": "stdout",
          "text": [
            "['natural language processing nlp field artificial intelligence focus interaction computer human natural language', 'ultimate goal nlp enable computer understand interpret generate human language way meaningful useful', 'nlp technique used wide range application including machine translation speech recognition sentiment analysis chatbots information retrieval', 'involves various task tokenization part speech tagging named entity recognition syntactic parsing', 'nltk popular python library nlp providing tool resource task like text processing text classification language modeling', 'offer wide range function datasets help get started nlp project', 'sample text demonstrate basic nlp task using nltk tokenization part speech tagging', 'let get started']\n",
            "\n",
            "\n",
            "Feature names (words) from the vectorizer: ['analysis' 'application' 'artificial' 'basic' 'chatbots' 'classification'\n",
            " 'computer' 'datasets' 'demonstrate' 'enable' 'entity' 'field' 'focus'\n",
            " 'function' 'generate' 'get' 'goal' 'help' 'human' 'including'\n",
            " 'information' 'intelligence' 'interaction' 'interpret' 'involves'\n",
            " 'language' 'let' 'library' 'like' 'machine' 'meaningful' 'modeling'\n",
            " 'named' 'natural' 'nlp' 'nltk' 'offer' 'parsing' 'part' 'popular'\n",
            " 'processing' 'project' 'providing' 'python' 'range' 'recognition'\n",
            " 'resource' 'retrieval' 'sample' 'sentiment' 'speech' 'started'\n",
            " 'syntactic' 'tagging' 'task' 'technique' 'text' 'tokenization' 'tool'\n",
            " 'translation' 'ultimate' 'understand' 'used' 'useful' 'using' 'various'\n",
            " 'way' 'wide'] \n",
            "\n",
            "   analysis  application  artificial     basic  chatbots  classification  \\\n",
            "0  0.000000     0.000000    0.272682  0.000000  0.000000        0.000000   \n",
            "1  0.000000     0.000000    0.000000  0.000000  0.000000        0.000000   \n",
            "2  0.268416     0.268416    0.000000  0.000000  0.268416        0.000000   \n",
            "3  0.000000     0.000000    0.000000  0.000000  0.000000        0.000000   \n",
            "4  0.000000     0.000000    0.000000  0.000000  0.000000        0.262523   \n",
            "5  0.000000     0.000000    0.000000  0.000000  0.000000        0.000000   \n",
            "6  0.000000     0.000000    0.000000  0.336954  0.000000        0.000000   \n",
            "7  0.000000     0.000000    0.000000  0.000000  0.000000        0.000000   \n",
            "\n",
            "   computer  datasets  demonstrate    enable  ...      tool  translation  \\\n",
            "0  0.228529  0.000000     0.000000  0.000000  ...  0.000000     0.000000   \n",
            "1  0.250676  0.000000     0.000000  0.299108  ...  0.000000     0.000000   \n",
            "2  0.000000  0.000000     0.000000  0.000000  ...  0.000000     0.268416   \n",
            "3  0.000000  0.000000     0.000000  0.000000  ...  0.000000     0.000000   \n",
            "4  0.000000  0.000000     0.000000  0.000000  ...  0.262523     0.000000   \n",
            "5  0.000000  0.352252     0.000000  0.000000  ...  0.000000     0.000000   \n",
            "6  0.000000  0.000000     0.336954  0.000000  ...  0.000000     0.000000   \n",
            "7  0.000000  0.000000     0.000000  0.000000  ...  0.000000     0.000000   \n",
            "\n",
            "   ultimate  understand      used    useful     using   various       way  \\\n",
            "0  0.000000    0.000000  0.000000  0.000000  0.000000  0.000000  0.000000   \n",
            "1  0.299108    0.299108  0.000000  0.299108  0.000000  0.000000  0.299108   \n",
            "2  0.000000    0.000000  0.268416  0.000000  0.000000  0.000000  0.000000   \n",
            "3  0.000000    0.000000  0.000000  0.000000  0.000000  0.318537  0.000000   \n",
            "4  0.000000    0.000000  0.000000  0.000000  0.000000  0.000000  0.000000   \n",
            "5  0.000000    0.000000  0.000000  0.000000  0.000000  0.000000  0.000000   \n",
            "6  0.000000    0.000000  0.000000  0.000000  0.336954  0.000000  0.000000   \n",
            "7  0.000000    0.000000  0.000000  0.000000  0.000000  0.000000  0.000000   \n",
            "\n",
            "       wide  \n",
            "0  0.000000  \n",
            "1  0.000000  \n",
            "2  0.224953  \n",
            "3  0.000000  \n",
            "4  0.000000  \n",
            "5  0.295215  \n",
            "6  0.000000  \n",
            "7  0.000000  \n",
            "\n",
            "[8 rows x 68 columns]\n"
          ]
        }
      ],
      "source": [
        "# Cleaning the texts\n",
        "import re\n",
        "from nltk.corpus import stopwords\n",
        "from nltk.stem.porter import PorterStemmer\n",
        "from nltk.stem import WordNetLemmatizer\n",
        "import nltk\n",
        "\n",
        "text = \"\"\"\n",
        "       Natural Language Processing (NLP) is a field of artificial intelligence that focuses\n",
        "       on the interaction between computers and humans through natural language. The ultimate\n",
        "       goal of NLP is to enable computers to understand, interpret, and generate human language\n",
        "       in a way that is both meaningful and useful. NLP techniques are used in a wide range of\n",
        "       applications, including machine translation, speech recognition, sentiment analysis,\n",
        "       chatbots, and information retrieval. It involves various tasks such as tokenization,\n",
        "       part-of-speech tagging, named entity recognition, and syntactic parsing. NLTK is a popular\n",
        "       Python library for NLP, providing tools and resources for tasks like text processing, text\n",
        "       classification, and language modeling. It offers a wide range of functions and datasets\n",
        "       to help you get started with NLP projects. In this sample text, we'll demonstrate some\n",
        "       basic NLP tasks using NLTK, such as tokenization and part-of-speech tagging.\n",
        "       Let's get started!\n",
        "      \"\"\"\n",
        "\n",
        "ps = PorterStemmer()\n",
        "wordnet = WordNetLemmatizer()\n",
        "sentences = nltk.sent_tokenize(text)\n",
        "\n",
        "corpus = []\n",
        "\n",
        "for i in range(len(sentences)):\n",
        "    cleaned_sentence = re.sub('[^a-zA-Z]', ' ', sentences[i]) # Removes all characters from sentences[i] that are not alphabetic characters and replaces them with spaces.\n",
        "    cleaned_sentence = cleaned_sentence.lower()\n",
        "    cleaned_sentence = cleaned_sentence.split()\n",
        "    cleaned_sentence = [wordnet.lemmatize(word) for word in cleaned_sentence if not word in set(stopwords.words('english'))]\n",
        "    cleaned_sentence = ' '.join(cleaned_sentence)\n",
        "    corpus.append(cleaned_sentence)\n",
        "\n",
        "print(corpus)\n",
        "print(\"\\n\")\n",
        "\n",
        "# Creating the TF-IDF model\n",
        "from sklearn.feature_extraction.text import TfidfVectorizer\n",
        "tfidf_vectorizer = TfidfVectorizer()\n",
        "tfidf_df = tfidf_vectorizer.fit_transform(corpus).toarray()\n",
        "\n",
        "# Get the feature names (words) from the vectorizer\n",
        "feature_names = tfidf_vectorizer.get_feature_names_out()\n",
        "print(\"Feature names (words) from the vectorizer:\", feature_names, \"\\n\")\n",
        "\n",
        "# Printing the TF-IDF matrix\n",
        "import pandas as pd\n",
        "\n",
        "# Creating a DataFrame to display the TF-IDF matrix\n",
        "tfidf_df = pd.DataFrame(tfidf_df, columns=tfidf_vectorizer.get_feature_names_out())\n",
        "\n",
        "# Displaying the TF-IDF matrix\n",
        "print(tfidf_df)"
      ]
    },
    {
      "cell_type": "markdown",
      "source": [
        "**heatmap**"
      ],
      "metadata": {
        "id": "_LDHH0lh35H_"
      }
    },
    {
      "cell_type": "code",
      "source": [
        "import pandas as pd\n",
        "import matplotlib.pyplot as plt\n",
        "import seaborn as sns\n",
        "\n",
        "# Your TF-IDF matrix stored in tfidf_df\n",
        "# Make sure tfidf_df is already defined as in your code\n",
        "\n",
        "# Plotting the heatmap\n",
        "plt.figure(figsize=(12, 6))\n",
        "sns.heatmap(tfidf_df, cmap='coolwarm')\n",
        "plt.title('TF-IDF Heatmap')\n",
        "plt.xlabel('Terms (Words)')\n",
        "plt.ylabel('Documents')\n",
        "plt.show()"
      ],
      "metadata": {
        "colab": {
          "base_uri": "https://localhost:8080/",
          "height": 639
        },
        "id": "iHUSTp_x2Z3w",
        "outputId": "6ad57f7b-8e0f-49d4-b296-69c184483f57"
      },
      "execution_count": 20,
      "outputs": [
        {
          "output_type": "display_data",
          "data": {
            "text/plain": [
              "<Figure size 1200x600 with 2 Axes>"
            ],
            "image/png": "[encoded data removed]"
          },
          "metadata": {}
        }
      ]
    },
    {
      "cell_type": "markdown",
      "source": [
        "---\n",
        "#### $\\color{skyblue}{\\textbf{Connect with me:}}$\n",
        "\n",
        "\n",
        "[<img align=\"left\" src=\"https://cdn4.iconfinder.com/data/icons/social-media-icons-the-circle-set/48/twitter_circle-512.png\" width=\"32px\"/>][twitter]\n",
        "[<img align=\"left\" src=\"https://cdn-icons-png.flaticon.com/512/145/145807.png\" width=\"32px\"/>][linkedin]\n",
        "[<img align=\"left\" src=\"https://cdn2.iconfinder.com/data/icons/whcompare-blue-green-web-hosting-1/425/cdn-512.png\" width=\"32px\"/>][Portfolio]\n",
        "\n",
        "[twitter]: https://twitter.com/F4izy\n",
        "[linkedin]: https://www.linkedin.com/in/mohd-faizy/\n",
        "[Portfolio]: https://mohdfaizy.com/\n"
      ],
      "metadata": {
        "id": "g4P8Tf4SG-L0"
      }
    }
  ],
  "metadata": {
    "kernelspec": {
      "display_name": "Python 3",
      "language": "python",
      "name": "python3"
    },
    "language_info": {
      "codemirror_mode": {
        "name": "ipython",
        "version": 3
      },
      "file_extension": ".py",
      "mimetype": "text/x-python",
      "name": "python",
      "nbconvert_exporter": "python",
      "pygments_lexer": "ipython3",
      "version": "3.7.6"
    },
    "colab": {
      "provenance": []
    }
  },
  "nbformat": 4,
  "nbformat_minor": 0
}