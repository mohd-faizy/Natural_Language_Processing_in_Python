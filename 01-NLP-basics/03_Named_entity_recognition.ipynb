{
  "cells": [
    {
      "cell_type": "markdown",
      "metadata": {
        "id": "TS3VUyUC6aij"
      },
      "source": [
        "---\n",
        "<h1 align='center'><strong>3️⃣Named-Entity Recognition</strong></h1>\n",
        "\n",
        "---\n"
      ]
    },
    {
      "cell_type": "code",
      "metadata": {
        "colab": {
          "base_uri": "https://localhost:8080/"
        },
        "id": "PoSpaoNj6WeF",
        "outputId": "c7623e40-c7b9-4d63-a250-c24fb8966a27"
      },
      "source": [
        "!git clone https://github.com/mohd-faizy/Natural_Language_Processing_in_Python.git"
      ],
      "execution_count": 1,
      "outputs": [
        {
          "output_type": "stream",
          "name": "stdout",
          "text": [
            "Cloning into 'Natural_Language_Processing_in_Python'...\n",
            "remote: Enumerating objects: 152, done.\u001b[K\n",
            "remote: Counting objects: 100% (36/36), done.\u001b[K\n",
            "remote: Compressing objects: 100% (28/28), done.\u001b[K\n",
            "remote: Total 152 (delta 16), reused 27 (delta 8), pack-reused 116\u001b[K\n",
            "Receiving objects: 100% (152/152), 32.91 MiB | 28.25 MiB/s, done.\n",
            "Resolving deltas: 100% (49/49), done.\n"
          ]
        }
      ]
    },
    {
      "cell_type": "code",
      "metadata": {
        "id": "Aw05dwIb9A9U"
      },
      "source": [
        "import pandas as pd\n",
        "import numpy as np\n",
        "import matplotlib.pyplot as plt\n",
        "import seaborn as sns\n",
        "import os\n",
        "\n",
        "# plt.style.use('fivethirtyeight')\n",
        "# plt.style.use('ggplot')\n",
        "# sns.set_theme()\n",
        "\n",
        "%matplotlib inline"
      ],
      "execution_count": 2,
      "outputs": []
    },
    {
      "cell_type": "code",
      "execution_count": 3,
      "metadata": {
        "id": "LZeI_v3_aDvw"
      },
      "outputs": [],
      "source": [
        "from pprint import pprint"
      ]
    },
    {
      "cell_type": "code",
      "source": [
        "import nltk\n",
        "\n",
        "# Download a specific NLTK dataset, e.g., the 'punkt' tokenizer models.\n",
        "nltk.download('punkt', quiet=True)\n",
        "\n",
        "# Download the NLTK stopwords dataset, which contains common stopwords for various languages.\n",
        "nltk.download('stopwords', quiet=True)\n",
        "\n",
        "# Download the WordNet lexical database, which is used for various NLP tasks like synonym and antonym lookup.\n",
        "nltk.download('wordnet', quiet=True)\n",
        "\n",
        "# Download the NLTK averaged perceptron tagger, which is used for part-of-speech tagging.\n",
        "nltk.download('averaged_perceptron_tagger', quiet=True)\n",
        "\n",
        "# Download the NLTK names dataset, which contains a list of common first names and last names.\n",
        "# nltk.download('names', quit=True)\n",
        "\n",
        "# Download the NLTK movie_reviews dataset, which contains movie reviews categorized as positive and negative.\n",
        "# nltk.download('movie_reviews', quit=True)\n",
        "\n",
        "# Download the NLTK reuters dataset, which is a collection of news documents categorized into topics.\n",
        "# nltk.download('reuters', quit=True)\n",
        "\n",
        "# Download the NLTK brown corpus, which is a collection of text from various genres of written American English.\n",
        "# nltk.download('brown', quit=True)\n",
        "\n",
        "# Download the 'maxent_ne_chunker' dataset, which is used for Named Entity Recognition.\n",
        "nltk.download('maxent_ne_chunker', quiet=True)\n",
        "\n",
        "# Download the 'words' dataset, which contains a list of common English words.\n",
        "nltk.download('words', quiet=True)"
      ],
      "metadata": {
        "id": "Wgf8tcBR4ic9",
        "colab": {
          "base_uri": "https://localhost:8080/"
        },
        "outputId": "60e807de-4e8b-4b9c-9ec5-8040991502d1"
      },
      "execution_count": 4,
      "outputs": [
        {
          "output_type": "execute_result",
          "data": {
            "text/plain": [
              "True"
            ]
          },
          "metadata": {},
          "execution_count": 4
        }
      ]
    },
    {
      "cell_type": "markdown",
      "metadata": {
        "id": "_zPJTMy7xIpr"
      },
      "source": [
        "> **Note:** Before using `NER` via `NLTK`, we must install '`averaged_perceptron_tagger`', '`maxent_ne_chunker`', '`words`' packages.👆"
      ]
    },
    {
      "cell_type": "code",
      "metadata": {
        "colab": {
          "base_uri": "https://localhost:8080/"
        },
        "id": "q_QJ6k0e9bI2",
        "outputId": "ed408412-40fc-42b3-f52d-c637e121d483"
      },
      "source": [
        "os.chdir('/content/Natural_Language_Processing_in_Python/01-NLP-basics/_datasets')\n",
        "cwd = os.getcwd()\n",
        "print('Curent working directory is ', cwd)"
      ],
      "execution_count": 5,
      "outputs": [
        {
          "output_type": "stream",
          "name": "stdout",
          "text": [
            "Curent working directory is  /content/Natural_Language_Processing_in_Python/01-NLP-basics/_datasets\n"
          ]
        }
      ]
    },
    {
      "cell_type": "code",
      "metadata": {
        "colab": {
          "base_uri": "https://localhost:8080/"
        },
        "id": "9H7VtZ_99qrY",
        "outputId": "e033a477-5e42-4a09-f73a-c984a493fac3"
      },
      "source": [
        "ls"
      ],
      "execution_count": 6,
      "outputs": [
        {
          "output_type": "stream",
          "name": "stdout",
          "text": [
            " articles.csv            grail.txt            \u001b[0m\u001b[01;34mwikipedia_articles\u001b[0m/\n",
            " english_stopwords.txt   \u001b[01;34mnews_articles\u001b[0m/      'Wikipedia articles.zip'\n",
            " fake_or_real_news.csv  'News articles.zip'\n"
          ]
        }
      ]
    },
    {
      "cell_type": "markdown",
      "source": [
        "## 📌**`POS-tags`**\n",
        "\n",
        "```python\n",
        "tag_mapping = {\n",
        "    'CC': 'Coordinating Conjunction',\n",
        "    'CD': 'Cardinal Number',\n",
        "    'DT': 'Determiner',\n",
        "    'EX': 'Existential There',\n",
        "    'FW': 'Foreign Word',\n",
        "    'IN': 'Preposition or Subordinating Conjunction',\n",
        "    'JJ': 'Adjective',\n",
        "    'JJR': 'Adjective, Comparative',\n",
        "    'JJS': 'Adjective, Superlative',\n",
        "    'LS': 'List Item Marker',\n",
        "    'MD': 'Modal',\n",
        "    'NN': 'Noun, Singular or Mass',\n",
        "    'NNS': 'Noun, Plural',\n",
        "    'NNP': 'Proper Noun, Singular',\n",
        "    'NNPS': 'Proper Noun, Plural',\n",
        "    'PDT': 'Predeterminer',\n",
        "    'POS': 'Possessive Ending',\n",
        "    'PRP': 'Personal Pronoun',\n",
        "    'PRP$': 'Possessive Pronoun',\n",
        "    'RB': 'Adverb',\n",
        "    'RBR': 'Adverb, Comparative',\n",
        "    'RBS': 'Adverb, Superlative',\n",
        "    'RP': 'Particle',\n",
        "    'SYM': 'Symbol',\n",
        "    'TO': 'to',\n",
        "    'UH': 'Interjection',\n",
        "    'VB': 'Verb, Base Form',\n",
        "    'VBD': 'Verb, Past Tense',\n",
        "    'VBG': 'Verb, Gerund or Present Participle',\n",
        "    'VBN': 'Verb, Past Participle',\n",
        "    'VBP': 'Verb, Non-3rd Person Singular Present',\n",
        "    'VBZ': 'Verb, 3rd Person Singular Present',\n",
        "    'WDT': 'Wh-Determiner',\n",
        "    'WP': 'Wh-Pronoun',\n",
        "    'WP$': 'Possessive Wh-Pronoun',\n",
        "    'WRB': 'Wh-Adverb'\n",
        "}\n",
        "```"
      ],
      "metadata": {
        "id": "9-IU8ZSMHX_k"
      }
    },
    {
      "cell_type": "markdown",
      "source": [
        "## 📌**NER Labels**\n",
        "\n",
        "- `PERSON`: Represents names of people or individuals, such as \"John Smith.\"\n",
        "\n",
        "- `ORGANIZATION`: Denotes names of organizations, companies, or institutions, such as \"Microsoft.\"\n",
        "\n",
        "- `LOCATION` or `GPE` (Geopolitical Entity): Identifies geographical locations, including countries, cities, states, and regions, such as \"New York City\" or \"France.\"\n",
        "\n",
        "- `DATE`: Refers to dates, including specific dates like \"January 1, 2020,\" as well as date ranges.\n",
        "\n",
        "- `TIME`: Represents specific times or time ranges, such as \"2:00 PM\" or \"morning.\"\n",
        "\n",
        "- `MONEY`: Denotes currency amounts and monetary values, such as \"$100\" or \"€500.\"\n",
        "\n",
        "- `PERCENT`: Identifies percentages, such as \"20%.\"\n",
        "\n",
        "- `ORDINAL`: Represents ordinal numbers, such as \"1st\" or \"second.\"\n",
        "\n",
        "- `CARDINAL`: Refers to cardinal numbers, including both integers and numerical values, such as \"three\" or \"3.\"\n",
        "\n",
        "- `MEASURE`: Represents measurements, units of measurement, or quantities, such as \"5 kilograms\" or \"10 meters.\"\n",
        "\n",
        "- `PRODUCT`: Denotes names of products or items, such as \"iPhone\" or \"Toyota Camry.\"\n",
        "\n",
        "- `EVENT`: Represents event names, conferences, or occurrences, such as \"World Cup\" or \"Election Day.\"\n",
        "\n",
        "- `WORK_OF_ART`: Identifies titles of books, movies, songs, or other creative works, such as \"Mona Lisa\" or \"Hamlet.\"\n",
        "\n",
        "- `LANGUAGE`: Represents names of languages, such as \"English\" or \"Spanish.\"\n",
        "\n",
        "- `LAW`: Denotes names of laws, regulations, or legal documents, such as \"The Constitution\" or \"Copyright Act.\"\n",
        "\n",
        "- `NORP` (Nationalities or Religious or Political Groups): Identifies nationalities, religious groups, or political affiliations, such as \"American\" or \"Christian.\"\n",
        "\n",
        "- `FACILITY`: Represents names of facilities or buildings, such as \"Eiffel Tower\" or \"Harvard University.\"\n",
        "\n",
        "- `MISC` (Miscellaneous): A catch-all category for named entities that don't fit into the other predefined categories.\n",
        "\n"
      ],
      "metadata": {
        "id": "Km5dVSZdyW8i"
      }
    },
    {
      "cell_type": "code",
      "source": [
        "# Import the necessary NLTK libraries\n",
        "import nltk\n",
        "from nltk.tokenize import word_tokenize\n",
        "from nltk.tag import pos_tag\n",
        "from nltk.chunk import ne_chunk\n",
        "\n",
        "# Download necessary NLTK data\n",
        "nltk.download('punkt', quiet=True)\n",
        "nltk.download('words', quiet=True)\n",
        "nltk.download('averaged_perceptron_tagger', quiet=True)\n",
        "nltk.download('maxent_ne_chunker', quiet=True)\n",
        "\n",
        "# Sample text for Named Entity Recognition (NER)\n",
        "# text = \"John and Mary went to the store. It's located in New York City.\"\n",
        "# text = \"The Eiffel Tower is a famous landmark in Paris, France. It was built in 1887.\"\n",
        "text = \"In year 1969, Neil Armstrong and Buzz Aldrin became the first humans to walk on the moon.\"\n",
        "\n",
        "# Tokenize the text\n",
        "words_tokens = word_tokenize(text)\n",
        "\n",
        "# Perform Part-of-Speech tagging\n",
        "pos_tags = pos_tag(words_tokens)\n",
        "\n",
        "# Initialize the Named Entity Recognition (NER) chunker\n",
        "chunker = ne_chunk(pos_tags)\n",
        "\n",
        "# Debug: Print the chunked tree structure\n",
        "print(chunker)"
      ],
      "metadata": {
        "colab": {
          "base_uri": "https://localhost:8080/"
        },
        "id": "0qENuDCmBdOL",
        "outputId": "97eb00a9-83a0-4659-a03a-a2c8315d648e"
      },
      "execution_count": 7,
      "outputs": [
        {
          "output_type": "stream",
          "name": "stdout",
          "text": [
            "(S\n",
            "  In/IN\n",
            "  year/NN\n",
            "  1969/CD\n",
            "  ,/,\n",
            "  (PERSON Neil/NNP Armstrong/NNP)\n",
            "  and/CC\n",
            "  (PERSON Buzz/NNP Aldrin/NNP)\n",
            "  became/VBD\n",
            "  the/DT\n",
            "  first/JJ\n",
            "  humans/NNS\n",
            "  to/TO\n",
            "  walk/VB\n",
            "  on/IN\n",
            "  the/DT\n",
            "  moon/NN\n",
            "  ./.)\n"
          ]
        }
      ]
    },
    {
      "cell_type": "markdown",
      "metadata": {
        "id": "MIUQDpa0xIpp"
      },
      "source": [
        "## **Named Entity Recognition**\n",
        "\n",
        "**NER** stands for **Named Entity Recognition** in Natural Language Processing (NLP). It's a technique that involves `identifying` and `classifying` entities or specific pieces of information in text, such as `names` of people, `organizations`, `locations`, `dates`, and more.\n",
        ">NER helps machines understand the context and extract valuable information from unstructured text, which is crucial for various NLP applications like **information retrieval**, **chatbots**, and **text analysis**.\n",
        "\n",
        "## Examples of NER\n",
        "\n",
        "Here are some examples of named entities:\n",
        "\n",
        "- **Person names**: `Barack Obama`, `Albert Einstein`, `Taylor Swift`\n",
        "- **Organizations**: `Google`, `Microsoft`, `United Nations`\n",
        "- **Locations**: `New York City`, `Paris`, `France`, `Mount Everest`\n",
        "- **Time expressions**: `August 4`, `2023`, `10:30 AM`\n",
        "- **Quantities**: `10 apple`, `500 dollars`, `10% discount`\n",
        "\n",
        "**NER** is a fundamental task in many NLP applications, such as:\n",
        "\n",
        "- **Information retrieval**\n",
        "- **Question answering**\n",
        "- **Machine translation**\n",
        "- **Text summarization.**\n",
        "\n",
        ">It can also be used to extract valuable insights from large volumes of unstructured data, such as social media posts, news articles, and financial reports.\n"
      ]
    },
    {
      "cell_type": "code",
      "source": [
        "# Import the necessary NLTK libraries\n",
        "import nltk\n",
        "from nltk.tokenize import word_tokenize\n",
        "from nltk.tag import pos_tag\n",
        "from nltk.chunk import ne_chunk\n",
        "\n",
        "# Define a sentence\n",
        "sentence = \"In New York, I like to ride the Metro to visit MOMA and some restaurants rated well by Ruth Reichl.\"\n",
        "\n",
        "# For NER\n",
        "# first preprocess the text via Tokenization\n",
        "tokenized_sent = word_tokenize(sentence)\n",
        "print(\"Tokenized Sentence: \",tokenized_sent[:3])\n",
        "\n",
        "# Second we tag the tokenized sentence for Part-of-Speech tagging\n",
        "# this will add tag for proper Noun, Pronouns, Adj, verbs etc.\n",
        "tagged_sent = pos_tag(tokenized_sent)\n",
        "print(\"Tagged Sentence: \",tagged_sent[:3])\n",
        "\n",
        "# Now passing the sentences into the name entity chunk function\n",
        "# This will return the function as tree\n",
        "print(ne_chunk(tagged_sent))"
      ],
      "metadata": {
        "colab": {
          "base_uri": "https://localhost:8080/"
        },
        "id": "PLsD5FNI1qxQ",
        "outputId": "bc3a9570-5d56-4a43-cec8-4c68fc59371d"
      },
      "execution_count": 8,
      "outputs": [
        {
          "output_type": "stream",
          "name": "stdout",
          "text": [
            "Tokenized Sentence:  ['In', 'New', 'York']\n",
            "Tagged Sentence:  [('In', 'IN'), ('New', 'NNP'), ('York', 'NNP')]\n",
            "(S\n",
            "  In/IN\n",
            "  (GPE New/NNP York/NNP)\n",
            "  ,/,\n",
            "  I/PRP\n",
            "  like/VBP\n",
            "  to/TO\n",
            "  ride/VB\n",
            "  the/DT\n",
            "  (ORGANIZATION Metro/NNP)\n",
            "  to/TO\n",
            "  visit/VB\n",
            "  (ORGANIZATION MOMA/NNP)\n",
            "  and/CC\n",
            "  some/DT\n",
            "  restaurants/NNS\n",
            "  rated/VBN\n",
            "  well/RB\n",
            "  by/IN\n",
            "  (PERSON Ruth/NNP Reichl/NNP)\n",
            "  ./.)\n"
          ]
        }
      ]
    },
    {
      "cell_type": "markdown",
      "metadata": {
        "id": "9IrURdFHxIpq"
      },
      "source": [
        "### NER with NLTK\n",
        "You're now going to have some fun with named-entity recognition! A scraped news article has been pre-loaded into your workspace. Your task is to use `nltk` to find the named entities in this article.\n",
        "\n",
        "What might the article be about, given the names you found?"
      ]
    },
    {
      "cell_type": "code",
      "execution_count": 9,
      "metadata": {
        "id": "p2pvzAhXxIpt",
        "colab": {
          "base_uri": "https://localhost:8080/"
        },
        "outputId": "3c945df9-8952-439a-bdd4-18b213d5d380"
      },
      "outputs": [
        {
          "output_type": "stream",
          "name": "stdout",
          "text": [
            "(NE Uber/NNP)\n",
            "(NE Beyond/NN)\n",
            "(NE Apple/NNP)\n",
            "(NE Uber/NNP)\n",
            "(NE Uber/NNP)\n",
            "(NE Travis/NNP Kalanick/NNP)\n",
            "(NE Tim/NNP Cook/NNP)\n",
            "(NE Apple/NNP)\n",
            "(NE Silicon/NNP Valley/NNP)\n",
            "(NE CEO/NNP)\n",
            "(NE Yahoo/NNP)\n",
            "(NE Marissa/NNP Mayer/NNP)\n"
          ]
        }
      ],
      "source": [
        "# Import the necessary NLTK libraries\n",
        "import nltk\n",
        "from nltk import ne_chunk_sents\n",
        "from nltk.tokenize import sent_tokenize, word_tokenize\n",
        "from nltk.tag import pos_tag\n",
        "\n",
        "url_uber = \"/content/Natural_Language_Processing_in_Python/01-NLP-basics/_datasets/news_articles/uber_apple.txt\"\n",
        "\n",
        "with open(url_uber, 'r') as file:\n",
        "    article = file.read()\n",
        "\n",
        "# Tokenize the article into sentences: sentences\n",
        "sentences = sent_tokenize(article)\n",
        "\n",
        "# Tokenize each sentence into words: token_sentences\n",
        "token_sentences = [word_tokenize(sent) for sent in sentences]\n",
        "\n",
        "# Tag each tokenized sentence into parts of speech: pos_sentences\n",
        "pos_sentences = [nltk.pos_tag(sent) for sent in token_sentences]\n",
        "\n",
        "# Create the named entity chunks: chunked_sentences\n",
        "chunked_sentences = ne_chunk_sents(pos_sentences, binary=True)\n",
        "\n",
        "# Test for stems of the tree with 'NE' tags\n",
        "# Loop over each sentence and each chunk, and test whether it is a named-entity\n",
        "# chunk by testing if it has the attribute label, and if the chunk.label() is\n",
        "# equal to \"NE\". If so, print that chunk.\n",
        "\n",
        "for sent in chunked_sentences:\n",
        "    for chunk in sent:\n",
        "        if hasattr(chunk, \"label\") and chunk.label() == 'NE': # hasattr used to check if an object has a specific attribute\n",
        "            print(chunk)"
      ]
    },
    {
      "cell_type": "markdown",
      "source": [
        "> `hasattr` **used to check if an object has a specific attribute.**"
      ],
      "metadata": {
        "id": "vpA735IxvbmE"
      }
    },
    {
      "cell_type": "code",
      "source": [
        "class Person:\n",
        "    def __init__(self, name, age):\n",
        "        self.name = name\n",
        "        self.age = age\n",
        "\n",
        "    def __str__(self):\n",
        "        return f\"Person(name='{self.name}', age={self.age})\"\n",
        "\n",
        "# Create an instance of the Person class\n",
        "person = Person(\"Alice\", 30)\n",
        "print(person)\n",
        "\n",
        "# Check if the 'name' attribute exists in the 'person' object\n",
        "if hasattr(person, 'name'):\n",
        "    print(f\"{person.name} exists in the 'person' object.\")\n",
        "else:\n",
        "    print(\"The 'name' attribute does not exist in the 'person' object.\")\n",
        "\n",
        "# Check if the 'email' attribute exists in the 'person' object\n",
        "if hasattr(person, 'email'):\n",
        "    print(\"The 'email' attribute exists in the 'person' object.\")\n",
        "else:\n",
        "    print(\"The 'email' attribute does not exist in the 'person' object.\")"
      ],
      "metadata": {
        "colab": {
          "base_uri": "https://localhost:8080/"
        },
        "id": "-xzbkrkOp6le",
        "outputId": "e40cee09-15dd-46cd-9bb4-03668288f1b3"
      },
      "execution_count": 10,
      "outputs": [
        {
          "output_type": "stream",
          "name": "stdout",
          "text": [
            "Person(name='Alice', age=30)\n",
            "Alice exists in the 'person' object.\n",
            "The 'email' attribute does not exist in the 'person' object.\n"
          ]
        }
      ]
    },
    {
      "cell_type": "markdown",
      "metadata": {
        "id": "GC00Wi_5xIpu"
      },
      "source": [
        "### **Charting**"
      ]
    },
    {
      "cell_type": "code",
      "execution_count": 11,
      "metadata": {
        "id": "dZchYQYLxIpu",
        "colab": {
          "base_uri": "https://localhost:8080/",
          "height": 753
        },
        "outputId": "fb2f387f-a6a2-4276-bad3-88d39383f2c9"
      },
      "outputs": [
        {
          "output_type": "stream",
          "name": "stdout",
          "text": [
            "GPE\n",
            "defaultdict(<class 'int'>, {'GPE': 1})\n",
            "PERSON\n",
            "defaultdict(<class 'int'>, {'GPE': 1, 'PERSON': 1})\n",
            "PERSON\n",
            "defaultdict(<class 'int'>, {'GPE': 1, 'PERSON': 2})\n",
            "PERSON\n",
            "defaultdict(<class 'int'>, {'GPE': 1, 'PERSON': 3})\n",
            "PERSON\n",
            "defaultdict(<class 'int'>, {'GPE': 1, 'PERSON': 4})\n",
            "PERSON\n",
            "defaultdict(<class 'int'>, {'GPE': 1, 'PERSON': 5})\n",
            "PERSON\n",
            "defaultdict(<class 'int'>, {'GPE': 1, 'PERSON': 6})\n",
            "ORGANIZATION\n",
            "defaultdict(<class 'int'>, {'GPE': 1, 'PERSON': 6, 'ORGANIZATION': 1})\n",
            "GPE\n",
            "defaultdict(<class 'int'>, {'GPE': 2, 'PERSON': 6, 'ORGANIZATION': 1})\n",
            "PERSON\n",
            "defaultdict(<class 'int'>, {'GPE': 2, 'PERSON': 7, 'ORGANIZATION': 1})\n"
          ]
        },
        {
          "output_type": "display_data",
          "data": {
            "text/plain": [
              "<Figure size 640x480 with 1 Axes>"
            ],
            "image/png": "[encoded data removed]"
          },
          "metadata": {}
        }
      ],
      "source": [
        "# Import necessary libraries\n",
        "from collections import defaultdict\n",
        "import nltk\n",
        "from nltk.chunk import ne_chunk_sents\n",
        "from nltk.tokenize import sent_tokenize, word_tokenize\n",
        "import matplotlib.pyplot as plt\n",
        "\n",
        "url_uber = \"/content/Natural_Language_Processing_in_Python/01-NLP-basics/_datasets/news_articles/uber_apple.txt\"\n",
        "\n",
        "with open(url_uber, 'r') as file:\n",
        "    article = file.read()\n",
        "\n",
        "# Tokenize the article into sentences: sentences\n",
        "sentences = sent_tokenize(article)\n",
        "token_sentences = [word_tokenize(sent) for sent in sentences]\n",
        "pos_sentences = [nltk.pos_tag(sent) for sent in token_sentences]\n",
        "chunked_sentences = ne_chunk_sents(pos_sentences, binary=False)\n",
        "\n",
        "# Create the defaultdict: ner_categories\n",
        "# A specialized dictionary that allows us to set a default value for any key\n",
        "ner_categories = defaultdict(int)\n",
        "\n",
        "# Create the nested for loop\n",
        "for sent in chunked_sentences:\n",
        "    for chunk in sent:\n",
        "        if hasattr(chunk, 'label'): # if the current `chunk` has a label attribute\n",
        "            print(chunk.label())\n",
        "            ner_categories[chunk.label()] += 1\n",
        "            print(ner_categories)\n",
        "\n",
        "# Create a list from the dictionary keys for the chart labels: labels\n",
        "labels = list(ner_categories.keys())\n",
        "\n",
        "# Create a list of the values: values\n",
        "values = [ner_categories.get(v) for v in labels]  # Corrected to ner_categories.get(v)\n",
        "\n",
        "# Create the pie chart\n",
        "plt.pie(values, labels=labels, autopct='%1.1f%%', startangle=140)\n",
        "\n",
        "# Display the chart\n",
        "plt.show()"
      ]
    },
    {
      "cell_type": "code",
      "source": [
        "import nltk\n",
        "from nltk import ne_chunk, pos_tag, word_tokenize\n",
        "import matplotlib.pyplot as plt\n",
        "\n",
        "# Read the text from a file\n",
        "with open(\"/content/Natural_Language_Processing_in_Python/01-NLP-basics/_datasets/news_articles/uber_apple.txt\", 'r') as file:\n",
        "    article = file.read()\n",
        "\n",
        "# NER >>>\n",
        "words = word_tokenize(article)\n",
        "pos_tags = pos_tag(words)\n",
        "chunked = ne_chunk(pos_tags)\n",
        "\n",
        "# Initialize a dictionary to store named entity categories and their counts\n",
        "ner_categories = {}\n",
        "\n",
        "# Iterate through the chunked data and count named entity categories\n",
        "for chunk in chunked:\n",
        "    if isinstance(chunk, nltk.Tree):\n",
        "        label = chunk.label()\n",
        "        ner_categories[label] = ner_categories.get(label, 0) + 1\n",
        "\n",
        "# Create the pie chart\n",
        "labels = list(ner_categories.keys())\n",
        "values = list(ner_categories.values())\n",
        "\n",
        "plt.pie(values, labels=labels, autopct='%1.1f%%', startangle=140)\n",
        "plt.show()"
      ],
      "metadata": {
        "colab": {
          "base_uri": "https://localhost:8080/",
          "height": 406
        },
        "id": "XrPQbg7Xp7AQ",
        "outputId": "57d80659-06d3-49ff-c6ff-072a71fc5431"
      },
      "execution_count": 12,
      "outputs": [
        {
          "output_type": "display_data",
          "data": {
            "text/plain": [
              "<Figure size 640x480 with 1 Axes>"
            ],
            "image/png": "[encoded data removed]"
          },
          "metadata": {}
        }
      ]
    },
    {
      "cell_type": "markdown",
      "source": [
        "`.label()` is a method used to retrieve the **label** associated with an object, typically used with objects generated by libraries or frameworks like **NLTK (Natural Language Toolkit)** when working with natural language processing tasks like named entity recognition (NER)."
      ],
      "metadata": {
        "id": "WLv5gBTUsNRT"
      }
    },
    {
      "cell_type": "markdown",
      "source": [
        "`print(sent)`\n",
        "```\n",
        "(S\n",
        "  ﻿The/JJ\n",
        "  taxi-hailing/JJ\n",
        "  company/NN\n",
        "  Uber/NNP\n",
        "  brings/VBZ\n",
        "  ...\n",
        "\n",
        "```\n",
        "\n",
        "`print(chunk)`\n",
        "\n",
        "```\n",
        "('\\ufeffThe', 'JJ')\n",
        "('taxi-hailing', 'JJ')\n",
        "('company', 'NN')\n",
        "```\n"
      ],
      "metadata": {
        "id": "RkAjYdsvkdSa"
      }
    },
    {
      "cell_type": "markdown",
      "metadata": {
        "id": "NziAGx05xIpv"
      },
      "source": [
        "## **Introduction to SpaCy**\n",
        "\n",
        "```bash\n",
        "!pip install spacy\n",
        "!python -m spacy download en_core_web_sm\n",
        "```\n",
        "\n",
        "> SpaCy is a popular open-source natural language processing (NLP) library known for its remarkable `speed`, `efficiency`, and `production-ready` capabilities. It equips developers and data scientists with a suite of tools to tackle a wide range of NLP tasks. Moreover, it offers pre-trained models that expedite the processing and analysis of textual data.\n",
        "\n",
        "$\\rightarrow$ `Tokenization`\n",
        "\n",
        "$\\rightarrow$ `Part-of-Speech Tagging (POS)`\n",
        "\n",
        "$\\rightarrow$ `Named Entity Recognition (NER)`\n",
        "\n",
        "$\\rightarrow$ `Dependency Parsing`\n",
        "\n",
        "$\\rightarrow$ `Lemmatization`\n",
        "\n",
        "$\\rightarrow$ `Stop Word Removal`\n",
        "\n",
        "$\\rightarrow$ `Word Vectors`\n",
        "\n",
        "$\\rightarrow$ `Text Classification`\n",
        "\n",
        "$\\rightarrow$ `Text Similarity`\n",
        "\n",
        "$\\rightarrow$ `Customization`\n",
        "\n",
        "$\\rightarrow$ `Efficiency`\n",
        "\n",
        "$\\rightarrow$ `Support for Multiple Languages`\n",
        "\n",
        "$\\rightarrow$ `Integration with Machine Leaming Pipelines`\n",
        "\n",
        "$\\rightarrow$ `Community and Documentation`\n",
        "\n",
        "$\\rightarrow$ `Named Entity Linking`\n",
        "\n",
        "- **SpaCy**\n",
        "    - SpaCy is an NLP library comparable to `NLTK` and `gensim`, but it boasts  different implementations.\n",
        "\n",
        "    - Its primary focus is on creating `NLP pipelines` to generate models and corpora efficiently.\n",
        "\n",
        "    - SpaCy is fully `open source`, offering additional libraries and tools to enhance its functionality. One such tool is `Displacy`.\n",
        "\n",
        "- **Why use SpaCy for NER?**\n",
        "    - `Easy pipeline creation`: SpaCy simplifies the creation of NLP pipelines, streamlining the development process.\n",
        "\n",
        "    - It provides a **broader range of entity types** compared to nltk, making it more `versatile` for `NER` tasks.\n",
        "\n",
        "    - SpaCy performs exceptionally well with informal language corpora, making it ideal for identifying entities in tweets, chat messages, and similar content."
      ]
    },
    {
      "cell_type": "markdown",
      "source": [
        "### **Tokenization**"
      ],
      "metadata": {
        "id": "kElfjXjf-TdL"
      }
    },
    {
      "cell_type": "code",
      "source": [
        "import spacy\n",
        "\n",
        "# Load the SpaCy English language model\n",
        "nlp = spacy.load(\"en_core_web_sm\")\n",
        "\n",
        "# Process a text\n",
        "text = \"SpaCy is a powerful NLP library.\"\n",
        "doc = nlp(text)\n",
        "\n",
        "# Print the tokens\n",
        "for token in doc:\n",
        "    print(token.text)"
      ],
      "metadata": {
        "colab": {
          "base_uri": "https://localhost:8080/"
        },
        "id": "8MsEv7ku-ZRZ",
        "outputId": "eccbda7f-adf1-4be7-94fe-45a848361021"
      },
      "execution_count": 13,
      "outputs": [
        {
          "output_type": "stream",
          "name": "stdout",
          "text": [
            "SpaCy\n",
            "is\n",
            "a\n",
            "powerful\n",
            "NLP\n",
            "library\n",
            ".\n"
          ]
        }
      ]
    },
    {
      "cell_type": "markdown",
      "source": [
        "### **Part-of-Speech Tagging (POS)**"
      ],
      "metadata": {
        "id": "EHJ4rLUe-g2o"
      }
    },
    {
      "cell_type": "code",
      "source": [
        "import spacy\n",
        "\n",
        "nlp = spacy.load(\"en_core_web_sm\")\n",
        "text = \"spaCy is an awsome NLP library\"\n",
        "doc = nlp(text)\n",
        "\n",
        "for token in doc:\n",
        "    print(token.text, token.pos_)"
      ],
      "metadata": {
        "colab": {
          "base_uri": "https://localhost:8080/"
        },
        "id": "s7fb_nT98Xec",
        "outputId": "7b7c8f16-a616-4fa0-bf9d-9bfc5c43a53e"
      },
      "execution_count": 14,
      "outputs": [
        {
          "output_type": "stream",
          "name": "stdout",
          "text": [
            "spaCy INTJ\n",
            "is AUX\n",
            "an DET\n",
            "awsome ADJ\n",
            "NLP NOUN\n",
            "library NOUN\n"
          ]
        }
      ]
    },
    {
      "cell_type": "markdown",
      "source": [
        "### **Named Entity Recognition (NER)**"
      ],
      "metadata": {
        "id": "9vFlvCowMbaF"
      }
    },
    {
      "cell_type": "code",
      "source": [
        "import spacy\n",
        "\n",
        "nlp = spacy.load(\"en_core_web_sm\")\n",
        "\n",
        "text = \"Apple Inc. was founded by Steve Jobs in Cupertino, California.\"\n",
        "\n",
        "doc = nlp(text)\n",
        "\n",
        "# Print entities and their labels\n",
        "for token in doc.ents:\n",
        "    print(token.text, token.label_)\n"
      ],
      "metadata": {
        "colab": {
          "base_uri": "https://localhost:8080/"
        },
        "id": "mp3fxTWRMeGV",
        "outputId": "22c213be-20a0-45e6-c5a6-504cce7382b8"
      },
      "execution_count": 15,
      "outputs": [
        {
          "output_type": "stream",
          "name": "stdout",
          "text": [
            "Apple Inc. ORG\n",
            "Steve Jobs PERSON\n",
            "Cupertino GPE\n",
            "California GPE\n"
          ]
        }
      ]
    },
    {
      "cell_type": "markdown",
      "source": [
        "### **Dependency Parsing**"
      ],
      "metadata": {
        "id": "865ve-3UMldg"
      }
    },
    {
      "cell_type": "code",
      "source": [
        "import spacy\n",
        "\n",
        "nlp = spacy.load(\"en_core_web_sm\")\n",
        "\n",
        "text = \"SpaCy is a powerful NLP library.\"\n",
        "doc = nlp(text)\n",
        "\n",
        "# Print token text and their dependency relationships\n",
        "for token in doc:\n",
        "    print(token.text, token.dep_, token.head.text)"
      ],
      "metadata": {
        "colab": {
          "base_uri": "https://localhost:8080/"
        },
        "id": "LYUkFBM0Mpzr",
        "outputId": "2a0817ca-d500-4b50-8031-f53251c924c3"
      },
      "execution_count": 16,
      "outputs": [
        {
          "output_type": "stream",
          "name": "stdout",
          "text": [
            "SpaCy nsubj is\n",
            "is ROOT is\n",
            "a det library\n",
            "powerful amod library\n",
            "NLP compound library\n",
            "library attr is\n",
            ". punct is\n"
          ]
        }
      ]
    },
    {
      "cell_type": "markdown",
      "source": [
        "###  **Lemmatization**"
      ],
      "metadata": {
        "id": "DpUtCbnqM35y"
      }
    },
    {
      "cell_type": "code",
      "source": [
        "import spacy\n",
        "\n",
        "nlp = spacy.load(\"en_core_web_sm\")\n",
        "\n",
        "text = \"Sheep are grazing in the field.\"\n",
        "doc = nlp(text)\n",
        "\n",
        "# Print token text and their lemmas\n",
        "for token in doc:\n",
        "    print(token.text, token.lemma_)\n"
      ],
      "metadata": {
        "colab": {
          "base_uri": "https://localhost:8080/"
        },
        "id": "pJ4MstKuM1ER",
        "outputId": "b2e5a052-07cb-4bae-f119-3af0ab6d6e99"
      },
      "execution_count": 17,
      "outputs": [
        {
          "output_type": "stream",
          "name": "stdout",
          "text": [
            "Sheep Sheep\n",
            "are be\n",
            "grazing graze\n",
            "in in\n",
            "the the\n",
            "field field\n",
            ". .\n"
          ]
        }
      ]
    },
    {
      "cell_type": "markdown",
      "source": [
        "### **Stop Word Removal**"
      ],
      "metadata": {
        "id": "Hx2_mtkaNA0h"
      }
    },
    {
      "cell_type": "code",
      "source": [
        "import spacy\n",
        "\n",
        "nlp = spacy.load(\"en_core_web_sm\")\n",
        "\n",
        "text = \"The quick brown fox jumps over the lazy dog.\"\n",
        "doc = nlp(text)\n",
        "\n",
        "# Print non-stop words\n",
        "for token in doc:\n",
        "    if not token.is_stop:\n",
        "        print(token.text)"
      ],
      "metadata": {
        "colab": {
          "base_uri": "https://localhost:8080/"
        },
        "id": "KPcWwe6ZNBT6",
        "outputId": "52993a29-7040-4176-a797-2fb12d8bf865"
      },
      "execution_count": 18,
      "outputs": [
        {
          "output_type": "stream",
          "name": "stdout",
          "text": [
            "quick\n",
            "brown\n",
            "fox\n",
            "jumps\n",
            "lazy\n",
            "dog\n",
            ".\n"
          ]
        }
      ]
    },
    {
      "cell_type": "markdown",
      "source": [
        "### **Named Entity Linking**"
      ],
      "metadata": {
        "id": "csz3AY0wRdHx"
      }
    },
    {
      "cell_type": "code",
      "source": [
        "import spacy\n",
        "\n",
        "nlp = spacy.load(\"en_core_web_sm\")\n",
        "\n",
        "text = \"Barack Obama was born in Hawaii.\"\n",
        "\n",
        "doc = nlp(text)\n",
        "\n",
        "# Print linked entities\n",
        "for ent in doc.ents:\n",
        "    print(ent.text, ent.label_, ent.kb_id_)"
      ],
      "metadata": {
        "colab": {
          "base_uri": "https://localhost:8080/"
        },
        "id": "HeXNs4RiL7e7",
        "outputId": "bd34e947-6b44-4694-f85e-03b06d47468a"
      },
      "execution_count": 19,
      "outputs": [
        {
          "output_type": "stream",
          "name": "stdout",
          "text": [
            "Barack Obama PERSON \n",
            "Hawaii GPE \n"
          ]
        }
      ]
    },
    {
      "cell_type": "code",
      "source": [
        "import spacy\n",
        "\n",
        "# Load the SpaCy English language model\n",
        "nlp = spacy.load(\"en_core_web_sm\")\n",
        "\n",
        "# Process a text\n",
        "text = \"SpaCy is a powerful NLP library.\"\n",
        "doc = nlp(text)\n",
        "\n",
        "# Create a list to store token attributes\n",
        "token_attributes = []\n",
        "\n",
        "# Iterate through tokens and collect attributes\n",
        "for token in doc:\n",
        "    attributes = {\n",
        "        \"Token text\": token.text,\n",
        "        \"POS tag\": token.pos_,\n",
        "        \"Lemma\": token.lemma_,\n",
        "        \"Is stop word\": token.is_stop,\n",
        "        \"Is punctuation\": token.is_punct,\n",
        "        \"Syntactic dependency\": token.dep_,\n",
        "        \"Named entity type\": token.ent_type_\n",
        "    }\n",
        "    token_attributes.append(attributes)\n",
        "\n",
        "# Print token attributes in a systematic way\n",
        "for index, attributes in enumerate(token_attributes, start=1):\n",
        "    print(f\"Token {index}:\")\n",
        "    for key, value in attributes.items():\n",
        "        print(f\"{key}: {value}\")\n",
        "    print()"
      ],
      "metadata": {
        "colab": {
          "base_uri": "https://localhost:8080/"
        },
        "id": "NiWRi3b4YPWW",
        "outputId": "9b99d7ba-8cd3-4d63-e571-1c9fdf860769"
      },
      "execution_count": 20,
      "outputs": [
        {
          "output_type": "stream",
          "name": "stdout",
          "text": [
            "Token 1:\n",
            "Token text: SpaCy\n",
            "POS tag: PROPN\n",
            "Lemma: SpaCy\n",
            "Is stop word: False\n",
            "Is punctuation: False\n",
            "Syntactic dependency: nsubj\n",
            "Named entity type: \n",
            "\n",
            "Token 2:\n",
            "Token text: is\n",
            "POS tag: AUX\n",
            "Lemma: be\n",
            "Is stop word: True\n",
            "Is punctuation: False\n",
            "Syntactic dependency: ROOT\n",
            "Named entity type: \n",
            "\n",
            "Token 3:\n",
            "Token text: a\n",
            "POS tag: DET\n",
            "Lemma: a\n",
            "Is stop word: True\n",
            "Is punctuation: False\n",
            "Syntactic dependency: det\n",
            "Named entity type: \n",
            "\n",
            "Token 4:\n",
            "Token text: powerful\n",
            "POS tag: ADJ\n",
            "Lemma: powerful\n",
            "Is stop word: False\n",
            "Is punctuation: False\n",
            "Syntactic dependency: amod\n",
            "Named entity type: \n",
            "\n",
            "Token 5:\n",
            "Token text: NLP\n",
            "POS tag: PROPN\n",
            "Lemma: NLP\n",
            "Is stop word: False\n",
            "Is punctuation: False\n",
            "Syntactic dependency: compound\n",
            "Named entity type: ORG\n",
            "\n",
            "Token 6:\n",
            "Token text: library\n",
            "POS tag: NOUN\n",
            "Lemma: library\n",
            "Is stop word: False\n",
            "Is punctuation: False\n",
            "Syntactic dependency: attr\n",
            "Named entity type: \n",
            "\n",
            "Token 7:\n",
            "Token text: .\n",
            "POS tag: PUNCT\n",
            "Lemma: .\n",
            "Is stop word: False\n",
            "Is punctuation: True\n",
            "Syntactic dependency: punct\n",
            "Named entity type: \n",
            "\n"
          ]
        }
      ]
    },
    {
      "cell_type": "markdown",
      "metadata": {
        "id": "K-yNy8Z2xIpv"
      },
      "source": [
        "### Comparing `NLTK` with `spaCy` `NER`\n",
        "\n",
        "\n",
        "Both `NLTK` and `spaCy` are popular Python libraries for Natural Language Processing (NLP) with capabilities for **Named Entity Recognition** (NER).\n",
        "\n",
        ">**NLTK** is more academic, highly customizable, and flexible, but slower. It’s popular among researchers and supports a wide range of languages.\n",
        "\n",
        ">On the other hand, **spaCy** is more like a service, providing fast and accurate syntactic analysis. It’s user-friendly, optimized for speed, and comes with pre-trained models for common NLP tasks.\n",
        "\n",
        "However, it supports fewer languages than **NLTK**. For **NER**, spaCy is simpler to use and more efficient, while **NLTK** requires additional steps for tokenization and stopword removal.\n",
        "\n"
      ]
    },
    {
      "cell_type": "code",
      "source": [
        "import nltk\n",
        "import spacy\n",
        "\n",
        "# Initialize NLTK's NER\n",
        "nltk.download('maxent_ne_chunker', quiet=True)\n",
        "nltk.download('words', quiet=True)\n",
        "from nltk import word_tokenize, pos_tag, ne_chunk\n",
        "\n",
        "# Initialize spaCy's NER\n",
        "nlp = spacy.load('en_core_web_sm')\n",
        "\n",
        "# Sample text\n",
        "text = \"Apple Inc. is a technology company based in Cupertino, California.\"\n",
        "\n",
        "# NLTK NER\n",
        "def nltk_ner(text):\n",
        "    tokens = word_tokenize(text)\n",
        "    tagged = pos_tag(tokens)\n",
        "    ner_result = ne_chunk(tagged)\n",
        "    return ner_result\n",
        "\n",
        "# spaCy NER\n",
        "def spacy_ner(text):\n",
        "    doc = nlp(text)\n",
        "    ner_result = [(ent.text, ent.label_) for ent in doc.ents]\n",
        "    return ner_result\n",
        "\n",
        "# Compare NLTK and spaCy NER results\n",
        "nltk_result = nltk_ner(text)\n",
        "spacy_result = spacy_ner(text)\n",
        "\n",
        "print(\"NLTK NER Result:\")\n",
        "print(nltk_result)\n",
        "print(\"-\"*100)\n",
        "print(\"\\nspaCy NER Result:\")\n",
        "print(spacy_result)"
      ],
      "metadata": {
        "colab": {
          "base_uri": "https://localhost:8080/"
        },
        "id": "vpD3-g4oVy_6",
        "outputId": "21040749-eab4-45e0-8f27-64303b64b6cf"
      },
      "execution_count": 21,
      "outputs": [
        {
          "output_type": "stream",
          "name": "stdout",
          "text": [
            "NLTK NER Result:\n",
            "(S\n",
            "  (PERSON Apple/NNP)\n",
            "  (ORGANIZATION Inc./NNP)\n",
            "  is/VBZ\n",
            "  a/DT\n",
            "  technology/NN\n",
            "  company/NN\n",
            "  based/VBN\n",
            "  in/IN\n",
            "  (GPE Cupertino/NNP)\n",
            "  ,/,\n",
            "  (GPE California/NNP)\n",
            "  ./.)\n",
            "----------------------------------------------------------------------------------------------------\n",
            "\n",
            "spaCy NER Result:\n",
            "[('Apple Inc.', 'ORG'), ('Cupertino', 'GPE'), ('California', 'GPE')]\n"
          ]
        }
      ]
    },
    {
      "cell_type": "markdown",
      "source": [
        "### **Which are the extra categories that spacy uses compared to nltk in its named-entity recognition?**\n",
        "\n",
        "spaCy's NER system recognizes the following categories of named entities by default:\n",
        "\n",
        "- `PERSON`: People, including fictional.\n",
        "- `NORP`: Nationalities or religious or political groups.\n",
        "- `FAC`: Buildings, airports, highways, bridges, etc.\n",
        "- `ORG`: Companies, agencies, institutions, etc.\n",
        "- `GPE`: Countries, cities, states, and other geographical entities.\n",
        "- `LOC`: Non-GPE locations, such as streets, mountains, and bodies of water.\n",
        "- `PRODUCT`: Products and services.\n",
        "- `EVENT`: Events, such as conferences, concerts, and sporting events.\n",
        "- `WORK_OF_ART`: Creative works, such as books, movies, and songs.\n",
        "- `LANGUAGE`: Languages.\n",
        "- `DATE`: Dates and times.\n",
        "- `MONEY`: Monetary amounts.\n",
        "- `QUANTITY`: Quantities, such as distances, weights, and volumes.\n",
        "\n",
        "NLTK's NER system recognizes the following categories of named entities by default:\n",
        "\n",
        "- `PERSON`: People, including fictional.\n",
        "- `LOCATION`: Geographical locations, such as countries, cities, and states.\n",
        "- `ORGANIZATION`: Organizations, such as companies, schools, and governments.\n",
        "- `DATE`: Dates and times.\n",
        "- `MONEY`: Monetary amounts.\n",
        "- `PERCENT`: Percentages.\n",
        "\n",
        "As you can see, spaCy's NER system recognizes a number of additional categories of named entities, including:\n",
        "\n",
        "- `NORP`: Nationalities or religious or political groups.\n",
        "- `FAC`: Buildings, airports, highways, bridges, etc.\n",
        "- `PRODUCT`: Products and services.\n",
        "- `EVENT`: Events, such as conferences, concerts, and sporting events.\n",
        "- `WORK_OF_ART`: Creative works, such as books, movies, and songs.\n",
        "- `LANGUAGE`: Languages.\n",
        "- `QUANTITY`: Quantities, such as distances, weights, and volumes.\n",
        "\n",
        "These additional categories of named entities can be useful for a variety of NLP tasks, such as question answering, information extraction, and text summarization."
      ],
      "metadata": {
        "id": "r1KKDJAYYtcX"
      }
    },
    {
      "cell_type": "markdown",
      "metadata": {
        "id": "c7OFvgKuxIpw"
      },
      "source": [
        "## **Multilingual NER with polyglot**\n",
        "\n",
        "- **Polyglot**\n",
        "    - NLP library which uses **word vectors** is** Open-source** NLP library for multilingual text processing.\n",
        "    - vectors for many different languages (more than `130`)\n",
        "    - Offers linguistic analysis and tools for various languages.\n",
        "    - Valuable for developers and researchers in multilingual NLP.\n",
        "\n",
        "- **Features**:\n",
        "\n",
        "- `Named Entity Recognition` (`NER`): Identifies entities (e.g., names, locations) in multiple languages.\n",
        "- `Part-of-Speech Tagging` (`POS`): Assigns word tags for grammatical analysis.\n",
        "- `Language Detection`: Automatically detects the language of input text.\n",
        "- `Word Embeddings`: Pre-trained word vectors for various languages.\n",
        "- `Text Tokenization`: Splits text into units (words, sentences).\n",
        "- `Sentiment Analysis`: Analyzes sentiment in different languages.\n",
        "- `Morphological Analysis`: Examines word structure and inflections.\n",
        "- `Text-to-Speech` (`TTS`): Converts text to spoken language (available in some versions)."
      ]
    },
    {
      "cell_type": "markdown",
      "metadata": {
        "id": "8zPtxFrSxIpw"
      },
      "source": [
        "### French NER with polyglot `I`\n",
        "\n",
        "In this exercise we are using `polyglot` library to identify French entities. The library functions slightly differently than `spacy`.\n",
        "\n",
        "> Note: Before using polyglot for specific language, we need to download appropriate language model. Also, it requires some dependencies."
      ]
    },
    {
      "cell_type": "code",
      "execution_count": 22,
      "metadata": {
        "id": "P1msvgHnxIpw",
        "outputId": "cfa35e26-750c-470d-e5b8-b8cea8cf7973",
        "colab": {
          "base_uri": "https://localhost:8080/"
        }
      },
      "outputs": [
        {
          "output_type": "stream",
          "name": "stdout",
          "text": [
            "\u001b[?25l     \u001b[90m━━━━━━━━━━━━━━━━━━━━━━━━━━━━━━━━━━━━━━━━\u001b[0m \u001b[32m0.0/257.9 kB\u001b[0m \u001b[31m?\u001b[0m eta \u001b[36m-:--:--\u001b[0m\r\u001b[2K     \u001b[91m━━━━━━\u001b[0m\u001b[90m╺\u001b[0m\u001b[90m━━━━━━━━━━━━━━━━━━━━━━━━━━━━━━━━━\u001b[0m \u001b[32m41.0/257.9 kB\u001b[0m \u001b[31m1.0 MB/s\u001b[0m eta \u001b[36m0:00:01\u001b[0m\r\u001b[2K     \u001b[91m━━━━━━━━━━━━━━━━━━━━━━━━━━━━━━━━━━━━━━\u001b[0m\u001b[91m╸\u001b[0m \u001b[32m256.0/257.9 kB\u001b[0m \u001b[31m4.1 MB/s\u001b[0m eta \u001b[36m0:00:01\u001b[0m\r\u001b[2K     \u001b[90m━━━━━━━━━━━━━━━━━━━━━━━━━━━━━━━━━━━━━━━\u001b[0m \u001b[32m257.9/257.9 kB\u001b[0m \u001b[31m3.4 MB/s\u001b[0m eta \u001b[36m0:00:00\u001b[0m\n",
            "\u001b[?25h  Installing build dependencies ... \u001b[?25l\u001b[?25hdone\n",
            "  Getting requirements to build wheel ... \u001b[?25l\u001b[?25hdone\n",
            "  Preparing metadata (pyproject.toml) ... \u001b[?25l\u001b[?25hdone\n",
            "  Building wheel for pyicu (pyproject.toml) ... \u001b[?25l\u001b[?25hdone\n",
            "\u001b[2K     \u001b[90m━━━━━━━━━━━━━━━━━━━━━━━━━━━━━━━━━━━━━━━━\u001b[0m \u001b[32m41.4/41.4 MB\u001b[0m \u001b[31m19.7 MB/s\u001b[0m eta \u001b[36m0:00:00\u001b[0m\n",
            "\u001b[?25h  Preparing metadata (setup.py) ... \u001b[?25l\u001b[?25hdone\n",
            "  Building wheel for pycld2 (setup.py) ... \u001b[?25l\u001b[?25hdone\n",
            "\u001b[2K     \u001b[90m━━━━━━━━━━━━━━━━━━━━━━━━━━━━━━━━━━━━━━━\u001b[0m \u001b[32m126.3/126.3 kB\u001b[0m \u001b[31m2.7 MB/s\u001b[0m eta \u001b[36m0:00:00\u001b[0m\n",
            "\u001b[?25h  Preparing metadata (setup.py) ... \u001b[?25l\u001b[?25hdone\n",
            "  Building wheel for polyglot (setup.py) ... \u001b[?25l\u001b[?25hdone\n"
          ]
        }
      ],
      "source": [
        "! pip install pyicu -q\n",
        "! pip install pycld2 -q\n",
        "! pip install Morfessor -q\n",
        "! pip install polyglot -q"
      ]
    },
    {
      "cell_type": "code",
      "source": [
        "# Import the necessary modules from Polyglot\n",
        "from polyglot.downloader import downloader\n",
        "from polyglot.text import Text\n",
        "\n",
        "# Download language resources (NER and embeddings) quietly\n",
        "downloader.download(\"ner2.fr\", quiet=True)\n",
        "downloader.download(\"embeddings2.fr\", quiet=True)\n",
        "\n",
        "# Define the URL to the French text file\n",
        "url = \"/content/Natural_Language_Processing_in_Python/01-NLP-basics/_datasets/news_articles/french.txt\"\n",
        "\n",
        "# Read the contents of the text file\n",
        "with open(url, 'r') as file:\n",
        "    article = file.read()\n",
        "\n",
        "# Create a Polyglot Text object for analysis\n",
        "txt = Text(article)\n",
        "\n",
        "# Print each named entity found in the text\n",
        "for ent in txt.entities:\n",
        "    print(ent)\n",
        "\n",
        "# Print the type of the last entity\n",
        "print(type(ent))"
      ],
      "metadata": {
        "colab": {
          "base_uri": "https://localhost:8080/"
        },
        "id": "w-TnvTwuVfFe",
        "outputId": "ed63a574-da02-4d86-ef18-c32c68771ddf"
      },
      "execution_count": 23,
      "outputs": [
        {
          "output_type": "stream",
          "name": "stdout",
          "text": [
            "['Charles', 'Cuvelliez']\n",
            "['Charles', 'Cuvelliez']\n",
            "['Bruxelles']\n",
            "['l’IA']\n",
            "['Julien', 'Maldonato']\n",
            "['Deloitte']\n",
            "['Ethiquement']\n",
            "['l’IA']\n",
            "['.']\n",
            "<class 'polyglot.text.Chunk'>\n"
          ]
        }
      ]
    },
    {
      "cell_type": "markdown",
      "metadata": {
        "id": "eyQGaRmpxIpx"
      },
      "source": [
        "### French NER with polyglot II\n",
        "\n",
        "Using a list comprehension to create a list of `tuples`, in which the **first** element is the `entity` tag, and the **second** `element` is the full string of the entity text."
      ]
    },
    {
      "cell_type": "code",
      "execution_count": 24,
      "metadata": {
        "id": "BS9QuzcHxIpx",
        "colab": {
          "base_uri": "https://localhost:8080/"
        },
        "outputId": "28c613a4-8d8e-4d52-c446-127049842043"
      },
      "outputs": [
        {
          "output_type": "stream",
          "name": "stdout",
          "text": [
            "[('I-PER', 'Charles Cuvelliez'),\n",
            " ('I-PER', 'Charles Cuvelliez'),\n",
            " ('I-ORG', 'Bruxelles'),\n",
            " ('I-PER', 'l’IA'),\n",
            " ('I-PER', 'Julien Maldonato'),\n",
            " ('I-ORG', 'Deloitte'),\n",
            " ('I-PER', 'Ethiquement'),\n",
            " ('I-LOC', 'l’IA'),\n",
            " ('I-PER', '.')]\n"
          ]
        }
      ],
      "source": [
        "# Create the list of tuples: entities\n",
        "entities = [(ent.tag, ' '.join(ent)) for ent in txt.entities]\n",
        "\n",
        "# Print entities\n",
        "pprint(entities)"
      ]
    },
    {
      "cell_type": "markdown",
      "metadata": {
        "id": "hSKHzSIIxIpx"
      },
      "source": [
        "### Spanish NER with polyglot\n",
        "You'll continue your exploration of `polyglot` now with some Spanish annotation. This article is not written by a newspaper, so it is your first example of a more blog-like text. How do you think that might compare when finding entities?\n",
        "\n",
        "Your specific task is to determine how many of the entities contain the words `\"Márquez\"` or `\"Gabo\"` - these refer to the same person in different ways!"
      ]
    },
    {
      "cell_type": "code",
      "execution_count": 25,
      "metadata": {
        "id": "ddTp-_TpxIpx",
        "colab": {
          "base_uri": "https://localhost:8080/"
        },
        "outputId": "bc780518-eddd-47c2-b39f-1476f837eb3e"
      },
      "outputs": [
        {
          "output_type": "stream",
          "name": "stdout",
          "text": [
            "28\n",
            "29.78723404255319\n"
          ]
        }
      ],
      "source": [
        "from polyglot.downloader import downloader\n",
        "\n",
        "downloader.download(\"ner2.es\", quiet=True)\n",
        "downloader.download(\"embeddings2.es\", quiet=True)\n",
        "\n",
        "url = \"/content/Natural_Language_Processing_in_Python/01-NLP-basics/_datasets/news_articles/spanish.txt\"\n",
        "with open(url, 'r') as file:\n",
        "    article = file.read()\n",
        "\n",
        "txt = Text(article)\n",
        "\n",
        "# Initialize the count variable: count\n",
        "count = 0\n",
        "\n",
        "# Iterate over all the entities\n",
        "for ent in txt.entities:\n",
        "    # check whether the entity contains 'Márquez' or 'Gabo'\n",
        "    if ('Márquez' in ent) or ('Gabo' in ent):\n",
        "        # Increment count\n",
        "        count += 1\n",
        "\n",
        "# Print count\n",
        "print(count)\n",
        "\n",
        "# Calculate the percentage of entities that refer to \"Gabo\": percentage\n",
        "percentage = count / len(txt.entities)\n",
        "print(percentage * 100)"
      ]
    }
  ],
  "metadata": {
    "kernelspec": {
      "display_name": "Python 3",
      "language": "python",
      "name": "python3"
    },
    "language_info": {
      "codemirror_mode": {
        "name": "ipython",
        "version": 3
      },
      "file_extension": ".py",
      "mimetype": "text/x-python",
      "name": "python",
      "nbconvert_exporter": "python",
      "pygments_lexer": "ipython3",
      "version": "3.7.6"
    },
    "colab": {
      "provenance": []
    }
  },
  "nbformat": 4,
  "nbformat_minor": 0
}