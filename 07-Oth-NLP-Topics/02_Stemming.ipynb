{
  "nbformat": 4,
  "nbformat_minor": 0,
  "metadata": {
    "colab": {
      "provenance": [],
      "toc_visible": true
    },
    "kernelspec": {
      "name": "python3",
      "display_name": "Python 3"
    },
    "language_info": {
      "name": "python"
    }
  },
  "cells": [
    {
      "cell_type": "markdown",
      "source": [
        "---\n",
        "<strong>\n",
        "    <h1 align='center'><strong>Stemming</strong></h1>\n",
        "</strong>\n",
        "\n",
        "---"
      ],
      "metadata": {
        "id": "Jo-w_SFd34l8"
      }
    },
    {
      "cell_type": "markdown",
      "source": [
        "**Stemming in NLP**\n",
        "\n",
        "In natural language processing (NLP), stemming is a text normalization technique used to reduce words to their base or root form. The purpose of stemming is to remove suffixes and prefixes from words so that different grammatical forms or derivations of a word are treated as the same word. This can help improve text analysis, information retrieval, and text-based machine learning tasks by reducing the dimensionality of the vocabulary.\n",
        "\n",
        "*Example*: Consider the words \"jumping,\" \"jumps,\" and \"jumped.\" When these words are stemmed, they are reduced to their common root form, which is \"jump.\" This allows NLP algorithms to treat all these variations of the word \"jump\" as the same word, simplifying text analysis.\n",
        "\n",
        "Stemming algorithms work by applying a set of rules or heuristics to trim prefixes and suffixes from words. Common stemming algorithms include:\n",
        "\n",
        "1. **Porter Stemmer**: The Porter stemming algorithm is one of the most widely used stemming algorithms. It applies a series of rules to remove suffixes from words, but it may not always produce a valid word root.\n",
        "\n",
        "2. **Snowball Stemmer**: This is an improved and more versatile version of the Porter stemmer. It offers stemmers for multiple languages and allows for more accurate stemming.\n",
        "\n",
        "3. **Lancaster Stemmer**: The Lancaster stemming algorithm is more aggressive than the Porter stemmer, often producing shorter stems, but it may also result in less recognizable word forms.\n",
        "\n",
        "\n",
        "Stemming is a useful preprocessing step in various NLP tasks, such as information retrieval, document classification, and text mining. However, it's important to note that stemming may not always produce valid words, and the stemmed forms might not be easily interpretable. For certain applications, such as sentiment analysis or language understanding, lemmatization (which returns valid dictionary words and considers word meanings) may be a more suitable alternative to stemming.\n"
      ],
      "metadata": {
        "id": "pdwOxtnPckBI"
      }
    },
    {
      "cell_type": "code",
      "source": [
        "from pprint import pprint"
      ],
      "metadata": {
        "id": "404NXQCY5Sb3"
      },
      "execution_count": null,
      "outputs": []
    },
    {
      "cell_type": "code",
      "source": [
        "import nltk\n",
        "from nltk.tokenize import word_tokenize, sent_tokenize\n",
        "\n",
        "# Download a specific NLTK dataset, e.g., the 'punkt' tokenizer models.\n",
        "nltk.download('punkt', quiet=True)\n",
        "\n",
        "# Download the NLTK stopwords dataset, which contains common stopwords for various languages.\n",
        "# nltk.download('stopwords', quiet=True)\n",
        "\n",
        "# Download the NLTK averaged perceptron tagger, which is used for part-of-speech tagging.\n",
        "# nltk.download('averaged_perceptron_tagger', quiet=True)\n",
        "\n",
        "# Download the WordNet lexical database, which is used for various NLP tasks like synonym and antonym lookup.\n",
        "# nltk.download('wordnet', quiet=True)\n",
        "\n",
        "# Download the NLTK names dataset, which contains a list of common first names and last names.\n",
        "# nltk.download('names', quiet=True)\n",
        "\n",
        "# Download the NLTK movie_reviews dataset, which contains movie reviews categorized as positive and negative.\n",
        "# nltk.download('movie_reviews', quiet=True)\n",
        "\n",
        "# Download the NLTK reuters dataset, which is a collection of news documents categorized into topics.\n",
        "# nltk.download('reuters', quiet=True)\n",
        "\n",
        "# Download the NLTK brown corpus, which is a collection of text from various genres of written American English.\n",
        "# nltk.download('brown', quiet=True)"
      ],
      "metadata": {
        "colab": {
          "base_uri": "https://localhost:8080/"
        },
        "id": "2kyvhhDZ4bkg",
        "outputId": "3bbb0d13-3f43-48da-c6a1-33568f2a1959"
      },
      "execution_count": null,
      "outputs": [
        {
          "output_type": "stream",
          "name": "stderr",
          "text": [
            "[nltk_data] Downloading package punkt to /root/nltk_data...\n",
            "[nltk_data]   Unzipping tokenizers/punkt.zip.\n",
            "[nltk_data] Downloading package stopwords to /root/nltk_data...\n",
            "[nltk_data]   Package stopwords is already up-to-date!\n"
          ]
        },
        {
          "output_type": "execute_result",
          "data": {
            "text/plain": [
              "True"
            ]
          },
          "metadata": {},
          "execution_count": 5
        }
      ]
    },
    {
      "cell_type": "code",
      "source": [
        "from nltk.stem import PorterStemmer\n",
        "from nltk.corpus import stopwords\n",
        "\n",
        "# Sample paragraph\n",
        "paragraph = \"\"\"Natural Language Processing (NLP) is a fascinating field with numerous applications.\n",
        "               It involves the interaction between computers and human language. NLP tasks include\n",
        "               text classification, sentiment analysis, and machine translation. In addition to common\n",
        "               stop words like 'the', 'and', and 'is', there are domain-specific stop words such as\n",
        "               'algorithm', 'linguistics', and 'corpus' that are often excluded from NLP analysis.\"\"\"\n",
        "\n",
        "# Tokenize the paragraph into sentences\n",
        "sentences = nltk.sent_tokenize(paragraph)\n",
        "\n",
        "# Initialize the Porter Stemmer\n",
        "stemmer = PorterStemmer()\n",
        "\n",
        "# Stemming and removing stopwords\n",
        "for i in range(len(sentences)):\n",
        "    words = nltk.word_tokenize(sentences[i])\n",
        "    words = [stemmer.stem(word) for word in words if word not in set(stopwords.words('english'))]\n",
        "    sentences[i] = ' '.join(words)\n",
        "\n",
        "# Print the preprocessed sentences\n",
        "for sentence in sentences:\n",
        "    print(sentence)"
      ],
      "metadata": {
        "colab": {
          "base_uri": "https://localhost:8080/"
        },
        "id": "4O1w8vzwHEdi",
        "outputId": "935e8d2a-4479-43ee-b699-a3fa08958086"
      },
      "execution_count": null,
      "outputs": [
        {
          "output_type": "stream",
          "name": "stdout",
          "text": [
            "natur languag process ( nlp ) fascin field numer applic .\n",
            "it involv interact comput human languag .\n",
            "nlp task includ text classif , sentiment analysi , machin translat .\n",
            "in addit common stop word like 'the ' , 'and ' , 'i ' , domain-specif stop word 'algorithm ' , 'linguist ' , 'corpu ' often exclud nlp analysi .\n"
          ]
        }
      ]
    },
    {
      "cell_type": "markdown",
      "source": [
        "$$\n",
        "\\begin{array}{|l|l|l|}\n",
        "\\hline\n",
        "\\text { Stemmer } & \\text { Use When } & \\text { Example } \\\\\n",
        "\\hline\n",
        "\\text { Porter Stemmer } &\n",
        "\\begin{array}{l}\n",
        "- \\text { Good balance between} \\\\\n",
        "\\text { aggressiveness and accuracy.} \\\\\n",
        "- \\text { Suitable for general-purpose} \\\\\n",
        "\\text { applications where over-stemming} \\\\\n",
        "\\text { is a concern.} \\\\\n",
        "- \\text { Provides less aggressive stemming} \\\\\n",
        "\\text { compared to others.}\n",
        "\\end{array}\n",
        "&\n",
        "\\begin{array}{l}\n",
        "\\text { \"Happily\" } \\rightarrow \\text { \"Happili\"} \\\\\n",
        "\\text { \"Running\" } \\rightarrow \\text { \"Run\"}\n",
        "\\end{array}\n",
        "\\\\\n",
        "\\hline\n",
        "\\text { Snowball Stemmer (Porter2) } &\n",
        "\\begin{array}{l}\n",
        "- \\text { Improved version of the Porter stemmer.} \\\\\n",
        "- \\text { Offers better stemming for} \\\\\n",
        "\\text { modern English words.} \\\\\n",
        "- \\text { Good choice for search engines,} \\\\\n",
        "\\text { information retrieval, and text} \\\\\n",
        "\\text { mining tasks.}\n",
        "\\end{array}\n",
        "&\n",
        "\\begin{array}{l}\n",
        "\\text { \"Happily\" } \\rightarrow \\text { \"Happili\"} \\\\\n",
        "\\text { \"Running\" } \\rightarrow \\text { \"Run\"}\n",
        "\\end{array}\n",
        "\\\\\n",
        "\\hline\n",
        "\\text { Lancaster Stemmer } &\n",
        "\\begin{array}{l}\n",
        "- \\text { Very aggressive stemming.} \\\\\n",
        "- \\text { Useful when you want to reduce} \\\\\n",
        "\\text { words to their most basic form,} \\\\\n",
        "\\text { even if the result is not a valid word.} \\\\\n",
        "- \\text { May produce very short stems,} \\\\\n",
        "\\text { which can be hard to interpret.}\n",
        "\\end{array}\n",
        "&\n",
        "\\begin{array}{l}\n",
        "\\text { \"Happily\" } \\rightarrow \\text { \"Happy\"} \\\\\n",
        "\\text { \"Running\" } \\rightarrow \\text { \"Run\"}\n",
        "\\end{array}\n",
        "\\\\\n",
        "\\hline\n",
        "\\end{array}\n",
        "$$\n"
      ],
      "metadata": {
        "id": "vUbVpXPLkFoB"
      }
    },
    {
      "cell_type": "code",
      "source": [
        "import nltk\n",
        "from nltk.stem import PorterStemmer, SnowballStemmer, LancasterStemmer\n",
        "\n",
        "# List of words\n",
        "words = ['algorithm', 'beautifully', 'flies', 'friendship', 'happening', 'happily', 'interaction', 'jumped', 'jumping', 'jumps', 'quickly', 'runner', 'running']\n",
        "\n",
        "# Initialize stemmers\n",
        "porter = PorterStemmer()\n",
        "snowball = SnowballStemmer('english')\n",
        "lancaster = LancasterStemmer()\n",
        "\n",
        "# Iterate through the list of words\n",
        "for word in words:\n",
        "    # Apply each stemmer and print the results\n",
        "    porter_stem = porter.stem(word)\n",
        "    snowball_stem = snowball.stem(word)\n",
        "    lancaster_stem = lancaster.stem(word)\n",
        "\n",
        "    print(f'Original: {word}')\n",
        "    print(f'Porter: {porter_stem}')\n",
        "    print(f'Snowball: {snowball_stem}')\n",
        "    print(f'Lancaster: {lancaster_stem}')\n",
        "    print()"
      ],
      "metadata": {
        "colab": {
          "base_uri": "https://localhost:8080/"
        },
        "id": "bMzxvCE9c0gX",
        "outputId": "643382eb-e488-477e-d944-eb850ab4d9fb"
      },
      "execution_count": null,
      "outputs": [
        {
          "output_type": "stream",
          "name": "stdout",
          "text": [
            "Original: algorithm\n",
            "Porter: algorithm\n",
            "Snowball: algorithm\n",
            "Lancaster: algorithm\n",
            "\n",
            "Original: beautifully\n",
            "Porter: beauti\n",
            "Snowball: beauti\n",
            "Lancaster: beauty\n",
            "\n",
            "Original: flies\n",
            "Porter: fli\n",
            "Snowball: fli\n",
            "Lancaster: fli\n",
            "\n",
            "Original: friendship\n",
            "Porter: friendship\n",
            "Snowball: friendship\n",
            "Lancaster: friend\n",
            "\n",
            "Original: happening\n",
            "Porter: happen\n",
            "Snowball: happen\n",
            "Lancaster: hap\n",
            "\n",
            "Original: happily\n",
            "Porter: happili\n",
            "Snowball: happili\n",
            "Lancaster: happy\n",
            "\n",
            "Original: interaction\n",
            "Porter: interact\n",
            "Snowball: interact\n",
            "Lancaster: interact\n",
            "\n",
            "Original: jumped\n",
            "Porter: jump\n",
            "Snowball: jump\n",
            "Lancaster: jump\n",
            "\n",
            "Original: jumping\n",
            "Porter: jump\n",
            "Snowball: jump\n",
            "Lancaster: jump\n",
            "\n",
            "Original: jumps\n",
            "Porter: jump\n",
            "Snowball: jump\n",
            "Lancaster: jump\n",
            "\n",
            "Original: quickly\n",
            "Porter: quickli\n",
            "Snowball: quick\n",
            "Lancaster: quick\n",
            "\n",
            "Original: runner\n",
            "Porter: runner\n",
            "Snowball: runner\n",
            "Lancaster: run\n",
            "\n",
            "Original: running\n",
            "Porter: run\n",
            "Snowball: run\n",
            "Lancaster: run\n",
            "\n"
          ]
        }
      ]
    }
  ]
}