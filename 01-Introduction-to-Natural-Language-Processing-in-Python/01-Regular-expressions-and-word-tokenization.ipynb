{
  "nbformat": 4,
  "nbformat_minor": 0,
  "metadata": {
    "kernelspec": {
      "display_name": "Python 3",
      "name": "python3"
    },
    "language_info": {
      "codemirror_mode": {
        "name": "ipython",
        "version": 3
      },
      "file_extension": ".py",
      "mimetype": "text/x-python",
      "name": "python",
      "nbconvert_exporter": "python",
      "pygments_lexer": "ipython3",
      "version": "3.7.6"
    },
    "colab": {
      "provenance": []
    }
  },
  "cells": [
    {
      "cell_type": "markdown",
      "metadata": {
        "id": "TS3VUyUC6aij"
      },
      "source": [
        "---\n",
        "<h1 align='center'><strong>1️⃣Regular expressions `regex` & word tokenization</strong></h1>\n",
        "\n",
        "---\n",
        "\n",
        "⭐👉[regexr ~ RegEx Playground](https://regexr.com/)\n",
        "\n",
        "\n",
        "\n",
        "\n"
      ]
    },
    {
      "cell_type": "markdown",
      "source": [
        "> This chapter will introduce some basic NLP concepts, such as word tokenization and regular expressions to help parse text. You'll also learn how to handle non-English text and more difficult tokenization you might find."
      ],
      "metadata": {
        "id": "qukJBRZSSShh"
      }
    },
    {
      "cell_type": "code",
      "metadata": {
        "colab": {
          "base_uri": "https://localhost:8080/"
        },
        "id": "PoSpaoNj6WeF",
        "outputId": "6324c2c8-755e-4264-89b9-af718d022f77"
      },
      "source": [
        "!git clone https://github.com/mohd-faizy/Natural_Language_Processing_in_Python.git"
      ],
      "execution_count": 1,
      "outputs": [
        {
          "output_type": "stream",
          "name": "stdout",
          "text": [
            "Cloning into 'Natural_Language_Processing_in_Python'...\n",
            "remote: Enumerating objects: 139, done.\u001b[K\n",
            "remote: Counting objects: 100% (23/23), done.\u001b[K\n",
            "remote: Compressing objects: 100% (18/18), done.\u001b[K\n",
            "remote: Total 139 (delta 9), reused 17 (delta 5), pack-reused 116\u001b[K\n",
            "Receiving objects: 100% (139/139), 32.77 MiB | 36.55 MiB/s, done.\n",
            "Resolving deltas: 100% (42/42), done.\n"
          ]
        }
      ]
    },
    {
      "cell_type": "code",
      "metadata": {
        "id": "Aw05dwIb9A9U"
      },
      "source": [
        "import pandas as pd\n",
        "import numpy as np\n",
        "import matplotlib.pyplot as plt\n",
        "import seaborn as sns\n",
        "import os\n",
        "\n",
        "# plt.style.use('fivethirtyeight')\n",
        "# plt.style.use('ggplot')\n",
        "# sns.set_theme()\n",
        "\n",
        "%matplotlib inline"
      ],
      "execution_count": 2,
      "outputs": []
    },
    {
      "cell_type": "code",
      "source": [
        "import nltk\n",
        "\n",
        "# Download a specific NLTK dataset, e.g., the 'punkt' tokenizer models.\n",
        "nltk.download('punkt', quiet=True)\n",
        "\n",
        "# Download the NLTK stopwords dataset, which contains common stopwords for various languages.\n",
        "nltk.download('stopwords', quiet=True)\n",
        "\n",
        "# Download the WordNet lexical database, which is used for various NLP tasks like synonym and antonym lookup.\n",
        "nltk.download('wordnet', quiet=True)\n",
        "\n",
        "# Download the NLTK averaged perceptron tagger, which is used for part-of-speech tagging.\n",
        "# nltk.download('averaged_perceptron_tagger', quiet=True)\n",
        "\n",
        "# Download the NLTK names dataset, which contains a list of common first names and last names.\n",
        "# nltk.download('names', quit=True)\n",
        "\n",
        "# Download the NLTK movie_reviews dataset, which contains movie reviews categorized as positive and negative.\n",
        "# nltk.download('movie_reviews', quit=True)\n",
        "\n",
        "# Download the NLTK reuters dataset, which is a collection of news documents categorized into topics.\n",
        "# nltk.download('reuters', quit=True)\n",
        "\n",
        "# Download the NLTK brown corpus, which is a collection of text from various genres of written American English.\n",
        "# nltk.download('brown', quit=True)\n",
        "\n",
        "# Download the 'maxent_ne_chunker' dataset, which is used for Named Entity Recognition.\n",
        "# nltk.download('maxent_ne_chunker', quiet=True)\n",
        "\n",
        "# Download the 'words' dataset, which contains a list of common English words.\n",
        "# nltk.download('words', quiet=True)"
      ],
      "metadata": {
        "colab": {
          "base_uri": "https://localhost:8080/"
        },
        "id": "8FKR6ixg43M5",
        "outputId": "91eaac5c-857c-479d-81eb-fd1ab8a840a5"
      },
      "execution_count": 3,
      "outputs": [
        {
          "output_type": "execute_result",
          "data": {
            "text/plain": [
              "True"
            ]
          },
          "metadata": {},
          "execution_count": 3
        }
      ]
    },
    {
      "cell_type": "code",
      "metadata": {
        "id": "n_R39E-HQSzJ"
      },
      "source": [
        "import re\n",
        "from pprint import pprint # Used to print data structures in a \"pretty\" way"
      ],
      "execution_count": 4,
      "outputs": []
    },
    {
      "cell_type": "code",
      "metadata": {
        "colab": {
          "base_uri": "https://localhost:8080/"
        },
        "id": "q_QJ6k0e9bI2",
        "outputId": "4d72738d-1199-4389-a4d7-d079da3f04ad"
      },
      "source": [
        "os.chdir('/content/Natural_Language_Processing_in_Python/01-Introduction-to-Natural-Language-Processing-in-Python/_datasets')\n",
        "cwd = os.getcwd()\n",
        "print('Curent working directory is ', cwd)"
      ],
      "execution_count": 5,
      "outputs": [
        {
          "output_type": "stream",
          "name": "stdout",
          "text": [
            "Curent working directory is  /content/Natural_Language_Processing_in_Python/01-Introduction-to-Natural-Language-Processing-in-Python/_datasets\n"
          ]
        }
      ]
    },
    {
      "cell_type": "code",
      "metadata": {
        "colab": {
          "base_uri": "https://localhost:8080/"
        },
        "id": "9H7VtZ_99qrY",
        "outputId": "3c5ec725-8ba9-423f-90c6-1e34c9859818"
      },
      "source": [
        "ls"
      ],
      "execution_count": 6,
      "outputs": [
        {
          "output_type": "stream",
          "name": "stdout",
          "text": [
            " articles.csv            grail.txt            \u001b[0m\u001b[01;34mwikipedia_articles\u001b[0m/\n",
            " english_stopwords.txt   \u001b[01;34mnews_articles\u001b[0m/      'Wikipedia articles.zip'\n",
            " fake_or_real_news.csv  'News articles.zip'\n"
          ]
        }
      ]
    },
    {
      "cell_type": "code",
      "source": [
        "# Import the pprint function from the pprint module\n",
        "from pprint import pprint\n",
        "\n",
        "# Define a complex nested dictionary\n",
        "data = {\n",
        "    'name': 'John',\n",
        "    'age': 30,\n",
        "    'address': {\n",
        "        'street': '123 Main St',\n",
        "        'city': 'Exampleville',\n",
        "        'zipcode': '12345'\n",
        "    },\n",
        "\n",
        "}\n",
        "\n",
        "# Use pprint to print the dictionary in a nicely formatted way\n",
        "pprint(data)\n",
        "print('-' * 100)\n",
        "print(data)"
      ],
      "metadata": {
        "colab": {
          "base_uri": "https://localhost:8080/"
        },
        "id": "_B0PO63j1-Iw",
        "outputId": "725edeee-2cb8-44ed-d950-76abd4152ba6"
      },
      "execution_count": 7,
      "outputs": [
        {
          "output_type": "stream",
          "name": "stdout",
          "text": [
            "{'address': {'city': 'Exampleville',\n",
            "             'street': '123 Main St',\n",
            "             'zipcode': '12345'},\n",
            " 'age': 30,\n",
            " 'name': 'John'}\n",
            "----------------------------------------------------------------------------------------------------\n",
            "{'name': 'John', 'age': 30, 'address': {'street': '123 Main St', 'city': 'Exampleville', 'zipcode': '12345'}}\n"
          ]
        }
      ]
    },
    {
      "cell_type": "markdown",
      "metadata": {
        "id": "9AtId6x5QSzK"
      },
      "source": [
        "# **Introduction to regular expressions**\n",
        "\n",
        "\n",
        "\n",
        "\n",
        "\n"
      ]
    },
    {
      "cell_type": "markdown",
      "source": [
        "## Characters"
      ],
      "metadata": {
        "id": "sIaRgsgxLXvj"
      }
    },
    {
      "cell_type": "markdown",
      "metadata": {
        "id": "b0QKGqxrEFHP"
      },
      "source": [
        "#### Metacharacters\n",
        "\n",
        "<p align='center'>\n",
        "\t<a href='#'><img src='https://github.com/mohd-faizy/Natural_Language_Processing_in_Python/blob/main/01-Introduction-to-Natural-Language-Processing-in-Python/_img/Metacharacters.png?raw=true'>\n",
        "    </a>\n",
        "</p>"
      ]
    },
    {
      "cell_type": "markdown",
      "metadata": {
        "id": "_Ov3_nIqEnDX"
      },
      "source": [
        "#### Special Sequences\n",
        "\n",
        "A special sequence is a __`\\`__ followed by one of the characters in the list below, and has a special meaning:\n",
        "\n",
        "<p align='center'>\n",
        "\t<a href='#'><img src='https://github.com/mohd-faizy/Natural_Language_Processing_in_Python/blob/main/01-Introduction-to-Natural-Language-Processing-in-Python/_img/Special%20Sequences.png?raw=true'>\n",
        "    </a>\n",
        "</p>"
      ]
    },
    {
      "cell_type": "markdown",
      "metadata": {
        "id": "iTMIGhOhE7GY"
      },
      "source": [
        "#### Sets\n",
        "\n",
        "<p align='center'>\n",
        "\t<a href='#'><img src='https://github.com/mohd-faizy/Natural_Language_Processing_in_Python/blob/main/01-Introduction-to-Natural-Language-Processing-in-Python/_img/Set.png?raw=true'>\n",
        "    </a>\n",
        "</p>"
      ]
    },
    {
      "cell_type": "markdown",
      "source": [
        "### **Common `regex` Pattern**\n",
        "\n",
        "$$\n",
        "\\begin{array}{|l|l|l|}\n",
        "\\hline \\text { pattern } & \\text { matches } & \\text { example } \\\\\n",
        "\\hline \\text { \\w+ } & \\text { word } & \\text { 'Magic' } \\\\\n",
        "\\hline \\text { \\d } & \\text { digit } & 9 \\\\\n",
        "\\hline \\text { \\s } & \\text { space } & \\text { ' ' } \\\\\n",
        "\\hline \\text {.*} & \\text { wildcard } & \\text { 'username74' } \\\\\n",
        "\\hline \\text { + or }^{*} & \\text { greedy match } & \\text { 'aaaaaa' } \\\\\n",
        "\\hline \\text { \\S } & \\text { not space } & \\text { 'no_spaces' } \\\\\n",
        "\\hline \\text { [a-z] } & \\text { lowercase group } & \\text { 'abcdefg' } \\\\\n",
        "\\hline\n",
        "\\end{array}\n",
        "$$\n",
        "\n",
        "\n"
      ],
      "metadata": {
        "id": "pjXYJ0lKlqdX"
      }
    },
    {
      "cell_type": "code",
      "source": [
        "import re\n",
        "\n",
        "text = \"The magic number is 42.\"\n",
        "\n",
        "matche1 = re.findall(r'\\w', text)\n",
        "matche2 = re.findall(r'\\w+', text)\n",
        "\n",
        "print(matche1)\n",
        "print(matche2)"
      ],
      "metadata": {
        "colab": {
          "base_uri": "https://localhost:8080/"
        },
        "id": "0zwdvoovnNzm",
        "outputId": "a1e1bccd-a131-463d-d91f-2123dba1c1b4"
      },
      "execution_count": 8,
      "outputs": [
        {
          "output_type": "stream",
          "name": "stdout",
          "text": [
            "['T', 'h', 'e', 'm', 'a', 'g', 'i', 'c', 'n', 'u', 'm', 'b', 'e', 'r', 'i', 's', '4', '2']\n",
            "['The', 'magic', 'number', 'is', '42']\n"
          ]
        }
      ]
    },
    {
      "cell_type": "code",
      "source": [
        "import re\n",
        "\n",
        "text = \"The answer is 42.\"\n",
        "matches = re.findall(r'\\d+', text)\n",
        "print(matches)"
      ],
      "metadata": {
        "colab": {
          "base_uri": "https://localhost:8080/"
        },
        "id": "u99aJT0qnPuG",
        "outputId": "88916236-8464-4ffd-8347-6021ba5929ef"
      },
      "execution_count": 9,
      "outputs": [
        {
          "output_type": "stream",
          "name": "stdout",
          "text": [
            "['42']\n"
          ]
        }
      ]
    },
    {
      "cell_type": "code",
      "source": [
        "import re\n",
        "\n",
        "text = \"This is a sentence.\"\n",
        "matches = re.findall(r'\\s', text)\n",
        "print(matches)"
      ],
      "metadata": {
        "colab": {
          "base_uri": "https://localhost:8080/"
        },
        "id": "RdeEqbRonU-V",
        "outputId": "a0b783c5-0b51-4cfa-d10e-c68ddbbbf56a"
      },
      "execution_count": 10,
      "outputs": [
        {
          "output_type": "stream",
          "name": "stdout",
          "text": [
            "[' ', ' ', ' ']\n"
          ]
        }
      ]
    },
    {
      "cell_type": "code",
      "source": [
        "import re\n",
        "\n",
        "text = \"My username is username74.\"\n",
        "matches = re.findall(r'.*', text)\n",
        "print(matches)"
      ],
      "metadata": {
        "colab": {
          "base_uri": "https://localhost:8080/"
        },
        "id": "M4LnSoGinZE4",
        "outputId": "b17f2ef8-0fdc-45de-b35e-c1c3e3695d76"
      },
      "execution_count": 11,
      "outputs": [
        {
          "output_type": "stream",
          "name": "stdout",
          "text": [
            "['My username is username74.', '']\n"
          ]
        }
      ]
    },
    {
      "cell_type": "code",
      "source": [
        "import re\n",
        "\n",
        "text = \"aaaaaa\"\n",
        "matche1 = re.findall(r'a+', text)\n",
        "matche2 = re.findall(r'a*', text)\n",
        "\n",
        "print(matche1)\n",
        "print(matche2)"
      ],
      "metadata": {
        "colab": {
          "base_uri": "https://localhost:8080/"
        },
        "id": "w7zK2wUUndg8",
        "outputId": "900c7c29-aa46-4154-b609-f43fb1c6599d"
      },
      "execution_count": 12,
      "outputs": [
        {
          "output_type": "stream",
          "name": "stdout",
          "text": [
            "['aaaaaa']\n",
            "['aaaaaa', '']\n"
          ]
        }
      ]
    },
    {
      "cell_type": "code",
      "source": [
        "import re\n",
        "\n",
        "text = \"This has no_spaces.\"\n",
        "\n",
        "matche1 = re.findall(r'\\s+', text)\n",
        "matche2 = re.findall(r'\\S+', text)\n",
        "\n",
        "print(matche1)\n",
        "print(matche2)"
      ],
      "metadata": {
        "colab": {
          "base_uri": "https://localhost:8080/"
        },
        "id": "0P0Hu9qrnhIf",
        "outputId": "0230c7e7-f1ba-41c2-8488-a63da20b542b"
      },
      "execution_count": 13,
      "outputs": [
        {
          "output_type": "stream",
          "name": "stdout",
          "text": [
            "[' ', ' ']\n",
            "['This', 'has', 'no_spaces.']\n"
          ]
        }
      ]
    },
    {
      "cell_type": "code",
      "source": [
        "import re\n",
        "\n",
        "text = \"Some Lowercase leTTers: abcdefg\"\n",
        "\n",
        "matche1 = re.findall(r'[a-z]+', text)\n",
        "matche2 = re.findall(r'[A-Za-z]+', text)\n",
        "\n",
        "print(matche1)\n",
        "print(matche2)"
      ],
      "metadata": {
        "colab": {
          "base_uri": "https://localhost:8080/"
        },
        "id": "nST9VRv9nj_Q",
        "outputId": "2e1b0ea2-482c-4c6f-ed8f-401144f79a4b"
      },
      "execution_count": 14,
      "outputs": [
        {
          "output_type": "stream",
          "name": "stdout",
          "text": [
            "['ome', 'owercase', 'le', 'ers', 'abcdefg']\n",
            "['Some', 'Lowercase', 'leTTers', 'abcdefg']\n"
          ]
        }
      ]
    },
    {
      "cell_type": "markdown",
      "source": [
        "### **Regular vs Raw string?**\n",
        "\n",
        "In Python, prefixing a string with `r` (e.g., `r\"some_string\"`) creates a \"raw string.\" Raw strings treat backslashes `(\\)` as literal characters and don't interpret them as escape sequences, making them useful for working with regular expressions, file paths, and other cases where backslashes are common and should be treated as-it-is."
      ],
      "metadata": {
        "id": "OgnKuoU6n43W"
      }
    },
    {
      "cell_type": "code",
      "source": [
        "string = \"\\d+\"\n",
        "regular_string = \"\\\\d+\"\n",
        "raw_string = r\"\\d+\"\n",
        "\n",
        "print(string)\n",
        "print(regular_string)\n",
        "print(raw_string)"
      ],
      "metadata": {
        "colab": {
          "base_uri": "https://localhost:8080/"
        },
        "id": "cFj0-aLJn5pt",
        "outputId": "0544ac00-8484-4a3f-fea0-68967abcecac"
      },
      "execution_count": 15,
      "outputs": [
        {
          "output_type": "stream",
          "name": "stdout",
          "text": [
            "\\d+\n",
            "\\d+\n",
            "\\d+\n"
          ]
        }
      ]
    },
    {
      "cell_type": "markdown",
      "source": [
        "All three of these strings appear the same. However, there is a difference in how Python interprets and processes them.\n",
        "\n",
        "- `string = \"\\d+\"`: This is a regular string where the backslash `\\` is treated as an escape character. So, \\d+ is interpreted as a string containing the characters \"d+\" because \\d is not recognized as a special escape sequence in regular strings.\n",
        "\n",
        "- `regular_string = \"\\\\d+\"`: In this regular string, the double backslash `\\\\` is used to escape the backslash, so it effectively becomes a single backslash followed by `\"d+\"`. This is the correct way to represent the regular expression pattern `\\d+` in a regular string.\n",
        "\n",
        "- `raw_string = r\"\\d+\"`: This is a raw string, and the `r` at the beginning tells Python to treat the backslash `\\` as a `literal` character. As a result, it represents the string as \"\\d+\" exactly as it appears.\n",
        "\n",
        "---\n",
        "\n",
        "The use of raw strings (strings prefixed with r) in Python has several advantages in specific situations:\n",
        "\n",
        "- **Simplifies Regular Expressions**: Raw strings are often used when working with regular expressions because they prevent the need for double escaping `\\\\`. This makes regular expression patterns more readable and easier to write correctly.\n",
        "\n",
        "- **File Paths**: When dealing with file paths in Windows, which often use backslashes (), raw strings can make the code cleaner and more readable. For example, `r'C:\\Users\\Username\\Documents'` is easier to understand than `'C:\\\\Users\\\\Username\\\\Documents'`.\n",
        "\n",
        "- **Avoids Unintended Escapes**: In some cases, regular strings can interpret backslashes as escape characters even when you don't intend them to be. Raw strings prevent this behavior, ensuring that backslashes are treated as literal characters.\n"
      ],
      "metadata": {
        "id": "scLHYMO5o8sX"
      }
    },
    {
      "cell_type": "markdown",
      "source": [
        "### **RegEx Password Strength Checker**"
      ],
      "metadata": {
        "id": "buUfMOpAx5zr"
      }
    },
    {
      "cell_type": "code",
      "source": [
        "import re\n",
        "\n",
        "# Define the regular expression pattern for strong passwords\n",
        "pattern = r\"^(?=.*\\d)(?=.*[a-z])(?=.*[A-Z])(?=.*[a-zA-Z]).{8,}$\"\n",
        "\n",
        "# Strong password that meets the criteria\n",
        "strong_pass = 'StrongP@ssw0rd'\n",
        "matches_strong = re.findall(pattern, strong_pass)\n",
        "\n",
        "# Weak password that does not meet the criteria\n",
        "weak_pass = 'weak123'\n",
        "matches_weak = re.findall(pattern, weak_pass)\n",
        "\n",
        "if matches_strong:\n",
        "    print(f\"'{strong_pass}' is a strong password.\")\n",
        "else:\n",
        "    print(f\"'{strong_pass}' is not a strong password.\")\n",
        "\n",
        "if matches_weak:\n",
        "    print(f\"'{weak_pass}' is a strong password.\")\n",
        "else:\n",
        "    print(f\"'{weak_pass}' is not a strong password.\")\n"
      ],
      "metadata": {
        "colab": {
          "base_uri": "https://localhost:8080/"
        },
        "id": "PvmBJ3gHv1JX",
        "outputId": "2f5ca5e8-7cda-45c4-ec9a-c7a9c9e7a431"
      },
      "execution_count": 16,
      "outputs": [
        {
          "output_type": "stream",
          "name": "stdout",
          "text": [
            "'StrongP@ssw0rd' is a strong password.\n",
            "'weak123' is not a strong password.\n"
          ]
        }
      ]
    },
    {
      "cell_type": "markdown",
      "source": [
        "Regular expression pattern for strong passwords\n",
        "\n",
        "`pattern = r\"^(?=.*\\d)(?=.*[a-z])(?=.*[A-Z])(?=.*[a-zA-Z]).{8,}$\"`\n",
        "\n",
        "- `^`: Start of the string.\n",
        "- `(?=.*\\d)`: Requires at least one digit.\n",
        "- `(?=.*[a-z])`: Requires at least one lowercase letter.\n",
        "- `(?=.*[A-Z])`: Requires at least one uppercase letter.\n",
        "- `(?=.*[a-zA-Z])`: Requires at least one letter (either lowercase or uppercase).\n",
        "- `.{8,}`: Requires a minimum length of 8 characters.\n",
        "- `$`: End of the string."
      ],
      "metadata": {
        "id": "WEUZNin5yc3Y"
      }
    },
    {
      "cell_type": "markdown",
      "source": [
        "## **Python `re` Module**"
      ],
      "metadata": {
        "id": "eZcm2k03GLG5"
      }
    },
    {
      "cell_type": "markdown",
      "source": [
        "- **What exactly are regular expression?**\n",
        "    - A **`RegEx`**, or **Regular Expression** are a sequence of characters that define a search pattern.\n",
        "    - String with special syntax → **Find all web links in a document**.\n",
        "    - Allow us to match patterns in other strings → **Parse email addresses**.\n",
        "    - Applications of regular expression → **Remove/Replace unwanted characters**.\n",
        "\n",
        "\n",
        "Python `re` module:\n",
        "\n",
        "- `re.split`\n",
        "- `re.search`\n",
        "- `re.match`  \n",
        "- `re.findall`\n",
        "- `re.finditer`\n",
        "- `re.sub`\n",
        "\n",
        "\n"
      ],
      "metadata": {
        "id": "A62CopSIx6iX"
      }
    },
    {
      "cell_type": "markdown",
      "metadata": {
        "id": "X6dbZ_-7H6dj"
      },
      "source": [
        "#### `re.split()`\n",
        "\n",
        "The `split()` function returns a list where the string has been split at each match."
      ]
    },
    {
      "cell_type": "code",
      "metadata": {
        "colab": {
          "base_uri": "https://localhost:8080/"
        },
        "id": "UK6u38JZIJms",
        "outputId": "f419333e-92dd-44ff-fc35-f3b670b6e1fc"
      },
      "source": [
        "import re\n",
        "\n",
        "text = \"The rain in Spain\"\n",
        "\n",
        "x = re.split(\"\\s\", text)\n",
        "print(x)\n",
        "\n",
        "y = re.split(\"\\s\", text, maxsplit=1) # specifying the `maxsplit` parameter\n",
        "print(y)"
      ],
      "execution_count": 17,
      "outputs": [
        {
          "output_type": "stream",
          "name": "stdout",
          "text": [
            "['The', 'rain', 'in', 'Spain']\n",
            "['The', 'rain in Spain']\n"
          ]
        }
      ]
    },
    {
      "cell_type": "code",
      "source": [
        "import re\n",
        "\n",
        "text_corpus = '''Cyclone Dumazile was\n",
        "                strong tropical cyclone.\n",
        "                Dumazile originated from a cyclone\n",
        "                Dyclone low-pressure area that\n",
        "                formed near USA on 27.\n",
        "                February. It became a tropical\n",
        "                disturbance on 2 March, reached\n",
        "                its peak intensity on 5 March.'''\n",
        "\n",
        "# Define the regular expression pattern for splitting\n",
        "pattern = r'\\.\\s+' # matches a dot (.) followed by one or more whitespace characters (spaces, tabs, newlines, etc.).\n",
        "\n",
        "# Use re.split() to split the text_corpus\n",
        "result = re.split(pattern, text_corpus)\n",
        "\n",
        "# Print the resulting list of substrings\n",
        "for part in result:\n",
        "    print(part.strip())"
      ],
      "metadata": {
        "colab": {
          "base_uri": "https://localhost:8080/"
        },
        "id": "g91asl5WXaRM",
        "outputId": "a6de5601-b1b2-4413-a7ac-85acde3f9018"
      },
      "execution_count": 18,
      "outputs": [
        {
          "output_type": "stream",
          "name": "stdout",
          "text": [
            "Cyclone Dumazile was\n",
            "                strong tropical cyclone\n",
            "Dumazile originated from a cyclone\n",
            "                Dyclone low-pressure area that\n",
            "                formed near USA on 27\n",
            "February\n",
            "It became a tropical\n",
            "                disturbance on 2 March, reached\n",
            "                its peak intensity on 5 March.\n"
          ]
        }
      ]
    },
    {
      "cell_type": "markdown",
      "metadata": {
        "id": "9pzpKbPEGmIC"
      },
      "source": [
        "#### `re.search()`\n",
        "\n",
        "- Search for a pattern in a string. It returns a match object if a match is found; otherwise, it returns None.\n",
        "\n",
        "- If there is **more than one match**, *only the first occurrence of the match will be returned*"
      ]
    },
    {
      "cell_type": "code",
      "source": [
        "text_corpus = '''Cyclone Dumazile was.\n",
        "                strong tropical cyclone.\n",
        "                Dumazile originated from a cyclone.\n",
        "                Dyclone low-pressure area that.\n",
        "                formed near USA on 27.\n",
        "                February. It became a tropical.\n",
        "                disturbance on 2 March, reached.\n",
        "                its peak intensity on 5 March.'''"
      ],
      "metadata": {
        "id": "MrAeBdYHOeJi"
      },
      "execution_count": 19,
      "outputs": []
    },
    {
      "cell_type": "code",
      "metadata": {
        "colab": {
          "base_uri": "https://localhost:8080/"
        },
        "id": "m6EAaPu-HRT-",
        "outputId": "cdac377b-4348-4275-ad71-2ad7b5a3dd5f"
      },
      "source": [
        "import re\n",
        "\n",
        "pattern  =  r\"[A-Z]+yclone\"\n",
        "\n",
        "matchs = re.search(pattern, text_corpus)\n",
        "print(matchs)"
      ],
      "execution_count": 20,
      "outputs": [
        {
          "output_type": "stream",
          "name": "stdout",
          "text": [
            "<re.Match object; span=(0, 7), match='Cyclone'>\n"
          ]
        }
      ]
    },
    {
      "cell_type": "markdown",
      "metadata": {
        "id": "JQpzFUXUJym3"
      },
      "source": [
        "The Match object has properties and methods used to retrieve information about the search, and the result:\n",
        "\n",
        "- `.span()`: returns a tuple containing the start-, and end positions of the match.\n",
        "- `.string`: returns the string passed into the function\n",
        "- `.group()`: returns the part of the string where there was a match"
      ]
    },
    {
      "cell_type": "code",
      "metadata": {
        "colab": {
          "base_uri": "https://localhost:8080/"
        },
        "id": "bNvMpkvBKMSm",
        "outputId": "5c072134-0c99-40a4-e0bc-ee4b7df91220"
      },
      "source": [
        "import re\n",
        "\n",
        "txt = \"The rain in Spain\"\n",
        "x = re.search(r\"\\bS\\w+\", txt)\n",
        "print(x.span())\n",
        "\n",
        "y = re.search(r\"\\bS\\w+\", txt)\n",
        "print(y.string)\n",
        "\n",
        "z = re.search(r\"\\bS\\w+\", txt)\n",
        "print(z.group())"
      ],
      "execution_count": 21,
      "outputs": [
        {
          "output_type": "stream",
          "name": "stdout",
          "text": [
            "(12, 17)\n",
            "The rain in Spain\n",
            "Spain\n"
          ]
        }
      ]
    },
    {
      "cell_type": "markdown",
      "metadata": {
        "id": "zFx2Jaq9Kq8L"
      },
      "source": [
        "> **Note:** If there is no match, the value ***None*** will be returned, instead of the Match Object."
      ]
    },
    {
      "cell_type": "markdown",
      "source": [
        "#### `re.match()`:\n",
        "\n",
        "Match an entire string or substring based on a pattern."
      ],
      "metadata": {
        "id": "OFXEQRXLjS4Z"
      }
    },
    {
      "cell_type": "code",
      "source": [
        "import re\n",
        "\n",
        "match = re.match('abc', 'abcdef')\n",
        "print(match)"
      ],
      "metadata": {
        "colab": {
          "base_uri": "https://localhost:8080/"
        },
        "id": "HaeHBL-Ijjn3",
        "outputId": "edbde67f-f070-4011-b4bc-b8921c7f9995"
      },
      "execution_count": 22,
      "outputs": [
        {
          "output_type": "stream",
          "name": "stdout",
          "text": [
            "<re.Match object; span=(0, 3), match='abc'>\n"
          ]
        }
      ]
    },
    {
      "cell_type": "markdown",
      "source": [
        "#### `re.finditer()`:\n",
        "\n",
        "Find all occurrences of the pattern in the string and return them as an iterator of match objects."
      ],
      "metadata": {
        "id": "LMBUARmiOoMC"
      }
    },
    {
      "cell_type": "code",
      "source": [
        "# for all first occurrence\n",
        "\n",
        "pattern  =  r\"[A-Z]+yclone\"\n",
        "\n",
        "matches = re.finditer(pattern, text_corpus)\n",
        "\n",
        "for match in matches:\n",
        "    print(match)"
      ],
      "metadata": {
        "colab": {
          "base_uri": "https://localhost:8080/"
        },
        "id": "YlKpM96iOGMS",
        "outputId": "9131fbcb-819e-406f-a21a-a41d10c10f80"
      },
      "execution_count": 23,
      "outputs": [
        {
          "output_type": "stream",
          "name": "stdout",
          "text": [
            "<re.Match object; span=(0, 7), match='Cyclone'>\n",
            "<re.Match object; span=(131, 138), match='Dyclone'>\n"
          ]
        }
      ]
    },
    {
      "cell_type": "code",
      "source": [
        "matches = re.finditer(pattern, text_corpus)\n",
        "\n",
        "\n",
        "for match in matches:\n",
        "    start, end = match.span()\n",
        "    print(text_corpus[start:end])\n",
        "\n",
        "print(match.span())"
      ],
      "metadata": {
        "colab": {
          "base_uri": "https://localhost:8080/"
        },
        "id": "SRdcwpfFQgqa",
        "outputId": "edb91f90-4ac9-401f-e648-62b514d0d9c5"
      },
      "execution_count": 24,
      "outputs": [
        {
          "output_type": "stream",
          "name": "stdout",
          "text": [
            "Cyclone\n",
            "Dyclone\n",
            "(131, 138)\n"
          ]
        }
      ]
    },
    {
      "cell_type": "markdown",
      "metadata": {
        "id": "I5dk0396GZHQ"
      },
      "source": [
        "#### `findall()`\n",
        "\n",
        "The `findall()` finds all the pattern in the string."
      ]
    },
    {
      "cell_type": "markdown",
      "source": [
        "1. `pattern = r'\\.\\s+'`: This pattern matches a period `(.)` followed by one or more whitespace characters. It can be used to find sentences in a text."
      ],
      "metadata": {
        "id": "wwUWITXQaZIe"
      }
    },
    {
      "cell_type": "code",
      "metadata": {
        "colab": {
          "base_uri": "https://localhost:8080/"
        },
        "id": "1qDdE1WeF7Ov",
        "outputId": "e46fca83-24da-4b1a-9639-a76300ae16eb"
      },
      "source": [
        "import re\n",
        "\n",
        "text = \"This is a sentence. This is another sentence.\"\n",
        "matches = re.findall(r'\\.\\s+', text)\n",
        "print(matches)"
      ],
      "execution_count": 25,
      "outputs": [
        {
          "output_type": "stream",
          "name": "stdout",
          "text": [
            "['. ']\n"
          ]
        }
      ]
    },
    {
      "cell_type": "markdown",
      "source": [
        "2. `pattern = r'\\d+'`: This pattern matches one or more consecutive digits (0-9). It can be used to find numbers in a text."
      ],
      "metadata": {
        "id": "L8crEaeeaiup"
      }
    },
    {
      "cell_type": "code",
      "source": [
        "import re\n",
        "\n",
        "text = \"The price of the product is $100 and the quantity is 25.\"\n",
        "matches = re.findall(r'\\d+', text)\n",
        "print(matches)"
      ],
      "metadata": {
        "colab": {
          "base_uri": "https://localhost:8080/"
        },
        "id": "W5B8obx9af20",
        "outputId": "8f2d5abb-895b-4a1f-96f1-ebc2f3920ea3"
      },
      "execution_count": 26,
      "outputs": [
        {
          "output_type": "stream",
          "name": "stdout",
          "text": [
            "['100', '25']\n"
          ]
        }
      ]
    },
    {
      "cell_type": "markdown",
      "source": [
        "3. `pattern = r'[A-Za-z]+'`: This pattern matches one or more consecutive uppercase or lowercase letters. It can be used to find words in a text."
      ],
      "metadata": {
        "id": "iQuqCKyXa3ge"
      }
    },
    {
      "cell_type": "code",
      "source": [
        "import re\n",
        "\n",
        "text = \"This is an example text with multiple words.\"\n",
        "pattern  = r'[A-Za-z]+'\n",
        "\n",
        "matches = re.findall(pattern, text)\n",
        "print(matches)"
      ],
      "metadata": {
        "colab": {
          "base_uri": "https://localhost:8080/"
        },
        "id": "VSbcY9_Pa4Av",
        "outputId": "7acf54fa-5fcf-4661-ba67-6b0412a86127"
      },
      "execution_count": 27,
      "outputs": [
        {
          "output_type": "stream",
          "name": "stdout",
          "text": [
            "['This', 'is', 'an', 'example', 'text', 'with', 'multiple', 'words']\n"
          ]
        }
      ]
    },
    {
      "cell_type": "markdown",
      "source": [
        "4. `pattern = r'\\w+'`: This pattern matches one or more word characters (letters, digits, or underscores). It is similar to the previous pattern but includes digits and underscores."
      ],
      "metadata": {
        "id": "G9SAErTsbLom"
      }
    },
    {
      "cell_type": "code",
      "source": [
        "import re\n",
        "\n",
        "text = \"The username is user123 and the email is user@example.com.\"\n",
        "\n",
        "matches = re.findall(r'\\w+', text)\n",
        "print(matches)"
      ],
      "metadata": {
        "colab": {
          "base_uri": "https://localhost:8080/"
        },
        "id": "mU-64z_abRRz",
        "outputId": "a33e91bd-c68e-406e-88d5-506019e0ca54"
      },
      "execution_count": 28,
      "outputs": [
        {
          "output_type": "stream",
          "name": "stdout",
          "text": [
            "['The', 'username', 'is', 'user123', 'and', 'the', 'email', 'is', 'user', 'example', 'com']\n"
          ]
        }
      ]
    },
    {
      "cell_type": "markdown",
      "source": [
        "5. `pattern = r'\\s+'`: This pattern matches one or more whitespace characters (spaces, tabs, or line breaks). It can be used to find and split text into separate chunks based on whitespace."
      ],
      "metadata": {
        "id": "HT5T16cicW-h"
      }
    },
    {
      "cell_type": "code",
      "source": [
        "import re\n",
        "\n",
        "text = \"The username is user123 and the email is user@example.com.\"\n",
        "\n",
        "matches = re.findall(r'\\s+', text)\n",
        "print(matches)"
      ],
      "metadata": {
        "colab": {
          "base_uri": "https://localhost:8080/"
        },
        "id": "pWQviGSRcNKh",
        "outputId": "58503a54-ac1c-4720-84d5-d90b4c1bcb4f"
      },
      "execution_count": 29,
      "outputs": [
        {
          "output_type": "stream",
          "name": "stdout",
          "text": [
            "[' ', ' ', ' ', ' ', ' ', ' ', ' ', ' ']\n"
          ]
        }
      ]
    },
    {
      "cell_type": "markdown",
      "source": [
        "6. `pattern = r'\\b[A-Z][a-zA-Z]*\\b'` is designed to match capitalized words within a text."
      ],
      "metadata": {
        "id": "-hQwnE1Zh56N"
      }
    },
    {
      "cell_type": "code",
      "source": [
        "import re\n",
        "\n",
        "text = \"This is an Example sentence. It should Match Capitalized words like Apple.\"\n",
        "pattern  = r'\\b[A-Z][a-zA-Z]*\\b'\n",
        "\n",
        "matches = re.findall(pattern, text)\n",
        "print(matches)"
      ],
      "metadata": {
        "colab": {
          "base_uri": "https://localhost:8080/"
        },
        "id": "xQb4BG1TiEUN",
        "outputId": "f28b8284-a98c-418a-9c14-d824ab1d3d59"
      },
      "execution_count": 30,
      "outputs": [
        {
          "output_type": "stream",
          "name": "stdout",
          "text": [
            "['This', 'Example', 'It', 'Match', 'Capitalized', 'Apple']\n"
          ]
        }
      ]
    },
    {
      "cell_type": "markdown",
      "source": [
        "7. `pattern = r'\\bword\\b'`: This pattern matches the word \"word\" as a whole word, surrounded by word boundaries. It ensures that \"word\" is not part of a larger word."
      ],
      "metadata": {
        "id": "pez9gXi0it8A"
      }
    },
    {
      "cell_type": "code",
      "source": [
        "import re\n",
        "\n",
        "text = \"This is a word. It's not a keyword.\"\n",
        "\n",
        "matches = re.findall(r'\\bword\\b', text)\n",
        "print(matches)"
      ],
      "metadata": {
        "colab": {
          "base_uri": "https://localhost:8080/"
        },
        "id": "NJlp3zUdiohs",
        "outputId": "2c4a2153-4ac7-4bea-d1d7-dde343d40a7e"
      },
      "execution_count": 31,
      "outputs": [
        {
          "output_type": "stream",
          "name": "stdout",
          "text": [
            "['word']\n"
          ]
        }
      ]
    },
    {
      "cell_type": "markdown",
      "metadata": {
        "id": "nnuEf8YiIo7i"
      },
      "source": [
        "#### __`re.sub()`__\n",
        "\n",
        "The `sub()` function replaces the matches with the text of your choice:"
      ]
    },
    {
      "cell_type": "code",
      "source": [
        "import re\n",
        "\n",
        "string = \"The quick brown fox jumps over the lazy dog\"\n",
        "\n",
        "new_string = re.sub(\"the\", \"that\", string)\n",
        "\n",
        "print(new_string)"
      ],
      "metadata": {
        "id": "YwxUhMfdAPLe",
        "outputId": "3d8787a9-dcf3-4200-8809-7309ec735e11",
        "colab": {
          "base_uri": "https://localhost:8080/"
        }
      },
      "execution_count": 32,
      "outputs": [
        {
          "output_type": "stream",
          "name": "stdout",
          "text": [
            "The quick brown fox jumps over that lazy dog\n"
          ]
        }
      ]
    },
    {
      "cell_type": "code",
      "metadata": {
        "colab": {
          "base_uri": "https://localhost:8080/"
        },
        "id": "_6FMGay0IzIh",
        "outputId": "8ca05d70-8f48-47f0-e2da-7da9ce652b3a"
      },
      "source": [
        "import re\n",
        "\n",
        "txt = \"The#rain#in#Spain#look#beautiful.\"\n",
        "x = re.sub(\"\\#\", \" \", txt) # Replace every white-space character with `_`\n",
        "print(x)\n",
        "\n",
        "y = re.sub(pattern=\"\\#\", repl=\" \", string=txt, count=2)\n",
        "print(y)"
      ],
      "execution_count": 33,
      "outputs": [
        {
          "output_type": "stream",
          "name": "stdout",
          "text": [
            "The rain in Spain look beautiful.\n",
            "The rain in#Spain#look#beautiful.\n"
          ]
        }
      ]
    },
    {
      "cell_type": "markdown",
      "source": [
        "`re.compile()` function in Python compiles a **regular expression pattern** into a **regular expression object**. This object can then be used to search for matches of the pattern in strings."
      ],
      "metadata": {
        "id": "nHuyQGHRD8Ku"
      }
    },
    {
      "cell_type": "code",
      "metadata": {
        "id": "1K8SHbK99X1j",
        "colab": {
          "base_uri": "https://localhost:8080/"
        },
        "outputId": "1fe9cb47-4fef-43a8-e7c5-97d8e8a04b99"
      },
      "source": [
        "import re\n",
        "\n",
        "mystr = '''Tata Limited\n",
        "Dr. David Landsman, executive director\n",
        "18, Grosvenor Place\n",
        "London SW1X 7HSc\n",
        "Phone: +44 (20) 7235 8281\n",
        "Fax: +44 (20) 7235 8727\n",
        "Email: tata@tata.co.uk\n",
        "Website: www.europe.tata.com\n",
        "Directions: View map\n",
        "\n",
        "Tata Sons, North America\n",
        "1700 North Moore St, Suite 1520\n",
        "Arlington, VA 22209-1911\n",
        "NYC, AV 33209-1211\n",
        "USA\n",
        "Phone: +1 (703) 243 9787\n",
        "Fax: +1 (703) 243 9791\n",
        "66-66\n",
        "455-4545\n",
        "Email: northamerica@tata.com\n",
        "Website: www.northamerica.tata.com\n",
        "Directions: View map fass\n",
        "harry potter lekin\n",
        "bahut hi badia aadmi haiaiinaiiiiiiiiiiii'''\n",
        "\n",
        "# findall, search, split, sub, finditer\n",
        "# pattern = re.compile(r'fass')\n",
        "# pattern = re.compile(r'.adm')\n",
        "# pattern = re.compile(r'^Tata')\n",
        "# pattern = re.compile(r'iin$')\n",
        "# pattern = re.compile(r'ai{2}')\n",
        "# pattern = re.compile(r'(ai){1}')\n",
        "# pattern = re.compile(r'ai{1}|Fax')\n",
        "\n",
        "\n",
        "# -------Special Sequences-----\n",
        "# pattern = re.compile(r'Fax\\b')\n",
        "# pattern = re.compile(r'27\\b')\n",
        "\n",
        "pattern = re.compile(r'\\d{5}-\\d{4}') # matches a string of five digits followed by a dash followed by four digits\n",
        "\n",
        "matches = pattern.finditer(mystr)\n",
        "\n",
        "for match in matches:\n",
        "    print(match)"
      ],
      "execution_count": 34,
      "outputs": [
        {
          "output_type": "stream",
          "name": "stdout",
          "text": [
            "<re.Match object; span=(284, 294), match='22209-1911'>\n",
            "<re.Match object; span=(303, 313), match='33209-1211'>\n"
          ]
        }
      ]
    },
    {
      "cell_type": "markdown",
      "metadata": {
        "id": "r9gjSXu6J4Nl"
      },
      "source": [
        "## **What is Natural Language Processing?**\n",
        "\n",
        "- **Field of study focused on making sense of language**\n",
        "    - Using statistics and computers\n",
        "\n",
        "- **Basics of NLP**\n",
        "    - ***Topic identification***\n",
        "    - ***Text classification***\n",
        "\n",
        "- [__NLP applications include__](https://www.analyticsvidhya.com/blog/2020/07/top-10-applications-of-natural-language-processing-nlp/)\n",
        "    - ***Search Autocorrect and Autocomplete***\n",
        "    - ***Language Translator***\n",
        "    - ***Social Media Monitoring***\n",
        "    - ***Chatbots***\n",
        "    - ***Survey Analysis***\n",
        "    - ***Sentiment analysis***\n",
        "    - ***Targeted Advertising***\n",
        "    - ***Hiring and Recruitment***\n",
        "    - ***Voice Assistants***\n",
        "    - ***Grammar Checkers***\n",
        "    - ***Email Filtering***\n"
      ]
    },
    {
      "cell_type": "code",
      "metadata": {
        "id": "fMwBIqGrQSzM",
        "colab": {
          "base_uri": "https://localhost:8080/"
        },
        "outputId": "cdc384c5-6480-4ce7-f858-8a5f509c58dd"
      },
      "source": [
        "my_string = \"Let's write RegEx!\"\n",
        "PATTERN = r\"\\w+\"\n",
        "re.findall(PATTERN, my_string)"
      ],
      "execution_count": 35,
      "outputs": [
        {
          "output_type": "execute_result",
          "data": {
            "text/plain": [
              "['Let', 's', 'write', 'RegEx']"
            ]
          },
          "metadata": {},
          "execution_count": 35
        }
      ]
    },
    {
      "cell_type": "markdown",
      "metadata": {
        "id": "VuToPyn9QSzO"
      },
      "source": [
        "### Practicing regular expressions - `re.split()` and `re.findall()`\n",
        "Now you'll get a chance to write some regular expressions to match digits, strings and non-alphanumeric characters. Take a look at `my_string` first by printing it in the IPython Shell, to determine how you might best match the different steps.\n",
        "\n",
        ">**Note**: It's important to prefix your regex patterns with `r` to ensure that your patterns are interpreted in the way you want them to. Else, you may encounter problems to do with escape sequences in strings. For example, `\"\\n\"` in Python is used to indicate a new line, but if you use the `r` prefix, it will be interpreted as the raw string `\"\\n\"` - that is, the character `\"\\\"` followed by the character `\"n\"` - and not as a new line.\n",
        "\n",
        "Remember that the syntax for the regex library is to always to pass the **pattern first**, and then the **string second**."
      ]
    },
    {
      "cell_type": "code",
      "metadata": {
        "id": "Pc443qxdQSzP"
      },
      "source": [
        "my_string = \"Let's write RegEx!  Won't that be fun?  I sure think so.  Can you find 4 sentences?  Or perhaps, all 19 Words?\""
      ],
      "execution_count": 36,
      "outputs": []
    },
    {
      "cell_type": "code",
      "metadata": {
        "id": "S6AY_wbrQSzQ",
        "colab": {
          "base_uri": "https://localhost:8080/"
        },
        "outputId": "b682fd8a-1009-4942-af92-8cfad22f0736"
      },
      "source": [
        "# Write a pattern to match sentence endings: sentence_endings\n",
        "sentence_endings = r\"[.?!]\"\n",
        "\n",
        "# Split my_string on sentence endings and print the result\n",
        "print(re.split(sentence_endings, my_string))\n",
        "\n",
        "# Find all capicalized words in my_string and print the result\n",
        "capitalized_words = r\"[A-Z]\\w+\"\n",
        "print(re.findall(capitalized_words, my_string))\n",
        "\n",
        "# Split my_string on spaces and print the result\n",
        "spaces = r\"\\s+\"\n",
        "print(re.split(spaces, my_string))\n",
        "\n",
        "# Find all digits in my_string and print the result\n",
        "digits = r\"\\d+\"\n",
        "print(re.findall(digits, my_string))"
      ],
      "execution_count": 37,
      "outputs": [
        {
          "output_type": "stream",
          "name": "stdout",
          "text": [
            "[\"Let's write RegEx\", \"  Won't that be fun\", '  I sure think so', '  Can you find 4 sentences', '  Or perhaps, all 19 Words', '']\n",
            "['Let', 'RegEx', 'Won', 'Can', 'Or', 'Words']\n",
            "[\"Let's\", 'write', 'RegEx!', \"Won't\", 'that', 'be', 'fun?', 'I', 'sure', 'think', 'so.', 'Can', 'you', 'find', '4', 'sentences?', 'Or', 'perhaps,', 'all', '19', 'Words?']\n",
            "['4', '19']\n"
          ]
        }
      ]
    },
    {
      "cell_type": "markdown",
      "metadata": {
        "id": "T5FzDwpfQSzR"
      },
      "source": [
        "# **Introduction to tokenization**\n",
        "\n",
        "- **Tokenization**\n",
        "    - Turning a string or document into **tokens** (smaller chunks)\n",
        "    - One step in preparing a text for NLP\n",
        "    - Many different theories and rules\n",
        "    - You can create your own rules using regular expressions\n",
        "    - Some examples:\n",
        "        - Breaking out words or sentences\n",
        "        - Separating punctuation\n",
        "        - Separating all hashtags in a tweet\n",
        "\n",
        "- **Why tokenize?**\n",
        "\n",
        "    - Easier to map part of speech\n",
        "    - Matching common words\n",
        "    - Removing unwanted tokens\n",
        "\n",
        "**NLTK** (Natural Language Toolkit) is a Python library commonly used in NLP for various tasks, including tokenization.\n",
        "- Other `nltk` tokenizers:\n",
        "\n",
        "    - **`word_tokenize`**: Tokenize text into words while handling punctuation.\n",
        "    ```python\n",
        "    from nltk.tokenize import word_tokenize\n",
        "    text = \"This is a sample sentence.\"\n",
        "    tokens = word_tokenize(text)\n",
        "    # Output: ['This', 'is', 'a', 'sample', 'sentence', '.']\n",
        "    ```\n",
        "\n",
        "    - **`sent_tokenize`**: Tokenize a document into individual sentences.\n",
        "    ```python\n",
        "    from nltk.tokenize import sent_tokenize\n",
        "    text = \"This is a sample sentence. And another one.\"\n",
        "    sentences = sent_tokenize(text)\n",
        "    # Output: ['This is a sample sentence.', 'And another one.']\n",
        "    ```\n",
        "\n",
        "    - **`RegexpTokenizer`**: Tokenize text using custom regular expressions to define token patterns.\n",
        "    ```python\n",
        "    from nltk.tokenize import RegexpTokenizer\n",
        "    tokenizer = RegexpTokenizer(r'\\w+')\n",
        "    text = \"This is a sample sentence with123numbers.\"\n",
        "    tokens = tokenizer.tokenize(text)\n",
        "    # Output: ['This', 'is', 'a', 'sample', 'sentence', 'with123numbers']\n",
        "    ```\n",
        "\n",
        "    - **`WhitespaceTokenizer`**: Tokenize a text based on whitespace characters (e.g., spaces, tabs, newlines).\n",
        "\n",
        "    ```python\n",
        "    from nltk.tokenize import WhitespaceTokenizer\n",
        "    tokenizer = WhitespaceTokenizer()\n",
        "    text = \"This is a sample sentence.\"\n",
        "    tokens = tokenizer.tokenize(text)\n",
        "    # Output: ['This', 'is', 'a', 'sample', 'sentence.']\n",
        "    ```\n",
        "\n",
        "    - **`TweetTokenizer`**: Specialized class for tweet tokenization, allowing you to     separate hashtags, mentions, and special characters commonly found in tweets.\n",
        "    ```python\n",
        "    from nltk.tokenize import TweetTokenizer\n",
        "    tokenizer = TweetTokenizer()\n",
        "    tweet = \"Just found an amazing article on #NLP! Check it out at https://example.com #MachineLearning\"\n",
        "\n",
        "    tokens = tokenizer.tokenize(tweet)\n",
        "    print(tokens)\n",
        "    # Output: ['Just', 'found', 'an', 'amazing', 'article', 'on', '#NLP', '!', 'Check', 'it', 'out', 'at', 'https://example.com', '#MachineLearning']\n",
        "\n",
        "    ```\n"
      ]
    },
    {
      "cell_type": "code",
      "source": [
        "import nltk\n",
        "nltk.download('punkt')  # Download the necessary data (only need to do this once)"
      ],
      "metadata": {
        "colab": {
          "base_uri": "https://localhost:8080/"
        },
        "id": "whu0L0ZtLiRJ",
        "outputId": "2c85b8fa-2e9d-4afe-fea4-7e700c0c31c3"
      },
      "execution_count": 38,
      "outputs": [
        {
          "output_type": "stream",
          "name": "stderr",
          "text": [
            "[nltk_data] Downloading package punkt to /root/nltk_data...\n",
            "[nltk_data]   Package punkt is already up-to-date!\n"
          ]
        },
        {
          "output_type": "execute_result",
          "data": {
            "text/plain": [
              "True"
            ]
          },
          "metadata": {},
          "execution_count": 38
        }
      ]
    },
    {
      "cell_type": "code",
      "source": [
        "from nltk.tokenize import word_tokenize\n",
        "\n",
        "sentence = \"Hi there!\"\n",
        "tokens = word_tokenize(sentence)\n",
        "print(tokens)"
      ],
      "metadata": {
        "colab": {
          "base_uri": "https://localhost:8080/"
        },
        "id": "WiuAMGRlFtWz",
        "outputId": "38960802-3aec-4950-de99-3f8234dee9c3"
      },
      "execution_count": 39,
      "outputs": [
        {
          "output_type": "stream",
          "name": "stdout",
          "text": [
            "['Hi', 'there', '!']\n"
          ]
        }
      ]
    },
    {
      "cell_type": "markdown",
      "metadata": {
        "id": "eYKjCfTpQSzS"
      },
      "source": [
        "### **Word tokenization with NLTK**\n",
        "\n",
        "Here, you'll be using the first scene of Monty Python's Holy Grail, which has been pre-loaded as `scene_one`.\n",
        "\n",
        "Your job in this exercise is to utilize `word_tokenize` and `sent_tokenize` from `nltk.tokenize` to tokenize both words and sentences from Python strings - in this case, the first scene of Monty Python's Holy Grail."
      ]
    },
    {
      "cell_type": "markdown",
      "metadata": {
        "id": "Lz4Pdlb9QSzS"
      },
      "source": [
        "> Note: Before using NLTK, you must install `punkt` package for tokenizer"
      ]
    },
    {
      "cell_type": "code",
      "metadata": {
        "id": "6BkcluN0QSzT"
      },
      "source": [
        "with open('grail.txt', 'r') as file:\n",
        "    holy_grail = file.read()\n",
        "    scene_one = re.split('SCENE 2:', holy_grail)[0]"
      ],
      "execution_count": 40,
      "outputs": []
    },
    {
      "cell_type": "code",
      "metadata": {
        "id": "RTFlwBe2QSzV",
        "colab": {
          "base_uri": "https://localhost:8080/",
          "height": 122
        },
        "outputId": "11bd5d8b-ce25-4464-d8e3-5ba383304b41"
      },
      "source": [
        "scene_one"
      ],
      "execution_count": 41,
      "outputs": [
        {
          "output_type": "execute_result",
          "data": {
            "text/plain": [
              "\"SCENE 1: [wind] [clop clop clop] \\nKING ARTHUR: Whoa there!  [clop clop clop] \\nSOLDIER #1: Halt!  Who goes there?\\nARTHUR: It is I, Arthur, son of Uther Pendragon, from the castle of Camelot.  King of the Britons, defeator of the Saxons, sovereign of all England!\\nSOLDIER #1: Pull the other one!\\nARTHUR: I am, ...  and this is my trusty servant Patsy.  We have ridden the length and breadth of the land in search of knights who will join me in my court at Camelot.  I must speak with your lord and master.\\nSOLDIER #1: What?  Ridden on a horse?\\nARTHUR: Yes!\\nSOLDIER #1: You're using coconuts!\\nARTHUR: What?\\nSOLDIER #1: You've got two empty halves of coconut and you're bangin' 'em together.\\nARTHUR: So?  We have ridden since the snows of winter covered this land, through the kingdom of Mercea, through--\\nSOLDIER #1: Where'd you get the coconuts?\\nARTHUR: We found them.\\nSOLDIER #1: Found them?  In Mercea?  The coconut's tropical!\\nARTHUR: What do you mean?\\nSOLDIER #1: Well, this is a temperate zone.\\nARTHUR: The swallow may fly south with the sun or the house martin or the plover may seek warmer climes in winter, yet these are not strangers to our land?\\nSOLDIER #1: Are you suggesting coconuts migrate?\\nARTHUR: Not at all.  They could be carried.\\nSOLDIER #1: What?  A swallow carrying a coconut?\\nARTHUR: It could grip it by the husk!\\nSOLDIER #1: It's not a question of where he grips it!  It's a simple question of weight ratios!  A five ounce bird could not carry a one pound coconut.\\nARTHUR: Well, it doesn't matter.  Will you go and tell your master that Arthur from the Court of Camelot is here.\\nSOLDIER #1: Listen.  In order to maintain air-speed velocity, a swallow needs to beat its wings forty-three times every second, right?\\nARTHUR: Please!\\nSOLDIER #1: Am I right?\\nARTHUR: I'm not interested!\\nSOLDIER #2: It could be carried by an African swallow!\\nSOLDIER #1: Oh, yeah, an African swallow maybe, but not a European swallow.  That's my point.\\nSOLDIER #2: Oh, yeah, I agree with that.\\nARTHUR: Will you ask your master if he wants to join my court at Camelot?!\\nSOLDIER #1: But then of course a-- African swallows are non-migratory.\\nSOLDIER #2: Oh, yeah...\\nSOLDIER #1: So they couldn't bring a coconut back anyway...  [clop clop clop] \\nSOLDIER #2: Wait a minute!  Supposing two swallows carried it together?\\nSOLDIER #1: No, they'd have to have it on a line.\\nSOLDIER #2: Well, simple!  They'd just use a strand of creeper!\\nSOLDIER #1: What, held under the dorsal guiding feathers?\\nSOLDIER #2: Well, why not?\\n\""
            ],
            "application/vnd.google.colaboratory.intrinsic+json": {
              "type": "string"
            }
          },
          "metadata": {},
          "execution_count": 41
        }
      ]
    },
    {
      "cell_type": "code",
      "metadata": {
        "id": "GkxGz6_oQSzW",
        "colab": {
          "base_uri": "https://localhost:8080/"
        },
        "outputId": "17ed56ef-5581-4505-972c-abbaa471e0b2"
      },
      "source": [
        "import nltk\n",
        "from nltk.tokenize import word_tokenize, sent_tokenize\n",
        "\n",
        "# Split scene_one into sentences: sentences\n",
        "sentences = sent_tokenize(scene_one)\n",
        "print(sentences[2])\n",
        "\n",
        "# Use word_tokenize to tokenize the fourth sentence: tokenized_sent\n",
        "tokenized_sent = word_tokenize(sentences[2])\n",
        "print(tokenized_sent)\n",
        "\n",
        "# Make a set of unique tokens in the entire scene: unique_tokens\n",
        "unique_tokens = set(word_tokenize(scene_one))\n",
        "\n",
        "# Print the unique tokens result\n",
        "# pprint(unique_tokens)\n",
        "print(unique_tokens)"
      ],
      "execution_count": 42,
      "outputs": [
        {
          "output_type": "stream",
          "name": "stdout",
          "text": [
            "Who goes there?\n",
            "['Who', 'goes', 'there', '?']\n",
            "{'ratios', 'speak', 'No', 'my', 'he', 'African', 'servant', 'Yes', 'seek', 'who', 'lord', 'Are', 'migrate', 'from', 'England', 'not', 'it', 'five', 'needs', 'bring', 'empty', 'You', 'where', 'castle', 'grips', 'Patsy', 'is', 'go', 'Not', 'SOLDIER', 'times', 'using', 'European', 'Wait', 'ARTHUR', 'be', 'guiding', 'dorsal', 'Supposing', 'line', 'sovereign', 'interested', \"'m\", 'swallows', 'minute', '--', 'Ridden', 'ounce', 'through', 'wings', 'its', 'non-migratory', 'beat', 'by', 'get', 'held', 'yeah', 'but', 'That', 'Pendragon', 'under', 'sun', 'Saxons', 'one', ':', 'Court', 'they', 'Found', 'back', 'found', 'then', 'the', '.', 'halves', 'that', 'knights', 'wants', 'temperate', 'are', 'Please', \"'ve\", 'Listen', 'winter', 'anyway', 'I', \"'re\", 'goes', 'grip', 'weight', 'could', 'warmer', 'or', 'feathers', 'Where', 'pound', 'ridden', 'length', 'me', 'these', 'Halt', 'this', 'plover', 'of', 'a', 'climes', 'husk', '[', 'have', 'matter', 'them', \"'em\", 'house', 'question', 'other', 'kingdom', 'second', 'will', 'together', 'am', 'two', 'So', 'They', '!', 'use', 'must', 'horse', 'coconut', 'wind', 'The', 'simple', \"'\", 'bird', 'agree', 'trusty', 'martin', 'Will', 'creeper', 'forty-three', 'right', 'maintain', 'coconuts', 'since', 'maybe', 'We', '2', 'Pull', 'Am', 'carried', 'just', 'does', 'land', 'point', 'tell', 'Britons', 'there', ',', 'Well', 'course', 'Camelot', 'breadth', '...', 'Oh', 'fly', 'master', 'zone', 'It', 'bangin', 'yet', 'if', 'join', 'order', 'Mercea', 'SCENE', 'King', 'search', \"'s\", '#', 'to', 'strand', 'south', 'defeator', 'Uther', 'In', 'son', 'tropical', \"n't\", 'at', 'carry', 'all', 'strangers', 'on', 'may', 'your', 'an', 'you', 'A', 'here', 'Who', 'swallow', \"'d\", 'suggesting', 'Whoa', 'court', 'got', 'What', 'air-speed', 'velocity', 'and', 'our', 'But', 'covered', 'ask', '?', 'mean', 'clop', 'Arthur', 'why', ']', 'KING', 'carrying', 'do', 'with', 'in', 'snows', 'every', '1'}\n"
          ]
        }
      ]
    },
    {
      "cell_type": "markdown",
      "metadata": {
        "id": "5I7JA3AzQSzX"
      },
      "source": [
        "### More regex with `re.search()`\n",
        "\n",
        "In this exercise, you'll utilize `re.search()` and `re.match()` to find specific tokens. Both search and match expect regex patterns, similar to those you defined in an earlier exercise. You'll apply these regex library methods to the same Monty Python text from the `nltk` corpora.\n",
        "\n"
      ]
    },
    {
      "cell_type": "code",
      "metadata": {
        "id": "FjvJT3jnQSzX",
        "colab": {
          "base_uri": "https://localhost:8080/"
        },
        "outputId": "533b0a19-6653-4844-8da7-ac8acd2062e8"
      },
      "source": [
        "# Search for the first occurrence of \"coconuts\" in scene_one: match\n",
        "match = re.search(\"coconuts\", scene_one)\n",
        "\n",
        "# Print the start and end indexes of match\n",
        "print(match.start(), match.end())"
      ],
      "execution_count": 43,
      "outputs": [
        {
          "output_type": "stream",
          "name": "stdout",
          "text": [
            "580 588\n"
          ]
        }
      ]
    },
    {
      "cell_type": "code",
      "metadata": {
        "id": "ItdC3SmkQSzY",
        "colab": {
          "base_uri": "https://localhost:8080/"
        },
        "outputId": "0dc24198-538f-43f7-a8e7-a60d35f4ac20"
      },
      "source": [
        "# Write a regular expression to search for anything in square brackets: pattern1\n",
        "pattern1 = r\"\\[.*\\]\" # will match any string that contains square brackets,\n",
        "                     # with any characters (or none) in between them.\n",
        "                     # For example, it would match strings like \"[abc]\", \"[123]\", \"[ ]\", and even just \"[]\".\n",
        "\n",
        "# Use re.search to find the first text in square brackets\n",
        "print(re.search(pattern1, scene_one))"
      ],
      "execution_count": 44,
      "outputs": [
        {
          "output_type": "stream",
          "name": "stdout",
          "text": [
            "<re.Match object; span=(9, 32), match='[wind] [clop clop clop]'>\n"
          ]
        }
      ]
    },
    {
      "cell_type": "code",
      "metadata": {
        "id": "kMiLG711QSzY",
        "colab": {
          "base_uri": "https://localhost:8080/"
        },
        "outputId": "96455db2-a56f-4998-c9a8-7a77ce512153"
      },
      "source": [
        "# Find the script notation at the beginning of the fourth sentence and print it\n",
        "pattern2 = r\"[\\w\\s]+:\" # will match strings that have one or more word characters\n",
        "                       # or whitespace characters followed by a colon.\n",
        "                       # For example, it would match strings like \"word1:\", \"word_2:\", \" word3:\", and so on.\n",
        "\n",
        "print(re.match(pattern2, sentences[3]))"
      ],
      "execution_count": 45,
      "outputs": [
        {
          "output_type": "stream",
          "name": "stdout",
          "text": [
            "<re.Match object; span=(0, 7), match='ARTHUR:'>\n"
          ]
        }
      ]
    },
    {
      "cell_type": "markdown",
      "source": [
        "- Difference between `re.search()` and `re.match()`?\n",
        "    - `re.search()` searches throughout the entire string, while `re.match()` only checks for a match at the beginning of the string.\n",
        "\n"
      ],
      "metadata": {
        "id": "v3DeCqDVbcF_"
      }
    },
    {
      "cell_type": "code",
      "source": [
        "import re\n",
        "\n",
        "text = \"apple orange banana\"\n",
        "pattern = r\"orange\"\n",
        "\n",
        "result = re.search(pattern, text)\n",
        "\n",
        "if result:\n",
        "    print(\"Found:\", result.group())\n",
        "else:\n",
        "    print(\"Not found\")"
      ],
      "metadata": {
        "colab": {
          "base_uri": "https://localhost:8080/"
        },
        "id": "Sfu7fPhZc3rW",
        "outputId": "9ee63394-4612-4a85-afac-b93b784f3cfc"
      },
      "execution_count": 46,
      "outputs": [
        {
          "output_type": "stream",
          "name": "stdout",
          "text": [
            "Found: orange\n"
          ]
        }
      ]
    },
    {
      "cell_type": "code",
      "source": [
        "import re\n",
        "\n",
        "text = \"apple orange banana\"\n",
        "pattern = r\"orange\"\n",
        "\n",
        "result = re.match(pattern, text)\n",
        "\n",
        "if result:\n",
        "    print(\"Found:\", result.group())\n",
        "else:\n",
        "    print(\"Not found\")"
      ],
      "metadata": {
        "colab": {
          "base_uri": "https://localhost:8080/"
        },
        "id": "MxBCC6P5c5eS",
        "outputId": "9b4814dd-824a-42c8-a5e4-c241b362a6e6"
      },
      "execution_count": 47,
      "outputs": [
        {
          "output_type": "stream",
          "name": "stdout",
          "text": [
            "Not found\n"
          ]
        }
      ]
    },
    {
      "cell_type": "markdown",
      "metadata": {
        "id": "110l2I93QSzZ"
      },
      "source": [
        "# **Advanced tokenization with NLTK and regex**\n",
        "\n",
        "- Regex groups using or `|`\n",
        "    - OR is represented using `|` pipe operator.\n",
        "    - You can define a group using `()`\n",
        "    - You can define explicit character ranges using `[]`\n",
        "\n",
        "- Regex ranges and groups\n",
        "\n",
        "\\begin{array}{|l|l|l|}\n",
        "\\hline \\text{Pattern} & \\text{Matches} & \\text{Example} \\\\\n",
        "\\hline [A-Za-z]+ & \\text{Upper and lowercase English alphabet} & 'ABCDEFghijk' \\\\\n",
        "\\hline [0-9] & \\text{Numbers from 0 to 9} & 9 \\\\\n",
        "\\hline [A-Za-z\\-\\.]+ & \\text{Upper and lowercase English alphabet, - and .} & 'My-Website.com' \\\\\n",
        "\\hline (a-z) & \\text{a, - and z} & 'a-z' \\\\\n",
        "\\hline (\\s+|,) & \\text{Spaces or a comma} & ', ' \\\\\n",
        "\\hline\n",
        "\\end{array}\n",
        "\n",
        "\n"
      ]
    },
    {
      "cell_type": "markdown",
      "metadata": {
        "id": "uCvg251QQSzZ"
      },
      "source": [
        "### Choosing a tokenizer\n",
        "\n",
        "\n",
        "Given the following string, which of the below patterns is the best tokenizer? If possible, you want to retain sentence punctuation as separate tokens, but have `'#1'` remain a single token.\n",
        "```python\n",
        "my_string = \"SOLDIER #1: Found them? In Mercea? The coconut's tropical!\"\n",
        "```\n",
        "\n",
        "Additionally, `regexp_tokenize` has been imported from `nltk.tokenize`. You can use `regexp_tokenize(string, pattern)` with `my_string` and one of the patterns as arguments to experiment for yourself and see which is the best tokenizer."
      ]
    },
    {
      "cell_type": "code",
      "source": [
        "import re\n",
        "\n",
        "my_str = 'match lowercase spaces nums like 12, but no commas'\n",
        "\n",
        "re.match('[a-z0-9 ]+', my_str)"
      ],
      "metadata": {
        "colab": {
          "base_uri": "https://localhost:8080/"
        },
        "id": "_f2_3MXvl52H",
        "outputId": "cf716b99-99c9-4eb4-a416-85c9ea522738"
      },
      "execution_count": 48,
      "outputs": [
        {
          "output_type": "execute_result",
          "data": {
            "text/plain": [
              "<re.Match object; span=(0, 35), match='match lowercase spaces nums like 12'>"
            ]
          },
          "metadata": {},
          "execution_count": 48
        }
      ]
    },
    {
      "cell_type": "code",
      "metadata": {
        "id": "w6nwQFnyQSza",
        "colab": {
          "base_uri": "https://localhost:8080/"
        },
        "outputId": "911332ef-cc5f-403c-e547-c96eee05faa8"
      },
      "source": [
        "from nltk.tokenize import regexp_tokenize\n",
        "\n",
        "my_string = \"SOLDIER #1: Found them? In Mercea? The coconut's tropical!\"\n",
        "\n",
        "pattern = r\"(\\w+|#\\d|\\?|!)\"\n",
        "\n",
        "pprint(regexp_tokenize(my_string, pattern))"
      ],
      "execution_count": 49,
      "outputs": [
        {
          "output_type": "stream",
          "name": "stdout",
          "text": [
            "['SOLDIER',\n",
            " '#1',\n",
            " 'Found',\n",
            " 'them',\n",
            " '?',\n",
            " 'In',\n",
            " 'Mercea',\n",
            " '?',\n",
            " 'The',\n",
            " 'coconut',\n",
            " 's',\n",
            " 'tropical',\n",
            " '!']\n"
          ]
        }
      ]
    },
    {
      "cell_type": "markdown",
      "source": [
        " The regex pattern `(\\w+|#\\d|\\?|!)` will match any of the following:\n",
        "\n",
        "- One or more word characters (letters, digits, underscores).\n",
        "- A hash symbol `'#'` followed by a single digit.\n",
        "- A question mark `'?'`.\n",
        "- An exclamation mark '`!'`."
      ],
      "metadata": {
        "id": "PJSv-_TVF7mj"
      }
    },
    {
      "cell_type": "markdown",
      "metadata": {
        "id": "MxWFyh2WQSzb"
      },
      "source": [
        "### Regex with NLTK tokenization\n",
        "Twitter is a frequently used source for NLP text and tasks. In this exercise, we'll build a more complex tokenizer for tweets with hashtags and mentions using nltk and regex. The `nltk.tokenize.TweetTokenizer` class gives you some extra methods and attributes for parsing tweets.\n",
        "\n",
        "Here, you're given some example tweets to parse using both `TweetTokenizer` and `regexp_tokenize` from the `nltk.tokenize` module.\n",
        "\n",
        "Unlike the syntax for the regex library, with `nltk_tokenize()` you pass the pattern as the second argument."
      ]
    },
    {
      "cell_type": "code",
      "metadata": {
        "id": "t6ZCMb-6QSzc"
      },
      "source": [
        "tweets = ['This is the best #nlp exercise ive found online! #python',\n",
        "          '#NLP is super fun! <3 #learning',\n",
        "          'Thanks @nlp_ai :) #nlp #python']"
      ],
      "execution_count": 50,
      "outputs": []
    },
    {
      "cell_type": "code",
      "metadata": {
        "id": "XFo3N4IoQSzc",
        "colab": {
          "base_uri": "https://localhost:8080/"
        },
        "outputId": "647607ec-0b7c-473a-fd85-6831b3ce966d"
      },
      "source": [
        "# Import the necessary modules\n",
        "from nltk.tokenize import regexp_tokenize, TweetTokenizer\n",
        "\n",
        "# Define a regex pattern to find hashtags: pattern1\n",
        "pattern1 = r\"#\\w+\"\n",
        "\n",
        "# Use the pattern on the first tweet in the tweets list\n",
        "hashtags = regexp_tokenize(tweets[0], pattern1)\n",
        "print(hashtags)"
      ],
      "execution_count": 51,
      "outputs": [
        {
          "output_type": "stream",
          "name": "stdout",
          "text": [
            "['#nlp', '#python']\n"
          ]
        }
      ]
    },
    {
      "cell_type": "code",
      "metadata": {
        "id": "kO_C8aQNQSzd",
        "colab": {
          "base_uri": "https://localhost:8080/"
        },
        "outputId": "c12bd3c2-9432-4dc6-fa8a-e88e5aa42c4c"
      },
      "source": [
        "# Import the necessary modules\n",
        "from nltk.tokenize import regexp_tokenize, TweetTokenizer\n",
        "\n",
        "# write a pattern that matches both mentions (@) and hashtags\n",
        "pattern2 = r\"[@|#]\\w+\"\n",
        "\n",
        "# Use the pattern on the last tweet in the tweets list\n",
        "mentions_hashtags = regexp_tokenize(tweets[-1], pattern2)\n",
        "print(mentions_hashtags)"
      ],
      "execution_count": 52,
      "outputs": [
        {
          "output_type": "stream",
          "name": "stdout",
          "text": [
            "['@nlp_ai', '#nlp', '#python']\n"
          ]
        }
      ]
    },
    {
      "cell_type": "code",
      "metadata": {
        "id": "Fb9R-5JXQSzd",
        "colab": {
          "base_uri": "https://localhost:8080/"
        },
        "outputId": "05092a12-1f09-4b86-de24-e9c5253c3863"
      },
      "source": [
        "# Use the TweetTokenizer to tokenize all tweets into one list\n",
        "tokenizer = TweetTokenizer()\n",
        "all_tokens = [tokenizer.tokenize(t) for t in tweets]\n",
        "print(all_tokens)"
      ],
      "execution_count": 53,
      "outputs": [
        {
          "output_type": "stream",
          "name": "stdout",
          "text": [
            "[['This', 'is', 'the', 'best', '#nlp', 'exercise', 'ive', 'found', 'online', '!', '#python'], ['#NLP', 'is', 'super', 'fun', '!', '<3', '#learning'], ['Thanks', '@nlp_ai', ':)', '#nlp', '#python']]\n"
          ]
        }
      ]
    },
    {
      "cell_type": "markdown",
      "metadata": {
        "id": "jo973dS5QSze"
      },
      "source": [
        "\n",
        "### **Non-ascii tokenization**\n",
        "\n",
        "In this exercise, we'll practice advanced tokenization by tokenizing some **non-ascii** based text. we'll be using German with emoji!\n",
        "\n",
        "Here, we have access to a string called `german_text`, which has been printed for hy.\n",
        "\n",
        "Unicode ranges for emoji are:\n",
        "\n",
        "`('\\U0001F300'-'\\U0001F5FF')`, `('\\U0001F600-\\U0001F64F')`, `('\\U0001F680-\\U0001F6FF')`, and `('\\u2600'-\\u26FF-\\u2700-\\u27BF')`."
      ]
    },
    {
      "cell_type": "code",
      "metadata": {
        "id": "wUKsMPvLQSzf"
      },
      "source": [
        "german_text = 'Wann gehen wir Pizza essen? 🍕 Und fährst du mit Über? 🚕'"
      ],
      "execution_count": 54,
      "outputs": []
    },
    {
      "cell_type": "code",
      "metadata": {
        "id": "5kVreIEpQSzn",
        "colab": {
          "base_uri": "https://localhost:8080/"
        },
        "outputId": "17bba9d2-def4-478e-ef27-0df93b6df221"
      },
      "source": [
        "# Import the necessary modules\n",
        "from nltk.tokenize import word_tokenize\n",
        "\n",
        "# Tokenize and print all words in german_text\n",
        "all_words = word_tokenize(german_text)\n",
        "print(all_words)\n",
        "\n",
        "# Tokenize and print only capital words\n",
        "pattern = r\"[A-ZÜ]\\w+\"\n",
        "token_capital_word = regexp_tokenize(german_text, pattern)\n",
        "print(token_capital_word)\n",
        "\n",
        "# Tokenize and print only emoji\n",
        "emoji = \"['\\U0001F300-\\U0001F5FF'|'\\U0001F600-\\U0001F64F'|'\\U0001F680-\\U0001F6FF'|'\\u2600-\\u26FF\\u2700-\\u27BF']\"\n",
        "tokenize_emoji = regexp_tokenize(german_text, emoji)\n",
        "print(tokenize_emoji)"
      ],
      "execution_count": 55,
      "outputs": [
        {
          "output_type": "stream",
          "name": "stdout",
          "text": [
            "['Wann', 'gehen', 'wir', 'Pizza', 'essen', '?', '🍕', 'Und', 'fährst', 'du', 'mit', 'Über', '?', '🚕']\n",
            "['Wann', 'Pizza', 'Und', 'Über']\n",
            "['🍕', '🚕']\n"
          ]
        }
      ]
    },
    {
      "cell_type": "code",
      "source": [
        "from matplotlib import pyplot as plt\n",
        "from nltk.tokenize import word_tokenize\n",
        "\n",
        "words = word_tokenize(\"This is a pretty cool tool!\")\n",
        "print(words)\n",
        "\n",
        "word_lengths = [len(w) for w in words]\n",
        "print(word_lengths)\n",
        "\n",
        "plt.hist(word_lengths)\n",
        "plt.show()"
      ],
      "metadata": {
        "colab": {
          "base_uri": "https://localhost:8080/",
          "height": 465
        },
        "id": "uP15_TIm6SJB",
        "outputId": "1cc989b1-c0c2-4448-c9dc-95702d4d8d16"
      },
      "execution_count": 56,
      "outputs": [
        {
          "output_type": "stream",
          "name": "stdout",
          "text": [
            "['This', 'is', 'a', 'pretty', 'cool', 'tool', '!']\n",
            "[4, 2, 1, 6, 4, 4, 1]\n"
          ]
        },
        {
          "output_type": "display_data",
          "data": {
            "text/plain": [
              "<Figure size 640x480 with 1 Axes>"
            ],
            "image/png": "[encoded data removed]"
          },
          "metadata": {}
        }
      ]
    },
    {
      "cell_type": "markdown",
      "metadata": {
        "id": "9PE6484pQSzo"
      },
      "source": [
        "# **Charting word length with NLTK**\n"
      ]
    },
    {
      "cell_type": "code",
      "source": [
        "from matplotlib import pyplot as plt\n",
        "from nltk.tokenize import word_tokenize\n",
        "\n",
        "words = word_tokenize(\"This is a pretty cool tool!\")\n",
        "print(words)\n",
        "\n",
        "word_lengths = [len(w) for w in words]\n",
        "print(word_lengths)\n",
        "\n",
        "# Plot the histogram with custom x-axis labels and positions\n",
        "plt.bar(range(len(word_lengths)), word_lengths)\n",
        "plt.xticks(range(len(word_lengths)), words)  # Set custom x-axis labels\n",
        "\n",
        "# Show the plot\n",
        "plt.show()"
      ],
      "metadata": {
        "colab": {
          "base_uri": "https://localhost:8080/",
          "height": 465
        },
        "id": "DGVxhRHu4-9x",
        "outputId": "f0a63e7b-f62f-4a46-ca7b-24eb6d0ec23f"
      },
      "execution_count": 57,
      "outputs": [
        {
          "output_type": "stream",
          "name": "stdout",
          "text": [
            "['This', 'is', 'a', 'pretty', 'cool', 'tool', '!']\n",
            "[4, 2, 1, 6, 4, 4, 1]\n"
          ]
        },
        {
          "output_type": "display_data",
          "data": {
            "text/plain": [
              "<Figure size 640x480 with 1 Axes>"
            ],
            "image/png": "[encoded data removed]"
          },
          "metadata": {}
        }
      ]
    },
    {
      "cell_type": "markdown",
      "metadata": {
        "id": "WiHn6AtYQSzo"
      },
      "source": [
        "### Charting practice\n",
        "Try using your new skills to find and chart the number of words per line in the script using matplotlib. The Holy Grail script is loaded for you, and you need to use regex to find the words per line.\n",
        "\n",
        "Using list comprehensions here will speed up your computations. For example: `my_lines = [tokenize(l) for l in lines]` will call a function tokenize on each line in the list lines. The new transformed list will be saved in the `my_lines` variable."
      ]
    },
    {
      "cell_type": "markdown",
      "source": [
        "This regular expression pattern `[A-Z]{2,}(\\s)?(#\\d)?([A-Z]{2,})?:` can be described as follows:\n",
        "\n",
        "- `[A-Z]{2,}`: Match two or more uppercase letters (A-Z) consecutively.\n",
        "- `(\\s)?`: Match zero or one whitespace character.\n",
        "- `(#\\d)?`: Match zero or one occurrence of a pound sign (#) followed by a single digit (0-9).\n",
        "- `([A-Z]{2,})?`: Match zero or one occurrence of two or more uppercase letters - (A-Z) consecutively.\n",
        "- `:` : Match a colon followed by a double quotation mark.\n",
        "\n",
        "This regex pattern is designed to match a sequence of uppercase letters (2 or more) followed by an optional whitespace, an optional pound sign followed by a digit, and an optional sequence of uppercase letters (2 or more) followed by a colon and a double quotation mark."
      ],
      "metadata": {
        "id": "p2BKJ5OKVIO8"
      }
    },
    {
      "cell_type": "markdown",
      "source": [
        "- The regular expression pattern `\"[A-Z]{2,}(\\s)?(#\\d)?([A-Z]{2,})?:\"` is used to match speaker labels of the form `\"SPEAKER:\"` or `\"SPEAKER #N:\"` where **SPEAKER** is represented by **uppercase letters**.\n",
        "\n",
        "- The `re.sub(pattern, '', line)` function is used to `replace` any matched speaker labels with an `empty string` `''` for each line in the lines list.\n",
        "\n",
        ">This effectively removes the speaker labels."
      ],
      "metadata": {
        "id": "M-0Lo_cw_0Qy"
      }
    },
    {
      "cell_type": "code",
      "source": [
        "with open('grail.txt', 'r') as file:\n",
        "    holy_grail = file.read()"
      ],
      "metadata": {
        "id": "sFtPdX-KEo0r"
      },
      "execution_count": 58,
      "outputs": []
    },
    {
      "cell_type": "code",
      "source": [
        "import matplotlib.pyplot as plt\n",
        "\n",
        "# Split the script into lines: lines\n",
        "lines = holy_grail.split('\\n')\n",
        "\n",
        "# Replace all script lines for speaker\n",
        "pattern = \"[A-Z]{2,}(\\s)?(#\\d)?([A-Z]{2,})?:\"\n",
        "\n",
        "\n",
        "\n",
        "new_lines = []\n",
        "for line in lines:\n",
        "    new_line = re.sub(pattern, '', line)\n",
        "    new_lines.append(new_line)\n",
        "print(new_lines)\n",
        "\n",
        "\n",
        "# Tokenize each line: tokenized_lines\n",
        "tokenized_lines = []\n",
        "for line in new_lines:\n",
        "    tokens = regexp_tokenize(line, '\\w+')\n",
        "    tokenized_lines.append(tokens)\n",
        "\n",
        "print(tokenized_lines)\n",
        "\n",
        "# Make a frequency list of lengths: line_num_words\n",
        "line_num_words = []\n",
        "for t_line in tokenized_lines:\n",
        "    num_words = len(t_line)\n",
        "    line_num_words.append(num_words)\n",
        "\n",
        "print(line_num_words)\n",
        "\n",
        "# Plot a histogram of the line lengths\n",
        "plt.figure(figsize=(6, 4))\n",
        "plt.hist(line_num_words)\n",
        "plt.title('# of words per line in holy_grail')\n",
        "plt.show()"
      ],
      "metadata": {
        "colab": {
          "base_uri": "https://localhost:8080/",
          "height": 463
        },
        "id": "KiojDhxCKWR4",
        "outputId": "7c991c81-bf9b-40a4-bbe1-464415a9b830"
      },
      "execution_count": 59,
      "outputs": [
        {
          "output_type": "stream",
          "name": "stdout",
          "text": [
            "['SCENE 1: [wind] [clop clop clop] ', ' Whoa there!  [clop clop clop] ', ' Halt!  Who goes there?', ' It is I, Arthur, son of Uther Pendragon, from the castle of Camelot.  King of the Britons, defeator of the Saxons, sovereign of all England!', ' Pull the other one!', ' I am, ...  and this is my trusty servant Patsy.  We have ridden the length and breadth of the land in search of knights who will join me in my court at Camelot.  I must speak with your lord and master.', ' What?  Ridden on a horse?', ' Yes!', \" You're using coconuts!\", ' What?', \" You've got two empty halves of coconut and you're bangin' 'em together.\", ' So?  We have ridden since the snows of winter covered this land, through the kingdom of Mercea, through--', \" Where'd you get the coconuts?\", ' We found them.', \" Found them?  In Mercea?  The coconut's tropical!\", ' What do you mean?', ' Well, this is a temperate zone.', ' The swallow may fly south with the sun or the house martin or the plover may seek warmer climes in winter, yet these are not strangers to our land?', ' Are you suggesting coconuts migrate?', ' Not at all.  They could be carried.', ' What?  A swallow carrying a coconut?', ' It could grip it by the husk!', \" It's not a question of where he grips it!  It's a simple question of weight ratios!  A five ounce bird could not carry a one pound coconut.\", \" Well, it doesn't matter.  Will you go and tell your master that Arthur from the Court of Camelot is here.\", ' Listen.  In order to maintain air-speed velocity, a swallow needs to beat its wings forty-three times every second, right?', ' Please!', ' Am I right?', \" I'm not interested!\", ' It could be carried by an African swallow!', \" Oh, yeah, an African swallow maybe, but not a European swallow.  That's my point.\", ' Oh, yeah, I agree with that.', ' Will you ask your master if he wants to join my court at Camelot?!', ' But then of course a-- African swallows are non-migratory.', ' Oh, yeah...', \" So they couldn't bring a coconut back anyway...  [clop clop clop] \", ' Wait a minute!  Supposing two swallows carried it together?', \" No, they'd have to have it on a line.\", \" Well, simple!  They'd just use a strand of creeper!\", ' What, held under the dorsal guiding feathers?', ' Well, why not?', 'SCENE 2: [thud] [clang] ', 'CART- Bring out your dead!  [clang] Bring out your dead!  [clang] Bring out your dead!  [clang] Bring out your dead!  [clang] Bring out your dead!  [cough cough...] [clang] [... cough cough] Bring out your dead!  [clang] Bring out your dead!  [clang] Bring out your dead!  Ninepence.  [clang] Bring out your dead!  [clang] Bring out your dead!  [clang] Bring out...  [rewr!] ... your dead!  [rewr!] [clang] Bring out your dead!', \" Here's one.\", 'CART- Ninepence.', \" I'm not dead!\", 'CART- What?', \" Nothing.  Here's your ninepence.\", \" I'm not dead!\", \"CART- 'Ere.  He says he's not dead!\", ' Yes he is.', \" I'm not!\", \"CART- He isn't?\", \" Well, he will be soon.  He's very ill.\", \" I'm getting better!  \", \" No you're not.  You'll be stone dead in a moment.\", \"CART- Oh, I can't take him like that.  It's against regulations.\", \" I don't want to go on the cart!\", \" Oh, don't be such a baby.\", \"CART- I can't take him.\", ' I feel fine!', ' Well, do us a favor.', \"CART- I can't.\", \" Well, can you hang around a couple of minutes?  He won't be long.\", \"CART- No, I've got to go to the Robinson's.  They've lost nine today.\", \" Well, when's your next round?\", 'CART- Thursday.', \" I think I'll go for a walk.\", \" You're not fooling anyone you know.  Look, isn't there something you can do?\", ' [singing] I feel happy...  I feel happy.  [whop] ', ' Ah, thanks very much.', 'CART- Not at all.  See you on Thursday.', \" Right.  All right.  [howl] [clop clop clop] Who's that then?\", 'CART- I dunno.  Must be a king.', ' Why?', \"CART- He hasn't got shit all over him.\", 'SCENE 3: [thud] [King Arthur music] [thud thud thud] [King Arthur music stops] ', ' Old woman!', ' Man!', ' Man.  Sorry.  What knight live in that castle over there?', \" I'm thirty-seven.\", ' I-- what?', \" I'm thirty-seven.  I'm not old.\", \" Well, I can't just call you 'Man'.\", \" Well, you could say 'Dennis'.\", \" Well, I didn't know you were called 'Dennis'.\", \" Well, you didn't bother to find out, did you?\", \" I did say 'sorry' about the 'old woman', but from the behind you looked--\", ' What I object to is that you automatically treat me like an inferior!', ' Well, I am king!', \" Oh king, eh, very nice.  And how d'you get that, eh?  By exploiting the workers!  By 'anging on to outdated imperialist dogma which perpetuates the economic and social differences in our society.  If there's ever going to be any progress with the--\", \" Dennis, there's some lovely filth down here.  Oh!  How d'you do?\", \" How do you do, good lady.  I am Arthur, King of the Britons.  Who's castle is that?\", ' King of the who?', ' The Britons.', ' Who are the Britons?', ' Well, we all are.  We are all Britons, and I am your king.', \" I didn't know we had a king.  I thought we were an autonomous collective.\", \" You're fooling yourself.  We're living in a dictatorship.  A self-perpetuating autocracy in which the working classes--\", ' Oh, there you go, bringing class into it again.', \" That's what it's all about.  If only people would hear of--\", ' Please, please good people.  I am in haste.  Who lives in that castle?', ' No one live there.', ' Then who is your lord?', \" We don't have a lord.\", ' What?', \" I told you.  We're an anarcho-syndicalist commune.  We take it in turns to act as a sort of executive officer for the week.\", ' Yes.', ' But all the decision of that officer have to be ratified at a special bi-weekly meeting--', ' Yes, I see.', ' By a simple majority in the case of purely internal affairs,--', ' Be quiet!', ' But by a two-thirds majority in the case of more major--', ' Be quiet!  I order you to be quiet!', ' Order, eh?  Who does he think he is?  Heh.', ' I am your king!', \" Well, I didn't vote for you.\", \" You don't vote for kings.\", ' Well, how did you become king then?', ' The Lady of the Lake, ... [angels sing] ... her arm clad in the purest shimmering samite, held aloft Excalibur from the bosom of the water signifying by Divine Providence that I, Arthur, was to carry Excalibur. [singing stops] That is why I am your king!', ' Listen, strange women lying in ponds distributing swords is no basis for a system of government.  Supreme executive power derives from a mandate from the masses, not from some farcical aquatic ceremony.', ' Be quiet!', \" Well, but you can't expect to wield supreme executive power just 'cause some watery tart threw a sword at you!\", ' Shut up!', \" I mean, if I went 'round saying I was an emperor just because some moistened bint had lobbed a scimitar at me, they'd put me away!\", ' Shut up, will you.  Shut up!', ' Ah, now we see the violence inherent in the system.', ' Shut up!', \" Oh!  Come and see the violence inherent in the system!  Help, help!  I'm being repressed!\", ' Bloody peasant!', \" Oh, what a give-away.  Did you hear that?  Did you hear that, eh?  That's what I'm on about.  Did you see him repressing me?  You saw it, didn't you\", 'SCENE 4: [King Arthur music] [music stops] ', ' Aaagh!  [King Arthur music] [music stops] ', ' Aaagh!', ' Ooh! [King Arthur music] [music stops] [stab] ', ' Aagh!', ' Oh! [King Arthur music] Ooh! [music stops] ', ' Aaagh! [clang] ', 'BLACK KNIGHT and  Agh!, oh!, etc.', ' Aaaaaah!  Aaaaaaaaah! [woosh] [BLACK KNIGHT kills GREEN KNIGHT] [thud] [scrape] ', ' Umm! [clop clop clop] ', ' You fight with the strength of many men, Sir Knight. [pause] I am Arthur, King of the Britons. [pause] I seek the finest and the bravest knights in the land to join me in my court at Camelot. [pause] You have proved yourself worthy.  Will you join me? [pause] You make me sad.  So be it.  Come, Patsy.', ' None shall pass.', ' What?', ' None shall pass.', ' I have no quarrel with you, good Sir Knight, but I must cross this bridge.', ' Then you shall die.', ' I command you, as King of the Britons, to stand aside!', ' I move for no man.', ' So be it!', \"ARTHUR and  Aaah!, hiyaah!, etc. [ARTHUR chops the BLACK KNIGHT's left arm off] \", ' Now stand aside, worthy adversary.', \" 'Tis but a scratch.\", \" A scratch?  Your arm's off!\", \" No, it isn't.\", \" Well, what's that then?\", \" I've had worse.\", ' You liar!', \" Come on, you pansy! [clang] Huyah! [clang] Hiyaah! [clang] Aaaaaaaah! [ARTHUR chops the BLACK KNIGHT's right arm off] \", ' Victory is mine! [kneeling] We thank Thee Lord, that in Thy mer--', ' Hah! [clunk] Come on then.', ' What?', ' Have at you! [kick] ', ' Eh.  You are indeed brave, Sir Knight, but the fight is mine.', ' Oh, had enough, eh?', \" Look, you stupid bastard.  You've got no arms left.\", ' Yes I have.', ' Look!', ' Just a flesh wound. [kick] ', ' Look, stop that.', ' Chicken! [kick] Chickennn!', \" Look, I'll have your leg. [kick] Right! [whop] [ARTHUR chops the BLACK KNIGHT's right leg off] \", \" Right.  I'll do you for that!\", \" You'll what?\", ' Come here!', ' What are you going to do, bleed on me?', \" I'm invincible!\", \" You're a looney.\", \" The Black Knight always triumphs!  Have at you!  Come on then. [whop] [ARTHUR chops the BLACK KNIGHT's last leg off] \", \" Ooh.  All right, we'll call it a draw.\", ' Come, Patsy.', \" Oh.  Oh, I see.  Running away, eh?  You yellow bastards!  Come back here and take what's coming to you.  I'll bite your legs off\", 'SCENE 5:', ' [chanting] Pie Iesu domine, dona eis requiem. [bonk] Pie Iesu domine, ... [bonk] ... dona eis requiem. [bonk] Pie Iesu domine, ... [bonk] ... dona eis requiem.', ' A witch!  A witch! [bonk] A witch!  A witch!', ' [chanting] Pie Iesu domine...', \" A witch!  A witch!  A witch!  A witch!  We've found a witch!  A witch!  A witch!  A witch!  A witch!  We've got a witch!  A witch!  A witch!  Burn her!  Burn her!  Burn her!  We've found a witch!  We've found a witch!  A witch!  A witch!  A witch!\", ' We have found a witch.  May we burn her?', ' Burn her!  Burn!  Burn her!  Burn her!', ' How do you know she is a witch?', ' She looks like one.', ' Right!  Yeah!  Yeah!', ' Bring her forward.', \" I'm not a witch.  I'm not a witch.\", ' Uh, but you are dressed as one.', ' They dressed me up like this.', \" Augh, we didn't!  We didn't...\", \" And this isn't my nose.  It's a false one.\", ' Well?', ' Well, we did do the nose.', ' The nose?', ' And the hat, but she is a witch!', ' Yeah!', ' We burn her!  Right!  Yeaaah!  Yeaah!', ' Did you dress her up like this?', ' No!', 'VILLAGER #2 and 3: No.  No.', ' No.', ' No.', 'VILLAGERS #2 and #3: No.', ' Yes.', ' Yes.', ' Yes.  Yeah, a bit.', ' A bit.', 'VILLAGERS #1 and #2: A bit.', ' A bit.', ' She has got a wart.', ' [cough] ', ' What makes you think she is a witch?', ' Well, she turned me into a newt.', ' A newt?', ' I got better.', ' Burn her anyway!', ' Burn!', ' Burn her!  Burn!  Burn her! ...', ' Quiet!  Quiet!  Quiet!  Quiet!  There are ways of telling whether she is a witch.', ' Are there?', ' Ah?', ' What are they?', ' Tell us!  Tell us! ...', ' Tell me, what do you do with witches?', ' Burn!', ' Burn!', ' Burn!  Burn them up!  Burn! ...', ' And what do you burn apart from witches?', ' More witches!', ' Shh!', ' Wood!', ' So, why do witches burn? [pause] ', \" B--...  'cause they're made of...  wood?\", ' Good!  Heh heh.', ' Oh yeah.  Oh.', ' So, how do we tell whether she is made of wood?', ' Build a bridge out of her.', ' Ah, but can you not also make bridges out of stone?', ' Oh, yeah.', ' Oh, yeah.  True.  Uhh...', ' Does wood sink in water?', ' No.  No.', ' No, it floats!  It floats!', ' Throw her into the pond!', ' The pond!  Throw her into the pond!', ' What also floats in water?', ' Bread!', ' Apples!', ' Uh, very small rocks!', ' Cider!', ' Uh, gra-- gravy!', ' Cherries!', ' Mud!', ' Churches!  Churches!', ' Lead!  Lead!', ' A duck!', ' Oooh.', ' Exactly.  So, logically...', \" If...  she...  weighs...  the same as a duck, ...  she's made of wood.\", ' And therefore?', ' A witch!', ' A witch!', ' A witch!  A witch! ...', ' Here is a duck.  Use this duck. [quack quack quack] ', ' We shall use my largest scales.', ' Ohh!  Ohh!  Burn the witch!  Burn the witch!  Burn her!  Burn her!  Burn her!  Burn her!  Burn her!  Burn her!  Burn her!  Ahh!  Ahh...', ' Right.  Remove the supports! [whop] [clunk] [creak] ', ' A witch!  A witch!  A witch!', \" It's a fair cop.\", ' Burn her!', ' Burn her!  Burn her!  Burn her!  Burn!  Burn! ...', ' Who are you who are so wise in the ways of science?', ' I am Arthur, King of the Britons.', ' My liege!', ' Good Sir Knight, will you come with me to Camelot, and join us at the Round Table?', ' My liege!  I would be honored.', ' What is your name?', ' Bedevere, my liege.', ' Then I dub you Sir Bedevere, Knight of the Round Table', \" The wise Sir Bedevere was the first to join King Arthur's knights, but other illustrious names were soon to follow: Sir Lancelot the Brave; Sir Gallahad the Pure; and Sir Robin the-not-quite-so-brave-as-Sir-Lancelot, who had nearly fought the Dragon of Angnor, who had nearly stood up to the vicious Chicken of Bristol, and who had personally wet himself at the Battle of Badon Hill; and the aptly named Sir Not-appearing-in-this-film.  Together they formed a band whose names and deeds were to be retold throughout the centuries: the Knights of the Round Table\", 'SCENE 6: [clop clop clop] ', ' And that, my liege, is how we know the earth to be banana-shaped.', \" This new learning amazes me, Sir Bedevere.  Explain again how sheep's bladders may be employed to prevent earthquakes.\", ' Oh, certainly, sir.', ' Look, my liege! [trumpets] ', ' Camelot!', ' Camelot!', ' Camelot!', \" It's only a model.\", ' Shh!  Knights, I bid you welcome to your new home.  Let us ride... to...  Camelot! [in medieval hall] ', \" [singing] We're knights of the round table.  We dance when e'er we're able.  We do routines and chorus scenes With footwork impeccable.  We dine well here in Camelot.  We eat ham and jam and spam a lot [dancing] We're knights of the Round Table. Our shows are formidable, But many times we're given rhymes That are quite unsingable. We're opera mad in Camelot. We sing from the diaphragm a lot [in dungeon] \", ' [clap clap clap clap] [in medieval hall] ', \" [tap-dancing] In war we're tough and able, Quite indefatigable.  Between our quests we sequin vests and impersonate Clark Gable.  It's a busy life in Camelot.\", ' I have to push the pram a lot [outdoors] ', \" Well, on second thought, let's not go to Camelot.  It is a silly place.\", ' Right.  Right', 'SCENE 7: [clop clop clop] [boom boom] [angels sing] ', \" Arthur!  Arthur, King of the Britons!  Oh, don't grovel! [singing stops] One thing I can't stand, it's people groveling.\", ' Sorry. [boom] ', \" And don't apologise.  Every time I try to talk to someone it's 'sorry this' and 'forgive me that' and 'I'm not worthy'. [boom] What are you doing now?!\", \" I'm averting my eyes, O Lord.\", \" Well, don't.  It's like those miserable Psalms-- they're so depressing. Now knock it off!\", ' Yes, Lord.', ' Right!  Arthur, King of the Britons, your Knights of the Round Table shall have a task to make them an example in these dark times.', ' Good idea, O Lord!', \" 'Course it's a good idea!  Behold! [angels sing] Arthur, this is the Holy Grail.  Look well, Arthur, for it is your sacred task to seek this grail.  That is your purpose, Arthur...  the quest for the Holy Grail. [boom] [singing stops] \", ' A blessing!  A blessing from the Lord!', ' God be praised', 'SCENE 8: [King Arthur music] [clop clop clop] ', ' Halt! [horn] Hallo! [pause] Hallo!', ' Allo!  Who is eet?', \" It is King Arthur, and these are my Knights of the Round Table.  Who's castle is this?\", ' This is the castle of my master Guy de Loimbard.', ' Go and tell your master that we have been charged by God with a sacred quest.  If he will give us food and shelter for the night he can join us in our quest for the Holy Grail.', \" Well, I'll ask him, but I don't think he'll be very keen.  Uh, he's already got one, you see?\", ' What?', \" He says they've already got one!\", \" Are you sure he's got one?\", \" Oh, yes, it's very nice-a.  (I told him we already got one.)\", ' Well, u-- um, can we come up and have a look?', ' Of course not!  You are English types-a!', ' Well, what are you then?', \" I'm French!  Why do think I have this outrageous accent, you silly king-a?!\", ' What are you doing in England?', ' Mind your own business!', ' If you will not show us the Grail, we shall take your castle by force!', \" You don't frighten us, English pig-dogs!  Go and boil your bottom, sons of a silly person.  I blow my nose at you, so-called Arthur King, you and all your silly English k-nnnnniggets.  Thpppppt!  Thppt! Thppt!\", ' What a strange person.', ' Now look here, my good man--', \" I don't wanna talk to you no more, you empty headed animal food trough wiper!  I fart in your general direction!  You mother was a hamster and your father smelt of elderberries!\", ' Is there someone else up there we could talk to?', ' No, now go away or I shall taunt you a second time-a! [sniff] ', \" Now, this is your last chance.  I've been more than reasonable.\", ' (Fetchez la vache.)', 'OTHER  Quoi?', ' (Fetchez la vache!) [mooo] ', ' If you do not agree to my commands, then I shall-- [twong] [mooooooo] Jesus Christ!', ' Christ! [thud] Ah!  Ohh!', ' Right!  Charge!', ' Charge! [mayhem] ', ' Hey, this one is for your mother!  There you go. [mayhem] ', \" And this one's for your dad!\", ' Run away!', ' Run away!', ' Thppppt!', ' [taunting] ', \" Fiends!  I'll tear them apart!\", ' No, no.  No, no.', ' Sir!  I have a plan, sir. [later] [wind] [saw saw saw saw saw saw saw saw saw saw saw saw saw saw saw saw] [clunk] [bang] [rewr!] [squeak squeak squeak squeak squeak squeak squeak squeak squeak squeak] [rrrr rrrr rrrr] [drilllll] [sawwwww] [clunk] [crash] [clang] [squeak squeak squeak squeak squeak...] [creak] ', \" [whispering] C'est un lapin, lapin de bois.  Quoi?  Un cadeau.  What?  A present.  Oh, un cadeau.  Oui, oui.  Hurry.  What?  Let's go.  Oh. On y va.  Bon magne.  Over here... [squeak squeak squeak squeak squeak...] [clllank] \", ' What happens now?', ' Well, now, uh, Launcelot, Galahad, and I, uh, wait until nightfall, and then leap out of the rabbit, taking the French, uh, by surprise.  Not only by surprise, but totally unarmed!', ' Who leaps out?', ' U-- u-- uh, Launcelot, Galahad, and I.  Uh, leap out of the rabbit, uh, and uh...', ' Ohh.', ' Oh.  Um, l-- look, i-- i-- if we built this large wooden badger-- [clank] [twong] ', ' Run away!', ' Run away!  Run away!  Run away!  Run away!  Run away!  Run away!  Run away! [CRASH] ', ' Oh, haw haw haw haw!  Haw!  Haw haw heh..', 'SCENE 9: [clack] ', ' Picture for Schools, take eight.', ' Action!', ' Defeat at the castle seems to have utterly disheartened King Arthur.  The ferocity of the French taunting took him completely by surprise, and Arthur became convinced that a new strategy was required if the quest for the Holy Grail were to be brought to a successful conclusion.  Arthur, having consulted his closest knights, decided that they should separate, and search for the Grail individually. [clop clop clop] Now, this is what they did: Launcelot--', ' Aaaah! [slash] [KNIGHT kills HISTORIAN] ', \"HISTORIAN'S  Frank\", 'SCENE 10: [trumpets] ', ' The Tale of Sir Robin.  So each of the knights went their separate ways.  Sir Robin rode north, through the dark forest of Ewing, accompanied by his favorite minstrels.', ' [singing] Bravely bold Sir Robin, rode forth from Camelot.  He was not afraid to die, O brave Sir Robin.  He was not at all afraid to be killed in nasty ways.  Brave, brave, brave, brave Sir Robin!  He was not in the least bit scared to be mashed into a pulp, Or to have his eyes gouged out, and his elbows broken.  To have his kneecaps split, and his body burned away, And his limbs all hacked and mangled, brave Sir Robin!', 'His head smashed in and his heart cut out, And his liver removed and his bowels unplugged, And his nostrils raped and his bottom burned off, And his pen--', \" That's-- that's, uh-- that's enough music for now, lads.  Heh.  Looks like there's dirty work afoot.\", ' Anarcho-syndicalism is a way of preserving freedom.', \" Oh, Dennis, forget about freedom.  We haven't got enough mud.\", ' Halt!  Who art thou?', ' [singing] He is brave Sir Robin, brave Sir Robin, who--', \" Shut up!  Um, n-- n-- n-- nobody really, I'm j-- j-- j-- ju-- just um, just passing through.\", ' What do you want?', ' [singing] To fight and--', ' Shut up!  Um, oo, a-- nothing, nothing really.  I, uh, j-- j-- just--just to um, just to p-- pass through, good Sir Knight.', \" I'm afraid not!\", ' Ah.  W-- well, actually I-- I am a Knight of the Round Table.', \" You're a Knight of the Round Table?\", ' I am.', ' In that case I shall have to kill you.', ' Shall I?', \" Oh, I don't think so.\", ' Well, what do I think?', ' I think kill him.', \" Oh, let's be nice to him.\", ' Oh shut up.', ' Perhaps I could--', ' And you.  Oh, quick!  Get the sword out.  I want to cut his headoff!', ' Oh, cut your own head off!', ' Yes, do us all a favor!', ' What?', ' Yapping on all the time.', \" You're lucky.  You're not next to him.\", ' What do you mean?', ' You snore!', \" Oh, I don't.  Anyway, you've got bad breath.\", \" Well it's only because you don't brush my teeth.\", \" Oh stop bitching and let's go have tea.\", \" Oh, all right.  All right.  All right.  We'll kill him first and then have tea and biscuits.\", ' Yes.', ' Oh, not biscuits.', \" All right.  All right, not biscuits, but let's kill him anyway.\", ' Right!', ' He buggered off.', \" So he has.  He's scarper\", ' [singing] Brave Sir Robin ran away.', ' No!', ' [singing] Bravely ran away away.', \" I didn't!\", ' [singing] When danger reared its ugly head, he bravely turned his tail and fled.', ' No!', ' [singing] Yes, brave Sir Robin turned about', \" I didn't!\", ' [singing] And gallantly he chickened out, bravely taking to his feet.', ' I never did!', ' [singing] He beat a very brave retreat.', ' All lies!', ' [singing] Bravest of the brave, Sir Robin.', ' I never', ' [chanting] Pie Iesu domine, dona eis requiem.', ' Heh heh heeh ooh... [twang] ', ' [chanting] Pie Iesu domine, ...', ' Wayy! [splash] Ho ho.  Woa, wayy! [twang] [splash] Heh heh heh heh ho!  Heh heh heh!', ' [chanting] ... dona eis requiem.', ' Wayy! [twang] Wayy! [twang] ', ' [whispering] Forgive me for asking.', ' Oh!  Oooo', 'SCENE 11: [trumpets] ', ' The Tale of Sir Galahad. [boom] [wind] [howl] [howl] [boom] [angels singing] [howl] [boom] [howl] [boom] [pound pound pound] ', ' Open the door!  Open the door! [pound pound pound] In the name of King Arthur, open the door! [squeak] [thump] [squeak] [boom] ', ' Hello!', ' Welcome gentle Sir Knight.  Welcome to the Castle Anthrax.', ' The Castle Anthrax?', \" Yes.  Oh, it's not a very good name is it?  Oh, but we are nice and we will attend to your every, every need!\", ' You are the keepers of the Holy Grail?', ' The what?', ' The Grail.  It is here.', ' Oh, but you are tired, and you must rest awhile.  Midget!  Crapper!', 'MIDGET and  Yes, O Zoot?', ' Prepare a bed for our guest.', 'MIDGET and  Oh thank you!  Thank you!  Thank you!  Thank you!  Thank you!  Thank you! ...', ' Away, away varletesses.  The beds here are warm and soft, and very, very big.', ' Well, look, I-- I-- uh--', ' What is your name, handsome knight?', ' Sir Galahad...  the Chaste.', ' Mine is Zoot.  Just Zoot.  Oh, but come.', \" Look, please!  In God's name, show me the Grail!\", ' Oh, you have suffered much.  You are delirious.', ' No, look.  I have seen it!  It is here, in this--', ' Sir Galahad!  You would not be so ungallant as to refuse our hospitality.', ' Well, I-- I-- uh--', ' Oh, I am afraid our life must seem very dull and quiet compared to yours.  We are but eight score young blondes and brunettes, all between sixteen and nineteen-and-a-half, cut off in this castle with no one to protect us.  Oooh.  It is a lonely life: bathing, dressing, undressing, making exciting underwear.  We are just not used to handsome knights.  Nay.  Nay.  Come.  Come.  You may lie here.  Oh, but you are wounded!', \" No, no-- it's-- it's nothing.\", ' Oh, you must see the doctors immediately!  No, no, please!  Lie down. [clap clap] ', ' Well, what seems to be the trouble?', \" They're doctors?!\", ' Uh, they have a basic medical training, yes.', ' B-- but--', ' Oh, come, come.  You must try to rest.  Doctor Piglet!  Doctor Winston!  Practice your art.', ' Try to relax.', \" Are you sure that's absolutely necessary?\", ' We must examine you.', \" There's nothing wrong with that!\", ' Please.  We are doctors.', ' Look!  This cannot be.  I am sworn to chastity.', ' Back to your bed!  At once!', ' Torment me no longer.  I have seen the Grail!', \" There's no grail here.\", ' I have seen it!  I have seen it! [clank] I have seen--', ' Hello.', ' Oh.', ' Hello.  Hello.  Hello.  Hello.  Hello.  Hello.  Hello.  Hello.  Hello.  Hello.  Hello.  Hello.  Hello.  Hello.  Hello.  Hello.  Hello.  Hello.  Hello.  Hello.  Hello.  Hello.  Hello.', ' Zoot!', \" No, I am Zoot's identical twin sister, Dingo.\", ' Oh, well, excuse me, I--', ' Where are you going?', ' I seek the Grail!  I have seen it, here in this castle!', ' Oh no.  Oh, no!  Bad, bad Zoot!', ' Well, what is it?', \" Oh, wicked, bad, naughty Zoot!  She has been setting alight to our beacon, which, I have just remembered, is grail-shaped.  It's not the first time we've had this problem.\", \" It's not the real Grail?\", \" Oh, wicked, bad, naughty, evil Zoot!  She is a bad person and must pay the penalty.  Do you think this scene should have been cut?  We were so worried when the boys were writing it, but now, we're glad.  It's better than some of the previous scenes, I think.\", ' At least ours was better visually.', \" Well, at least ours was committed.  It wasn't just a string of pussy jokes.\", ' Get on with it.', 'TIM  Yes, get on with it!', 'ARMY  Yes, get on with it!', ' Oh, I am enjoying this scene.', ' Get on with it!', ' [sigh] Oh, wicked, wicked Zoot.  Oh, she is a naughty person, and she must pay the penalty.  And here in Castle Anthrax, we have but one punishment for setting alight the grail-shaped beacon.  You must tie her down on a bed and spank her.', ' A spanking!  A spanking!', ' You must spank her well.  And after you have spanked her, you may deal with her as you like.  And then, spank me.', ' And spank me.', ' And me.', ' And me.', ' Yes, yes, you must give us all a good spanking!', ' A spanking!  A spanking!  There is going to be a spanking tonight!', ' And after the spanking, the oral sex.', ' The oral sex!  The oral sex!', ' Well, I could stay a bit longer.', ' Sir Galahad!', ' Oh, hello.', ' Quick!', ' What?', ' Quick!', ' Why?', ' You are in great peril!', \" No he isn't.\", ' Silence, foul temptress!', \" You know, she's got a point.\", ' Come on!  We will cover your escape!', \" Look, I'm fine!\", ' Come on!', ' Sir Galahad!', ' No.  Look, I can tackle this lot single-handed!', ' Yes!  Let him tackle us single-handed!', ' Yes!  Let him tackle us single-handed!', ' No, Sir Galahad.  Come on!', ' No!  Really!  Honestly, I can cope.  I can handle this lot easily.', ' Oh, yes.  Let him handle us easily.', ' Yes.  Let him handle us easily.', ' No.  Quick!  Quick!', \" Please!  I can defeat them!  There's only a hundred-and-fifty of them!\", \" Yes, yes!  He will beat us easily!  We haven't a chance.\", \" We haven't a chance.  He will beat us easily... [boom] \", ' Oh, shit.', ' We were in the nick of time.  You were in great peril.', \" I don't think I was.\", ' Yes you were.  You were in terrible peril.', ' Look, let me go back in there and face the peril.', \" No, it's too perilous.\", \" Look, it's my duty as a knight to sample as much peril as I can.\", \" No, we've got to find the Holy Grail.  Come on!\", ' Oh, let me have just a little bit of peril?', \" No.  It's unhealthy.\", \" I bet you're gay.\", \" No I'm not\", \" Sir Launcelot had saved Sir Galahad from almost certain temptation, but they were still no nearer the Grail.  Meanwhile, King Arthur and Sir Bedevere, not more than a swallow's flight away, had discovered something.  Oh, that's an unladen swallow's flight, obviously.  I mean, they were more than two laden swallows' flights away-- four, really, if they had a coconut on a line between them.  I mean, if the birds were walking and dragging--\", ' Get on with it!', \" Oh, anyway.  On to scene twenty-four, which is a smashing scene with some lovely acting, in which Arthur discovers a vital clue, and in which there aren't any swallows, although I think you can hear a starling-- oooh\", 'SCENE 12:', ' Heh, hee ha ha hee hee!  Hee hee hee ha ha ha...', ' And this enchanter of whom you speak, he has seen the Grail?', ' ... Ha ha ha ha!  Heh, hee ha ha hee!  Ha hee ha!  Ha ha ha ha...', ' Where does he live?', ' ... Heh heh heh heh...', ' Old man, where does he live?', ' ... Hee ha ha ha.  He knows of a cave, a cave which no man has entered.', ' And the Grail.  The Grail is there?', ' There is much danger, for beyond the cave lies the Gorge of Eternal Peril, which no man has ever crossed.', ' But the Grail!  Where is the Grail?!', ' Seek you the Bridge of Death.', ' The Bridge of Death, which leads to the Grail?', ' Heh, hee hee hee hee!  Ha ha ha ha ha!  Hee ha ha..', 'SCENE 13: [spooky music] [music stops] ', 'HEAD KNIGHT  Ni!', 'KNIGHTS  Ni!  Ni!  Ni!  Ni!  Ni!', ' Who are you?', \" We are the Knights Who Say...  'Ni'!\", ' Ni!', \" No!  Not the Knights Who Say 'Ni'!\", ' The same!', ' Who are they?', ' We are the keepers of the sacred words: Ni, Peng, and Neee-wom!', ' Neee-wom!', ' Those who hear them seldom live to tell the tale!', \" The Knights Who Say 'Ni' demand a sacrifice!\", ' Knights of Ni, we are but simple travellers who seek the enchanter who lives beyond these woods.', ' Ni!', 'KNIGHTS  Ni!  Ni!  Ni!  Ni!  Ni! ...', ' Ow!  Ow!  Ow!  Agh!', \" We shall say 'ni' again to you if you do not appease us.\", ' Well, what is it you want?', ' We want...  a shrubbery! [dramatic chord] ', ' A what?', 'KNIGHTS  Ni!  Ni!  Ni!  Ni!', 'ARTHUR and  Ow!  Oh!', ' Please, please!  No more!  We will find you a shrubbery.', ' You must return here with a shrubbery or else you will never pass through this wood alive!', ' O Knights of Ni, you are just and fair, and we will return with a shrubbery.', ' One that looks nice.', ' Of course.', ' And not too expensive.', ' Yes.', ' Now...  go [trumpets] ', ' Hmm hmm-- [boom] Oh!  Great scott!  Hm.  Hmm. [boom] Hm!  Hmm.  [mumble mumble mumble] [boom] [mumble mumble mumble] [boom] [mumble mumble mumble] [boom] [mumble mumble mumble] [boom] [mumble mumble mumble] [boom] [mumble mumble mumble] [boom] [mumble mumble mumble] [boom] [mumble mumble mumble] [boom] Ohh! [crash] [mumble mumble mumble] [boom] ', ' Ay, up!  Thsss. [boom] Ayy, up! [boom] Thsss. [boom] Ayy, up!', ' Stop that!  Stop that! [boom] ', ' Ay, up!', ' Stop that! [boom] Look on!  Clear off!  Go on!  Go away!  Go away!  Go away!  And you!  Clear off!  [sniff] ', ' [mumble mumble mumble] [bells] ', ' Hah.  Bloody weather', 'SCENE 14:', ' The Tale of Sir Launcelot.', ' One day, lad, all this will be yours!', ' What, the curtains?', \" No.  Not the curtains, lad.  All that you can see, stretched out over the hills and valleys of this land!  This'll be your kingdom, lad.\", ' But Mother--', ' Father, lad.  Father.', \" B-- b-- but Father, I don't want any of that.\", \" Listen, lad.  I built this kingdom up from nothing.  When I started here, all there was was swamp.  Other kings said I was daft to build a castle on a swamp, but I built it all the same, just to show 'em.  It sank into the swamp.  So, I built a second one.  That sank into the swamp.  So I built a third one.  That burned down, fell over, then sank into the swamp.  But the fourth one...  stayed up!  And that's what you're gonna get, lad: the strongest castle in these islands.\", \" But I don't want any of that.  I'd rather--\", ' Rather what?!', \" I'd rather... [music] ... just...  sing!\", \" Stop that!  Stop that!  You're not going into a song while I'm here.  Now listen, lad.  In twenty minutes you're getting married to a girl whose father owns the biggest tracts of open land in Britain.\", \" B-- but I don't want land.\", ' Listen, Alice,--', ' Herbert.', \" 'Erbert.  We live in a bloody swamp.  We need all the land we can get.\", \" But-- but I don't like her.\", \" Don't like her?!  What's wrong with her?!  She's beautiful.  She's rich.  She's got huge...  tracts o' land.\", ' I know, but I want the-- the girl that I marry to have...  [music] ... a certain...  special...  something!', \" Cut that out!  Cut that out!  Look, you're marrying Princess Lucky, so you'd better get used to the idea! [smack] Guards!  Make sure the Prince doesn't leave this room until I come and get him.\", ' Not to leave the room even if you come and get him.', ' Hic!', ' No, no.  Until I come and get him.', \" Until you come and get him, we're not to enter the room.\", \" No, no.  No.  You stay in the room and make sure he doesn't leave.\", \" And you'll come and get him.\", ' Hic!', ' Right.', \" We don't need to do anything, apart from just stop him entering the room.\", ' No, no.  Leaving the room.', ' Leaving the room.  Yes. [sniff] ', ' All right?', ' Right.', ' Hic!', ' Right.', ' Oh, if-- if-- if-- uhh-- if-- if-- w-- ehh-- i-- if-- if we--', ' Yes?  What is it?', ' Oh, i-- if-- i-- oh--', \" Look, it's quite simple.\", ' Uh...', \" You just stay here, and make sure 'e doesn't leave the room.  Alright?\", ' Hic!', ' Right.', ' Oh, I remember.  Uhh, can he leave the room with us?', ' N-- no no.  No.  You just keep him in here, and make sure he--', \" Oh, yes.  We'll keep him in here, obviously.  But if he had to leave and we were with him--\", ' No, no, no, no.  Just keep him in here--', ' Until you, or anyone else--', ' No, not anyone else.  Just me.', ' Just you.', ' Hic!', ' Get back.', ' Get back.', ' All right?', \" Right.  We'll stay here until you get back.\", ' Hic!', \" And, uh, make sure he doesn't leave.\", ' What?', \" Make sure 'e doesn't leave.\", ' The Prince?', \" Yes.  Make sure 'e doesn't leave.\", ' Oh, yes, of course.  ', ' Hic!', \" Ah.  I thought you meant him.  You know, it seemed a bit daft me havin' to guard him when he's a guard.\", ' Is that clear?', ' Hic!', ' Oh, quite clear.  No problems.', ' Right.  Where are you going?', \" We're coming with you.\", \" No, no.  I want you to stay here and make sure 'e doesn't leave.\", ' Oh, I see.  Right.', ' But Father!', ' Shut your noise, you!  And get that suit on! [music] And no singing!', ' Hic!', ' Oh, go and get a glass of water. [clank] [scribble scribble scribble fold fold] [twong]', 'SCENE 15:', ' Well taken, Concorde!', ' Thank you, sir!  Most kind.', ' And again!  Over we go!  Good.  Steady!  And now, the big one!  Uuh!  Come on, Concorde! [thwonk] ', ' Message for you, sir. [fwump] ', \" Concorde!  Concorde!  Speak to me!  'To whoever finds this note: I have been imprisoned by my father, who wishes me to marry against my will.  Please, please, please come and rescue me.  I am in the Tall Tower of Swamp Castle.' At last!  A call!  A cry of distress!  This could be the sign that leads us to the Holy Grail!  Brave, brave Concorde, you shall not have died in vain!\", \" Uh, I'm-- I'm not quite dead, sir.\", ' Well, you shall not have been mortally wounded in vain!', ' I-- I-- I think I c-- I could pull through, sir.', ' Oh, I see.', \" Actually, I think I'm all right to come with you, sir--\", ' No, no, sweet Concorde!  Stay here!  I will send help as soon as I have accomplished a daring and heroic rescue in my own particular...  [sigh] ', ' Idiom, sir?', ' Idiom!', ' No, I feel fine, actually, sir.', ' Farewell, sweet Concorde!', \" I'll, um, I'll just stay here then.  Shall I, sir?  Yeah\", 'SCENE 16: [inside castle] ', 'PRINCESS LUCKY and  [giggle giggle giggle] [outside castle] ', \" 'Morning!\", \" 'Morning.\", ' Oooh.', ' [ptoo] ', ' Ha ha!  Hiyya!', ' Hey!', ' Hiyya!, Ha!, etc.', 'PRINCESS LUCKY and  [giggle giggle giggle] ', ' Ha ha!  Huy!', ' Uuh!  Aaah!', ' Ha ha!  And take this!  Aah!  Hiyah!  Aah!  Aaah!  Hyy!  Hya!  Hiyya!  Ha! ...', \" Now, you're not allowed to enter the room-- aaugh!\", \" O fair one, behold your humble servant Sir Launcelot of Camelot.  I have come to take y-- Oh, I'm terribly sorry.\", ' You got my note!', ' Uh, well, I-- I got a-- a note.', \" You've come to rescue me!\", \" Uh, well, no.  You see, I hadn't--\", ' I knew someone would.  I knew that somewhere out there...  [music] ', ' Well, I--', ' ... there must be...  someone...', ' Stop that!  Stop that!  Stop it!  Stop it!  Who are you?', \" I'm your son!\", ' No, not you.', ' Uh, I am Sir Launcelot, sir.', \" He's come to rescue me, Father.\", \" Well, let's not jump to conclusions.\", ' Did you kill all those guards?', ' Uh...  Oh, yes.  Sorry.', ' They cost fifty pounds each!', \" Well, I'm awfully sorry.  Um, I really can explain everything.\", \" Don't be afraid of him, Sir Launcelot.  I've got a rope all ready.\", ' You killed eight wedding guests in all!', ' Well, uh, you see, the thing is, I thought your son was a lady.', ' I can understand that.', ' Hurry, Sir Launcelot!  Hurry!', \" Shut up!  You only killed the bride's father, that's all!\", \" Well, I really didn't mean to...\", \" Didn't mean to?!  You put your sword right through his head!\", ' Oh, dear.  Is he all right?', ' You even kicked the bride in the chest!  This is going to cost me a fortune!', ' Well, I can explain.  I was in the forest, um, riding north from Camelot, when I got this note, you see--', ' Camelot?  Are you from, uh, Camelot?', ' Hurry, Sir Launcelot!', ' Uh, I am a Knight of King Arthur, sir.', ' Very nice castle, Camelot.  Uh, very good pig country...', ' Is it?', \" Hurry!  I'm ready!\", ' Would you, uh, like to come and have a drink?', \" Well, that-- that's, uh, awfully nice of you, ...\", ' I am ready!', ' ... um, I mean to be so understanding. [thonk] Um, ... [woosh] ', ' Oooh!', \" ... I'm afraid when I'm in this idiom, I sometimes get a bit, uh, sort of carried away.\", \" Oh, don't worry about that.\", ' Oooh! [splat] ', 'SCENE 17:', ' [crying] ', \" Well, this is the main hall.  We're going to have all this knocked through, and made into one big, uh, living room.\", ' There he is!', ' Oh, bloody hell.', ' Ha ha ha!  Hey!  Ha ha!', ' Hold it!  Stop it!  Hold it!  Hold it!  Hold it!  Hold it!  Hold it!  Please!', \" Sorry.  Sorry.  You see what I mean?  I just get carried away.  I'm really most awfully sorry.  Sorry!  Sorry, everyone.\", \" He's killed the best man!\", ' [yelling] ', ' Hold it!  Hold it!  Please!  Hold it!  This is Sir Launcelot from the Court of Camelot, a very brave and influential knight, and my special guest here today.', ' Hello.', ' He killed my auntie!', ' [yelling] ', \" Please!  Please!  This is supposed to be a happy occasion!  Let's not bicker and argue about who killed who.  We are here today to witness the union of two young people in the joyful bond of the holy wedlock.  Unfortunately, one of them, my son Herbert, has just fallen to his death.\", ' Oh!  Oh no!', \" But I don't want to think I've not lost a son, so much as...  gained a daughter! [clap clap clap] For, since the tragic death of her father--\", \" He's not quite dead!\", ' Since the near fatal wounding of her father--', \" He's getting better!\", ' For, since her own father, who, when he seemed about to recover, suddenly felt the icy hand of death upon him.', \"BRIDE'S  Uugh!\", \" Oh, he's died!\", ' And I want his only daughter to look upon me as her old dad, in a very real, and legally binding sense. [clap clap clap] And I feel sure that the merger-- er, the union between the Princess and the brave, but dangerous, Sir Launcelot of Camelot--', ' What?', ' Look!  The dead Prince!', ' Oooh!  The dead Prince!', \" He's not quite dead.\", ' No, I feel much better.', ' You fell out of the Tall Tower, you creep!', ' No, I was saved at the last minute.', ' How?!', \" Well, I'll tell you. [music] \", ' Not like that!  Not like that!  No!  Stop it!', \" [singing] He's going to tell!  He's going to tell! ...\", ' Shut uuup!', \" [singing] He's going to tell! ...\", ' Shut up!', \" [singing] He's going to tell! ...\", ' Shut up!', \" [singing] He's going to tell! ...\", ' Not like that!', \" [singing] He's going to tell!  He's going to tell!  He's going to tell!  He's going to tell! ...\", ' Quickly, sir!', \" [singing] He's going to tell! ...\", ' Come this way!', \" [singing] He's going to tell!  He's going to tell! ...\", \" No!  It's not right for my idiom!\", \" [singing] He's going to tell about his great escape...\", ' I must escape more...  [sigh] ', ' [singing] Oh, he fell a long, long way...', ' Dramatically, sir?', ' Dramatically!', \" [singing] But he's here with us today...\", ' Heee!  Hoa! [crash] Hoo!', ' [singing] What a wonderful escape!', ' Excuse me.  Could, uh-- could somebody give me a push, please', 'SCENE 18: [King Arthur music] [clop clop clop] [rewr!  rewr!  rewr!  rewr!  rewr!  rewr!] ', ' Old crone! [rewr!] [music stops] Is there anywhere in this town where we could buy a shrubbery? [dramatic chord] ', ' Who sent you?', \" The Knights Who Say 'Ni'.\", ' Aggh!  No!  Never!  We have no shrubberies here.', \" If you do not tell us where we can buy a shrubbery, my friend and I will say...  we will say...  'ni'.\", ' Agh!  Do your worst!', ' Very well!  If you will not assist us voluntarily, ...  ni!', ' No!  Never!  No shrubberies!', ' Ni!', ' [cough] ', ' Nu!', ' No, no, no, no...', ' Nu!', \" No, it's not that, it's 'ni'.\", ' Nu!', \" No, no-- 'ni'.  You're not doing it properly.  No.\", ' Ni!', 'ARTHUR and  Ni!', \" That's it.  That's it.  You've got it.\", 'ARTHUR and  Ni!', ' Ohh!', ' Ni!', ' Ni!', ' Agh!', ' Ni!', ' Ni!', ' Ni!', ' Ni!', ' Ni!', \"ROGER  Are you saying 'ni' to that old woman?\", ' Erm, yes.', \" Oh, what sad times are these when passing ruffians can 'ni' at will to old ladies.  There is a pestilence upon this land.  Nothing is sacred. Even those who arrange and design shrubberies are under considerable economic stress at this period in history.\", \" Did you say 'shrubberies'?\", ' Yes.  Shrubberies are my trade.  I am a shrubber.  My name is Roger the Shrubber.  I arrange, design, and sell shrubberies.', ' Ni!', ' No!  No, no, no!  No', 'SCENE 19:', ' O Knights of Ni, we have brought you your shrubbery.  May we go now?', ' It is a good shrubbery.  I like the laurels particularly.  But there is one small problem.', ' What is that?', \" We are now...  no longer the Knights Who Say 'Ni'.\", 'KNIGHTS  Ni!  Shh!', \" Shh!  We are now the Knights Who Say 'Ecky-ecky-ecky-ecky-pikang-zoop-boing-goodem-zoo-owli-zhiv'.\", ' Ni!', ' Therefore, we must give you a test.', \" What is this test, O Knights of-- Knights Who 'Til Recently Said 'Ni'?\", ' Firstly, you must find...  another shrubbery! [dramatic chord] ', ' Not another shrubbery!', ' Ni!', ' Then, when you have found the shrubbery, you must place it here beside this shrubbery, only slightly higher so you get the two-level effect with a little path running down the middle.', 'KNIGHTS  A path!  A path!  A path!  Ni!  Shh!  Ni!  Ni!  Ni!  Shh!  Shh! ...', ' Then, when you have found the shrubbery, you must cut down the mightiest tree in the forest...  with...  a herring! [dramatic chord] ', ' We shall do no such thing!', ' Oh, please!', \" Cut down a tree with a herring?  It can't be done.\", 'KNIGHTS  Aaaugh!  Aaaugh!', \" Augh!  Ohh!  Don't say that word.\", ' What word?', ' I cannot tell, suffice to say is one of the words the Knights of Ni cannot hear.', \" How can we not say the word if you don't tell us what it is?\", 'KNIGHTS  Aaaaugh!', ' You said it again!', \" What, 'is'?\", \"KNIGHTS  Agh!  No, not 'is'.\", \" No, not 'is'.  You wouldn't get vary far in life not saying 'is'.\", \"KNIGHTS  No, not 'is'.  Not 'is'.\", \" My liege, it's Sir Robin!\", ' [singing] Packing it in and packing it up, And sneaking away and buggering up, And chickening out and pissing off home, Yes, bravely he is throwing in the sponge.', ' Sir Robin!', \" My liege!  It's good to see you.\", \" Now he's said the word!  \", \" Surely you've not given up your quest for the Holy Grail?\", ' [singing] He is sneaking away and buggering up--', ' Shut up!  No, no.  No.  Far from it.', ' He said the word again!', 'KNIGHTS  Aaaaugh!', ' I was looking for it.', 'KNIGHTS  Aaaaugh!', ' Uh, here-- here in this forest.', ' No, it is far from this place.', 'KNIGHTS  Aaaaugh!', ' Aaaaugh!  Stop saying the word!  The word...', ' Oh, stop it!', 'KNIGHTS  ... we cannot hear!', ' Ow!  He said it again!', ' Patsy!', \" Wait!  I said it!  I said it! [clop clop clop] Ooh!  I said it again!  And there again!  That's three 'it's!  Ohh!\", 'KNIGHTS  Aaaaugh', ' And so, Arthur and Bedevere and Sir Robin set out on their search to find the enchanter of whom the old man had spoken in scene twenty-four.  Beyond the forest they met Launcelot and Galahad, and there was much rejoicing.', ' Yay!  Yay! [woosh] ', \" In the frozen land of Nador, they were forced to eat Robin's minstrels.\", ' [high-pitched] Get back!  Eee!', ' And there was much rejoicing.', ' Yay!', ' A year passed.', ' [shivering] ', ' Winter changed into Spring.', ' Mmm, nice.', ' Spring changed into Summer.', ' Oh.  Ahh.', ' Summer changed back into Winter.', ' Oh?', ' And Winter gave Spring and Summer a miss and went straight on into Autumn.', ' Aah. [snap] Oh!  Waa!', ' Until one day..', 'SCENE 20: [King Arthur music] [clop clop clop] [music stops] [boom] ', ' Eh.  Oh.  See it?  Oh.  Oh.', ' Knights!  Forward! [boom boom boom boom boom] [squeak] [boom boom boom boom] What manner of man are you that can summon up fire without flint or tinder?', 'TIM  I...  am an enchanter.', ' By what name are you known?', ' There are some who call me...  Tim?', ' Greetings, Tim the Enchanter.', ' Greetings, King Arthur!', ' You know my name?', ' I do. [zoosh] You seek the Holy Grail!', ' That is our quest.  You know much that is hidden, O Tim.', ' Quite. [pweeng boom] [clap clap clap] ', ' Oh.', \" Yes, we're-- we're looking for the Holy Grail.  Our quest is to find the Holy Grail.\", ' Yeah.  Yes.  It is.  It is.  Yeah.  Yup.  Yup.  Hm.', \" And so we're-- we're-- we're-- we're looking for it.\", ' Yes, we are.', ' Yeah.  ', ' We are.  We are.', ' We have been for some time.', ' Ages.', ' Umhm.', ' Uh-- uh, so, uh, anything that you could do to, uh-- to help, would be...  very...  helpful.', ' Look, can you tell us where-- [boom] ', \" Fine.  Um, I don't want to waste any more of your time, but, uh, I don't suppose you could, uh, tell us where we might find a, um-- find a, uh-- a, um-- a, uh--\", ' A what...?', ' A g-- a-- a g-- a g-- a-- a g--', ' A grail?!', ' Yes, I think so.', ' Y-- y-- yes.', ' Yes.', ' Yup.', \" That's it...\", ' Yes!', ' Oh.', ' Oh.  Thank you.', ' Ahh.', ' Oh.  Fine.', ' Thank you.', ' Splendid.', ' Aah... [boom pweeng boom boom] ', \" Look, um, you're a busy man, uh--\", ' Yes, I can help you find the Holy Grail.', ' Oh, thank you.  Oh...', ' To the north there lies a cave-- the cave of Caerbannog-- wherein, carved in mystic runes upon the very living rock, the last words of Olfin Bedwere of Rheged... [boom] ... make plain the last resting place of the most Holy Grail.', ' Where could we find this cave, O Tim?', ' Follow.  But!  Follow only if ye be men of valor, for the entrance to this cave is guarded by a creature so foul, so cruel that no man yet has fought with it and lived!  Bones of full fifty men lie strewn about its lair.  So, brave knights, if you do doubt your courage or your strength, come no further, for death awaits you all with nasty, big, pointy teeth.', ' What an eccentric performance', 'SCENE 21: [clop clop clop] [whinny whinny] ', \" They're nervous, sire.\", \" Then we'd best leave them here and carry on on foot.  Dis-mount!\", ' Behold the cave of Caerbannog!', ' Right!  Keep me covered.', ' What with?', ' W-- just keep me covered.', ' Too late! [dramatic chord] ', ' What?', ' There he is!', ' Where?', ' There!', ' What, behind the rabbit?', ' It is the rabbit!', ' You silly sod!', ' What?', ' You got us all worked up!', \" Well, that's no ordinary rabbit.\", ' Ohh.', \" That's the most foul, cruel, and bad-tempered rodent you ever set eyes on.\", ' You tit!  I soiled my armor I was so scared!', \" Look, that rabbit's got a vicious streak a mile wide; it's a killer!\", ' Get stuffed!', \" He'll do you up a treat mate!\", ' Oh, yeah?', ' You mangy scots git!', \" I'm warning you!\", \" What's he do, nibble your bum?\", \" He's got huge, sharp-- eh-- he can leap about-- look at the bones!\", ' Go on, Bors.  Chop his head off!', \" Right!  Silly little bleeder.  One rabbit stew comin' right up!\", ' Look! [squeak] ', ' Aaaugh! [dramatic chord] [clunk] ', ' Jesus Christ!', ' I warned you!', ' I done it again!', \" I warned you, but did you listen to me?  Oh, no, you knew it all, didn't you?  Oh, it's just a harmless little bunny, isn't it?  Well, it's always the same.  I always tell them--\", ' Oh, shut up!', ' Do they listen to me?', ' Right!', ' Oh, no...', ' Charge! [squeak squeak squeak] ', ' Aaaaugh!, Aaaugh!, etc.', ' Run away!  Run away!', ' Run away!  Run away! ...', ' Ha ha ha ha!  Ha haw haw!  Ha!  Ha ha!', ' Right.  How many did we lose?', ' Gawain.', ' Ector.', \" And Bors.  That's five.\", ' Three, sir.', \" Three.  Three.  And we'd better not risk another frontal assault.  That rabbit's dynamite.\", ' Would it help to confuse it if we run away more?', ' Oh, shut up and go and change your armor.', ' Let us taunt it!  It may become so cross that it will make a mistake.', ' Like what?', ' Well...  ooh.', ' Have we got bows?', ' No.', ' We have the Holy Hand Grenade.', \" Yes, of course!  The Holy Hand Grenade of Antioch!  'Tis one of the sacred relics Brother Maynard carries with him!  Brother Maynard!  Bring up the Holy Hand Grenade!\", ' [chanting] Pie Iesu domine, dona eis requiem.  Pie Iesu domine, donaeis requiem.  Pie Iesu domine, dona eis requiem.  Pie Iesu domine, dona eisrequiem.', ' How does it, um-- how does it work?', ' I know not, my liege.', ' Consult the Book of Armaments!', ' Armaments, Chapter Two, verses Nine to Twenty-one.', \" And Saint Attila raised the hand grenade up on high, saying,'O Lord, bless this thy hand grenade that with it thou mayest blow thine enemies to tiny bits, in thy mercy.' And the Lord did grin, and the people did feast upon the lambs and sloths and carp and anchovies and orangutans and breakfast cereals and fruit bats and large chu--\", ' Skip a bit, Brother.', \" And the Lord spake, saying, 'First shalt thou take out the Holy Pin.  Then, shalt thou count to three, no more, no less.  Three shalt be the number thou shalt count, and the number of the counting shall be three.  Four shalt thou not count, nor either count thou two, excepting that thou then proceed to three.  Five is right out.  Once the number three, being the third number, be reached, then lobbest thou thy Holy Hand Grenade of Antioch towards thy foe, who, being naughty in my sight, shall snuff it.'\", ' Amen.', ' Amen.', ' Right!  One...  two...  five!', ' Three, sir!', ' Three! [angels sing] [boom] ', 'SCENE 22:', ' There!  Look!', ' What does it say?', ' What language is that?', ' Brother Maynard!  You are a scholar.', \" It's Aramaic!\", ' Of course!  Joseph of Arimathea!', \" 'Course!\", ' What does it say?', \" It reads, 'Here may be found the last words of Joseph of Arimathea.  He who is valiant and pure of spirit may find the Holy Grail in the Castle of uuggggggh'.\", ' What?', \" '...  the Castle of uuggggggh'.\", ' What is that?', ' He must have died while carving it.', ' Oh, come on!', \" Well, that's what it says.\", \" Look, if he was dying, he wouldn't bother to carve 'aaggggh'.  He'd just say it!\", \" Well, that's what's carved in the rock!\", ' Perhaps he was dictating.', ' Oh, shut up.  Well, does it say anything else?', \" No.  Just, 'uuggggggh'.\", ' Aauuggghhh.', ' Aaauggh.', ' Do you suppose he meant the Camaaaaaargue?', \" Where's that?\", ' France, I think.', \" Isn't there a Saint Aauuuves in Cornwall?\", \" No, that's Saint Ives.\", ' Oh, yes.  Saint Iiiives.', ' Iiiiives.', ' Oooohoohohooo!', \" No, no.  'Aauuuuugh', at the back of the throat.  Aauuugh.\", \" N-- no.  No, no, no, no.  'Oooooooh', in surprise and alarm.\", \" Oh, you mean sort of a 'aaaah'!\", ' Yes, but I-- aaaaaah!', ' Oooh!', ' My God! [dramatic chord] [roar] ', \" It's the legendary Black Beast of Aaauugh! [Black Beast of Aaauugh eats BROTHER MAYNARD] \", \" That's it!  That's it!\", ' Run away!', ' Run away! [roar] Run away!  Run awaaay!  Run awaaaaay! [roar] Keep running! [boom] [roar] Shh!  Shh!  Shh!  Shh!  Shh!  Shh!  Shh!  Shh! ...', \" We've lost him. [roar] \", ' Aagh!', ' As the horrendous Black Beast lunged forward, escape for Arthur and his knights seemed hopeless, when suddenly, the animator suffered a fatal heart attack.', ' Ulk! [thump] ', ' The cartoon peril was no more.  The quest for Holy Grail could continue.', 'SCENE 23: [gurgle] ', ' There it is!', ' The Bridge of Death!', ' Oh, great.', \" Look!  There's the old man from scene twenty-four!\", ' What is he doing here?', ' He is the keeper of the Bridge of Death.  He asks each traveller five questions--', ' Three questions.', ' Three questions.  He who answers the five questions--', ' Three questions.', ' Three questions may cross in safety.', ' What if you get a question wrong?', ' Then you are cast into the Gorge of Eternal Peril.', \" Oh, I won't go.\", \" Who's going to answer the questions?\", ' Sir Robin!', ' Yes?', ' Brave Sir Robin, you go.', \" Hey!  I've got a great idea.  Why doesn't Launcelot go?\", ' Yes.  Let me go, my liege.  I will take him single-handed.  I shall make a feint to the north-east that s--', ' No, no.  No.  Hang on!  Hang on!  Hang on!  Just answer the five questions--', ' Three questions.', ' Three questions as best you can.  And we shall watch...  and pray.', ' I understand, my liege.', ' Good luck, brave Sir Launcelot.  God be with you.', ' Stop!  Who would cross the Bridge of Death must answer me these questions three, ere the other side he see.', ' Ask me the questions, bridgekeeper.  I am not afraid.', ' What is your name?', ' My name is Sir Launcelot of Camelot.', ' What is your quest?', ' To seek the Holy Grail.', ' What is your favorite color?', ' Blue.', ' Right.  Off you go.', ' Oh, thank you.  Thank you very much.', \" That's easy!\", ' Stop!  Who approacheth the Bridge of Death must answer me these questions three, ere the other side he see.', \" Ask me the questions, bridgekeeper.  I'm not afraid.\", ' What is your name?', ' Sir Robin of Camelot.', ' What is your quest?', ' To seek the Holy Grail.', ' What is the capital of Assyria?', \" I don't know that!  Auuuuuuuugh!\", ' Stop!  What is your name?', ' Sir Galahad of Camelot.', ' What is your quest?', ' I seek the Grail.', ' What is your favorite color?', ' Blue.  No yel-- auuuuuuuugh!', ' Hee hee heh.  Stop!  What is your name?', ' It is Arthur, King of the Britons.', ' What is your quest?', ' To seek the Holy Grail.', ' What is the air-speed velocity of an unladen swallow?', ' What do you mean?  An African or European swallow?', \" Huh?  I-- I don't know that!  Auuuuuuuugh!\", ' How do know so much about swallows?', \" Well, you have to know these things when you're a king, you know. [suspenseful music] [music suddenly stops] [intermission] [suspenseful music resumes]\", 'SCENE 24:', ' Launcelot!  Launcelot!  Launcelot!', ' Launcelot!  Launcelot!', ' Launcelot! [police radio] Launcelot!', ' Launcelot!  Launcelot! [angels sing] [singing stops] [ethereal music] ', ' The Castle Aaagh.  Our quest is at an end!  God be praised!  Almighty God, we thank Thee that Thou hast vouchsafed to us the most holy-- [twong] [baaaa] Jesus Christ! [thud] ', ' Allo, dappy English k-niggets and Monsieur Arthur King, who has the brain of a duck, you know.  So, we French fellows outwit you a second time!', ' How dare you profane this place with your presence!  I command you, in the name of the Knights of Camelot, to open the doors of this sacred castle, to which God Himself has guided us!', \" How you English say, 'I one more time, mac, unclog my nose in your direction', sons of a window-dresser!  So, you think you could out-clever us French folk with your silly knees-bent running about advancing behaviour?!  I wave my private parts at your aunties, you cheesy lot of second hand electric donkey-bottom biters.\", ' In the name of the Lord, we demand entrance to this sacred castle!', \" No chance, English bed-wetting types.  I burst my pimples at you and call your door-opening request a silly thing, you tiny-brained wipers of other people's bottoms!\", ' If you do not open this door, we shall take this castle by force! [splat] In the name of God and the glory of our-- [splat] ', ' [laughing] ', ' Agh.  Right!  That settles it!', ' Yes, depart a lot at this time, and cut the approaching any more or we fire arrows at the tops of your heads and make castanets out of your testicles already!  Ha ha haaa ha!', ' Walk away.  Just ignore them.', \" And now, remain gone, illegitimate-faced bugger-folk!  And, if you think you got a nasty taunting this time, you ain't heard nothing yet, dappy English k-nnniggets!  Thpppt!\", ' [taunting] ', ' We shall attack at once!', ' Yes, my liege!', ' Stand by for attack! [exciting music] [music stops] [silence] French persons!', ' [taunting] ... Dappy! ...', ' Today the blood of many a valiant knight shall be avenged.  In the name of God, ...', ' Hoo hoo!  Ohh, ha ha ha ha ha! ...', \" ... we shall not stop our fight 'til each one of you lies dead, and the Holy Grail returns to those whom God has chosen!\", ' ... Ha ha ha! ...', ' Charge!', 'ARMY  Hooray! [police siren] ', \"HISTORIAN'S  Yes.  They're the ones.  I'm sure.\", ' Come on.  Anybody armed must go too.', ' All right.  Come on.  Back.', \"HISTORIAN'S  Get that one.\", ' Back.  Right away.  Just...  pull it off.  Come on.  Come along.', ' Put this man in the van.', ' Clear off.  Come on.', ' With whom?', ' Which one?', ' Oh-- this one.', ' Come on.  Put him in the van.', ' Get a blanket.', ' We have no hospital.', ' Ahh. [squeak] ', ' Ooh.', ' Come on.  Back.  Riiight back.  Come on!', ' Run along!  Run along!', \" Pull that off.  My, that's an offensive weapon, that is.\", \" Come on.  Back with 'em.  Back.  Right.  Come along.\", ' Everything? [squeak] ', \" All right, sonny.  That's enough.  Just pack that in. [crash] \", ' Christ!', '']\n",
            "[['SCENE', '1', 'wind', 'clop', 'clop', 'clop'], ['Whoa', 'there', 'clop', 'clop', 'clop'], ['Halt', 'Who', 'goes', 'there'], ['It', 'is', 'I', 'Arthur', 'son', 'of', 'Uther', 'Pendragon', 'from', 'the', 'castle', 'of', 'Camelot', 'King', 'of', 'the', 'Britons', 'defeator', 'of', 'the', 'Saxons', 'sovereign', 'of', 'all', 'England'], ['Pull', 'the', 'other', 'one'], ['I', 'am', 'and', 'this', 'is', 'my', 'trusty', 'servant', 'Patsy', 'We', 'have', 'ridden', 'the', 'length', 'and', 'breadth', 'of', 'the', 'land', 'in', 'search', 'of', 'knights', 'who', 'will', 'join', 'me', 'in', 'my', 'court', 'at', 'Camelot', 'I', 'must', 'speak', 'with', 'your', 'lord', 'and', 'master'], ['What', 'Ridden', 'on', 'a', 'horse'], ['Yes'], ['You', 're', 'using', 'coconuts'], ['What'], ['You', 've', 'got', 'two', 'empty', 'halves', 'of', 'coconut', 'and', 'you', 're', 'bangin', 'em', 'together'], ['So', 'We', 'have', 'ridden', 'since', 'the', 'snows', 'of', 'winter', 'covered', 'this', 'land', 'through', 'the', 'kingdom', 'of', 'Mercea', 'through'], ['Where', 'd', 'you', 'get', 'the', 'coconuts'], ['We', 'found', 'them'], ['Found', 'them', 'In', 'Mercea', 'The', 'coconut', 's', 'tropical'], ['What', 'do', 'you', 'mean'], ['Well', 'this', 'is', 'a', 'temperate', 'zone'], ['The', 'swallow', 'may', 'fly', 'south', 'with', 'the', 'sun', 'or', 'the', 'house', 'martin', 'or', 'the', 'plover', 'may', 'seek', 'warmer', 'climes', 'in', 'winter', 'yet', 'these', 'are', 'not', 'strangers', 'to', 'our', 'land'], ['Are', 'you', 'suggesting', 'coconuts', 'migrate'], ['Not', 'at', 'all', 'They', 'could', 'be', 'carried'], ['What', 'A', 'swallow', 'carrying', 'a', 'coconut'], ['It', 'could', 'grip', 'it', 'by', 'the', 'husk'], ['It', 's', 'not', 'a', 'question', 'of', 'where', 'he', 'grips', 'it', 'It', 's', 'a', 'simple', 'question', 'of', 'weight', 'ratios', 'A', 'five', 'ounce', 'bird', 'could', 'not', 'carry', 'a', 'one', 'pound', 'coconut'], ['Well', 'it', 'doesn', 't', 'matter', 'Will', 'you', 'go', 'and', 'tell', 'your', 'master', 'that', 'Arthur', 'from', 'the', 'Court', 'of', 'Camelot', 'is', 'here'], ['Listen', 'In', 'order', 'to', 'maintain', 'air', 'speed', 'velocity', 'a', 'swallow', 'needs', 'to', 'beat', 'its', 'wings', 'forty', 'three', 'times', 'every', 'second', 'right'], ['Please'], ['Am', 'I', 'right'], ['I', 'm', 'not', 'interested'], ['It', 'could', 'be', 'carried', 'by', 'an', 'African', 'swallow'], ['Oh', 'yeah', 'an', 'African', 'swallow', 'maybe', 'but', 'not', 'a', 'European', 'swallow', 'That', 's', 'my', 'point'], ['Oh', 'yeah', 'I', 'agree', 'with', 'that'], ['Will', 'you', 'ask', 'your', 'master', 'if', 'he', 'wants', 'to', 'join', 'my', 'court', 'at', 'Camelot'], ['But', 'then', 'of', 'course', 'a', 'African', 'swallows', 'are', 'non', 'migratory'], ['Oh', 'yeah'], ['So', 'they', 'couldn', 't', 'bring', 'a', 'coconut', 'back', 'anyway', 'clop', 'clop', 'clop'], ['Wait', 'a', 'minute', 'Supposing', 'two', 'swallows', 'carried', 'it', 'together'], ['No', 'they', 'd', 'have', 'to', 'have', 'it', 'on', 'a', 'line'], ['Well', 'simple', 'They', 'd', 'just', 'use', 'a', 'strand', 'of', 'creeper'], ['What', 'held', 'under', 'the', 'dorsal', 'guiding', 'feathers'], ['Well', 'why', 'not'], ['SCENE', '2', 'thud', 'clang'], ['CART', 'Bring', 'out', 'your', 'dead', 'clang', 'Bring', 'out', 'your', 'dead', 'clang', 'Bring', 'out', 'your', 'dead', 'clang', 'Bring', 'out', 'your', 'dead', 'clang', 'Bring', 'out', 'your', 'dead', 'cough', 'cough', 'clang', 'cough', 'cough', 'Bring', 'out', 'your', 'dead', 'clang', 'Bring', 'out', 'your', 'dead', 'clang', 'Bring', 'out', 'your', 'dead', 'Ninepence', 'clang', 'Bring', 'out', 'your', 'dead', 'clang', 'Bring', 'out', 'your', 'dead', 'clang', 'Bring', 'out', 'rewr', 'your', 'dead', 'rewr', 'clang', 'Bring', 'out', 'your', 'dead'], ['Here', 's', 'one'], ['CART', 'Ninepence'], ['I', 'm', 'not', 'dead'], ['CART', 'What'], ['Nothing', 'Here', 's', 'your', 'ninepence'], ['I', 'm', 'not', 'dead'], ['CART', 'Ere', 'He', 'says', 'he', 's', 'not', 'dead'], ['Yes', 'he', 'is'], ['I', 'm', 'not'], ['CART', 'He', 'isn', 't'], ['Well', 'he', 'will', 'be', 'soon', 'He', 's', 'very', 'ill'], ['I', 'm', 'getting', 'better'], ['No', 'you', 're', 'not', 'You', 'll', 'be', 'stone', 'dead', 'in', 'a', 'moment'], ['CART', 'Oh', 'I', 'can', 't', 'take', 'him', 'like', 'that', 'It', 's', 'against', 'regulations'], ['I', 'don', 't', 'want', 'to', 'go', 'on', 'the', 'cart'], ['Oh', 'don', 't', 'be', 'such', 'a', 'baby'], ['CART', 'I', 'can', 't', 'take', 'him'], ['I', 'feel', 'fine'], ['Well', 'do', 'us', 'a', 'favor'], ['CART', 'I', 'can', 't'], ['Well', 'can', 'you', 'hang', 'around', 'a', 'couple', 'of', 'minutes', 'He', 'won', 't', 'be', 'long'], ['CART', 'No', 'I', 've', 'got', 'to', 'go', 'to', 'the', 'Robinson', 's', 'They', 've', 'lost', 'nine', 'today'], ['Well', 'when', 's', 'your', 'next', 'round'], ['CART', 'Thursday'], ['I', 'think', 'I', 'll', 'go', 'for', 'a', 'walk'], ['You', 're', 'not', 'fooling', 'anyone', 'you', 'know', 'Look', 'isn', 't', 'there', 'something', 'you', 'can', 'do'], ['singing', 'I', 'feel', 'happy', 'I', 'feel', 'happy', 'whop'], ['Ah', 'thanks', 'very', 'much'], ['CART', 'Not', 'at', 'all', 'See', 'you', 'on', 'Thursday'], ['Right', 'All', 'right', 'howl', 'clop', 'clop', 'clop', 'Who', 's', 'that', 'then'], ['CART', 'I', 'dunno', 'Must', 'be', 'a', 'king'], ['Why'], ['CART', 'He', 'hasn', 't', 'got', 'shit', 'all', 'over', 'him'], ['SCENE', '3', 'thud', 'King', 'Arthur', 'music', 'thud', 'thud', 'thud', 'King', 'Arthur', 'music', 'stops'], ['Old', 'woman'], ['Man'], ['Man', 'Sorry', 'What', 'knight', 'live', 'in', 'that', 'castle', 'over', 'there'], ['I', 'm', 'thirty', 'seven'], ['I', 'what'], ['I', 'm', 'thirty', 'seven', 'I', 'm', 'not', 'old'], ['Well', 'I', 'can', 't', 'just', 'call', 'you', 'Man'], ['Well', 'you', 'could', 'say', 'Dennis'], ['Well', 'I', 'didn', 't', 'know', 'you', 'were', 'called', 'Dennis'], ['Well', 'you', 'didn', 't', 'bother', 'to', 'find', 'out', 'did', 'you'], ['I', 'did', 'say', 'sorry', 'about', 'the', 'old', 'woman', 'but', 'from', 'the', 'behind', 'you', 'looked'], ['What', 'I', 'object', 'to', 'is', 'that', 'you', 'automatically', 'treat', 'me', 'like', 'an', 'inferior'], ['Well', 'I', 'am', 'king'], ['Oh', 'king', 'eh', 'very', 'nice', 'And', 'how', 'd', 'you', 'get', 'that', 'eh', 'By', 'exploiting', 'the', 'workers', 'By', 'anging', 'on', 'to', 'outdated', 'imperialist', 'dogma', 'which', 'perpetuates', 'the', 'economic', 'and', 'social', 'differences', 'in', 'our', 'society', 'If', 'there', 's', 'ever', 'going', 'to', 'be', 'any', 'progress', 'with', 'the'], ['Dennis', 'there', 's', 'some', 'lovely', 'filth', 'down', 'here', 'Oh', 'How', 'd', 'you', 'do'], ['How', 'do', 'you', 'do', 'good', 'lady', 'I', 'am', 'Arthur', 'King', 'of', 'the', 'Britons', 'Who', 's', 'castle', 'is', 'that'], ['King', 'of', 'the', 'who'], ['The', 'Britons'], ['Who', 'are', 'the', 'Britons'], ['Well', 'we', 'all', 'are', 'We', 'are', 'all', 'Britons', 'and', 'I', 'am', 'your', 'king'], ['I', 'didn', 't', 'know', 'we', 'had', 'a', 'king', 'I', 'thought', 'we', 'were', 'an', 'autonomous', 'collective'], ['You', 're', 'fooling', 'yourself', 'We', 're', 'living', 'in', 'a', 'dictatorship', 'A', 'self', 'perpetuating', 'autocracy', 'in', 'which', 'the', 'working', 'classes'], ['Oh', 'there', 'you', 'go', 'bringing', 'class', 'into', 'it', 'again'], ['That', 's', 'what', 'it', 's', 'all', 'about', 'If', 'only', 'people', 'would', 'hear', 'of'], ['Please', 'please', 'good', 'people', 'I', 'am', 'in', 'haste', 'Who', 'lives', 'in', 'that', 'castle'], ['No', 'one', 'live', 'there'], ['Then', 'who', 'is', 'your', 'lord'], ['We', 'don', 't', 'have', 'a', 'lord'], ['What'], ['I', 'told', 'you', 'We', 're', 'an', 'anarcho', 'syndicalist', 'commune', 'We', 'take', 'it', 'in', 'turns', 'to', 'act', 'as', 'a', 'sort', 'of', 'executive', 'officer', 'for', 'the', 'week'], ['Yes'], ['But', 'all', 'the', 'decision', 'of', 'that', 'officer', 'have', 'to', 'be', 'ratified', 'at', 'a', 'special', 'bi', 'weekly', 'meeting'], ['Yes', 'I', 'see'], ['By', 'a', 'simple', 'majority', 'in', 'the', 'case', 'of', 'purely', 'internal', 'affairs'], ['Be', 'quiet'], ['But', 'by', 'a', 'two', 'thirds', 'majority', 'in', 'the', 'case', 'of', 'more', 'major'], ['Be', 'quiet', 'I', 'order', 'you', 'to', 'be', 'quiet'], ['Order', 'eh', 'Who', 'does', 'he', 'think', 'he', 'is', 'Heh'], ['I', 'am', 'your', 'king'], ['Well', 'I', 'didn', 't', 'vote', 'for', 'you'], ['You', 'don', 't', 'vote', 'for', 'kings'], ['Well', 'how', 'did', 'you', 'become', 'king', 'then'], ['The', 'Lady', 'of', 'the', 'Lake', 'angels', 'sing', 'her', 'arm', 'clad', 'in', 'the', 'purest', 'shimmering', 'samite', 'held', 'aloft', 'Excalibur', 'from', 'the', 'bosom', 'of', 'the', 'water', 'signifying', 'by', 'Divine', 'Providence', 'that', 'I', 'Arthur', 'was', 'to', 'carry', 'Excalibur', 'singing', 'stops', 'That', 'is', 'why', 'I', 'am', 'your', 'king'], ['Listen', 'strange', 'women', 'lying', 'in', 'ponds', 'distributing', 'swords', 'is', 'no', 'basis', 'for', 'a', 'system', 'of', 'government', 'Supreme', 'executive', 'power', 'derives', 'from', 'a', 'mandate', 'from', 'the', 'masses', 'not', 'from', 'some', 'farcical', 'aquatic', 'ceremony'], ['Be', 'quiet'], ['Well', 'but', 'you', 'can', 't', 'expect', 'to', 'wield', 'supreme', 'executive', 'power', 'just', 'cause', 'some', 'watery', 'tart', 'threw', 'a', 'sword', 'at', 'you'], ['Shut', 'up'], ['I', 'mean', 'if', 'I', 'went', 'round', 'saying', 'I', 'was', 'an', 'emperor', 'just', 'because', 'some', 'moistened', 'bint', 'had', 'lobbed', 'a', 'scimitar', 'at', 'me', 'they', 'd', 'put', 'me', 'away'], ['Shut', 'up', 'will', 'you', 'Shut', 'up'], ['Ah', 'now', 'we', 'see', 'the', 'violence', 'inherent', 'in', 'the', 'system'], ['Shut', 'up'], ['Oh', 'Come', 'and', 'see', 'the', 'violence', 'inherent', 'in', 'the', 'system', 'Help', 'help', 'I', 'm', 'being', 'repressed'], ['Bloody', 'peasant'], ['Oh', 'what', 'a', 'give', 'away', 'Did', 'you', 'hear', 'that', 'Did', 'you', 'hear', 'that', 'eh', 'That', 's', 'what', 'I', 'm', 'on', 'about', 'Did', 'you', 'see', 'him', 'repressing', 'me', 'You', 'saw', 'it', 'didn', 't', 'you'], ['SCENE', '4', 'King', 'Arthur', 'music', 'music', 'stops'], ['Aaagh', 'King', 'Arthur', 'music', 'music', 'stops'], ['Aaagh'], ['Ooh', 'King', 'Arthur', 'music', 'music', 'stops', 'stab'], ['Aagh'], ['Oh', 'King', 'Arthur', 'music', 'Ooh', 'music', 'stops'], ['Aaagh', 'clang'], ['BLACK', 'KNIGHT', 'and', 'Agh', 'oh', 'etc'], ['Aaaaaah', 'Aaaaaaaaah', 'woosh', 'BLACK', 'KNIGHT', 'kills', 'GREEN', 'KNIGHT', 'thud', 'scrape'], ['Umm', 'clop', 'clop', 'clop'], ['You', 'fight', 'with', 'the', 'strength', 'of', 'many', 'men', 'Sir', 'Knight', 'pause', 'I', 'am', 'Arthur', 'King', 'of', 'the', 'Britons', 'pause', 'I', 'seek', 'the', 'finest', 'and', 'the', 'bravest', 'knights', 'in', 'the', 'land', 'to', 'join', 'me', 'in', 'my', 'court', 'at', 'Camelot', 'pause', 'You', 'have', 'proved', 'yourself', 'worthy', 'Will', 'you', 'join', 'me', 'pause', 'You', 'make', 'me', 'sad', 'So', 'be', 'it', 'Come', 'Patsy'], ['None', 'shall', 'pass'], ['What'], ['None', 'shall', 'pass'], ['I', 'have', 'no', 'quarrel', 'with', 'you', 'good', 'Sir', 'Knight', 'but', 'I', 'must', 'cross', 'this', 'bridge'], ['Then', 'you', 'shall', 'die'], ['I', 'command', 'you', 'as', 'King', 'of', 'the', 'Britons', 'to', 'stand', 'aside'], ['I', 'move', 'for', 'no', 'man'], ['So', 'be', 'it'], ['ARTHUR', 'and', 'Aaah', 'hiyaah', 'etc', 'ARTHUR', 'chops', 'the', 'BLACK', 'KNIGHT', 's', 'left', 'arm', 'off'], ['Now', 'stand', 'aside', 'worthy', 'adversary'], ['Tis', 'but', 'a', 'scratch'], ['A', 'scratch', 'Your', 'arm', 's', 'off'], ['No', 'it', 'isn', 't'], ['Well', 'what', 's', 'that', 'then'], ['I', 've', 'had', 'worse'], ['You', 'liar'], ['Come', 'on', 'you', 'pansy', 'clang', 'Huyah', 'clang', 'Hiyaah', 'clang', 'Aaaaaaaah', 'ARTHUR', 'chops', 'the', 'BLACK', 'KNIGHT', 's', 'right', 'arm', 'off'], ['Victory', 'is', 'mine', 'kneeling', 'We', 'thank', 'Thee', 'Lord', 'that', 'in', 'Thy', 'mer'], ['Hah', 'clunk', 'Come', 'on', 'then'], ['What'], ['Have', 'at', 'you', 'kick'], ['Eh', 'You', 'are', 'indeed', 'brave', 'Sir', 'Knight', 'but', 'the', 'fight', 'is', 'mine'], ['Oh', 'had', 'enough', 'eh'], ['Look', 'you', 'stupid', 'bastard', 'You', 've', 'got', 'no', 'arms', 'left'], ['Yes', 'I', 'have'], ['Look'], ['Just', 'a', 'flesh', 'wound', 'kick'], ['Look', 'stop', 'that'], ['Chicken', 'kick', 'Chickennn'], ['Look', 'I', 'll', 'have', 'your', 'leg', 'kick', 'Right', 'whop', 'ARTHUR', 'chops', 'the', 'BLACK', 'KNIGHT', 's', 'right', 'leg', 'off'], ['Right', 'I', 'll', 'do', 'you', 'for', 'that'], ['You', 'll', 'what'], ['Come', 'here'], ['What', 'are', 'you', 'going', 'to', 'do', 'bleed', 'on', 'me'], ['I', 'm', 'invincible'], ['You', 're', 'a', 'looney'], ['The', 'Black', 'Knight', 'always', 'triumphs', 'Have', 'at', 'you', 'Come', 'on', 'then', 'whop', 'ARTHUR', 'chops', 'the', 'BLACK', 'KNIGHT', 's', 'last', 'leg', 'off'], ['Ooh', 'All', 'right', 'we', 'll', 'call', 'it', 'a', 'draw'], ['Come', 'Patsy'], ['Oh', 'Oh', 'I', 'see', 'Running', 'away', 'eh', 'You', 'yellow', 'bastards', 'Come', 'back', 'here', 'and', 'take', 'what', 's', 'coming', 'to', 'you', 'I', 'll', 'bite', 'your', 'legs', 'off'], ['SCENE', '5'], ['chanting', 'Pie', 'Iesu', 'domine', 'dona', 'eis', 'requiem', 'bonk', 'Pie', 'Iesu', 'domine', 'bonk', 'dona', 'eis', 'requiem', 'bonk', 'Pie', 'Iesu', 'domine', 'bonk', 'dona', 'eis', 'requiem'], ['A', 'witch', 'A', 'witch', 'bonk', 'A', 'witch', 'A', 'witch'], ['chanting', 'Pie', 'Iesu', 'domine'], ['A', 'witch', 'A', 'witch', 'A', 'witch', 'A', 'witch', 'We', 've', 'found', 'a', 'witch', 'A', 'witch', 'A', 'witch', 'A', 'witch', 'A', 'witch', 'We', 've', 'got', 'a', 'witch', 'A', 'witch', 'A', 'witch', 'Burn', 'her', 'Burn', 'her', 'Burn', 'her', 'We', 've', 'found', 'a', 'witch', 'We', 've', 'found', 'a', 'witch', 'A', 'witch', 'A', 'witch', 'A', 'witch'], ['We', 'have', 'found', 'a', 'witch', 'May', 'we', 'burn', 'her'], ['Burn', 'her', 'Burn', 'Burn', 'her', 'Burn', 'her'], ['How', 'do', 'you', 'know', 'she', 'is', 'a', 'witch'], ['She', 'looks', 'like', 'one'], ['Right', 'Yeah', 'Yeah'], ['Bring', 'her', 'forward'], ['I', 'm', 'not', 'a', 'witch', 'I', 'm', 'not', 'a', 'witch'], ['Uh', 'but', 'you', 'are', 'dressed', 'as', 'one'], ['They', 'dressed', 'me', 'up', 'like', 'this'], ['Augh', 'we', 'didn', 't', 'We', 'didn', 't'], ['And', 'this', 'isn', 't', 'my', 'nose', 'It', 's', 'a', 'false', 'one'], ['Well'], ['Well', 'we', 'did', 'do', 'the', 'nose'], ['The', 'nose'], ['And', 'the', 'hat', 'but', 'she', 'is', 'a', 'witch'], ['Yeah'], ['We', 'burn', 'her', 'Right', 'Yeaaah', 'Yeaah'], ['Did', 'you', 'dress', 'her', 'up', 'like', 'this'], ['No'], ['VILLAGER', '2', 'and', '3', 'No', 'No'], ['No'], ['No'], ['VILLAGERS', '2', 'and', '3', 'No'], ['Yes'], ['Yes'], ['Yes', 'Yeah', 'a', 'bit'], ['A', 'bit'], ['VILLAGERS', '1', 'and', '2', 'A', 'bit'], ['A', 'bit'], ['She', 'has', 'got', 'a', 'wart'], ['cough'], ['What', 'makes', 'you', 'think', 'she', 'is', 'a', 'witch'], ['Well', 'she', 'turned', 'me', 'into', 'a', 'newt'], ['A', 'newt'], ['I', 'got', 'better'], ['Burn', 'her', 'anyway'], ['Burn'], ['Burn', 'her', 'Burn', 'Burn', 'her'], ['Quiet', 'Quiet', 'Quiet', 'Quiet', 'There', 'are', 'ways', 'of', 'telling', 'whether', 'she', 'is', 'a', 'witch'], ['Are', 'there'], ['Ah'], ['What', 'are', 'they'], ['Tell', 'us', 'Tell', 'us'], ['Tell', 'me', 'what', 'do', 'you', 'do', 'with', 'witches'], ['Burn'], ['Burn'], ['Burn', 'Burn', 'them', 'up', 'Burn'], ['And', 'what', 'do', 'you', 'burn', 'apart', 'from', 'witches'], ['More', 'witches'], ['Shh'], ['Wood'], ['So', 'why', 'do', 'witches', 'burn', 'pause'], ['B', 'cause', 'they', 're', 'made', 'of', 'wood'], ['Good', 'Heh', 'heh'], ['Oh', 'yeah', 'Oh'], ['So', 'how', 'do', 'we', 'tell', 'whether', 'she', 'is', 'made', 'of', 'wood'], ['Build', 'a', 'bridge', 'out', 'of', 'her'], ['Ah', 'but', 'can', 'you', 'not', 'also', 'make', 'bridges', 'out', 'of', 'stone'], ['Oh', 'yeah'], ['Oh', 'yeah', 'True', 'Uhh'], ['Does', 'wood', 'sink', 'in', 'water'], ['No', 'No'], ['No', 'it', 'floats', 'It', 'floats'], ['Throw', 'her', 'into', 'the', 'pond'], ['The', 'pond', 'Throw', 'her', 'into', 'the', 'pond'], ['What', 'also', 'floats', 'in', 'water'], ['Bread'], ['Apples'], ['Uh', 'very', 'small', 'rocks'], ['Cider'], ['Uh', 'gra', 'gravy'], ['Cherries'], ['Mud'], ['Churches', 'Churches'], ['Lead', 'Lead'], ['A', 'duck'], ['Oooh'], ['Exactly', 'So', 'logically'], ['If', 'she', 'weighs', 'the', 'same', 'as', 'a', 'duck', 'she', 's', 'made', 'of', 'wood'], ['And', 'therefore'], ['A', 'witch'], ['A', 'witch'], ['A', 'witch', 'A', 'witch'], ['Here', 'is', 'a', 'duck', 'Use', 'this', 'duck', 'quack', 'quack', 'quack'], ['We', 'shall', 'use', 'my', 'largest', 'scales'], ['Ohh', 'Ohh', 'Burn', 'the', 'witch', 'Burn', 'the', 'witch', 'Burn', 'her', 'Burn', 'her', 'Burn', 'her', 'Burn', 'her', 'Burn', 'her', 'Burn', 'her', 'Burn', 'her', 'Ahh', 'Ahh'], ['Right', 'Remove', 'the', 'supports', 'whop', 'clunk', 'creak'], ['A', 'witch', 'A', 'witch', 'A', 'witch'], ['It', 's', 'a', 'fair', 'cop'], ['Burn', 'her'], ['Burn', 'her', 'Burn', 'her', 'Burn', 'her', 'Burn', 'Burn'], ['Who', 'are', 'you', 'who', 'are', 'so', 'wise', 'in', 'the', 'ways', 'of', 'science'], ['I', 'am', 'Arthur', 'King', 'of', 'the', 'Britons'], ['My', 'liege'], ['Good', 'Sir', 'Knight', 'will', 'you', 'come', 'with', 'me', 'to', 'Camelot', 'and', 'join', 'us', 'at', 'the', 'Round', 'Table'], ['My', 'liege', 'I', 'would', 'be', 'honored'], ['What', 'is', 'your', 'name'], ['Bedevere', 'my', 'liege'], ['Then', 'I', 'dub', 'you', 'Sir', 'Bedevere', 'Knight', 'of', 'the', 'Round', 'Table'], ['The', 'wise', 'Sir', 'Bedevere', 'was', 'the', 'first', 'to', 'join', 'King', 'Arthur', 's', 'knights', 'but', 'other', 'illustrious', 'names', 'were', 'soon', 'to', 'follow', 'Sir', 'Lancelot', 'the', 'Brave', 'Sir', 'Gallahad', 'the', 'Pure', 'and', 'Sir', 'Robin', 'the', 'not', 'quite', 'so', 'brave', 'as', 'Sir', 'Lancelot', 'who', 'had', 'nearly', 'fought', 'the', 'Dragon', 'of', 'Angnor', 'who', 'had', 'nearly', 'stood', 'up', 'to', 'the', 'vicious', 'Chicken', 'of', 'Bristol', 'and', 'who', 'had', 'personally', 'wet', 'himself', 'at', 'the', 'Battle', 'of', 'Badon', 'Hill', 'and', 'the', 'aptly', 'named', 'Sir', 'Not', 'appearing', 'in', 'this', 'film', 'Together', 'they', 'formed', 'a', 'band', 'whose', 'names', 'and', 'deeds', 'were', 'to', 'be', 'retold', 'throughout', 'the', 'centuries', 'the', 'Knights', 'of', 'the', 'Round', 'Table'], ['SCENE', '6', 'clop', 'clop', 'clop'], ['And', 'that', 'my', 'liege', 'is', 'how', 'we', 'know', 'the', 'earth', 'to', 'be', 'banana', 'shaped'], ['This', 'new', 'learning', 'amazes', 'me', 'Sir', 'Bedevere', 'Explain', 'again', 'how', 'sheep', 's', 'bladders', 'may', 'be', 'employed', 'to', 'prevent', 'earthquakes'], ['Oh', 'certainly', 'sir'], ['Look', 'my', 'liege', 'trumpets'], ['Camelot'], ['Camelot'], ['Camelot'], ['It', 's', 'only', 'a', 'model'], ['Shh', 'Knights', 'I', 'bid', 'you', 'welcome', 'to', 'your', 'new', 'home', 'Let', 'us', 'ride', 'to', 'Camelot', 'in', 'medieval', 'hall'], ['singing', 'We', 're', 'knights', 'of', 'the', 'round', 'table', 'We', 'dance', 'when', 'e', 'er', 'we', 're', 'able', 'We', 'do', 'routines', 'and', 'chorus', 'scenes', 'With', 'footwork', 'impeccable', 'We', 'dine', 'well', 'here', 'in', 'Camelot', 'We', 'eat', 'ham', 'and', 'jam', 'and', 'spam', 'a', 'lot', 'dancing', 'We', 're', 'knights', 'of', 'the', 'Round', 'Table', 'Our', 'shows', 'are', 'formidable', 'But', 'many', 'times', 'we', 're', 'given', 'rhymes', 'That', 'are', 'quite', 'unsingable', 'We', 're', 'opera', 'mad', 'in', 'Camelot', 'We', 'sing', 'from', 'the', 'diaphragm', 'a', 'lot', 'in', 'dungeon'], ['clap', 'clap', 'clap', 'clap', 'in', 'medieval', 'hall'], ['tap', 'dancing', 'In', 'war', 'we', 're', 'tough', 'and', 'able', 'Quite', 'indefatigable', 'Between', 'our', 'quests', 'we', 'sequin', 'vests', 'and', 'impersonate', 'Clark', 'Gable', 'It', 's', 'a', 'busy', 'life', 'in', 'Camelot'], ['I', 'have', 'to', 'push', 'the', 'pram', 'a', 'lot', 'outdoors'], ['Well', 'on', 'second', 'thought', 'let', 's', 'not', 'go', 'to', 'Camelot', 'It', 'is', 'a', 'silly', 'place'], ['Right', 'Right'], ['SCENE', '7', 'clop', 'clop', 'clop', 'boom', 'boom', 'angels', 'sing'], ['Arthur', 'Arthur', 'King', 'of', 'the', 'Britons', 'Oh', 'don', 't', 'grovel', 'singing', 'stops', 'One', 'thing', 'I', 'can', 't', 'stand', 'it', 's', 'people', 'groveling'], ['Sorry', 'boom'], ['And', 'don', 't', 'apologise', 'Every', 'time', 'I', 'try', 'to', 'talk', 'to', 'someone', 'it', 's', 'sorry', 'this', 'and', 'forgive', 'me', 'that', 'and', 'I', 'm', 'not', 'worthy', 'boom', 'What', 'are', 'you', 'doing', 'now'], ['I', 'm', 'averting', 'my', 'eyes', 'O', 'Lord'], ['Well', 'don', 't', 'It', 's', 'like', 'those', 'miserable', 'Psalms', 'they', 're', 'so', 'depressing', 'Now', 'knock', 'it', 'off'], ['Yes', 'Lord'], ['Right', 'Arthur', 'King', 'of', 'the', 'Britons', 'your', 'Knights', 'of', 'the', 'Round', 'Table', 'shall', 'have', 'a', 'task', 'to', 'make', 'them', 'an', 'example', 'in', 'these', 'dark', 'times'], ['Good', 'idea', 'O', 'Lord'], ['Course', 'it', 's', 'a', 'good', 'idea', 'Behold', 'angels', 'sing', 'Arthur', 'this', 'is', 'the', 'Holy', 'Grail', 'Look', 'well', 'Arthur', 'for', 'it', 'is', 'your', 'sacred', 'task', 'to', 'seek', 'this', 'grail', 'That', 'is', 'your', 'purpose', 'Arthur', 'the', 'quest', 'for', 'the', 'Holy', 'Grail', 'boom', 'singing', 'stops'], ['A', 'blessing', 'A', 'blessing', 'from', 'the', 'Lord'], ['God', 'be', 'praised'], ['SCENE', '8', 'King', 'Arthur', 'music', 'clop', 'clop', 'clop'], ['Halt', 'horn', 'Hallo', 'pause', 'Hallo'], ['Allo', 'Who', 'is', 'eet'], ['It', 'is', 'King', 'Arthur', 'and', 'these', 'are', 'my', 'Knights', 'of', 'the', 'Round', 'Table', 'Who', 's', 'castle', 'is', 'this'], ['This', 'is', 'the', 'castle', 'of', 'my', 'master', 'Guy', 'de', 'Loimbard'], ['Go', 'and', 'tell', 'your', 'master', 'that', 'we', 'have', 'been', 'charged', 'by', 'God', 'with', 'a', 'sacred', 'quest', 'If', 'he', 'will', 'give', 'us', 'food', 'and', 'shelter', 'for', 'the', 'night', 'he', 'can', 'join', 'us', 'in', 'our', 'quest', 'for', 'the', 'Holy', 'Grail'], ['Well', 'I', 'll', 'ask', 'him', 'but', 'I', 'don', 't', 'think', 'he', 'll', 'be', 'very', 'keen', 'Uh', 'he', 's', 'already', 'got', 'one', 'you', 'see'], ['What'], ['He', 'says', 'they', 've', 'already', 'got', 'one'], ['Are', 'you', 'sure', 'he', 's', 'got', 'one'], ['Oh', 'yes', 'it', 's', 'very', 'nice', 'a', 'I', 'told', 'him', 'we', 'already', 'got', 'one'], ['Well', 'u', 'um', 'can', 'we', 'come', 'up', 'and', 'have', 'a', 'look'], ['Of', 'course', 'not', 'You', 'are', 'English', 'types', 'a'], ['Well', 'what', 'are', 'you', 'then'], ['I', 'm', 'French', 'Why', 'do', 'think', 'I', 'have', 'this', 'outrageous', 'accent', 'you', 'silly', 'king', 'a'], ['What', 'are', 'you', 'doing', 'in', 'England'], ['Mind', 'your', 'own', 'business'], ['If', 'you', 'will', 'not', 'show', 'us', 'the', 'Grail', 'we', 'shall', 'take', 'your', 'castle', 'by', 'force'], ['You', 'don', 't', 'frighten', 'us', 'English', 'pig', 'dogs', 'Go', 'and', 'boil', 'your', 'bottom', 'sons', 'of', 'a', 'silly', 'person', 'I', 'blow', 'my', 'nose', 'at', 'you', 'so', 'called', 'Arthur', 'King', 'you', 'and', 'all', 'your', 'silly', 'English', 'k', 'nnnnniggets', 'Thpppppt', 'Thppt', 'Thppt'], ['What', 'a', 'strange', 'person'], ['Now', 'look', 'here', 'my', 'good', 'man'], ['I', 'don', 't', 'wanna', 'talk', 'to', 'you', 'no', 'more', 'you', 'empty', 'headed', 'animal', 'food', 'trough', 'wiper', 'I', 'fart', 'in', 'your', 'general', 'direction', 'You', 'mother', 'was', 'a', 'hamster', 'and', 'your', 'father', 'smelt', 'of', 'elderberries'], ['Is', 'there', 'someone', 'else', 'up', 'there', 'we', 'could', 'talk', 'to'], ['No', 'now', 'go', 'away', 'or', 'I', 'shall', 'taunt', 'you', 'a', 'second', 'time', 'a', 'sniff'], ['Now', 'this', 'is', 'your', 'last', 'chance', 'I', 've', 'been', 'more', 'than', 'reasonable'], ['Fetchez', 'la', 'vache'], ['OTHER', 'Quoi'], ['Fetchez', 'la', 'vache', 'mooo'], ['If', 'you', 'do', 'not', 'agree', 'to', 'my', 'commands', 'then', 'I', 'shall', 'twong', 'mooooooo', 'Jesus', 'Christ'], ['Christ', 'thud', 'Ah', 'Ohh'], ['Right', 'Charge'], ['Charge', 'mayhem'], ['Hey', 'this', 'one', 'is', 'for', 'your', 'mother', 'There', 'you', 'go', 'mayhem'], ['And', 'this', 'one', 's', 'for', 'your', 'dad'], ['Run', 'away'], ['Run', 'away'], ['Thppppt'], ['taunting'], ['Fiends', 'I', 'll', 'tear', 'them', 'apart'], ['No', 'no', 'No', 'no'], ['Sir', 'I', 'have', 'a', 'plan', 'sir', 'later', 'wind', 'saw', 'saw', 'saw', 'saw', 'saw', 'saw', 'saw', 'saw', 'saw', 'saw', 'saw', 'saw', 'saw', 'saw', 'saw', 'saw', 'clunk', 'bang', 'rewr', 'squeak', 'squeak', 'squeak', 'squeak', 'squeak', 'squeak', 'squeak', 'squeak', 'squeak', 'squeak', 'rrrr', 'rrrr', 'rrrr', 'drilllll', 'sawwwww', 'clunk', 'crash', 'clang', 'squeak', 'squeak', 'squeak', 'squeak', 'squeak', 'creak'], ['whispering', 'C', 'est', 'un', 'lapin', 'lapin', 'de', 'bois', 'Quoi', 'Un', 'cadeau', 'What', 'A', 'present', 'Oh', 'un', 'cadeau', 'Oui', 'oui', 'Hurry', 'What', 'Let', 's', 'go', 'Oh', 'On', 'y', 'va', 'Bon', 'magne', 'Over', 'here', 'squeak', 'squeak', 'squeak', 'squeak', 'squeak', 'clllank'], ['What', 'happens', 'now'], ['Well', 'now', 'uh', 'Launcelot', 'Galahad', 'and', 'I', 'uh', 'wait', 'until', 'nightfall', 'and', 'then', 'leap', 'out', 'of', 'the', 'rabbit', 'taking', 'the', 'French', 'uh', 'by', 'surprise', 'Not', 'only', 'by', 'surprise', 'but', 'totally', 'unarmed'], ['Who', 'leaps', 'out'], ['U', 'u', 'uh', 'Launcelot', 'Galahad', 'and', 'I', 'Uh', 'leap', 'out', 'of', 'the', 'rabbit', 'uh', 'and', 'uh'], ['Ohh'], ['Oh', 'Um', 'l', 'look', 'i', 'i', 'if', 'we', 'built', 'this', 'large', 'wooden', 'badger', 'clank', 'twong'], ['Run', 'away'], ['Run', 'away', 'Run', 'away', 'Run', 'away', 'Run', 'away', 'Run', 'away', 'Run', 'away', 'Run', 'away', 'CRASH'], ['Oh', 'haw', 'haw', 'haw', 'haw', 'Haw', 'Haw', 'haw', 'heh'], ['SCENE', '9', 'clack'], ['Picture', 'for', 'Schools', 'take', 'eight'], ['Action'], ['Defeat', 'at', 'the', 'castle', 'seems', 'to', 'have', 'utterly', 'disheartened', 'King', 'Arthur', 'The', 'ferocity', 'of', 'the', 'French', 'taunting', 'took', 'him', 'completely', 'by', 'surprise', 'and', 'Arthur', 'became', 'convinced', 'that', 'a', 'new', 'strategy', 'was', 'required', 'if', 'the', 'quest', 'for', 'the', 'Holy', 'Grail', 'were', 'to', 'be', 'brought', 'to', 'a', 'successful', 'conclusion', 'Arthur', 'having', 'consulted', 'his', 'closest', 'knights', 'decided', 'that', 'they', 'should', 'separate', 'and', 'search', 'for', 'the', 'Grail', 'individually', 'clop', 'clop', 'clop', 'Now', 'this', 'is', 'what', 'they', 'did', 'Launcelot'], ['Aaaah', 'slash', 'KNIGHT', 'kills', 'HISTORIAN'], ['HISTORIAN', 'S', 'Frank'], ['SCENE', '10', 'trumpets'], ['The', 'Tale', 'of', 'Sir', 'Robin', 'So', 'each', 'of', 'the', 'knights', 'went', 'their', 'separate', 'ways', 'Sir', 'Robin', 'rode', 'north', 'through', 'the', 'dark', 'forest', 'of', 'Ewing', 'accompanied', 'by', 'his', 'favorite', 'minstrels'], ['singing', 'Bravely', 'bold', 'Sir', 'Robin', 'rode', 'forth', 'from', 'Camelot', 'He', 'was', 'not', 'afraid', 'to', 'die', 'O', 'brave', 'Sir', 'Robin', 'He', 'was', 'not', 'at', 'all', 'afraid', 'to', 'be', 'killed', 'in', 'nasty', 'ways', 'Brave', 'brave', 'brave', 'brave', 'Sir', 'Robin', 'He', 'was', 'not', 'in', 'the', 'least', 'bit', 'scared', 'to', 'be', 'mashed', 'into', 'a', 'pulp', 'Or', 'to', 'have', 'his', 'eyes', 'gouged', 'out', 'and', 'his', 'elbows', 'broken', 'To', 'have', 'his', 'kneecaps', 'split', 'and', 'his', 'body', 'burned', 'away', 'And', 'his', 'limbs', 'all', 'hacked', 'and', 'mangled', 'brave', 'Sir', 'Robin'], ['His', 'head', 'smashed', 'in', 'and', 'his', 'heart', 'cut', 'out', 'And', 'his', 'liver', 'removed', 'and', 'his', 'bowels', 'unplugged', 'And', 'his', 'nostrils', 'raped', 'and', 'his', 'bottom', 'burned', 'off', 'And', 'his', 'pen'], ['That', 's', 'that', 's', 'uh', 'that', 's', 'enough', 'music', 'for', 'now', 'lads', 'Heh', 'Looks', 'like', 'there', 's', 'dirty', 'work', 'afoot'], ['Anarcho', 'syndicalism', 'is', 'a', 'way', 'of', 'preserving', 'freedom'], ['Oh', 'Dennis', 'forget', 'about', 'freedom', 'We', 'haven', 't', 'got', 'enough', 'mud'], ['Halt', 'Who', 'art', 'thou'], ['singing', 'He', 'is', 'brave', 'Sir', 'Robin', 'brave', 'Sir', 'Robin', 'who'], ['Shut', 'up', 'Um', 'n', 'n', 'n', 'nobody', 'really', 'I', 'm', 'j', 'j', 'j', 'ju', 'just', 'um', 'just', 'passing', 'through'], ['What', 'do', 'you', 'want'], ['singing', 'To', 'fight', 'and'], ['Shut', 'up', 'Um', 'oo', 'a', 'nothing', 'nothing', 'really', 'I', 'uh', 'j', 'j', 'just', 'just', 'to', 'um', 'just', 'to', 'p', 'pass', 'through', 'good', 'Sir', 'Knight'], ['I', 'm', 'afraid', 'not'], ['Ah', 'W', 'well', 'actually', 'I', 'I', 'am', 'a', 'Knight', 'of', 'the', 'Round', 'Table'], ['You', 're', 'a', 'Knight', 'of', 'the', 'Round', 'Table'], ['I', 'am'], ['In', 'that', 'case', 'I', 'shall', 'have', 'to', 'kill', 'you'], ['Shall', 'I'], ['Oh', 'I', 'don', 't', 'think', 'so'], ['Well', 'what', 'do', 'I', 'think'], ['I', 'think', 'kill', 'him'], ['Oh', 'let', 's', 'be', 'nice', 'to', 'him'], ['Oh', 'shut', 'up'], ['Perhaps', 'I', 'could'], ['And', 'you', 'Oh', 'quick', 'Get', 'the', 'sword', 'out', 'I', 'want', 'to', 'cut', 'his', 'headoff'], ['Oh', 'cut', 'your', 'own', 'head', 'off'], ['Yes', 'do', 'us', 'all', 'a', 'favor'], ['What'], ['Yapping', 'on', 'all', 'the', 'time'], ['You', 're', 'lucky', 'You', 're', 'not', 'next', 'to', 'him'], ['What', 'do', 'you', 'mean'], ['You', 'snore'], ['Oh', 'I', 'don', 't', 'Anyway', 'you', 've', 'got', 'bad', 'breath'], ['Well', 'it', 's', 'only', 'because', 'you', 'don', 't', 'brush', 'my', 'teeth'], ['Oh', 'stop', 'bitching', 'and', 'let', 's', 'go', 'have', 'tea'], ['Oh', 'all', 'right', 'All', 'right', 'All', 'right', 'We', 'll', 'kill', 'him', 'first', 'and', 'then', 'have', 'tea', 'and', 'biscuits'], ['Yes'], ['Oh', 'not', 'biscuits'], ['All', 'right', 'All', 'right', 'not', 'biscuits', 'but', 'let', 's', 'kill', 'him', 'anyway'], ['Right'], ['He', 'buggered', 'off'], ['So', 'he', 'has', 'He', 's', 'scarper'], ['singing', 'Brave', 'Sir', 'Robin', 'ran', 'away'], ['No'], ['singing', 'Bravely', 'ran', 'away', 'away'], ['I', 'didn', 't'], ['singing', 'When', 'danger', 'reared', 'its', 'ugly', 'head', 'he', 'bravely', 'turned', 'his', 'tail', 'and', 'fled'], ['No'], ['singing', 'Yes', 'brave', 'Sir', 'Robin', 'turned', 'about'], ['I', 'didn', 't'], ['singing', 'And', 'gallantly', 'he', 'chickened', 'out', 'bravely', 'taking', 'to', 'his', 'feet'], ['I', 'never', 'did'], ['singing', 'He', 'beat', 'a', 'very', 'brave', 'retreat'], ['All', 'lies'], ['singing', 'Bravest', 'of', 'the', 'brave', 'Sir', 'Robin'], ['I', 'never'], ['chanting', 'Pie', 'Iesu', 'domine', 'dona', 'eis', 'requiem'], ['Heh', 'heh', 'heeh', 'ooh', 'twang'], ['chanting', 'Pie', 'Iesu', 'domine'], ['Wayy', 'splash', 'Ho', 'ho', 'Woa', 'wayy', 'twang', 'splash', 'Heh', 'heh', 'heh', 'heh', 'ho', 'Heh', 'heh', 'heh'], ['chanting', 'dona', 'eis', 'requiem'], ['Wayy', 'twang', 'Wayy', 'twang'], ['whispering', 'Forgive', 'me', 'for', 'asking'], ['Oh', 'Oooo'], ['SCENE', '11', 'trumpets'], ['The', 'Tale', 'of', 'Sir', 'Galahad', 'boom', 'wind', 'howl', 'howl', 'boom', 'angels', 'singing', 'howl', 'boom', 'howl', 'boom', 'pound', 'pound', 'pound'], ['Open', 'the', 'door', 'Open', 'the', 'door', 'pound', 'pound', 'pound', 'In', 'the', 'name', 'of', 'King', 'Arthur', 'open', 'the', 'door', 'squeak', 'thump', 'squeak', 'boom'], ['Hello'], ['Welcome', 'gentle', 'Sir', 'Knight', 'Welcome', 'to', 'the', 'Castle', 'Anthrax'], ['The', 'Castle', 'Anthrax'], ['Yes', 'Oh', 'it', 's', 'not', 'a', 'very', 'good', 'name', 'is', 'it', 'Oh', 'but', 'we', 'are', 'nice', 'and', 'we', 'will', 'attend', 'to', 'your', 'every', 'every', 'need'], ['You', 'are', 'the', 'keepers', 'of', 'the', 'Holy', 'Grail'], ['The', 'what'], ['The', 'Grail', 'It', 'is', 'here'], ['Oh', 'but', 'you', 'are', 'tired', 'and', 'you', 'must', 'rest', 'awhile', 'Midget', 'Crapper'], ['MIDGET', 'and', 'Yes', 'O', 'Zoot'], ['Prepare', 'a', 'bed', 'for', 'our', 'guest'], ['MIDGET', 'and', 'Oh', 'thank', 'you', 'Thank', 'you', 'Thank', 'you', 'Thank', 'you', 'Thank', 'you', 'Thank', 'you'], ['Away', 'away', 'varletesses', 'The', 'beds', 'here', 'are', 'warm', 'and', 'soft', 'and', 'very', 'very', 'big'], ['Well', 'look', 'I', 'I', 'uh'], ['What', 'is', 'your', 'name', 'handsome', 'knight'], ['Sir', 'Galahad', 'the', 'Chaste'], ['Mine', 'is', 'Zoot', 'Just', 'Zoot', 'Oh', 'but', 'come'], ['Look', 'please', 'In', 'God', 's', 'name', 'show', 'me', 'the', 'Grail'], ['Oh', 'you', 'have', 'suffered', 'much', 'You', 'are', 'delirious'], ['No', 'look', 'I', 'have', 'seen', 'it', 'It', 'is', 'here', 'in', 'this'], ['Sir', 'Galahad', 'You', 'would', 'not', 'be', 'so', 'ungallant', 'as', 'to', 'refuse', 'our', 'hospitality'], ['Well', 'I', 'I', 'uh'], ['Oh', 'I', 'am', 'afraid', 'our', 'life', 'must', 'seem', 'very', 'dull', 'and', 'quiet', 'compared', 'to', 'yours', 'We', 'are', 'but', 'eight', 'score', 'young', 'blondes', 'and', 'brunettes', 'all', 'between', 'sixteen', 'and', 'nineteen', 'and', 'a', 'half', 'cut', 'off', 'in', 'this', 'castle', 'with', 'no', 'one', 'to', 'protect', 'us', 'Oooh', 'It', 'is', 'a', 'lonely', 'life', 'bathing', 'dressing', 'undressing', 'making', 'exciting', 'underwear', 'We', 'are', 'just', 'not', 'used', 'to', 'handsome', 'knights', 'Nay', 'Nay', 'Come', 'Come', 'You', 'may', 'lie', 'here', 'Oh', 'but', 'you', 'are', 'wounded'], ['No', 'no', 'it', 's', 'it', 's', 'nothing'], ['Oh', 'you', 'must', 'see', 'the', 'doctors', 'immediately', 'No', 'no', 'please', 'Lie', 'down', 'clap', 'clap'], ['Well', 'what', 'seems', 'to', 'be', 'the', 'trouble'], ['They', 're', 'doctors'], ['Uh', 'they', 'have', 'a', 'basic', 'medical', 'training', 'yes'], ['B', 'but'], ['Oh', 'come', 'come', 'You', 'must', 'try', 'to', 'rest', 'Doctor', 'Piglet', 'Doctor', 'Winston', 'Practice', 'your', 'art'], ['Try', 'to', 'relax'], ['Are', 'you', 'sure', 'that', 's', 'absolutely', 'necessary'], ['We', 'must', 'examine', 'you'], ['There', 's', 'nothing', 'wrong', 'with', 'that'], ['Please', 'We', 'are', 'doctors'], ['Look', 'This', 'cannot', 'be', 'I', 'am', 'sworn', 'to', 'chastity'], ['Back', 'to', 'your', 'bed', 'At', 'once'], ['Torment', 'me', 'no', 'longer', 'I', 'have', 'seen', 'the', 'Grail'], ['There', 's', 'no', 'grail', 'here'], ['I', 'have', 'seen', 'it', 'I', 'have', 'seen', 'it', 'clank', 'I', 'have', 'seen'], ['Hello'], ['Oh'], ['Hello', 'Hello', 'Hello', 'Hello', 'Hello', 'Hello', 'Hello', 'Hello', 'Hello', 'Hello', 'Hello', 'Hello', 'Hello', 'Hello', 'Hello', 'Hello', 'Hello', 'Hello', 'Hello', 'Hello', 'Hello', 'Hello', 'Hello'], ['Zoot'], ['No', 'I', 'am', 'Zoot', 's', 'identical', 'twin', 'sister', 'Dingo'], ['Oh', 'well', 'excuse', 'me', 'I'], ['Where', 'are', 'you', 'going'], ['I', 'seek', 'the', 'Grail', 'I', 'have', 'seen', 'it', 'here', 'in', 'this', 'castle'], ['Oh', 'no', 'Oh', 'no', 'Bad', 'bad', 'Zoot'], ['Well', 'what', 'is', 'it'], ['Oh', 'wicked', 'bad', 'naughty', 'Zoot', 'She', 'has', 'been', 'setting', 'alight', 'to', 'our', 'beacon', 'which', 'I', 'have', 'just', 'remembered', 'is', 'grail', 'shaped', 'It', 's', 'not', 'the', 'first', 'time', 'we', 've', 'had', 'this', 'problem'], ['It', 's', 'not', 'the', 'real', 'Grail'], ['Oh', 'wicked', 'bad', 'naughty', 'evil', 'Zoot', 'She', 'is', 'a', 'bad', 'person', 'and', 'must', 'pay', 'the', 'penalty', 'Do', 'you', 'think', 'this', 'scene', 'should', 'have', 'been', 'cut', 'We', 'were', 'so', 'worried', 'when', 'the', 'boys', 'were', 'writing', 'it', 'but', 'now', 'we', 're', 'glad', 'It', 's', 'better', 'than', 'some', 'of', 'the', 'previous', 'scenes', 'I', 'think'], ['At', 'least', 'ours', 'was', 'better', 'visually'], ['Well', 'at', 'least', 'ours', 'was', 'committed', 'It', 'wasn', 't', 'just', 'a', 'string', 'of', 'pussy', 'jokes'], ['Get', 'on', 'with', 'it'], ['TIM', 'Yes', 'get', 'on', 'with', 'it'], ['ARMY', 'Yes', 'get', 'on', 'with', 'it'], ['Oh', 'I', 'am', 'enjoying', 'this', 'scene'], ['Get', 'on', 'with', 'it'], ['sigh', 'Oh', 'wicked', 'wicked', 'Zoot', 'Oh', 'she', 'is', 'a', 'naughty', 'person', 'and', 'she', 'must', 'pay', 'the', 'penalty', 'And', 'here', 'in', 'Castle', 'Anthrax', 'we', 'have', 'but', 'one', 'punishment', 'for', 'setting', 'alight', 'the', 'grail', 'shaped', 'beacon', 'You', 'must', 'tie', 'her', 'down', 'on', 'a', 'bed', 'and', 'spank', 'her'], ['A', 'spanking', 'A', 'spanking'], ['You', 'must', 'spank', 'her', 'well', 'And', 'after', 'you', 'have', 'spanked', 'her', 'you', 'may', 'deal', 'with', 'her', 'as', 'you', 'like', 'And', 'then', 'spank', 'me'], ['And', 'spank', 'me'], ['And', 'me'], ['And', 'me'], ['Yes', 'yes', 'you', 'must', 'give', 'us', 'all', 'a', 'good', 'spanking'], ['A', 'spanking', 'A', 'spanking', 'There', 'is', 'going', 'to', 'be', 'a', 'spanking', 'tonight'], ['And', 'after', 'the', 'spanking', 'the', 'oral', 'sex'], ['The', 'oral', 'sex', 'The', 'oral', 'sex'], ['Well', 'I', 'could', 'stay', 'a', 'bit', 'longer'], ['Sir', 'Galahad'], ['Oh', 'hello'], ['Quick'], ['What'], ['Quick'], ['Why'], ['You', 'are', 'in', 'great', 'peril'], ['No', 'he', 'isn', 't'], ['Silence', 'foul', 'temptress'], ['You', 'know', 'she', 's', 'got', 'a', 'point'], ['Come', 'on', 'We', 'will', 'cover', 'your', 'escape'], ['Look', 'I', 'm', 'fine'], ['Come', 'on'], ['Sir', 'Galahad'], ['No', 'Look', 'I', 'can', 'tackle', 'this', 'lot', 'single', 'handed'], ['Yes', 'Let', 'him', 'tackle', 'us', 'single', 'handed'], ['Yes', 'Let', 'him', 'tackle', 'us', 'single', 'handed'], ['No', 'Sir', 'Galahad', 'Come', 'on'], ['No', 'Really', 'Honestly', 'I', 'can', 'cope', 'I', 'can', 'handle', 'this', 'lot', 'easily'], ['Oh', 'yes', 'Let', 'him', 'handle', 'us', 'easily'], ['Yes', 'Let', 'him', 'handle', 'us', 'easily'], ['No', 'Quick', 'Quick'], ['Please', 'I', 'can', 'defeat', 'them', 'There', 's', 'only', 'a', 'hundred', 'and', 'fifty', 'of', 'them'], ['Yes', 'yes', 'He', 'will', 'beat', 'us', 'easily', 'We', 'haven', 't', 'a', 'chance'], ['We', 'haven', 't', 'a', 'chance', 'He', 'will', 'beat', 'us', 'easily', 'boom'], ['Oh', 'shit'], ['We', 'were', 'in', 'the', 'nick', 'of', 'time', 'You', 'were', 'in', 'great', 'peril'], ['I', 'don', 't', 'think', 'I', 'was'], ['Yes', 'you', 'were', 'You', 'were', 'in', 'terrible', 'peril'], ['Look', 'let', 'me', 'go', 'back', 'in', 'there', 'and', 'face', 'the', 'peril'], ['No', 'it', 's', 'too', 'perilous'], ['Look', 'it', 's', 'my', 'duty', 'as', 'a', 'knight', 'to', 'sample', 'as', 'much', 'peril', 'as', 'I', 'can'], ['No', 'we', 've', 'got', 'to', 'find', 'the', 'Holy', 'Grail', 'Come', 'on'], ['Oh', 'let', 'me', 'have', 'just', 'a', 'little', 'bit', 'of', 'peril'], ['No', 'It', 's', 'unhealthy'], ['I', 'bet', 'you', 're', 'gay'], ['No', 'I', 'm', 'not'], ['Sir', 'Launcelot', 'had', 'saved', 'Sir', 'Galahad', 'from', 'almost', 'certain', 'temptation', 'but', 'they', 'were', 'still', 'no', 'nearer', 'the', 'Grail', 'Meanwhile', 'King', 'Arthur', 'and', 'Sir', 'Bedevere', 'not', 'more', 'than', 'a', 'swallow', 's', 'flight', 'away', 'had', 'discovered', 'something', 'Oh', 'that', 's', 'an', 'unladen', 'swallow', 's', 'flight', 'obviously', 'I', 'mean', 'they', 'were', 'more', 'than', 'two', 'laden', 'swallows', 'flights', 'away', 'four', 'really', 'if', 'they', 'had', 'a', 'coconut', 'on', 'a', 'line', 'between', 'them', 'I', 'mean', 'if', 'the', 'birds', 'were', 'walking', 'and', 'dragging'], ['Get', 'on', 'with', 'it'], ['Oh', 'anyway', 'On', 'to', 'scene', 'twenty', 'four', 'which', 'is', 'a', 'smashing', 'scene', 'with', 'some', 'lovely', 'acting', 'in', 'which', 'Arthur', 'discovers', 'a', 'vital', 'clue', 'and', 'in', 'which', 'there', 'aren', 't', 'any', 'swallows', 'although', 'I', 'think', 'you', 'can', 'hear', 'a', 'starling', 'oooh'], ['SCENE', '12'], ['Heh', 'hee', 'ha', 'ha', 'hee', 'hee', 'Hee', 'hee', 'hee', 'ha', 'ha', 'ha'], ['And', 'this', 'enchanter', 'of', 'whom', 'you', 'speak', 'he', 'has', 'seen', 'the', 'Grail'], ['Ha', 'ha', 'ha', 'ha', 'Heh', 'hee', 'ha', 'ha', 'hee', 'Ha', 'hee', 'ha', 'Ha', 'ha', 'ha', 'ha'], ['Where', 'does', 'he', 'live'], ['Heh', 'heh', 'heh', 'heh'], ['Old', 'man', 'where', 'does', 'he', 'live'], ['Hee', 'ha', 'ha', 'ha', 'He', 'knows', 'of', 'a', 'cave', 'a', 'cave', 'which', 'no', 'man', 'has', 'entered'], ['And', 'the', 'Grail', 'The', 'Grail', 'is', 'there'], ['There', 'is', 'much', 'danger', 'for', 'beyond', 'the', 'cave', 'lies', 'the', 'Gorge', 'of', 'Eternal', 'Peril', 'which', 'no', 'man', 'has', 'ever', 'crossed'], ['But', 'the', 'Grail', 'Where', 'is', 'the', 'Grail'], ['Seek', 'you', 'the', 'Bridge', 'of', 'Death'], ['The', 'Bridge', 'of', 'Death', 'which', 'leads', 'to', 'the', 'Grail'], ['Heh', 'hee', 'hee', 'hee', 'hee', 'Ha', 'ha', 'ha', 'ha', 'ha', 'Hee', 'ha', 'ha'], ['SCENE', '13', 'spooky', 'music', 'music', 'stops'], ['HEAD', 'KNIGHT', 'Ni'], ['KNIGHTS', 'Ni', 'Ni', 'Ni', 'Ni', 'Ni'], ['Who', 'are', 'you'], ['We', 'are', 'the', 'Knights', 'Who', 'Say', 'Ni'], ['Ni'], ['No', 'Not', 'the', 'Knights', 'Who', 'Say', 'Ni'], ['The', 'same'], ['Who', 'are', 'they'], ['We', 'are', 'the', 'keepers', 'of', 'the', 'sacred', 'words', 'Ni', 'Peng', 'and', 'Neee', 'wom'], ['Neee', 'wom'], ['Those', 'who', 'hear', 'them', 'seldom', 'live', 'to', 'tell', 'the', 'tale'], ['The', 'Knights', 'Who', 'Say', 'Ni', 'demand', 'a', 'sacrifice'], ['Knights', 'of', 'Ni', 'we', 'are', 'but', 'simple', 'travellers', 'who', 'seek', 'the', 'enchanter', 'who', 'lives', 'beyond', 'these', 'woods'], ['Ni'], ['KNIGHTS', 'Ni', 'Ni', 'Ni', 'Ni', 'Ni'], ['Ow', 'Ow', 'Ow', 'Agh'], ['We', 'shall', 'say', 'ni', 'again', 'to', 'you', 'if', 'you', 'do', 'not', 'appease', 'us'], ['Well', 'what', 'is', 'it', 'you', 'want'], ['We', 'want', 'a', 'shrubbery', 'dramatic', 'chord'], ['A', 'what'], ['KNIGHTS', 'Ni', 'Ni', 'Ni', 'Ni'], ['ARTHUR', 'and', 'Ow', 'Oh'], ['Please', 'please', 'No', 'more', 'We', 'will', 'find', 'you', 'a', 'shrubbery'], ['You', 'must', 'return', 'here', 'with', 'a', 'shrubbery', 'or', 'else', 'you', 'will', 'never', 'pass', 'through', 'this', 'wood', 'alive'], ['O', 'Knights', 'of', 'Ni', 'you', 'are', 'just', 'and', 'fair', 'and', 'we', 'will', 'return', 'with', 'a', 'shrubbery'], ['One', 'that', 'looks', 'nice'], ['Of', 'course'], ['And', 'not', 'too', 'expensive'], ['Yes'], ['Now', 'go', 'trumpets'], ['Hmm', 'hmm', 'boom', 'Oh', 'Great', 'scott', 'Hm', 'Hmm', 'boom', 'Hm', 'Hmm', 'mumble', 'mumble', 'mumble', 'boom', 'mumble', 'mumble', 'mumble', 'boom', 'mumble', 'mumble', 'mumble', 'boom', 'mumble', 'mumble', 'mumble', 'boom', 'mumble', 'mumble', 'mumble', 'boom', 'mumble', 'mumble', 'mumble', 'boom', 'mumble', 'mumble', 'mumble', 'boom', 'mumble', 'mumble', 'mumble', 'boom', 'Ohh', 'crash', 'mumble', 'mumble', 'mumble', 'boom'], ['Ay', 'up', 'Thsss', 'boom', 'Ayy', 'up', 'boom', 'Thsss', 'boom', 'Ayy', 'up'], ['Stop', 'that', 'Stop', 'that', 'boom'], ['Ay', 'up'], ['Stop', 'that', 'boom', 'Look', 'on', 'Clear', 'off', 'Go', 'on', 'Go', 'away', 'Go', 'away', 'Go', 'away', 'And', 'you', 'Clear', 'off', 'sniff'], ['mumble', 'mumble', 'mumble', 'bells'], ['Hah', 'Bloody', 'weather'], ['SCENE', '14'], ['The', 'Tale', 'of', 'Sir', 'Launcelot'], ['One', 'day', 'lad', 'all', 'this', 'will', 'be', 'yours'], ['What', 'the', 'curtains'], ['No', 'Not', 'the', 'curtains', 'lad', 'All', 'that', 'you', 'can', 'see', 'stretched', 'out', 'over', 'the', 'hills', 'and', 'valleys', 'of', 'this', 'land', 'This', 'll', 'be', 'your', 'kingdom', 'lad'], ['But', 'Mother'], ['Father', 'lad', 'Father'], ['B', 'b', 'but', 'Father', 'I', 'don', 't', 'want', 'any', 'of', 'that'], ['Listen', 'lad', 'I', 'built', 'this', 'kingdom', 'up', 'from', 'nothing', 'When', 'I', 'started', 'here', 'all', 'there', 'was', 'was', 'swamp', 'Other', 'kings', 'said', 'I', 'was', 'daft', 'to', 'build', 'a', 'castle', 'on', 'a', 'swamp', 'but', 'I', 'built', 'it', 'all', 'the', 'same', 'just', 'to', 'show', 'em', 'It', 'sank', 'into', 'the', 'swamp', 'So', 'I', 'built', 'a', 'second', 'one', 'That', 'sank', 'into', 'the', 'swamp', 'So', 'I', 'built', 'a', 'third', 'one', 'That', 'burned', 'down', 'fell', 'over', 'then', 'sank', 'into', 'the', 'swamp', 'But', 'the', 'fourth', 'one', 'stayed', 'up', 'And', 'that', 's', 'what', 'you', 're', 'gonna', 'get', 'lad', 'the', 'strongest', 'castle', 'in', 'these', 'islands'], ['But', 'I', 'don', 't', 'want', 'any', 'of', 'that', 'I', 'd', 'rather'], ['Rather', 'what'], ['I', 'd', 'rather', 'music', 'just', 'sing'], ['Stop', 'that', 'Stop', 'that', 'You', 're', 'not', 'going', 'into', 'a', 'song', 'while', 'I', 'm', 'here', 'Now', 'listen', 'lad', 'In', 'twenty', 'minutes', 'you', 're', 'getting', 'married', 'to', 'a', 'girl', 'whose', 'father', 'owns', 'the', 'biggest', 'tracts', 'of', 'open', 'land', 'in', 'Britain'], ['B', 'but', 'I', 'don', 't', 'want', 'land'], ['Listen', 'Alice'], ['Herbert'], ['Erbert', 'We', 'live', 'in', 'a', 'bloody', 'swamp', 'We', 'need', 'all', 'the', 'land', 'we', 'can', 'get'], ['But', 'but', 'I', 'don', 't', 'like', 'her'], ['Don', 't', 'like', 'her', 'What', 's', 'wrong', 'with', 'her', 'She', 's', 'beautiful', 'She', 's', 'rich', 'She', 's', 'got', 'huge', 'tracts', 'o', 'land'], ['I', 'know', 'but', 'I', 'want', 'the', 'the', 'girl', 'that', 'I', 'marry', 'to', 'have', 'music', 'a', 'certain', 'special', 'something'], ['Cut', 'that', 'out', 'Cut', 'that', 'out', 'Look', 'you', 're', 'marrying', 'Princess', 'Lucky', 'so', 'you', 'd', 'better', 'get', 'used', 'to', 'the', 'idea', 'smack', 'Guards', 'Make', 'sure', 'the', 'Prince', 'doesn', 't', 'leave', 'this', 'room', 'until', 'I', 'come', 'and', 'get', 'him'], ['Not', 'to', 'leave', 'the', 'room', 'even', 'if', 'you', 'come', 'and', 'get', 'him'], ['Hic'], ['No', 'no', 'Until', 'I', 'come', 'and', 'get', 'him'], ['Until', 'you', 'come', 'and', 'get', 'him', 'we', 're', 'not', 'to', 'enter', 'the', 'room'], ['No', 'no', 'No', 'You', 'stay', 'in', 'the', 'room', 'and', 'make', 'sure', 'he', 'doesn', 't', 'leave'], ['And', 'you', 'll', 'come', 'and', 'get', 'him'], ['Hic'], ['Right'], ['We', 'don', 't', 'need', 'to', 'do', 'anything', 'apart', 'from', 'just', 'stop', 'him', 'entering', 'the', 'room'], ['No', 'no', 'Leaving', 'the', 'room'], ['Leaving', 'the', 'room', 'Yes', 'sniff'], ['All', 'right'], ['Right'], ['Hic'], ['Right'], ['Oh', 'if', 'if', 'if', 'uhh', 'if', 'if', 'w', 'ehh', 'i', 'if', 'if', 'we'], ['Yes', 'What', 'is', 'it'], ['Oh', 'i', 'if', 'i', 'oh'], ['Look', 'it', 's', 'quite', 'simple'], ['Uh'], ['You', 'just', 'stay', 'here', 'and', 'make', 'sure', 'e', 'doesn', 't', 'leave', 'the', 'room', 'Alright'], ['Hic'], ['Right'], ['Oh', 'I', 'remember', 'Uhh', 'can', 'he', 'leave', 'the', 'room', 'with', 'us'], ['N', 'no', 'no', 'No', 'You', 'just', 'keep', 'him', 'in', 'here', 'and', 'make', 'sure', 'he'], ['Oh', 'yes', 'We', 'll', 'keep', 'him', 'in', 'here', 'obviously', 'But', 'if', 'he', 'had', 'to', 'leave', 'and', 'we', 'were', 'with', 'him'], ['No', 'no', 'no', 'no', 'Just', 'keep', 'him', 'in', 'here'], ['Until', 'you', 'or', 'anyone', 'else'], ['No', 'not', 'anyone', 'else', 'Just', 'me'], ['Just', 'you'], ['Hic'], ['Get', 'back'], ['Get', 'back'], ['All', 'right'], ['Right', 'We', 'll', 'stay', 'here', 'until', 'you', 'get', 'back'], ['Hic'], ['And', 'uh', 'make', 'sure', 'he', 'doesn', 't', 'leave'], ['What'], ['Make', 'sure', 'e', 'doesn', 't', 'leave'], ['The', 'Prince'], ['Yes', 'Make', 'sure', 'e', 'doesn', 't', 'leave'], ['Oh', 'yes', 'of', 'course'], ['Hic'], ['Ah', 'I', 'thought', 'you', 'meant', 'him', 'You', 'know', 'it', 'seemed', 'a', 'bit', 'daft', 'me', 'havin', 'to', 'guard', 'him', 'when', 'he', 's', 'a', 'guard'], ['Is', 'that', 'clear'], ['Hic'], ['Oh', 'quite', 'clear', 'No', 'problems'], ['Right', 'Where', 'are', 'you', 'going'], ['We', 're', 'coming', 'with', 'you'], ['No', 'no', 'I', 'want', 'you', 'to', 'stay', 'here', 'and', 'make', 'sure', 'e', 'doesn', 't', 'leave'], ['Oh', 'I', 'see', 'Right'], ['But', 'Father'], ['Shut', 'your', 'noise', 'you', 'And', 'get', 'that', 'suit', 'on', 'music', 'And', 'no', 'singing'], ['Hic'], ['Oh', 'go', 'and', 'get', 'a', 'glass', 'of', 'water', 'clank', 'scribble', 'scribble', 'scribble', 'fold', 'fold', 'twong'], ['SCENE', '15'], ['Well', 'taken', 'Concorde'], ['Thank', 'you', 'sir', 'Most', 'kind'], ['And', 'again', 'Over', 'we', 'go', 'Good', 'Steady', 'And', 'now', 'the', 'big', 'one', 'Uuh', 'Come', 'on', 'Concorde', 'thwonk'], ['Message', 'for', 'you', 'sir', 'fwump'], ['Concorde', 'Concorde', 'Speak', 'to', 'me', 'To', 'whoever', 'finds', 'this', 'note', 'I', 'have', 'been', 'imprisoned', 'by', 'my', 'father', 'who', 'wishes', 'me', 'to', 'marry', 'against', 'my', 'will', 'Please', 'please', 'please', 'come', 'and', 'rescue', 'me', 'I', 'am', 'in', 'the', 'Tall', 'Tower', 'of', 'Swamp', 'Castle', 'At', 'last', 'A', 'call', 'A', 'cry', 'of', 'distress', 'This', 'could', 'be', 'the', 'sign', 'that', 'leads', 'us', 'to', 'the', 'Holy', 'Grail', 'Brave', 'brave', 'Concorde', 'you', 'shall', 'not', 'have', 'died', 'in', 'vain'], ['Uh', 'I', 'm', 'I', 'm', 'not', 'quite', 'dead', 'sir'], ['Well', 'you', 'shall', 'not', 'have', 'been', 'mortally', 'wounded', 'in', 'vain'], ['I', 'I', 'I', 'think', 'I', 'c', 'I', 'could', 'pull', 'through', 'sir'], ['Oh', 'I', 'see'], ['Actually', 'I', 'think', 'I', 'm', 'all', 'right', 'to', 'come', 'with', 'you', 'sir'], ['No', 'no', 'sweet', 'Concorde', 'Stay', 'here', 'I', 'will', 'send', 'help', 'as', 'soon', 'as', 'I', 'have', 'accomplished', 'a', 'daring', 'and', 'heroic', 'rescue', 'in', 'my', 'own', 'particular', 'sigh'], ['Idiom', 'sir'], ['Idiom'], ['No', 'I', 'feel', 'fine', 'actually', 'sir'], ['Farewell', 'sweet', 'Concorde'], ['I', 'll', 'um', 'I', 'll', 'just', 'stay', 'here', 'then', 'Shall', 'I', 'sir', 'Yeah'], ['SCENE', '16', 'inside', 'castle'], ['PRINCESS', 'LUCKY', 'and', 'giggle', 'giggle', 'giggle', 'outside', 'castle'], ['Morning'], ['Morning'], ['Oooh'], ['ptoo'], ['Ha', 'ha', 'Hiyya'], ['Hey'], ['Hiyya', 'Ha', 'etc'], ['PRINCESS', 'LUCKY', 'and', 'giggle', 'giggle', 'giggle'], ['Ha', 'ha', 'Huy'], ['Uuh', 'Aaah'], ['Ha', 'ha', 'And', 'take', 'this', 'Aah', 'Hiyah', 'Aah', 'Aaah', 'Hyy', 'Hya', 'Hiyya', 'Ha'], ['Now', 'you', 're', 'not', 'allowed', 'to', 'enter', 'the', 'room', 'aaugh'], ['O', 'fair', 'one', 'behold', 'your', 'humble', 'servant', 'Sir', 'Launcelot', 'of', 'Camelot', 'I', 'have', 'come', 'to', 'take', 'y', 'Oh', 'I', 'm', 'terribly', 'sorry'], ['You', 'got', 'my', 'note'], ['Uh', 'well', 'I', 'I', 'got', 'a', 'a', 'note'], ['You', 've', 'come', 'to', 'rescue', 'me'], ['Uh', 'well', 'no', 'You', 'see', 'I', 'hadn', 't'], ['I', 'knew', 'someone', 'would', 'I', 'knew', 'that', 'somewhere', 'out', 'there', 'music'], ['Well', 'I'], ['there', 'must', 'be', 'someone'], ['Stop', 'that', 'Stop', 'that', 'Stop', 'it', 'Stop', 'it', 'Who', 'are', 'you'], ['I', 'm', 'your', 'son'], ['No', 'not', 'you'], ['Uh', 'I', 'am', 'Sir', 'Launcelot', 'sir'], ['He', 's', 'come', 'to', 'rescue', 'me', 'Father'], ['Well', 'let', 's', 'not', 'jump', 'to', 'conclusions'], ['Did', 'you', 'kill', 'all', 'those', 'guards'], ['Uh', 'Oh', 'yes', 'Sorry'], ['They', 'cost', 'fifty', 'pounds', 'each'], ['Well', 'I', 'm', 'awfully', 'sorry', 'Um', 'I', 'really', 'can', 'explain', 'everything'], ['Don', 't', 'be', 'afraid', 'of', 'him', 'Sir', 'Launcelot', 'I', 've', 'got', 'a', 'rope', 'all', 'ready'], ['You', 'killed', 'eight', 'wedding', 'guests', 'in', 'all'], ['Well', 'uh', 'you', 'see', 'the', 'thing', 'is', 'I', 'thought', 'your', 'son', 'was', 'a', 'lady'], ['I', 'can', 'understand', 'that'], ['Hurry', 'Sir', 'Launcelot', 'Hurry'], ['Shut', 'up', 'You', 'only', 'killed', 'the', 'bride', 's', 'father', 'that', 's', 'all'], ['Well', 'I', 'really', 'didn', 't', 'mean', 'to'], ['Didn', 't', 'mean', 'to', 'You', 'put', 'your', 'sword', 'right', 'through', 'his', 'head'], ['Oh', 'dear', 'Is', 'he', 'all', 'right'], ['You', 'even', 'kicked', 'the', 'bride', 'in', 'the', 'chest', 'This', 'is', 'going', 'to', 'cost', 'me', 'a', 'fortune'], ['Well', 'I', 'can', 'explain', 'I', 'was', 'in', 'the', 'forest', 'um', 'riding', 'north', 'from', 'Camelot', 'when', 'I', 'got', 'this', 'note', 'you', 'see'], ['Camelot', 'Are', 'you', 'from', 'uh', 'Camelot'], ['Hurry', 'Sir', 'Launcelot'], ['Uh', 'I', 'am', 'a', 'Knight', 'of', 'King', 'Arthur', 'sir'], ['Very', 'nice', 'castle', 'Camelot', 'Uh', 'very', 'good', 'pig', 'country'], ['Is', 'it'], ['Hurry', 'I', 'm', 'ready'], ['Would', 'you', 'uh', 'like', 'to', 'come', 'and', 'have', 'a', 'drink'], ['Well', 'that', 'that', 's', 'uh', 'awfully', 'nice', 'of', 'you'], ['I', 'am', 'ready'], ['um', 'I', 'mean', 'to', 'be', 'so', 'understanding', 'thonk', 'Um', 'woosh'], ['Oooh'], ['I', 'm', 'afraid', 'when', 'I', 'm', 'in', 'this', 'idiom', 'I', 'sometimes', 'get', 'a', 'bit', 'uh', 'sort', 'of', 'carried', 'away'], ['Oh', 'don', 't', 'worry', 'about', 'that'], ['Oooh', 'splat'], ['SCENE', '17'], ['crying'], ['Well', 'this', 'is', 'the', 'main', 'hall', 'We', 're', 'going', 'to', 'have', 'all', 'this', 'knocked', 'through', 'and', 'made', 'into', 'one', 'big', 'uh', 'living', 'room'], ['There', 'he', 'is'], ['Oh', 'bloody', 'hell'], ['Ha', 'ha', 'ha', 'Hey', 'Ha', 'ha'], ['Hold', 'it', 'Stop', 'it', 'Hold', 'it', 'Hold', 'it', 'Hold', 'it', 'Hold', 'it', 'Hold', 'it', 'Please'], ['Sorry', 'Sorry', 'You', 'see', 'what', 'I', 'mean', 'I', 'just', 'get', 'carried', 'away', 'I', 'm', 'really', 'most', 'awfully', 'sorry', 'Sorry', 'Sorry', 'everyone'], ['He', 's', 'killed', 'the', 'best', 'man'], ['yelling'], ['Hold', 'it', 'Hold', 'it', 'Please', 'Hold', 'it', 'This', 'is', 'Sir', 'Launcelot', 'from', 'the', 'Court', 'of', 'Camelot', 'a', 'very', 'brave', 'and', 'influential', 'knight', 'and', 'my', 'special', 'guest', 'here', 'today'], ['Hello'], ['He', 'killed', 'my', 'auntie'], ['yelling'], ['Please', 'Please', 'This', 'is', 'supposed', 'to', 'be', 'a', 'happy', 'occasion', 'Let', 's', 'not', 'bicker', 'and', 'argue', 'about', 'who', 'killed', 'who', 'We', 'are', 'here', 'today', 'to', 'witness', 'the', 'union', 'of', 'two', 'young', 'people', 'in', 'the', 'joyful', 'bond', 'of', 'the', 'holy', 'wedlock', 'Unfortunately', 'one', 'of', 'them', 'my', 'son', 'Herbert', 'has', 'just', 'fallen', 'to', 'his', 'death'], ['Oh', 'Oh', 'no'], ['But', 'I', 'don', 't', 'want', 'to', 'think', 'I', 've', 'not', 'lost', 'a', 'son', 'so', 'much', 'as', 'gained', 'a', 'daughter', 'clap', 'clap', 'clap', 'For', 'since', 'the', 'tragic', 'death', 'of', 'her', 'father'], ['He', 's', 'not', 'quite', 'dead'], ['Since', 'the', 'near', 'fatal', 'wounding', 'of', 'her', 'father'], ['He', 's', 'getting', 'better'], ['For', 'since', 'her', 'own', 'father', 'who', 'when', 'he', 'seemed', 'about', 'to', 'recover', 'suddenly', 'felt', 'the', 'icy', 'hand', 'of', 'death', 'upon', 'him'], ['BRIDE', 'S', 'Uugh'], ['Oh', 'he', 's', 'died'], ['And', 'I', 'want', 'his', 'only', 'daughter', 'to', 'look', 'upon', 'me', 'as', 'her', 'old', 'dad', 'in', 'a', 'very', 'real', 'and', 'legally', 'binding', 'sense', 'clap', 'clap', 'clap', 'And', 'I', 'feel', 'sure', 'that', 'the', 'merger', 'er', 'the', 'union', 'between', 'the', 'Princess', 'and', 'the', 'brave', 'but', 'dangerous', 'Sir', 'Launcelot', 'of', 'Camelot'], ['What'], ['Look', 'The', 'dead', 'Prince'], ['Oooh', 'The', 'dead', 'Prince'], ['He', 's', 'not', 'quite', 'dead'], ['No', 'I', 'feel', 'much', 'better'], ['You', 'fell', 'out', 'of', 'the', 'Tall', 'Tower', 'you', 'creep'], ['No', 'I', 'was', 'saved', 'at', 'the', 'last', 'minute'], ['How'], ['Well', 'I', 'll', 'tell', 'you', 'music'], ['Not', 'like', 'that', 'Not', 'like', 'that', 'No', 'Stop', 'it'], ['singing', 'He', 's', 'going', 'to', 'tell', 'He', 's', 'going', 'to', 'tell'], ['Shut', 'uuup'], ['singing', 'He', 's', 'going', 'to', 'tell'], ['Shut', 'up'], ['singing', 'He', 's', 'going', 'to', 'tell'], ['Shut', 'up'], ['singing', 'He', 's', 'going', 'to', 'tell'], ['Not', 'like', 'that'], ['singing', 'He', 's', 'going', 'to', 'tell', 'He', 's', 'going', 'to', 'tell', 'He', 's', 'going', 'to', 'tell', 'He', 's', 'going', 'to', 'tell'], ['Quickly', 'sir'], ['singing', 'He', 's', 'going', 'to', 'tell'], ['Come', 'this', 'way'], ['singing', 'He', 's', 'going', 'to', 'tell', 'He', 's', 'going', 'to', 'tell'], ['No', 'It', 's', 'not', 'right', 'for', 'my', 'idiom'], ['singing', 'He', 's', 'going', 'to', 'tell', 'about', 'his', 'great', 'escape'], ['I', 'must', 'escape', 'more', 'sigh'], ['singing', 'Oh', 'he', 'fell', 'a', 'long', 'long', 'way'], ['Dramatically', 'sir'], ['Dramatically'], ['singing', 'But', 'he', 's', 'here', 'with', 'us', 'today'], ['Heee', 'Hoa', 'crash', 'Hoo'], ['singing', 'What', 'a', 'wonderful', 'escape'], ['Excuse', 'me', 'Could', 'uh', 'could', 'somebody', 'give', 'me', 'a', 'push', 'please'], ['SCENE', '18', 'King', 'Arthur', 'music', 'clop', 'clop', 'clop', 'rewr', 'rewr', 'rewr', 'rewr', 'rewr', 'rewr'], ['Old', 'crone', 'rewr', 'music', 'stops', 'Is', 'there', 'anywhere', 'in', 'this', 'town', 'where', 'we', 'could', 'buy', 'a', 'shrubbery', 'dramatic', 'chord'], ['Who', 'sent', 'you'], ['The', 'Knights', 'Who', 'Say', 'Ni'], ['Aggh', 'No', 'Never', 'We', 'have', 'no', 'shrubberies', 'here'], ['If', 'you', 'do', 'not', 'tell', 'us', 'where', 'we', 'can', 'buy', 'a', 'shrubbery', 'my', 'friend', 'and', 'I', 'will', 'say', 'we', 'will', 'say', 'ni'], ['Agh', 'Do', 'your', 'worst'], ['Very', 'well', 'If', 'you', 'will', 'not', 'assist', 'us', 'voluntarily', 'ni'], ['No', 'Never', 'No', 'shrubberies'], ['Ni'], ['cough'], ['Nu'], ['No', 'no', 'no', 'no'], ['Nu'], ['No', 'it', 's', 'not', 'that', 'it', 's', 'ni'], ['Nu'], ['No', 'no', 'ni', 'You', 're', 'not', 'doing', 'it', 'properly', 'No'], ['Ni'], ['ARTHUR', 'and', 'Ni'], ['That', 's', 'it', 'That', 's', 'it', 'You', 've', 'got', 'it'], ['ARTHUR', 'and', 'Ni'], ['Ohh'], ['Ni'], ['Ni'], ['Agh'], ['Ni'], ['Ni'], ['Ni'], ['Ni'], ['Ni'], ['ROGER', 'Are', 'you', 'saying', 'ni', 'to', 'that', 'old', 'woman'], ['Erm', 'yes'], ['Oh', 'what', 'sad', 'times', 'are', 'these', 'when', 'passing', 'ruffians', 'can', 'ni', 'at', 'will', 'to', 'old', 'ladies', 'There', 'is', 'a', 'pestilence', 'upon', 'this', 'land', 'Nothing', 'is', 'sacred', 'Even', 'those', 'who', 'arrange', 'and', 'design', 'shrubberies', 'are', 'under', 'considerable', 'economic', 'stress', 'at', 'this', 'period', 'in', 'history'], ['Did', 'you', 'say', 'shrubberies'], ['Yes', 'Shrubberies', 'are', 'my', 'trade', 'I', 'am', 'a', 'shrubber', 'My', 'name', 'is', 'Roger', 'the', 'Shrubber', 'I', 'arrange', 'design', 'and', 'sell', 'shrubberies'], ['Ni'], ['No', 'No', 'no', 'no', 'No'], ['SCENE', '19'], ['O', 'Knights', 'of', 'Ni', 'we', 'have', 'brought', 'you', 'your', 'shrubbery', 'May', 'we', 'go', 'now'], ['It', 'is', 'a', 'good', 'shrubbery', 'I', 'like', 'the', 'laurels', 'particularly', 'But', 'there', 'is', 'one', 'small', 'problem'], ['What', 'is', 'that'], ['We', 'are', 'now', 'no', 'longer', 'the', 'Knights', 'Who', 'Say', 'Ni'], ['KNIGHTS', 'Ni', 'Shh'], ['Shh', 'We', 'are', 'now', 'the', 'Knights', 'Who', 'Say', 'Ecky', 'ecky', 'ecky', 'ecky', 'pikang', 'zoop', 'boing', 'goodem', 'zoo', 'owli', 'zhiv'], ['Ni'], ['Therefore', 'we', 'must', 'give', 'you', 'a', 'test'], ['What', 'is', 'this', 'test', 'O', 'Knights', 'of', 'Knights', 'Who', 'Til', 'Recently', 'Said', 'Ni'], ['Firstly', 'you', 'must', 'find', 'another', 'shrubbery', 'dramatic', 'chord'], ['Not', 'another', 'shrubbery'], ['Ni'], ['Then', 'when', 'you', 'have', 'found', 'the', 'shrubbery', 'you', 'must', 'place', 'it', 'here', 'beside', 'this', 'shrubbery', 'only', 'slightly', 'higher', 'so', 'you', 'get', 'the', 'two', 'level', 'effect', 'with', 'a', 'little', 'path', 'running', 'down', 'the', 'middle'], ['KNIGHTS', 'A', 'path', 'A', 'path', 'A', 'path', 'Ni', 'Shh', 'Ni', 'Ni', 'Ni', 'Shh', 'Shh'], ['Then', 'when', 'you', 'have', 'found', 'the', 'shrubbery', 'you', 'must', 'cut', 'down', 'the', 'mightiest', 'tree', 'in', 'the', 'forest', 'with', 'a', 'herring', 'dramatic', 'chord'], ['We', 'shall', 'do', 'no', 'such', 'thing'], ['Oh', 'please'], ['Cut', 'down', 'a', 'tree', 'with', 'a', 'herring', 'It', 'can', 't', 'be', 'done'], ['KNIGHTS', 'Aaaugh', 'Aaaugh'], ['Augh', 'Ohh', 'Don', 't', 'say', 'that', 'word'], ['What', 'word'], ['I', 'cannot', 'tell', 'suffice', 'to', 'say', 'is', 'one', 'of', 'the', 'words', 'the', 'Knights', 'of', 'Ni', 'cannot', 'hear'], ['How', 'can', 'we', 'not', 'say', 'the', 'word', 'if', 'you', 'don', 't', 'tell', 'us', 'what', 'it', 'is'], ['KNIGHTS', 'Aaaaugh'], ['You', 'said', 'it', 'again'], ['What', 'is'], ['KNIGHTS', 'Agh', 'No', 'not', 'is'], ['No', 'not', 'is', 'You', 'wouldn', 't', 'get', 'vary', 'far', 'in', 'life', 'not', 'saying', 'is'], ['KNIGHTS', 'No', 'not', 'is', 'Not', 'is'], ['My', 'liege', 'it', 's', 'Sir', 'Robin'], ['singing', 'Packing', 'it', 'in', 'and', 'packing', 'it', 'up', 'And', 'sneaking', 'away', 'and', 'buggering', 'up', 'And', 'chickening', 'out', 'and', 'pissing', 'off', 'home', 'Yes', 'bravely', 'he', 'is', 'throwing', 'in', 'the', 'sponge'], ['Sir', 'Robin'], ['My', 'liege', 'It', 's', 'good', 'to', 'see', 'you'], ['Now', 'he', 's', 'said', 'the', 'word'], ['Surely', 'you', 've', 'not', 'given', 'up', 'your', 'quest', 'for', 'the', 'Holy', 'Grail'], ['singing', 'He', 'is', 'sneaking', 'away', 'and', 'buggering', 'up'], ['Shut', 'up', 'No', 'no', 'No', 'Far', 'from', 'it'], ['He', 'said', 'the', 'word', 'again'], ['KNIGHTS', 'Aaaaugh'], ['I', 'was', 'looking', 'for', 'it'], ['KNIGHTS', 'Aaaaugh'], ['Uh', 'here', 'here', 'in', 'this', 'forest'], ['No', 'it', 'is', 'far', 'from', 'this', 'place'], ['KNIGHTS', 'Aaaaugh'], ['Aaaaugh', 'Stop', 'saying', 'the', 'word', 'The', 'word'], ['Oh', 'stop', 'it'], ['KNIGHTS', 'we', 'cannot', 'hear'], ['Ow', 'He', 'said', 'it', 'again'], ['Patsy'], ['Wait', 'I', 'said', 'it', 'I', 'said', 'it', 'clop', 'clop', 'clop', 'Ooh', 'I', 'said', 'it', 'again', 'And', 'there', 'again', 'That', 's', 'three', 'it', 's', 'Ohh'], ['KNIGHTS', 'Aaaaugh'], ['And', 'so', 'Arthur', 'and', 'Bedevere', 'and', 'Sir', 'Robin', 'set', 'out', 'on', 'their', 'search', 'to', 'find', 'the', 'enchanter', 'of', 'whom', 'the', 'old', 'man', 'had', 'spoken', 'in', 'scene', 'twenty', 'four', 'Beyond', 'the', 'forest', 'they', 'met', 'Launcelot', 'and', 'Galahad', 'and', 'there', 'was', 'much', 'rejoicing'], ['Yay', 'Yay', 'woosh'], ['In', 'the', 'frozen', 'land', 'of', 'Nador', 'they', 'were', 'forced', 'to', 'eat', 'Robin', 's', 'minstrels'], ['high', 'pitched', 'Get', 'back', 'Eee'], ['And', 'there', 'was', 'much', 'rejoicing'], ['Yay'], ['A', 'year', 'passed'], ['shivering'], ['Winter', 'changed', 'into', 'Spring'], ['Mmm', 'nice'], ['Spring', 'changed', 'into', 'Summer'], ['Oh', 'Ahh'], ['Summer', 'changed', 'back', 'into', 'Winter'], ['Oh'], ['And', 'Winter', 'gave', 'Spring', 'and', 'Summer', 'a', 'miss', 'and', 'went', 'straight', 'on', 'into', 'Autumn'], ['Aah', 'snap', 'Oh', 'Waa'], ['Until', 'one', 'day'], ['SCENE', '20', 'King', 'Arthur', 'music', 'clop', 'clop', 'clop', 'music', 'stops', 'boom'], ['Eh', 'Oh', 'See', 'it', 'Oh', 'Oh'], ['Knights', 'Forward', 'boom', 'boom', 'boom', 'boom', 'boom', 'squeak', 'boom', 'boom', 'boom', 'boom', 'What', 'manner', 'of', 'man', 'are', 'you', 'that', 'can', 'summon', 'up', 'fire', 'without', 'flint', 'or', 'tinder'], ['TIM', 'I', 'am', 'an', 'enchanter'], ['By', 'what', 'name', 'are', 'you', 'known'], ['There', 'are', 'some', 'who', 'call', 'me', 'Tim'], ['Greetings', 'Tim', 'the', 'Enchanter'], ['Greetings', 'King', 'Arthur'], ['You', 'know', 'my', 'name'], ['I', 'do', 'zoosh', 'You', 'seek', 'the', 'Holy', 'Grail'], ['That', 'is', 'our', 'quest', 'You', 'know', 'much', 'that', 'is', 'hidden', 'O', 'Tim'], ['Quite', 'pweeng', 'boom', 'clap', 'clap', 'clap'], ['Oh'], ['Yes', 'we', 're', 'we', 're', 'looking', 'for', 'the', 'Holy', 'Grail', 'Our', 'quest', 'is', 'to', 'find', 'the', 'Holy', 'Grail'], ['Yeah', 'Yes', 'It', 'is', 'It', 'is', 'Yeah', 'Yup', 'Yup', 'Hm'], ['And', 'so', 'we', 're', 'we', 're', 'we', 're', 'we', 're', 'looking', 'for', 'it'], ['Yes', 'we', 'are'], ['Yeah'], ['We', 'are', 'We', 'are'], ['We', 'have', 'been', 'for', 'some', 'time'], ['Ages'], ['Umhm'], ['Uh', 'uh', 'so', 'uh', 'anything', 'that', 'you', 'could', 'do', 'to', 'uh', 'to', 'help', 'would', 'be', 'very', 'helpful'], ['Look', 'can', 'you', 'tell', 'us', 'where', 'boom'], ['Fine', 'Um', 'I', 'don', 't', 'want', 'to', 'waste', 'any', 'more', 'of', 'your', 'time', 'but', 'uh', 'I', 'don', 't', 'suppose', 'you', 'could', 'uh', 'tell', 'us', 'where', 'we', 'might', 'find', 'a', 'um', 'find', 'a', 'uh', 'a', 'um', 'a', 'uh'], ['A', 'what'], ['A', 'g', 'a', 'a', 'g', 'a', 'g', 'a', 'a', 'g'], ['A', 'grail'], ['Yes', 'I', 'think', 'so'], ['Y', 'y', 'yes'], ['Yes'], ['Yup'], ['That', 's', 'it'], ['Yes'], ['Oh'], ['Oh', 'Thank', 'you'], ['Ahh'], ['Oh', 'Fine'], ['Thank', 'you'], ['Splendid'], ['Aah', 'boom', 'pweeng', 'boom', 'boom'], ['Look', 'um', 'you', 're', 'a', 'busy', 'man', 'uh'], ['Yes', 'I', 'can', 'help', 'you', 'find', 'the', 'Holy', 'Grail'], ['Oh', 'thank', 'you', 'Oh'], ['To', 'the', 'north', 'there', 'lies', 'a', 'cave', 'the', 'cave', 'of', 'Caerbannog', 'wherein', 'carved', 'in', 'mystic', 'runes', 'upon', 'the', 'very', 'living', 'rock', 'the', 'last', 'words', 'of', 'Olfin', 'Bedwere', 'of', 'Rheged', 'boom', 'make', 'plain', 'the', 'last', 'resting', 'place', 'of', 'the', 'most', 'Holy', 'Grail'], ['Where', 'could', 'we', 'find', 'this', 'cave', 'O', 'Tim'], ['Follow', 'But', 'Follow', 'only', 'if', 'ye', 'be', 'men', 'of', 'valor', 'for', 'the', 'entrance', 'to', 'this', 'cave', 'is', 'guarded', 'by', 'a', 'creature', 'so', 'foul', 'so', 'cruel', 'that', 'no', 'man', 'yet', 'has', 'fought', 'with', 'it', 'and', 'lived', 'Bones', 'of', 'full', 'fifty', 'men', 'lie', 'strewn', 'about', 'its', 'lair', 'So', 'brave', 'knights', 'if', 'you', 'do', 'doubt', 'your', 'courage', 'or', 'your', 'strength', 'come', 'no', 'further', 'for', 'death', 'awaits', 'you', 'all', 'with', 'nasty', 'big', 'pointy', 'teeth'], ['What', 'an', 'eccentric', 'performance'], ['SCENE', '21', 'clop', 'clop', 'clop', 'whinny', 'whinny'], ['They', 're', 'nervous', 'sire'], ['Then', 'we', 'd', 'best', 'leave', 'them', 'here', 'and', 'carry', 'on', 'on', 'foot', 'Dis', 'mount'], ['Behold', 'the', 'cave', 'of', 'Caerbannog'], ['Right', 'Keep', 'me', 'covered'], ['What', 'with'], ['W', 'just', 'keep', 'me', 'covered'], ['Too', 'late', 'dramatic', 'chord'], ['What'], ['There', 'he', 'is'], ['Where'], ['There'], ['What', 'behind', 'the', 'rabbit'], ['It', 'is', 'the', 'rabbit'], ['You', 'silly', 'sod'], ['What'], ['You', 'got', 'us', 'all', 'worked', 'up'], ['Well', 'that', 's', 'no', 'ordinary', 'rabbit'], ['Ohh'], ['That', 's', 'the', 'most', 'foul', 'cruel', 'and', 'bad', 'tempered', 'rodent', 'you', 'ever', 'set', 'eyes', 'on'], ['You', 'tit', 'I', 'soiled', 'my', 'armor', 'I', 'was', 'so', 'scared'], ['Look', 'that', 'rabbit', 's', 'got', 'a', 'vicious', 'streak', 'a', 'mile', 'wide', 'it', 's', 'a', 'killer'], ['Get', 'stuffed'], ['He', 'll', 'do', 'you', 'up', 'a', 'treat', 'mate'], ['Oh', 'yeah'], ['You', 'mangy', 'scots', 'git'], ['I', 'm', 'warning', 'you'], ['What', 's', 'he', 'do', 'nibble', 'your', 'bum'], ['He', 's', 'got', 'huge', 'sharp', 'eh', 'he', 'can', 'leap', 'about', 'look', 'at', 'the', 'bones'], ['Go', 'on', 'Bors', 'Chop', 'his', 'head', 'off'], ['Right', 'Silly', 'little', 'bleeder', 'One', 'rabbit', 'stew', 'comin', 'right', 'up'], ['Look', 'squeak'], ['Aaaugh', 'dramatic', 'chord', 'clunk'], ['Jesus', 'Christ'], ['I', 'warned', 'you'], ['I', 'done', 'it', 'again'], ['I', 'warned', 'you', 'but', 'did', 'you', 'listen', 'to', 'me', 'Oh', 'no', 'you', 'knew', 'it', 'all', 'didn', 't', 'you', 'Oh', 'it', 's', 'just', 'a', 'harmless', 'little', 'bunny', 'isn', 't', 'it', 'Well', 'it', 's', 'always', 'the', 'same', 'I', 'always', 'tell', 'them'], ['Oh', 'shut', 'up'], ['Do', 'they', 'listen', 'to', 'me'], ['Right'], ['Oh', 'no'], ['Charge', 'squeak', 'squeak', 'squeak'], ['Aaaaugh', 'Aaaugh', 'etc'], ['Run', 'away', 'Run', 'away'], ['Run', 'away', 'Run', 'away'], ['Ha', 'ha', 'ha', 'ha', 'Ha', 'haw', 'haw', 'Ha', 'Ha', 'ha'], ['Right', 'How', 'many', 'did', 'we', 'lose'], ['Gawain'], ['Ector'], ['And', 'Bors', 'That', 's', 'five'], ['Three', 'sir'], ['Three', 'Three', 'And', 'we', 'd', 'better', 'not', 'risk', 'another', 'frontal', 'assault', 'That', 'rabbit', 's', 'dynamite'], ['Would', 'it', 'help', 'to', 'confuse', 'it', 'if', 'we', 'run', 'away', 'more'], ['Oh', 'shut', 'up', 'and', 'go', 'and', 'change', 'your', 'armor'], ['Let', 'us', 'taunt', 'it', 'It', 'may', 'become', 'so', 'cross', 'that', 'it', 'will', 'make', 'a', 'mistake'], ['Like', 'what'], ['Well', 'ooh'], ['Have', 'we', 'got', 'bows'], ['No'], ['We', 'have', 'the', 'Holy', 'Hand', 'Grenade'], ['Yes', 'of', 'course', 'The', 'Holy', 'Hand', 'Grenade', 'of', 'Antioch', 'Tis', 'one', 'of', 'the', 'sacred', 'relics', 'Brother', 'Maynard', 'carries', 'with', 'him', 'Brother', 'Maynard', 'Bring', 'up', 'the', 'Holy', 'Hand', 'Grenade'], ['chanting', 'Pie', 'Iesu', 'domine', 'dona', 'eis', 'requiem', 'Pie', 'Iesu', 'domine', 'donaeis', 'requiem', 'Pie', 'Iesu', 'domine', 'dona', 'eis', 'requiem', 'Pie', 'Iesu', 'domine', 'dona', 'eisrequiem'], ['How', 'does', 'it', 'um', 'how', 'does', 'it', 'work'], ['I', 'know', 'not', 'my', 'liege'], ['Consult', 'the', 'Book', 'of', 'Armaments'], ['Armaments', 'Chapter', 'Two', 'verses', 'Nine', 'to', 'Twenty', 'one'], ['And', 'Saint', 'Attila', 'raised', 'the', 'hand', 'grenade', 'up', 'on', 'high', 'saying', 'O', 'Lord', 'bless', 'this', 'thy', 'hand', 'grenade', 'that', 'with', 'it', 'thou', 'mayest', 'blow', 'thine', 'enemies', 'to', 'tiny', 'bits', 'in', 'thy', 'mercy', 'And', 'the', 'Lord', 'did', 'grin', 'and', 'the', 'people', 'did', 'feast', 'upon', 'the', 'lambs', 'and', 'sloths', 'and', 'carp', 'and', 'anchovies', 'and', 'orangutans', 'and', 'breakfast', 'cereals', 'and', 'fruit', 'bats', 'and', 'large', 'chu'], ['Skip', 'a', 'bit', 'Brother'], ['And', 'the', 'Lord', 'spake', 'saying', 'First', 'shalt', 'thou', 'take', 'out', 'the', 'Holy', 'Pin', 'Then', 'shalt', 'thou', 'count', 'to', 'three', 'no', 'more', 'no', 'less', 'Three', 'shalt', 'be', 'the', 'number', 'thou', 'shalt', 'count', 'and', 'the', 'number', 'of', 'the', 'counting', 'shall', 'be', 'three', 'Four', 'shalt', 'thou', 'not', 'count', 'nor', 'either', 'count', 'thou', 'two', 'excepting', 'that', 'thou', 'then', 'proceed', 'to', 'three', 'Five', 'is', 'right', 'out', 'Once', 'the', 'number', 'three', 'being', 'the', 'third', 'number', 'be', 'reached', 'then', 'lobbest', 'thou', 'thy', 'Holy', 'Hand', 'Grenade', 'of', 'Antioch', 'towards', 'thy', 'foe', 'who', 'being', 'naughty', 'in', 'my', 'sight', 'shall', 'snuff', 'it'], ['Amen'], ['Amen'], ['Right', 'One', 'two', 'five'], ['Three', 'sir'], ['Three', 'angels', 'sing', 'boom'], ['SCENE', '22'], ['There', 'Look'], ['What', 'does', 'it', 'say'], ['What', 'language', 'is', 'that'], ['Brother', 'Maynard', 'You', 'are', 'a', 'scholar'], ['It', 's', 'Aramaic'], ['Of', 'course', 'Joseph', 'of', 'Arimathea'], ['Course'], ['What', 'does', 'it', 'say'], ['It', 'reads', 'Here', 'may', 'be', 'found', 'the', 'last', 'words', 'of', 'Joseph', 'of', 'Arimathea', 'He', 'who', 'is', 'valiant', 'and', 'pure', 'of', 'spirit', 'may', 'find', 'the', 'Holy', 'Grail', 'in', 'the', 'Castle', 'of', 'uuggggggh'], ['What'], ['the', 'Castle', 'of', 'uuggggggh'], ['What', 'is', 'that'], ['He', 'must', 'have', 'died', 'while', 'carving', 'it'], ['Oh', 'come', 'on'], ['Well', 'that', 's', 'what', 'it', 'says'], ['Look', 'if', 'he', 'was', 'dying', 'he', 'wouldn', 't', 'bother', 'to', 'carve', 'aaggggh', 'He', 'd', 'just', 'say', 'it'], ['Well', 'that', 's', 'what', 's', 'carved', 'in', 'the', 'rock'], ['Perhaps', 'he', 'was', 'dictating'], ['Oh', 'shut', 'up', 'Well', 'does', 'it', 'say', 'anything', 'else'], ['No', 'Just', 'uuggggggh'], ['Aauuggghhh'], ['Aaauggh'], ['Do', 'you', 'suppose', 'he', 'meant', 'the', 'Camaaaaaargue'], ['Where', 's', 'that'], ['France', 'I', 'think'], ['Isn', 't', 'there', 'a', 'Saint', 'Aauuuves', 'in', 'Cornwall'], ['No', 'that', 's', 'Saint', 'Ives'], ['Oh', 'yes', 'Saint', 'Iiiives'], ['Iiiiives'], ['Oooohoohohooo'], ['No', 'no', 'Aauuuuugh', 'at', 'the', 'back', 'of', 'the', 'throat', 'Aauuugh'], ['N', 'no', 'No', 'no', 'no', 'no', 'Oooooooh', 'in', 'surprise', 'and', 'alarm'], ['Oh', 'you', 'mean', 'sort', 'of', 'a', 'aaaah'], ['Yes', 'but', 'I', 'aaaaaah'], ['Oooh'], ['My', 'God', 'dramatic', 'chord', 'roar'], ['It', 's', 'the', 'legendary', 'Black', 'Beast', 'of', 'Aaauugh', 'Black', 'Beast', 'of', 'Aaauugh', 'eats', 'BROTHER', 'MAYNARD'], ['That', 's', 'it', 'That', 's', 'it'], ['Run', 'away'], ['Run', 'away', 'roar', 'Run', 'away', 'Run', 'awaaay', 'Run', 'awaaaaay', 'roar', 'Keep', 'running', 'boom', 'roar', 'Shh', 'Shh', 'Shh', 'Shh', 'Shh', 'Shh', 'Shh', 'Shh'], ['We', 've', 'lost', 'him', 'roar'], ['Aagh'], ['As', 'the', 'horrendous', 'Black', 'Beast', 'lunged', 'forward', 'escape', 'for', 'Arthur', 'and', 'his', 'knights', 'seemed', 'hopeless', 'when', 'suddenly', 'the', 'animator', 'suffered', 'a', 'fatal', 'heart', 'attack'], ['Ulk', 'thump'], ['The', 'cartoon', 'peril', 'was', 'no', 'more', 'The', 'quest', 'for', 'Holy', 'Grail', 'could', 'continue'], ['SCENE', '23', 'gurgle'], ['There', 'it', 'is'], ['The', 'Bridge', 'of', 'Death'], ['Oh', 'great'], ['Look', 'There', 's', 'the', 'old', 'man', 'from', 'scene', 'twenty', 'four'], ['What', 'is', 'he', 'doing', 'here'], ['He', 'is', 'the', 'keeper', 'of', 'the', 'Bridge', 'of', 'Death', 'He', 'asks', 'each', 'traveller', 'five', 'questions'], ['Three', 'questions'], ['Three', 'questions', 'He', 'who', 'answers', 'the', 'five', 'questions'], ['Three', 'questions'], ['Three', 'questions', 'may', 'cross', 'in', 'safety'], ['What', 'if', 'you', 'get', 'a', 'question', 'wrong'], ['Then', 'you', 'are', 'cast', 'into', 'the', 'Gorge', 'of', 'Eternal', 'Peril'], ['Oh', 'I', 'won', 't', 'go'], ['Who', 's', 'going', 'to', 'answer', 'the', 'questions'], ['Sir', 'Robin'], ['Yes'], ['Brave', 'Sir', 'Robin', 'you', 'go'], ['Hey', 'I', 've', 'got', 'a', 'great', 'idea', 'Why', 'doesn', 't', 'Launcelot', 'go'], ['Yes', 'Let', 'me', 'go', 'my', 'liege', 'I', 'will', 'take', 'him', 'single', 'handed', 'I', 'shall', 'make', 'a', 'feint', 'to', 'the', 'north', 'east', 'that', 's'], ['No', 'no', 'No', 'Hang', 'on', 'Hang', 'on', 'Hang', 'on', 'Just', 'answer', 'the', 'five', 'questions'], ['Three', 'questions'], ['Three', 'questions', 'as', 'best', 'you', 'can', 'And', 'we', 'shall', 'watch', 'and', 'pray'], ['I', 'understand', 'my', 'liege'], ['Good', 'luck', 'brave', 'Sir', 'Launcelot', 'God', 'be', 'with', 'you'], ['Stop', 'Who', 'would', 'cross', 'the', 'Bridge', 'of', 'Death', 'must', 'answer', 'me', 'these', 'questions', 'three', 'ere', 'the', 'other', 'side', 'he', 'see'], ['Ask', 'me', 'the', 'questions', 'bridgekeeper', 'I', 'am', 'not', 'afraid'], ['What', 'is', 'your', 'name'], ['My', 'name', 'is', 'Sir', 'Launcelot', 'of', 'Camelot'], ['What', 'is', 'your', 'quest'], ['To', 'seek', 'the', 'Holy', 'Grail'], ['What', 'is', 'your', 'favorite', 'color'], ['Blue'], ['Right', 'Off', 'you', 'go'], ['Oh', 'thank', 'you', 'Thank', 'you', 'very', 'much'], ['That', 's', 'easy'], ['Stop', 'Who', 'approacheth', 'the', 'Bridge', 'of', 'Death', 'must', 'answer', 'me', 'these', 'questions', 'three', 'ere', 'the', 'other', 'side', 'he', 'see'], ['Ask', 'me', 'the', 'questions', 'bridgekeeper', 'I', 'm', 'not', 'afraid'], ['What', 'is', 'your', 'name'], ['Sir', 'Robin', 'of', 'Camelot'], ['What', 'is', 'your', 'quest'], ['To', 'seek', 'the', 'Holy', 'Grail'], ['What', 'is', 'the', 'capital', 'of', 'Assyria'], ['I', 'don', 't', 'know', 'that', 'Auuuuuuuugh'], ['Stop', 'What', 'is', 'your', 'name'], ['Sir', 'Galahad', 'of', 'Camelot'], ['What', 'is', 'your', 'quest'], ['I', 'seek', 'the', 'Grail'], ['What', 'is', 'your', 'favorite', 'color'], ['Blue', 'No', 'yel', 'auuuuuuuugh'], ['Hee', 'hee', 'heh', 'Stop', 'What', 'is', 'your', 'name'], ['It', 'is', 'Arthur', 'King', 'of', 'the', 'Britons'], ['What', 'is', 'your', 'quest'], ['To', 'seek', 'the', 'Holy', 'Grail'], ['What', 'is', 'the', 'air', 'speed', 'velocity', 'of', 'an', 'unladen', 'swallow'], ['What', 'do', 'you', 'mean', 'An', 'African', 'or', 'European', 'swallow'], ['Huh', 'I', 'I', 'don', 't', 'know', 'that', 'Auuuuuuuugh'], ['How', 'do', 'know', 'so', 'much', 'about', 'swallows'], ['Well', 'you', 'have', 'to', 'know', 'these', 'things', 'when', 'you', 're', 'a', 'king', 'you', 'know', 'suspenseful', 'music', 'music', 'suddenly', 'stops', 'intermission', 'suspenseful', 'music', 'resumes'], ['SCENE', '24'], ['Launcelot', 'Launcelot', 'Launcelot'], ['Launcelot', 'Launcelot'], ['Launcelot', 'police', 'radio', 'Launcelot'], ['Launcelot', 'Launcelot', 'angels', 'sing', 'singing', 'stops', 'ethereal', 'music'], ['The', 'Castle', 'Aaagh', 'Our', 'quest', 'is', 'at', 'an', 'end', 'God', 'be', 'praised', 'Almighty', 'God', 'we', 'thank', 'Thee', 'that', 'Thou', 'hast', 'vouchsafed', 'to', 'us', 'the', 'most', 'holy', 'twong', 'baaaa', 'Jesus', 'Christ', 'thud'], ['Allo', 'dappy', 'English', 'k', 'niggets', 'and', 'Monsieur', 'Arthur', 'King', 'who', 'has', 'the', 'brain', 'of', 'a', 'duck', 'you', 'know', 'So', 'we', 'French', 'fellows', 'outwit', 'you', 'a', 'second', 'time'], ['How', 'dare', 'you', 'profane', 'this', 'place', 'with', 'your', 'presence', 'I', 'command', 'you', 'in', 'the', 'name', 'of', 'the', 'Knights', 'of', 'Camelot', 'to', 'open', 'the', 'doors', 'of', 'this', 'sacred', 'castle', 'to', 'which', 'God', 'Himself', 'has', 'guided', 'us'], ['How', 'you', 'English', 'say', 'I', 'one', 'more', 'time', 'mac', 'unclog', 'my', 'nose', 'in', 'your', 'direction', 'sons', 'of', 'a', 'window', 'dresser', 'So', 'you', 'think', 'you', 'could', 'out', 'clever', 'us', 'French', 'folk', 'with', 'your', 'silly', 'knees', 'bent', 'running', 'about', 'advancing', 'behaviour', 'I', 'wave', 'my', 'private', 'parts', 'at', 'your', 'aunties', 'you', 'cheesy', 'lot', 'of', 'second', 'hand', 'electric', 'donkey', 'bottom', 'biters'], ['In', 'the', 'name', 'of', 'the', 'Lord', 'we', 'demand', 'entrance', 'to', 'this', 'sacred', 'castle'], ['No', 'chance', 'English', 'bed', 'wetting', 'types', 'I', 'burst', 'my', 'pimples', 'at', 'you', 'and', 'call', 'your', 'door', 'opening', 'request', 'a', 'silly', 'thing', 'you', 'tiny', 'brained', 'wipers', 'of', 'other', 'people', 's', 'bottoms'], ['If', 'you', 'do', 'not', 'open', 'this', 'door', 'we', 'shall', 'take', 'this', 'castle', 'by', 'force', 'splat', 'In', 'the', 'name', 'of', 'God', 'and', 'the', 'glory', 'of', 'our', 'splat'], ['laughing'], ['Agh', 'Right', 'That', 'settles', 'it'], ['Yes', 'depart', 'a', 'lot', 'at', 'this', 'time', 'and', 'cut', 'the', 'approaching', 'any', 'more', 'or', 'we', 'fire', 'arrows', 'at', 'the', 'tops', 'of', 'your', 'heads', 'and', 'make', 'castanets', 'out', 'of', 'your', 'testicles', 'already', 'Ha', 'ha', 'haaa', 'ha'], ['Walk', 'away', 'Just', 'ignore', 'them'], ['And', 'now', 'remain', 'gone', 'illegitimate', 'faced', 'bugger', 'folk', 'And', 'if', 'you', 'think', 'you', 'got', 'a', 'nasty', 'taunting', 'this', 'time', 'you', 'ain', 't', 'heard', 'nothing', 'yet', 'dappy', 'English', 'k', 'nnniggets', 'Thpppt'], ['taunting'], ['We', 'shall', 'attack', 'at', 'once'], ['Yes', 'my', 'liege'], ['Stand', 'by', 'for', 'attack', 'exciting', 'music', 'music', 'stops', 'silence', 'French', 'persons'], ['taunting', 'Dappy'], ['Today', 'the', 'blood', 'of', 'many', 'a', 'valiant', 'knight', 'shall', 'be', 'avenged', 'In', 'the', 'name', 'of', 'God'], ['Hoo', 'hoo', 'Ohh', 'ha', 'ha', 'ha', 'ha', 'ha'], ['we', 'shall', 'not', 'stop', 'our', 'fight', 'til', 'each', 'one', 'of', 'you', 'lies', 'dead', 'and', 'the', 'Holy', 'Grail', 'returns', 'to', 'those', 'whom', 'God', 'has', 'chosen'], ['Ha', 'ha', 'ha'], ['Charge'], ['ARMY', 'Hooray', 'police', 'siren'], ['HISTORIAN', 'S', 'Yes', 'They', 're', 'the', 'ones', 'I', 'm', 'sure'], ['Come', 'on', 'Anybody', 'armed', 'must', 'go', 'too'], ['All', 'right', 'Come', 'on', 'Back'], ['HISTORIAN', 'S', 'Get', 'that', 'one'], ['Back', 'Right', 'away', 'Just', 'pull', 'it', 'off', 'Come', 'on', 'Come', 'along'], ['Put', 'this', 'man', 'in', 'the', 'van'], ['Clear', 'off', 'Come', 'on'], ['With', 'whom'], ['Which', 'one'], ['Oh', 'this', 'one'], ['Come', 'on', 'Put', 'him', 'in', 'the', 'van'], ['Get', 'a', 'blanket'], ['We', 'have', 'no', 'hospital'], ['Ahh', 'squeak'], ['Ooh'], ['Come', 'on', 'Back', 'Riiight', 'back', 'Come', 'on'], ['Run', 'along', 'Run', 'along'], ['Pull', 'that', 'off', 'My', 'that', 's', 'an', 'offensive', 'weapon', 'that', 'is'], ['Come', 'on', 'Back', 'with', 'em', 'Back', 'Right', 'Come', 'along'], ['Everything', 'squeak'], ['All', 'right', 'sonny', 'That', 's', 'enough', 'Just', 'pack', 'that', 'in', 'crash'], ['Christ'], []]\n",
            "[6, 5, 4, 25, 4, 40, 5, 1, 4, 1, 14, 18, 6, 3, 8, 4, 6, 29, 5, 7, 6, 7, 29, 21, 21, 1, 3, 4, 8, 15, 6, 14, 10, 2, 12, 9, 10, 10, 7, 3, 4, 67, 3, 2, 4, 2, 5, 4, 8, 3, 3, 4, 9, 4, 12, 13, 9, 7, 6, 3, 5, 4, 14, 16, 6, 2, 8, 15, 8, 4, 8, 11, 7, 1, 9, 13, 2, 1, 10, 4, 2, 8, 8, 5, 9, 10, 14, 13, 4, 44, 13, 18, 4, 2, 4, 13, 15, 19, 9, 13, 13, 4, 5, 6, 1, 25, 1, 17, 3, 11, 2, 12, 8, 9, 4, 7, 6, 7, 44, 32, 2, 21, 2, 27, 6, 10, 2, 16, 2, 33, 7, 6, 1, 7, 1, 7, 2, 6, 10, 4, 58, 3, 1, 3, 15, 4, 11, 5, 3, 14, 5, 4, 6, 4, 5, 4, 2, 19, 12, 5, 1, 4, 12, 4, 10, 3, 1, 5, 3, 3, 18, 7, 3, 2, 9, 3, 4, 21, 9, 2, 26, 2, 23, 9, 4, 52, 9, 7, 8, 4, 3, 3, 10, 7, 6, 7, 11, 1, 6, 2, 8, 1, 6, 7, 1, 6, 1, 1, 5, 1, 1, 4, 2, 6, 2, 5, 1, 8, 7, 2, 3, 3, 1, 5, 14, 2, 1, 3, 4, 8, 1, 1, 5, 8, 2, 1, 1, 6, 7, 3, 3, 11, 6, 11, 2, 4, 5, 2, 5, 5, 7, 5, 1, 1, 4, 1, 3, 1, 1, 2, 2, 2, 1, 3, 13, 2, 2, 2, 4, 10, 6, 24, 7, 6, 5, 2, 8, 12, 7, 2, 17, 6, 4, 3, 11, 103, 5, 14, 19, 3, 4, 1, 1, 1, 5, 18, 78, 7, 28, 9, 15, 2, 9, 22, 2, 31, 7, 17, 2, 25, 4, 42, 7, 3, 8, 5, 4, 18, 10, 38, 23, 1, 7, 7, 14, 11, 8, 5, 15, 6, 4, 15, 39, 4, 6, 33, 10, 14, 12, 3, 2, 4, 15, 4, 2, 2, 11, 7, 2, 2, 1, 1, 6, 4, 51, 38, 3, 31, 3, 16, 1, 15, 2, 15, 9, 3, 5, 1, 74, 5, 3, 3, 29, 82, 29, 20, 8, 11, 4, 10, 19, 4, 4, 24, 4, 13, 8, 2, 9, 2, 6, 5, 4, 7, 3, 3, 14, 6, 6, 1, 5, 9, 4, 2, 10, 11, 9, 18, 1, 3, 12, 1, 3, 6, 6, 1, 5, 3, 14, 1, 7, 3, 11, 3, 7, 2, 7, 2, 7, 5, 4, 16, 4, 4, 5, 2, 3, 19, 22, 1, 9, 3, 25, 8, 2, 5, 12, 5, 6, 15, 14, 5, 6, 4, 8, 10, 8, 11, 13, 4, 76, 7, 14, 7, 3, 8, 2, 15, 3, 7, 4, 6, 4, 9, 6, 9, 5, 12, 1, 1, 23, 1, 9, 5, 4, 12, 7, 4, 32, 6, 51, 6, 15, 4, 6, 6, 6, 4, 45, 4, 23, 3, 2, 2, 10, 12, 7, 6, 7, 2, 2, 1, 1, 1, 1, 5, 4, 3, 7, 7, 4, 2, 2, 9, 7, 7, 5, 12, 7, 6, 3, 14, 12, 11, 2, 12, 6, 8, 11, 5, 16, 11, 10, 4, 5, 4, 76, 4, 40, 2, 12, 12, 16, 4, 4, 6, 16, 7, 20, 7, 6, 9, 13, 6, 3, 6, 3, 7, 1, 7, 2, 3, 13, 2, 10, 8, 17, 1, 6, 4, 13, 6, 6, 2, 5, 4, 10, 17, 16, 4, 2, 4, 1, 3, 49, 11, 5, 2, 20, 4, 3, 2, 5, 8, 3, 26, 2, 3, 11, 95, 11, 2, 6, 39, 7, 2, 1, 15, 7, 22, 18, 38, 12, 1, 8, 13, 15, 7, 1, 1, 15, 5, 5, 2, 1, 1, 1, 13, 4, 5, 5, 1, 14, 1, 1, 11, 14, 20, 9, 5, 6, 2, 1, 2, 2, 2, 9, 1, 8, 1, 6, 2, 7, 4, 1, 23, 3, 1, 5, 5, 5, 15, 4, 2, 13, 1, 15, 2, 3, 5, 17, 5, 71, 9, 10, 11, 3, 12, 26, 2, 1, 6, 3, 13, 4, 8, 1, 1, 1, 1, 3, 1, 3, 6, 3, 2, 13, 10, 22, 4, 8, 6, 8, 11, 2, 4, 11, 4, 3, 6, 7, 7, 6, 4, 5, 11, 15, 7, 14, 4, 4, 12, 7, 12, 6, 16, 21, 6, 3, 9, 9, 2, 4, 10, 9, 3, 10, 1, 19, 6, 2, 2, 1, 23, 3, 3, 6, 15, 21, 6, 1, 28, 1, 4, 1, 53, 3, 30, 5, 8, 4, 21, 3, 4, 47, 1, 4, 4, 5, 5, 9, 8, 1, 6, 9, 11, 2, 6, 2, 6, 2, 6, 3, 21, 2, 6, 3, 11, 8, 10, 5, 8, 2, 1, 8, 4, 5, 11, 14, 19, 3, 5, 8, 22, 4, 10, 4, 1, 1, 1, 4, 1, 8, 1, 10, 1, 3, 10, 3, 1, 1, 1, 1, 1, 1, 1, 1, 1, 9, 2, 43, 4, 21, 1, 5, 2, 14, 16, 3, 10, 3, 19, 1, 7, 13, 8, 3, 1, 33, 14, 22, 6, 2, 12, 3, 7, 2, 17, 16, 2, 4, 2, 5, 14, 6, 6, 29, 2, 8, 6, 12, 8, 8, 5, 2, 5, 2, 6, 7, 2, 7, 3, 4, 5, 1, 24, 2, 41, 3, 14, 5, 5, 1, 3, 1, 4, 2, 4, 2, 5, 1, 14, 4, 3, 11, 6, 27, 5, 6, 7, 4, 3, 4, 8, 12, 6, 1, 18, 10, 13, 3, 1, 4, 6, 1, 1, 17, 7, 37, 2, 10, 2, 4, 3, 1, 1, 3, 1, 1, 3, 1, 2, 2, 1, 5, 8, 9, 4, 41, 8, 70, 4, 7, 4, 14, 5, 4, 2, 5, 4, 1, 3, 1, 1, 4, 4, 3, 1, 6, 6, 1, 15, 10, 15, 2, 8, 2, 4, 4, 7, 14, 7, 10, 2, 4, 2, 3, 4, 39, 3, 5, 1, 2, 4, 3, 4, 4, 10, 6, 1, 1, 5, 2, 15, 11, 9, 15, 2, 2, 4, 1, 6, 28, 23, 8, 5, 5, 8, 62, 4, 92, 1, 1, 4, 2, 4, 2, 2, 4, 4, 6, 3, 5, 1, 4, 31, 1, 4, 3, 7, 3, 6, 17, 9, 4, 9, 3, 1, 1, 7, 3, 3, 8, 5, 4, 1, 1, 10, 11, 7, 4, 1, 5, 15, 6, 2, 22, 5, 1, 24, 2, 13, 3, 3, 4, 2, 10, 5, 15, 2, 8, 2, 6, 7, 10, 5, 7, 2, 1, 5, 12, 23, 14, 2, 12, 4, 9, 20, 9, 4, 7, 4, 5, 5, 1, 4, 7, 3, 19, 9, 4, 4, 4, 5, 6, 6, 5, 4, 4, 4, 5, 4, 8, 7, 4, 5, 10, 9, 8, 7, 23, 2, 3, 2, 4, 8, 31, 27, 35, 57, 13, 30, 26, 1, 5, 35, 5, 30, 1, 5, 3, 11, 2, 16, 8, 24, 3, 1, 4, 10, 7, 5, 5, 11, 6, 4, 2, 2, 3, 7, 3, 4, 2, 1, 7, 4, 11, 9, 2, 11, 1, 0]\n"
          ]
        },
        {
          "output_type": "display_data",
          "data": {
            "text/plain": [
              "<Figure size 600x400 with 1 Axes>"
            ],
            "image/png": "[encoded data removed]"
          },
          "metadata": {}
        }
      ]
    },
    {
      "cell_type": "markdown",
      "source": [
        "**Using List Comprehension**"
      ],
      "metadata": {
        "id": "NTHMPmIYkKqA"
      }
    },
    {
      "cell_type": "code",
      "metadata": {
        "id": "mdCxmSdGQSzp",
        "colab": {
          "base_uri": "https://localhost:8080/",
          "height": 391
        },
        "outputId": "1a3a2d3e-e016-400f-f370-5b4c8d70d52b"
      },
      "source": [
        "import matplotlib.pyplot as plt\n",
        "import re  # Import the regular expressions library\n",
        "from nltk.tokenize import regexp_tokenize\n",
        "\n",
        "# Split the script into lines: lines\n",
        "lines = holy_grail.split('\\n')\n",
        "\n",
        "# Define a regular expression pattern to match speaker lines (e.g., ARTHUR:, SOLDIER #1:)\n",
        "pattern = \"[A-Z]{2,}(\\s)?(#\\d)?([A-Z]{2,})?:\"\n",
        "\n",
        "# Use a list comprehension to remove speaker lines and retain dialogue lines\n",
        "lines = [re.sub(pattern, '', l) for l in lines]\n",
        "\n",
        "# Tokenize the dialogue lines using regexp_tokenize(), keeping only words\n",
        "# The pattern \"\\w+\" matches words\n",
        "tokenized_lines = [regexp_tokenize(s, '\\w+') for s in lines]\n",
        "\n",
        "# Create a list containing the number of words in each dialogue line\n",
        "line_num_words = [len(t_line) for t_line in tokenized_lines]\n",
        "\n",
        "# Create a histogram of the line lengths\n",
        "plt.figure(figsize=(6, 4))  # Set the figure size\n",
        "plt.hist(line_num_words)  # Create the histogram\n",
        "plt.title('# of words per line in holy_grail')  # Set the title\n",
        "plt.show()  # Display the plot\n"
      ],
      "execution_count": 60,
      "outputs": [
        {
          "output_type": "display_data",
          "data": {
            "text/plain": [
              "<Figure size 600x400 with 1 Axes>"
            ],
            "image/png": "[encoded data removed]"
          },
          "metadata": {}
        }
      ]
    },
    {
      "cell_type": "markdown",
      "source": [
        "#### $\\color{skyblue}{\\textbf{Connect with me:}}$\n",
        "\n",
        "\n",
        "[<img align=\"left\" src=\"https://cdn4.iconfinder.com/data/icons/social-media-icons-the-circle-set/48/twitter_circle-512.png\" width=\"32px\"/>][twitter]\n",
        "[<img align=\"left\" src=\"https://cdn-icons-png.flaticon.com/512/145/145807.png\" width=\"32px\"/>][linkedin]\n",
        "[<img align=\"left\" src=\"https://cdn2.iconfinder.com/data/icons/whcompare-blue-green-web-hosting-1/425/cdn-512.png\" width=\"32px\"/>][Portfolio]\n",
        "\n",
        "[twitter]: https://twitter.com/F4izy\n",
        "[linkedin]: https://www.linkedin.com/in/mohd-faizy/\n",
        "[Portfolio]: https://mohdfaizy.com/\n"
      ],
      "metadata": {
        "id": "-lUU8xd1eKIl"
      }
    },
    {
      "cell_type": "markdown",
      "source": [
        "---\n"
      ],
      "metadata": {
        "id": "v6luLa7kC6Lp"
      }
    },
    {
      "cell_type": "markdown",
      "source": [
        "### Other Examples `Regex`"
      ],
      "metadata": {
        "id": "TEceWyyC28No"
      }
    },
    {
      "cell_type": "markdown",
      "source": [
        "**Regex for phone numbers**\n",
        "\n",
        ">starts with `8` or `9` and total digits equal to `10`"
      ],
      "metadata": {
        "id": "AIgXyFslBQxp"
      }
    },
    {
      "cell_type": "code",
      "source": [
        "import re\n",
        "\n",
        "# Sample list of phone numbers\n",
        "phone_numbers = [\n",
        "    \"8123456789\",\n",
        "    \"9123456780\",\n",
        "    \"7123456789\",\n",
        "    \"812345678\",\n",
        "    \"91234567891\",\n",
        "    \"8X23456789\",\n",
        "]\n",
        "\n",
        "# Regular expression pattern (both pattern works fine)\n",
        "pattern = r\"^[89]\\d{9}$\"\n",
        "# pattern = r\"[89][0-9]{9}\"\n",
        "\n",
        "# Iterate through the phone numbers and check if they match the pattern\n",
        "for number in phone_numbers:\n",
        "    if re.match(pattern, number):\n",
        "        print(f\"Valid mobile number: {number}\")\n",
        "    else:\n",
        "        print(f\"Invalid mobile number: {number}\")"
      ],
      "metadata": {
        "colab": {
          "base_uri": "https://localhost:8080/"
        },
        "id": "Gn0CnfmThpVg",
        "outputId": "2de5771d-fb56-4fbf-9ee4-b95332f48029"
      },
      "execution_count": 61,
      "outputs": [
        {
          "output_type": "stream",
          "name": "stdout",
          "text": [
            "Valid mobile number: 8123456789\n",
            "Valid mobile number: 9123456780\n",
            "Invalid mobile number: 7123456789\n",
            "Invalid mobile number: 812345678\n",
            "Invalid mobile number: 91234567891\n",
            "Invalid mobile number: 8X23456789\n"
          ]
        }
      ]
    },
    {
      "cell_type": "markdown",
      "source": [
        "The regular expression pattern `r\"^[A-Z][a-zA-Z]*\\d[a-zA-Z]*$\"` matches strings that follow a specific pattern. Let's break down each part of the pattern:\n",
        "\n",
        "- `^`: This symbol signifies the start of the string.\n",
        "\n",
        "- `[A-Z]`: This part matches an uppercase letter from 'A' to 'Z' at the beginning of the string.\n",
        "\n",
        "- `[a-zA-Z]*`: This part matches zero or more lowercase or uppercase letters.\n",
        "\n",
        "- `\\d`: This matches a single digit (0-9).\n",
        "\n",
        "- `[a-zA-Z]*`: This part again matches zero or more lowercase or uppercase letters.\n",
        "\n",
        "- `$`: This symbol signifies the end of the string."
      ],
      "metadata": {
        "id": "U4TrWc4_lNDu"
      }
    },
    {
      "cell_type": "code",
      "source": [
        "import re\n",
        "\n",
        "# Sample list of strings\n",
        "strings = [\n",
        "    \"Hello5World\",\n",
        "    \"Aa1b\",\n",
        "    \"Xyz0z\",\n",
        "    \"AbC\",     # Invalid (no digit)\n",
        "    \"123abc\",  # Invalid (no uppercase letter)\n",
        "    \"Aa2b3c\",  # Invalid (more than one digit)\n",
        "    \"aA2b3c\"   # Invalid (no uppercase in the beginning)\n",
        "]\n",
        "\n",
        "# Regular expression pattern\n",
        "pattern = r\"^[A-Z][a-zA-Z]*\\d[a-zA-Z]*$\"\n",
        "\n",
        "# Iterate through the strings and check if they match the pattern\n",
        "for string in strings:\n",
        "    if re.match(pattern, string):\n",
        "        print(f\"Valid string: {string}\")\n",
        "    else:\n",
        "        print(f\"Invalid string: {string}\")"
      ],
      "metadata": {
        "colab": {
          "base_uri": "https://localhost:8080/"
        },
        "id": "2G6S0Iijjp7Z",
        "outputId": "cd5237a2-9e59-4580-d895-bd6d79f03db7"
      },
      "execution_count": 62,
      "outputs": [
        {
          "output_type": "stream",
          "name": "stdout",
          "text": [
            "Valid string: Hello5World\n",
            "Valid string: Aa1b\n",
            "Valid string: Xyz0z\n",
            "Invalid string: AbC\n",
            "Invalid string: 123abc\n",
            "Invalid string: Aa2b3c\n",
            "Invalid string: aA2b3c\n"
          ]
        }
      ]
    },
    {
      "cell_type": "markdown",
      "source": [
        "**Regex pattern for matching email addresses:**\n",
        "\n",
        "pattern = `^[a-zA-Z0-9._%+-]+@[a-zA-Z0-9.-]+\\.[a-zA-Z]{2,}$`\n",
        "\n",
        "- `^`: Start of the string.\n",
        "- `[a-zA-Z0-9._%+-]+`: Match one or more characters that can appear in the username part of the email address. This includes letters (both uppercase and lowercase), digits, and special characters like `\".\"`, `\"_\"`, `\"%\"`, `\"+\"`, and `\"-\"`.\n",
        "- `@`: Match the \"@\" symbol, which separates the username from the domain.\n",
        "- `[a-zA-Z0-9.-]+`: Match one or more characters that can appear in the domain name part of the email address. This includes letters (both uppercase and lowercase), digits, \".\", and \"-\".\n",
        "- `\\.`: Match the dot that separates the domain name from the top-level domain (TLD).\n",
        "- `[a-zA-Z]{2,}`: Match the TLD, which consists of at least two letters.\n",
        "- `$`: End of the string."
      ],
      "metadata": {
        "id": "G_JcabpbAacC"
      }
    },
    {
      "cell_type": "code",
      "source": [
        "import re\n",
        "\n",
        "# Define the regex pattern for matching email addresses\n",
        "email_pattern = r'[a-zA-z0-9_\\-\\.]+[@]+[\\.][a-z]{2,3}'                   # from YTD\n",
        "# email_pattern = r'^[a-zA-Z0-9._%+-]+@[a-zA-Z0-9.-]+\\.[a-zA-Z]{2,3}$'\n",
        "\n",
        "# Function to validate an email address\n",
        "def is_valid_email(email):\n",
        "    if re.match(email_pattern, email):\n",
        "        return True\n",
        "    else:\n",
        "        return False\n",
        "\n",
        "# Test the function with some example email addresses\n",
        "emails = [\n",
        "    \"user@example.com\",\n",
        "    \"name.lastname@example.co.\",\n",
        "    \"invalid-email\",\n",
        "    \"another.invalid.email@.com\"\n",
        "]\n",
        "\n",
        "for email in emails:\n",
        "    if is_valid_email(email):\n",
        "        print(f\"{email} is a valid email address.\")\n",
        "    else:\n",
        "        print(f\"{email} is not a valid email address.\")"
      ],
      "metadata": {
        "colab": {
          "base_uri": "https://localhost:8080/"
        },
        "id": "6tV36muyAA4X",
        "outputId": "c76e8d80-d73c-433a-badd-8dc0ad0679d3"
      },
      "execution_count": 63,
      "outputs": [
        {
          "output_type": "stream",
          "name": "stdout",
          "text": [
            "user@example.com is not a valid email address.\n",
            "name.lastname@example.co. is not a valid email address.\n",
            "invalid-email is not a valid email address.\n",
            "another.invalid.email@.com is a valid email address.\n"
          ]
        }
      ]
    }
  ]
}